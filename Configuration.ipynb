{
 "cells": [
  {
   "cell_type": "code",
   "execution_count": 265,
   "metadata": {},
   "outputs": [
    {
     "name": "stdout",
     "output_type": "stream",
     "text": [
      "[NbConvertApp] Converting notebook ./Configuration.ipynb to python\r\n"
     ]
    }
   ],
   "source": [
    "%alias nbconvert nbconvert ./Configuration.ipynb\n",
    "\n",
    "%nbconvert"
   ]
  },
  {
   "cell_type": "code",
   "execution_count": 1,
   "metadata": {},
   "outputs": [],
   "source": [
    "import sys\n",
    "import argparse\n",
    "import configparser\n",
    "import re\n",
    "from pathlib import Path\n",
    "\n",
    "import logging"
   ]
  },
  {
   "cell_type": "markdown",
   "metadata": {},
   "source": [
    "# see this for inspiration https://github.com/szymonlipinski/examples/blob/master/python_settings/fixed.py"
   ]
  },
  {
   "cell_type": "code",
   "execution_count": 25,
   "metadata": {},
   "outputs": [],
   "source": [
    "logging.basicConfig(level=logging.DEBUG, format='%(name)s:%(funcName)s %(levelname)s: %(message)s')\n",
    "logger = logging.getLogger(__name__)"
   ]
  },
  {
   "cell_type": "code",
   "execution_count": 152,
   "metadata": {},
   "outputs": [],
   "source": [
    "class file():\n",
    "    '''class that creates a pathlib.Path().expanduser().resolve() object from a string\n",
    "    Args:\n",
    "        file(`str`): string representation of a file path'''\n",
    "    def __init__(self, file):\n",
    "        self.file = file\n",
    "        \n",
    "    @property\n",
    "    def file(self):\n",
    "        return self._file\n",
    "    \n",
    "    @file.setter\n",
    "    def file(self, file):\n",
    "        if file:\n",
    "            f = Path(file).expanduser().resolve()\n",
    "            if f.exists():\n",
    "                self._file = f\n",
    "                self.parent = f.parent\n",
    "                self.exists = True\n",
    "            else:\n",
    "                logging.warning(f'file does not exist: {f}')\n",
    "                self._file = None\n",
    "                self.parent = None\n",
    "                self.exists = False\n",
    "        else:\n",
    "            self._file = None\n",
    "            self.exists = False\n",
    "            \n",
    "    def __repr__(self) -> Path:\n",
    "        return repr(str(self.file))\n",
    "    \n",
    "    def __str__(self):\n",
    "        return(str(self.file))"
   ]
  },
  {
   "cell_type": "code",
   "execution_count": 259,
   "metadata": {},
   "outputs": [],
   "source": [
    "class Options():\n",
    "    '''parse command line options\n",
    "    Args:\n",
    "        args(`list`): sys.argv is typically passed here\n",
    "    Properties:\n",
    "        parser(`argparse.ArgumentParser`): argument parser object\n",
    "        args(`list`): list of arguments\n",
    "        options(NameSpace): argument parser generated namespace of arguments\n",
    "        opts_dict(`dict`): namespace -> dictionary'''\n",
    "    def __init__(self, args):\n",
    "        self.parser = argparse.ArgumentParser()      \n",
    "        self.args = args\n",
    "    \n",
    "    @property\n",
    "    def parser(self):\n",
    "        '''The argparser object'''\n",
    "        return self._parser\n",
    "    \n",
    "    @parser.setter\n",
    "    def parser(self, parser):\n",
    "        if parser:\n",
    "            self._parser = parser\n",
    "    \n",
    "    @property\n",
    "    def options(self):\n",
    "        '''argparser namespace of the parsed arguments'''\n",
    "        try:\n",
    "            return self._options\n",
    "        except AttributeError as e:\n",
    "            self._parse_args()\n",
    "            return self._options\n",
    "\n",
    "    \n",
    "    @options.setter\n",
    "    def options(self, options):\n",
    "        if options:\n",
    "            self._options = options\n",
    "        else:\n",
    "            self._options = None\n",
    "    \n",
    "    @property\n",
    "    def opts_dict(self):\n",
    "        '''namespace of dictionary of parsed options'''\n",
    "        self._parse_args()\n",
    "        self._opts_dict = vars(self.options)\n",
    "        self.nested_opts_dict = self._nested_opts_dict(vars(self.options))\n",
    "        return self._opts_dict\n",
    "    \n",
    "    def _nested_opts_dict(self, opts_dict):\n",
    "        d = {}\n",
    "        d['__no_section'] = {}\n",
    "\n",
    "        for key in opts_dict:\n",
    "            match = re.match('^(\\w+)__(\\w+)$', key)\n",
    "            if match:\n",
    "                section = match.group(1)\n",
    "                option = match.group(2)\n",
    "                if not section in d:\n",
    "                    d[section] = {}\n",
    "                d[section][option] = opts_dict[key]\n",
    "            else:\n",
    "                d['__no_section'][key] = opts_dict[key]\n",
    "        return d    \n",
    "    \n",
    "    def _parse_args(self):\n",
    "        '''parse known arguments and discard unknown arguments'''\n",
    "        options, unknown = self.parser.parse_known_args()\n",
    "        logging.info(f'discarding unknwon commandline arguments: {unknown}')\n",
    "        self.options = options\n",
    "    \n",
    "    def add_argument(self, *args, **kwargs):\n",
    "        '''add arguments to the parser using standard argparse.ArgumentParser\n",
    "        Args:\n",
    "            *args, **kwargs'''\n",
    "        try:\n",
    "            self.parser.add_argument(*args, **kwargs)\n",
    "        except argparse.ArgumentError as e:\n",
    "            logging.warning(f'failed adding conflicting option {e}')"
   ]
  },
  {
   "cell_type": "code",
   "execution_count": 175,
   "metadata": {},
   "outputs": [],
   "source": [
    "class ConfigFile():\n",
    "    def __init__(self, default=None, user=None):\n",
    "        self.cfg_files = []\n",
    "        self.default = file(default)\n",
    "        self.user = file(user)\n",
    "        self.parse_config()\n",
    "        \n",
    "    def parse_config(self):\n",
    "        if self.default.exists:\n",
    "            self.cfg_files.append(self.default.file)\n",
    "        if self.user.exists:\n",
    "            self.cfg_files.append(self.user.file)\n",
    "        if self.cfg_files:\n",
    "            self.config = configparser.ConfigParser()\n",
    "            self.config.read(self.cfg_files)\n",
    "        \n",
    "        if self.config.sections():\n",
    "            self.config_dict = self._config_2dict(self.config)\n",
    "        \n",
    "        \n",
    "    def _config_2dict(self, configuration):\n",
    "        '''convert an argparse object into a dictionary\n",
    "\n",
    "        Args:\n",
    "            configuration(`configparser.ConfigParser`)\n",
    "\n",
    "        Returns:\n",
    "            `dict`'''\n",
    "        d = {}\n",
    "        for section in configuration.sections():\n",
    "            d[section] = {}\n",
    "            for opt in configuration.options(section):\n",
    "                d[section][opt] = configuration.get(section, opt)\n",
    "\n",
    "        return d    "
   ]
  },
  {
   "cell_type": "code",
   "execution_count": 176,
   "metadata": {},
   "outputs": [],
   "source": [
    "# c = ConfigFile(default='./slimpi.cfg', user='~/.config/com.txoof.slimpi/slimpi.cfg')\n",
    "\n",
    "# c.cfg_files\n",
    "\n",
    "# c.config.options('main')\n",
    "\n",
    "# c.config_dict"
   ]
  },
  {
   "cell_type": "markdown",
   "metadata": {},
   "source": [
    "create a \"Default\" configuration object from the builtin config\n",
    "Create a \"user\" configuration based on the user config\n",
    "merge the default and the user overriding the default with the user version\n",
    "merge the command line over the top of everything\n",
    "\n",
    "finally creating a dictionary of options"
   ]
  },
  {
   "cell_type": "code",
   "execution_count": 260,
   "metadata": {},
   "outputs": [],
   "source": [
    "# o = Options(sys.argv)\n",
    "\n",
    "# o.add_argument('-c', '--config-file', type=str, default=None, \n",
    "#                         help='use the specified configuration file. Default is stored in ~/.config/myApp/config.ini')\n",
    "# o.add_argument('-l', '--log-level', type=str, dest='logging__log_level', choices=['DEBUG', 'INFO', 'WARNING', 'ERROR'], \n",
    "#                         default = 'WARNING',\n",
    "#                         help='set logging level: DEBUG, INFO, WARNING, ERROR')\n",
    "\n",
    "# o.opts_dict\n",
    "\n",
    "# o.nested_opts_dict"
   ]
  }
 ],
 "metadata": {
  "kernelspec": {
   "display_name": "slimpi_epd-b1Rf9la8",
   "language": "python",
   "name": "slimpi_epd-b1rf9la8"
  },
  "language_info": {
   "codemirror_mode": {
    "name": "ipython",
    "version": 3
   },
   "file_extension": ".py",
   "mimetype": "text/x-python",
   "name": "python",
   "nbconvert_exporter": "python",
   "pygments_lexer": "ipython3",
   "version": "3.7.3"
  }
 },
 "nbformat": 4,
 "nbformat_minor": 2
}
