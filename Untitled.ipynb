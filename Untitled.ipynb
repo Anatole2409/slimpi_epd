{
 "cells": [
  {
   "cell_type": "code",
   "execution_count": 1,
   "metadata": {},
   "outputs": [],
   "source": [
    "%load_ext autoreload"
   ]
  },
  {
   "cell_type": "code",
   "execution_count": 3,
   "metadata": {},
   "outputs": [],
   "source": [
    "%autoreload 2"
   ]
  },
  {
   "cell_type": "code",
   "execution_count": 4,
   "metadata": {},
   "outputs": [],
   "source": [
    "import logging\n",
    "from pathlib import Path"
   ]
  },
  {
   "cell_type": "code",
   "execution_count": 5,
   "metadata": {},
   "outputs": [],
   "source": [
    "from PIL import Image, ImageDraw, ImageFont\n",
    "from waveshare_epd import epd2in7b\n"
   ]
  },
  {
   "cell_type": "code",
   "execution_count": 6,
   "metadata": {},
   "outputs": [],
   "source": [
    "logging.basicConfig(level=logging.DEBUG)\n",
    "logger = logging.getLogger(__name__)"
   ]
  },
  {
   "cell_type": "code",
   "execution_count": 7,
   "metadata": {},
   "outputs": [],
   "source": [
    "epd = epd2in7b.EPD()"
   ]
  },
  {
   "cell_type": "code",
   "execution_count": 35,
   "metadata": {},
   "outputs": [
    {
     "name": "stderr",
     "output_type": "stream",
     "text": [
      "DEBUG:root:e-Paper busy\n",
      "DEBUG:root:e-Paper busy release\n"
     ]
    },
    {
     "data": {
      "text/plain": [
       "0"
      ]
     },
     "execution_count": 35,
     "metadata": {},
     "output_type": "execute_result"
    }
   ],
   "source": [
    "epd.init()\n"
   ]
  },
  {
   "cell_type": "code",
   "execution_count": 105,
   "metadata": {},
   "outputs": [],
   "source": [
    "# character distribution of english letters (no spaces)\n",
    "dist = {\n",
    "'A': 0.0796394951934866,\n",
    "'B': 0.0480421724743304,\n",
    "'C': 0.0650193941562118,\n",
    "'D': 0.0367478368492653,\n",
    "'E': 0.0392455626459735,\n",
    "'F': 0.0285607049987683,\n",
    "'G': 0.0264235633824497,\n",
    "'H': 0.0350469680738427,\n",
    "'I': 0.063304067996198,\n",
    "'J': 0.0223114296397362,\n",
    "'K': 0.0132044112598647,\n",
    "'L': 0.0303276241783032,\n",
    "'M': 0.0735552041056704,\n",
    "'N': 0.058228959048466,\n",
    "'O': 0.0299636382603628,\n",
    "'P': 0.0408886018830318,\n",
    "'Q': 0.00330507150877549,\n",
    "'R': 0.0415148050705166,\n",
    "'S': 0.0864526085515713,\n",
    "'T': 0.092261358897769,\n",
    "'U': 0.0162965906935831,\n",
    "'V': 0.00880284634720004,\n",
    "'W': 0.0303874380635722,\n",
    "'X': 0.00214819726335884,\n",
    "'Y': 0.026731137152672,\n",
    "'Z': 0.0015903123050202,\n",
    "'a': 0.0853444241209682,\n",
    "'b': 0.014043443886782,\n",
    "'c': 0.0317851933335035,\n",
    "'d': 0.0384231410874873,\n",
    "'e': 0.125522566035832,\n",
    "'f': 0.0210277287958113,\n",
    "'g': 0.019565625337748,\n",
    "'h': 0.0479248841551587,\n",
    "'i': 0.0734040206369666,\n",
    "'j': 0.00106775804890564,\n",
    "'k': 0.00747099878278566,\n",
    "'l': 0.0413955994606343,\n",
    "'m': 0.0237913407247777,\n",
    "'n': 0.0735371823360625,\n",
    "'o': 0.0766780830435463,\n",
    "'p': 0.0203573642991815,\n",
    "'q': 0.000879113659646998,\n",
    "'r': 0.0670907487656561,\n",
    "'s': 0.0678732298030442,\n",
    "'t': 0.0892991141869109,\n",
    "'u': 0.0261576563826317,\n",
    "'v': 0.0105934322827605,\n",
    "'w': 0.0164673662068651,\n",
    "'x': 0.00200361905383887,\n",
    "'y': 0.0172194144536526,\n",
    "'z': 0.00107695111884201,\n",
    "}"
   ]
  },
  {
   "cell_type": "code",
   "execution_count": 139,
   "metadata": {},
   "outputs": [],
   "source": [
    "# representative string of letters over n characters\n",
    "s = ''\n",
    "total = 0\n",
    "n = 1000\n",
    "\n",
    "for each in dist:\n",
    "    s = s+(each*int(dist[each]*n))\n",
    "    total = total + int(dist[each]*n)\n",
    "#     print(each, dist[each])"
   ]
  },
  {
   "cell_type": "code",
   "execution_count": 160,
   "metadata": {},
   "outputs": [],
   "source": [
    "testFont = ImageFont.truetype(str(fontPath.absolute()), 36)"
   ]
  },
  {
   "cell_type": "code",
   "execution_count": 161,
   "metadata": {},
   "outputs": [
    {
     "data": {
      "text/plain": [
       "(264, 176)"
      ]
     },
     "execution_count": 161,
     "metadata": {},
     "output_type": "execute_result"
    }
   ],
   "source": [
    "epd.height, epd.width"
   ]
  },
  {
   "cell_type": "code",
   "execution_count": 162,
   "metadata": {},
   "outputs": [
    {
     "name": "stdout",
     "output_type": "stream",
     "text": [
      "length of s: 1978\n",
      "length in px of test string: 40405\n",
      "pix per char: 20.427199191102122\n",
      "char per row: 13\n"
     ]
    }
   ],
   "source": [
    "print(f'length of s: {len(s)}')\n",
    "lengthPX = testFont.getsize(s)[0]\n",
    "print(f'length in px of test string: {lengthPX}')\n",
    "avgLen = lengthPX/len(s)\n",
    "print(f'pix per char: {avgLen}')\n",
    "# characters per row\n",
    "charRow = round(epd.height/avgLen)\n",
    "print(f'char per row: {charRow}')"
   ]
  },
  {
   "cell_type": "code",
   "execution_count": 164,
   "metadata": {},
   "outputs": [],
   "source": [
    "fontPath = Path('./Open_Sans/OpenSans-Regular.ttf')\n",
    "black = Image.new('1', (epd.height, epd.width), 255) # clear the frame\n",
    "red = Image.new('1', (epd.height, epd.width), 255)\n",
    "font = ImageFont.truetype(str(fontPath.absolute()), 36)"
   ]
  },
  {
   "cell_type": "code",
   "execution_count": 158,
   "metadata": {},
   "outputs": [
    {
     "name": "stderr",
     "output_type": "stream",
     "text": [
      "DEBUG:root:e-Paper busy\n",
      "DEBUG:root:e-Paper busy release\n"
     ]
    },
    {
     "data": {
      "text/plain": [
       "0"
      ]
     },
     "execution_count": 158,
     "metadata": {},
     "output_type": "execute_result"
    }
   ],
   "source": [
    "epd.init()"
   ]
  },
  {
   "cell_type": "code",
   "execution_count": 36,
   "metadata": {},
   "outputs": [
    {
     "name": "stderr",
     "output_type": "stream",
     "text": [
      "DEBUG:root:e-Paper busy\n",
      "DEBUG:root:e-Paper busy release\n"
     ]
    }
   ],
   "source": [
    "epd.Clear()"
   ]
  },
  {
   "cell_type": "code",
   "execution_count": 165,
   "metadata": {},
   "outputs": [
    {
     "name": "stderr",
     "output_type": "stream",
     "text": [
      "DEBUG:root:Horizontal\n",
      "DEBUG:root:Horizontal\n",
      "DEBUG:root:e-Paper busy\n",
      "DEBUG:root:e-Paper busy release\n"
     ]
    }
   ],
   "source": [
    "drawBlack = ImageDraw.Draw(black)\n",
    "drawRed = ImageDraw.Draw(red)\n",
    "drawBlack.text((0, 0), 'Far far away,\\nbehind the word mountains,\\nfar from the countries Vokalia\\nand Consonantia, there live\\nthe blind texts. Separated\\nthey live in Bookmarksgrove right at the coast\\nof the Semantics, a large language ocean. A small river named Duden flows by their place and supplies it with the necessary regelialia.', font=font, fill=0)\n",
    "\n",
    "\n",
    "\n",
    "epd.display(epd.getbuffer(black), epd.getbuffer(red))\n",
    "\n",
    "#epd.sleep()"
   ]
  },
  {
   "cell_type": "code",
   "execution_count": null,
   "metadata": {},
   "outputs": [],
   "source": []
  },
  {
   "cell_type": "code",
   "execution_count": 124,
   "metadata": {},
   "outputs": [
    {
     "name": "stderr",
     "output_type": "stream",
     "text": [
      "DEBUG:root:spi end\n",
      "DEBUG:root:close 5V, Module enters 0 power consumption ...\n"
     ]
    }
   ],
   "source": [
    "try:\n",
    "    epd.sleep()\n",
    "except RuntimeError:\n",
    "    logger.warn('epd was not inited before sleeping; initing and sending sleep command')\n",
    "    epd.init()\n",
    "    epd.sleep()\n",
    "else:\n",
    "    Exception"
   ]
  },
  {
   "cell_type": "code",
   "execution_count": null,
   "metadata": {},
   "outputs": [],
   "source": []
  }
 ],
 "metadata": {
  "kernelspec": {
   "display_name": "slimpi_epd-b1Rf9la8",
   "language": "python",
   "name": "slimpi_epd-b1rf9la8"
  },
  "language_info": {
   "codemirror_mode": {
    "name": "ipython",
    "version": 3
   },
   "file_extension": ".py",
   "mimetype": "text/x-python",
   "name": "python",
   "nbconvert_exporter": "python",
   "pygments_lexer": "ipython3",
   "version": "3.7.3"
  }
 },
 "nbformat": 4,
 "nbformat_minor": 2
}
