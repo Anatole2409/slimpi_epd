{
 "cells": [
  {
   "cell_type": "markdown",
   "metadata": {},
   "source": [
    "<!-- START doctoc generated TOC please keep comment here to allow auto update -->\n",
    "<!-- DON'T EDIT THIS SECTION, INSTEAD RE-RUN doctoc TO UPDATE -->\n",
    "# SlimPi - ePaper based Logitech Media Player Display\n",
    "<img width=\"300\" src=\"./docs/SlimPi_splash.png\">\n",
    "\n",
    "SlimPi provides a Logitech Media Player display using a [WaveShare](https://www.waveshare.com/product/oleds-lcds/e-paper.htm) and a Raspberry Pi.\n",
    "\n",
    "***Include an image of the finished project here***"
   ]
  },
  {
   "cell_type": "markdown",
   "metadata": {},
   "source": [
    "## Features\n",
    "The default configuration shows the following information:\n",
    "<img width=\"300\" src=\"./docs/SlimPi_playing.png\"></img>\n",
    "\n",
    "* Track Title\n",
    "* Artist Name\n",
    "* Album Name\n",
    "* Album Artwork (if available)\n",
    "* Now Playing Mode: e.g. play, stop, pause\n",
    "\n",
    "When the music is paused, the display shows the time using one of the following formats.\n",
    "\n",
    "**Word Clock** (default)\n",
    "<img width=\"200\" src=\"./docs/SlimPi_wordclock.png\">\n",
    "\n",
    "**Clock**\n",
    "<img width=\"200\" src=\"./docs/SlimPi_clock.png\">\n",
    "\n",
    "The refresh rate of HAT compatable waveshare displays is relatively slow (5-20 seconds) and does not support partial refreshes. This results in the display pulsing between an all-white and all-black state several times during each refresh. \n",
    "\n",
    "To limit the visual disturbance of a pulsing screen, the default refresh for the Word Clock is 295 seconds (just under 5 minutes). This can be adjusted in the configuration file."
   ]
  },
  {
   "cell_type": "markdown",
   "metadata": {},
   "source": [
    "## Requirements\n",
    "### Hardware\n",
    "* Raspberry Pi 4 Model B\n",
    "    * RPI 3 Model A should work as well, but is untested\n",
    "* [WaveShare e-Paper display with e-Paper HAT](https://www.waveshare.com/product/oleds-lcds/e-paper.htm)\n",
    "    * Any waveshare display should work -- see [Supported WaveShare ePaper Displays](#supported-waveshare-epaper- displays)\n",
    "* [HiFiBerry hat](https://www.hifiberry.com/shop/#boards) (*optional*) \n",
    "    * The HiFiBerry DAC+ PRO and similar boards add high-quality audio output to the Pi so it can act as a display and also work as a LMS client player using squeezelite\n",
    "    * GPIO 2x20 headers **must be added** to the board to support WaveShare HAT\n",
    "    * HiFiBerry's [DAC+ Bundle](https://www.hifiberry.com/shop/bundles/hifiberry-dac-bundle-4/) with the following configuraiton is a good choice:\n",
    "        * DAC+ Pro \n",
    "        * Acrylic Case for (RCA) AND DIGI+\n",
    "        * Raspberry Pi 4B 2GB (1GB should be sufficient as well)\n",
    "        * 16GB SD Card\n",
    "        * PowerSupply (USB C 5.1V/3A)\n",
    "        * 2x20 Pin Male Header (required for WaveShare HAT)\n",
    "    \n",
    "### Software\n",
    "* [Raspian Linux](https://www.raspbian.org/)\n",
    "    * Debian packages:\n",
    "        * libtiff5-dev (? verify in vm)\n",
    "        * libopenjp2-7-dev (? verify in vm)\n",
    "* [Logitech Media Server](http://wiki.slimdevices.com/index.php/Logitech_Media_Server) running on local network\n",
    "    * An LMS instance can be run on the Raspberry Pi\n",
    "* [squeezelite](http://wiki.slimdevices.com/index.php/Squeezelite) *(optional)*\n",
    "    * Squeezelite, in combination with a HiFiBerry, allows the Pi to be usded as LMS client player"
   ]
  },
  {
   "cell_type": "markdown",
   "metadata": {},
   "source": [
    "## Setup\n",
    "Necessary steps for configuring Raspbian and the WaveShare e-Paper Display\n",
    "\n",
    "* Enable SPI\n",
    "    * `$ sudo raspi-config` Interfacing Options > SPI > Would you Like the SPI interface to be enabled > Yes\n",
    "\n",
    "* Install libraries:\n",
    "    * `$ sudo apt-get install libtiff5-dev libopenjp2-7-dev`\n",
    "\n"
   ]
  },
  {
   "cell_type": "markdown",
   "metadata": {},
   "source": [
    "### Configure HiFiBerry *(optional)*\n",
    "A HiFiBerry DAC+ or similar can be used for audio output. HiFiBerry has a [great guide for configuring Linux 4 kernels](https://www.hifiberry.com/docs/software/configuring-linux-3-18-x/)\n",
    "\n",
    "The quick and dirty version can be found below\n",
    "1. Disable onboard sound in `/boot/config.txt` \n",
    "    * `#dtparam=audio=on`\n",
    "2. Load deviced tree overlay for HiFiBerry in `/boot/config.txt`\n",
    "    * `dtoverlay=hifiberry-dacplus`\n",
    "3. Configure ALSA output *(optional)*\n",
    "    * Check that there is not a conflicing `.asound.conf` file in `~/`\n",
    "    * Create `/etc/asound.conf` and include the following:\n",
    "    ```\n",
    "    pcm.!default {\n",
    "    type hw card 0\n",
    "    }\n",
    "    ctl.!default {\n",
    "    type hw card 0\n",
    "    }\n",
    "    ```\n",
    "    \n",
    "### Install and Configure Squeeze Lite *(optional)*\n",
    "Squeezelite is a light-weight headless Squeezebox LMS player that works well with a HiFiBerry.\n",
    "\n",
    "* Install squeezelite package: `$ sudo apt-get install squeezelite`\n",
    "* Squeezelite uses the hostname as its default name to change the name do one of the following:\n",
    "    * Change the hostname:\n",
    "        1. `$ raspi-config` Network Options > Hostname\n",
    "        2. Edit `/etc/default/squeezelite` and edit `SL_NAME=YOUR_NAME_HERE`\n",
    "    * Additional squeezelite arguments such as resampling rates can be passed here as well - for a complete list see `$man squeezelite`"
   ]
  },
  {
   "cell_type": "markdown",
   "metadata": {},
   "source": [
    "## Supported WaveShare ePaper Displays\n",
    "All WaveShare ePaper displays *should* work with SlimPi, but only in 1 bit (black/white) mode. Only landscape mode is suported currently. The epd libraries *should* scale the text and artwork to match the dimensions of the screen.\n",
    "\n",
    "**Tested Displays**\n",
    "* epd5in83\n",
    "\n",
    "\n",
    "## Configure HiFi Berry DAC+\n",
    "See [HiFi Berry guide](https://www.hifiberry.com/docs/software/configuring-linux-3-18-x/)\n",
    "- disable onboard sound in /boot/config.txt\n",
    "  * `#dtparam=audio=on`\n",
    "- add load device tree overlay file in /boot/config.txt\n",
    "  * `dtoverlay=hifiberry-dacplus`\n",
    "- configure ALSA by creating /etc/asound.conf and include the following:\n",
    "```\n",
    "pcm.!default {\n",
    "  type hw card 0\n",
    "}\n",
    "ctl.!default {\n",
    "  type hw card 0\n",
    "}\n",
    "```\n",
    " * make sure no .asound.conf file exists in user home directory\n",
    "\n",
    "## Setup Python Environment for Building\n",
    "### Requirements\n",
    "- System Libraries\n",
    "    *  `$ sudo apt-get install libtiff5-dev libopenjp2-7-dev`\n",
    "- Python Libraries that must be installed with pip (pip3) ***DOUBLE CHECK THIS*** I think this is ok to install with pipenv\n",
    "    * RPi.GPIO \n",
    "- Python Libraries -- install with pipenv\n",
    "    * RPi.GPIO\n",
    "    * spidev\n",
    "    * Pillow\n",
    "    * PyInstaller\n",
    "    * Version \n",
    "\n",
    "\n",
    "\n",
    "\n",
    "Fuuuuking WAVESHARE - I just moved this into the project directly; \n",
    "- WaveShare -- not sure best way to manage yet install with pipenv -- this is a fork of the library with the \n",
    "    - Waveshare issue [#36 -- cannot wake after sleep \\[Errno 9\\] Bad file descriptor](https://github.com/waveshare/e-Paper/issues/36) is resolved in my fork of this library: [https://github.com/txoof/e-Paper]\n",
    "\n",
    "RaspberryPi directory renamed to remove the ampersand (&) character\n",
    "  * `pipenv install -e \"git+https://github.com/txoof/e-Paper.git#egg=waveshare-epd&subdirectory=RaspberryPi_and_JetsonNano/python/\"`\n",
    "\n",
    "\n",
    "\n",
    "## Notes & Useful Links\n",
    "[Pi Pinout](https://pinout.xyz/pinout/pin1_3v3_power)"
   ]
  },
  {
   "cell_type": "code",
   "execution_count": 5,
   "metadata": {},
   "outputs": [],
   "source": [
    "from os import listdir\n",
    "from os import path"
   ]
  },
  {
   "cell_type": "code",
   "execution_count": 4,
   "metadata": {},
   "outputs": [
    {
     "data": {
      "text/plain": [
       "[]"
      ]
     },
     "execution_count": 4,
     "metadata": {},
     "output_type": "execute_result"
    }
   ],
   "source": [
    "list()"
   ]
  },
  {
   "cell_type": "code",
   "execution_count": 16,
   "metadata": {},
   "outputs": [
    {
     "data": {
      "text/plain": [
       "['Anton', 'Concert_One', 'Open_Sans', 'Ubuntu', 'Dosis']"
      ]
     },
     "execution_count": 16,
     "metadata": {},
     "output_type": "execute_result"
    }
   ],
   "source": [
    "listdir('./fonts/')"
   ]
  },
  {
   "cell_type": "code",
   "execution_count": 17,
   "metadata": {},
   "outputs": [],
   "source": [
    "import os"
   ]
  },
  {
   "cell_type": "code",
   "execution_count": 18,
   "metadata": {},
   "outputs": [],
   "source": [
    "def getListOfFiles(dirName):\n",
    "    # create a list of file and sub directories \n",
    "    # names in the given directory \n",
    "    listOfFile = os.listdir(dirName)\n",
    "    allFiles = list()\n",
    "    # Iterate over all the entries\n",
    "    for entry in listOfFile:\n",
    "        # Create full path\n",
    "        fullPath = os.path.join(dirName, entry)\n",
    "        # If entry is a directory then get the list of files in this directory \n",
    "        if os.path.isdir(fullPath):\n",
    "            allFiles = allFiles + getListOfFiles(fullPath)\n",
    "        else:\n",
    "            allFiles.append(fullPath)\n",
    "                \n",
    "    return allFiles"
   ]
  },
  {
   "cell_type": "code",
   "execution_count": 74,
   "metadata": {},
   "outputs": [
    {
     "data": {
      "text/plain": [
       "[('fonts/Anton/._Anton-Regular.ttf', 'fonts/Anton'),\n",
       " ('fonts/Anton/OFL.txt', 'fonts/Anton'),\n",
       " ('fonts/Anton/._OFL.txt', 'fonts/Anton'),\n",
       " ('fonts/Anton/Anton-Regular.ttf', 'fonts/Anton'),\n",
       " ('fonts/Concert_One/OFL.txt', 'fonts/Concert_One'),\n",
       " ('fonts/Concert_One/._OFL.txt', 'fonts/Concert_One'),\n",
       " ('fonts/Concert_One/ConcertOne-Regular.ttf', 'fonts/Concert_One'),\n",
       " ('fonts/Concert_One/._ConcertOne-Regular.ttf', 'fonts/Concert_One'),\n",
       " ('fonts/Open_Sans/._OpenSans-LightItalic.ttf', 'fonts/Open_Sans'),\n",
       " ('fonts/Open_Sans/OpenSans-BoldItalic.ttf', 'fonts/Open_Sans'),\n",
       " ('fonts/Open_Sans/._OpenSans-Regular.ttf', 'fonts/Open_Sans'),\n",
       " ('fonts/Open_Sans/._.DS_Store', 'fonts/Open_Sans'),\n",
       " ('fonts/Open_Sans/OpenSans-Regular.ttf', 'fonts/Open_Sans'),\n",
       " ('fonts/Open_Sans/OpenSans-LightItalic.ttf', 'fonts/Open_Sans'),\n",
       " ('fonts/Open_Sans/._OpenSans-Italic.ttf', 'fonts/Open_Sans'),\n",
       " ('fonts/Open_Sans/._OpenSans-BoldItalic.ttf', 'fonts/Open_Sans'),\n",
       " ('fonts/Open_Sans/._OpenSans-Light.ttf', 'fonts/Open_Sans'),\n",
       " ('fonts/Open_Sans/LICENSE.txt', 'fonts/Open_Sans'),\n",
       " ('fonts/Open_Sans/OpenSans-SemiBold.ttf', 'fonts/Open_Sans'),\n",
       " ('fonts/Open_Sans/OpenSans-Bold.ttf', 'fonts/Open_Sans'),\n",
       " ('fonts/Open_Sans/._OpenSans-ExtraBold.ttf', 'fonts/Open_Sans'),\n",
       " ('fonts/Open_Sans/OpenSans-Light.ttf', 'fonts/Open_Sans'),\n",
       " ('fonts/Open_Sans/._OpenSans-ExtraBoldItalic.ttf', 'fonts/Open_Sans'),\n",
       " ('fonts/Open_Sans/OpenSans-Italic.ttf', 'fonts/Open_Sans'),\n",
       " ('fonts/Open_Sans/OpenSans-SemiBoldItalic.ttf', 'fonts/Open_Sans'),\n",
       " ('fonts/Open_Sans/._OpenSans-Bold.ttf', 'fonts/Open_Sans'),\n",
       " ('fonts/Open_Sans/._OpenSans-SemiBoldItalic.ttf', 'fonts/Open_Sans'),\n",
       " ('fonts/Open_Sans/._LICENSE.txt', 'fonts/Open_Sans'),\n",
       " ('fonts/Open_Sans/._OpenSans-SemiBold.ttf', 'fonts/Open_Sans'),\n",
       " ('fonts/Open_Sans/OpenSans-ExtraBold.ttf', 'fonts/Open_Sans'),\n",
       " ('fonts/Open_Sans/OpenSans-ExtraBoldItalic.ttf', 'fonts/Open_Sans'),\n",
       " ('fonts/Open_Sans/.DS_Store', 'fonts/Open_Sans'),\n",
       " ('fonts/Ubuntu/Ubuntu-Light.ttf', 'fonts/Ubuntu'),\n",
       " ('fonts/Ubuntu/._Ubuntu-Medium.ttf', 'fonts/Ubuntu'),\n",
       " ('fonts/Ubuntu/Ubuntu-BoldItalic.ttf', 'fonts/Ubuntu'),\n",
       " ('fonts/Ubuntu/._Ubuntu-BoldItalic.ttf', 'fonts/Ubuntu'),\n",
       " ('fonts/Ubuntu/._UFL.txt', 'fonts/Ubuntu'),\n",
       " ('fonts/Ubuntu/Ubuntu-LightItalic.ttf', 'fonts/Ubuntu'),\n",
       " ('fonts/Ubuntu/._Ubuntu-LightItalic.ttf', 'fonts/Ubuntu'),\n",
       " ('fonts/Ubuntu/Ubuntu-MediumItalic.ttf', 'fonts/Ubuntu'),\n",
       " ('fonts/Ubuntu/._Ubuntu-Italic.ttf', 'fonts/Ubuntu'),\n",
       " ('fonts/Ubuntu/Ubuntu-Regular.ttf', 'fonts/Ubuntu'),\n",
       " ('fonts/Ubuntu/Ubuntu-Bold.ttf', 'fonts/Ubuntu'),\n",
       " ('fonts/Ubuntu/Ubuntu-Medium.ttf', 'fonts/Ubuntu'),\n",
       " ('fonts/Ubuntu/._Ubuntu-MediumItalic.ttf', 'fonts/Ubuntu'),\n",
       " ('fonts/Ubuntu/Ubuntu-Italic.ttf', 'fonts/Ubuntu'),\n",
       " ('fonts/Ubuntu/UFL.txt', 'fonts/Ubuntu'),\n",
       " ('fonts/Ubuntu/._Ubuntu-Light.ttf', 'fonts/Ubuntu'),\n",
       " ('fonts/Ubuntu/._Ubuntu-Regular.ttf', 'fonts/Ubuntu'),\n",
       " ('fonts/Ubuntu/._Ubuntu-Bold.ttf', 'fonts/Ubuntu'),\n",
       " ('fonts/Dosis/static/._Dosis-Regular.ttf', 'fonts/Dosis/static'),\n",
       " ('fonts/Dosis/static/Dosis-Medium.ttf', 'fonts/Dosis/static'),\n",
       " ('fonts/Dosis/static/._Dosis-Medium.ttf', 'fonts/Dosis/static'),\n",
       " ('fonts/Dosis/static/._Dosis-ExtraLight.ttf', 'fonts/Dosis/static'),\n",
       " ('fonts/Dosis/static/Dosis-Regular.ttf', 'fonts/Dosis/static'),\n",
       " ('fonts/Dosis/static/Dosis-Bold.ttf', 'fonts/Dosis/static'),\n",
       " ('fonts/Dosis/static/._Dosis-Bold.ttf', 'fonts/Dosis/static'),\n",
       " ('fonts/Dosis/static/._Dosis-SemiBold.ttf', 'fonts/Dosis/static'),\n",
       " ('fonts/Dosis/static/._Dosis-Light.ttf', 'fonts/Dosis/static'),\n",
       " ('fonts/Dosis/static/Dosis-ExtraBold.ttf', 'fonts/Dosis/static'),\n",
       " ('fonts/Dosis/static/Dosis-ExtraLight.ttf', 'fonts/Dosis/static'),\n",
       " ('fonts/Dosis/static/._Dosis-ExtraBold.ttf', 'fonts/Dosis/static'),\n",
       " ('fonts/Dosis/static/Dosis-SemiBold.ttf', 'fonts/Dosis/static'),\n",
       " ('fonts/Dosis/static/Dosis-Light.ttf', 'fonts/Dosis/static'),\n",
       " ('fonts/Dosis/OFL.txt', 'fonts/Dosis'),\n",
       " ('fonts/Dosis/._OFL.txt', 'fonts/Dosis'),\n",
       " ('fonts/Dosis/Dosis-VariableFont\\uf022wght.ttf', 'fonts/Dosis'),\n",
       " ('fonts/Dosis/._README', 'fonts/Dosis'),\n",
       " ('fonts/Dosis/._Dosis-VariableFont\\uf022wght.ttf', 'fonts/Dosis'),\n",
       " ('fonts/Dosis/README', 'fonts/Dosis'),\n",
       " ('fonts/Dosis/._static', 'fonts/Dosis'),\n",
       " ('images/No-album-art.png', 'images'),\n",
       " ('images/._test_image.jpg', 'images'),\n",
       " ('images/test_image.jpg', 'images')]"
      ]
     },
     "execution_count": 74,
     "metadata": {},
     "output_type": "execute_result"
    }
   ],
   "source": [
    "from pathlib import Path\n",
    "\n",
    "def getPathTuples(path):\n",
    "    myPath = Path(path)\n",
    "    allEntries = list()\n",
    "    for entry in list(myPath.glob('*')):\n",
    "        if Path.is_dir(entry):\n",
    "            allEntries = allEntries + getPathTuples(entry)\n",
    "        else:\n",
    "            allEntries.append((str(entry), str(entry.parent)))\n",
    "    return allEntries\n",
    "\n",
    "binDirs = ['./fonts', './images']\n",
    "binTuples = []\n",
    "for each in binDirs:\n",
    "    tuples =(getPathTuples(each))\n",
    "    for tup in tuples: \n",
    "        binTuples.append(tup)\n",
    "binTuples"
   ]
  },
  {
   "cell_type": "code",
   "execution_count": 40,
   "metadata": {},
   "outputs": [],
   "source": [
    "p = Path('./fonts/Anton/Anton-Regular.ttf')"
   ]
  },
  {
   "cell_type": "code",
   "execution_count": 64,
   "metadata": {},
   "outputs": [
    {
     "data": {
      "text/plain": [
       "PosixPath('/home/pi/src/slimpi_epd/fonts/Anton/Anton-Regular.ttf')"
      ]
     },
     "execution_count": 64,
     "metadata": {},
     "output_type": "execute_result"
    }
   ],
   "source": [
    "p.absolute()"
   ]
  },
  {
   "cell_type": "code",
   "execution_count": 30,
   "metadata": {},
   "outputs": [
    {
     "data": {
      "text/plain": [
       "[PosixPath('fonts/Anton'),\n",
       " PosixPath('fonts/Concert_One'),\n",
       " PosixPath('fonts/Open_Sans'),\n",
       " PosixPath('fonts/Ubuntu'),\n",
       " PosixPath('fonts/Dosis')]"
      ]
     },
     "execution_count": 30,
     "metadata": {},
     "output_type": "execute_result"
    }
   ],
   "source": [
    "list(p.glob('*'))"
   ]
  },
  {
   "cell_type": "code",
   "execution_count": 77,
   "metadata": {},
   "outputs": [],
   "source": [
    "p = Path('./test.py')"
   ]
  },
  {
   "cell_type": "code",
   "execution_count": 80,
   "metadata": {},
   "outputs": [
    {
     "data": {
      "text/plain": [
       "PosixPath('/home/pi/src/slimpi_epd')"
      ]
     },
     "execution_count": 80,
     "metadata": {},
     "output_type": "execute_result"
    }
   ],
   "source": [
    "p.absolute().parent"
   ]
  },
  {
   "cell_type": "code",
   "execution_count": null,
   "metadata": {},
   "outputs": [],
   "source": [
    "\n"
   ]
  }
 ],
 "metadata": {
  "kernelspec": {
   "display_name": "slimpi_epd-b1Rf9la8",
   "language": "python",
   "name": "slimpi_epd-b1rf9la8"
  },
  "language_info": {
   "codemirror_mode": {
    "name": "ipython",
    "version": 3
   },
   "file_extension": ".py",
   "mimetype": "text/x-python",
   "name": "python",
   "nbconvert_exporter": "python",
   "pygments_lexer": "ipython3",
   "version": "3.7.3"
  }
 },
 "nbformat": 4,
 "nbformat_minor": 2
}
