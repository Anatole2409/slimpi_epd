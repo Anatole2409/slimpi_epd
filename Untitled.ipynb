{
 "cells": [
  {
   "cell_type": "markdown",
   "metadata": {},
   "source": [
    "<!-- START doctoc generated TOC please keep comment here to allow auto update -->\n",
    "<!-- DON'T EDIT THIS SECTION, INSTEAD RE-RUN doctoc TO UPDATE -->\n",
    "# SlimPi - ePaper based Logitech Media Player Display\n",
    "<img width=\"300\" src=\"./docs/SlimPi_splash.png\">\n",
    "\n",
    "SlimPi provides a Logitech Media Player display using a [WaveShare](https://www.waveshare.com/product/oleds-lcds/e-paper.htm) and a Raspberry Pi.\n",
    "\n",
    "***Include an image of the finished project here***"
   ]
  },
  {
   "cell_type": "markdown",
   "metadata": {},
   "source": [
    "## Features\n",
    "The default configuration shows the following information:\n",
    "<img width=\"300\" src=\"./docs/SlimPi_playing.png\"></img>\n",
    "\n",
    "* Track Title\n",
    "* Artist Name\n",
    "* Album Name\n",
    "* Album Artwork (if available)\n",
    "* Now Playing Mode: e.g. play, stop, pause\n",
    "\n",
    "When the music is paused, the display shows the time using one of the following formats.\n",
    "\n",
    "**Word Clock** (default)\n",
    "<img width=\"200\" src=\"./docs/SlimPi_wordclock.png\">\n",
    "\n",
    "**Clock**\n",
    "<img width=\"200\" src=\"./docs/SlimPi_clock.png\">\n",
    "\n",
    "The refresh rate of HAT compatable waveshare displays is relatively slow (5-20 seconds) and does not support partial refreshes. This results in the display pulsing between an all-white and all-black state several times during each refresh. \n",
    "\n",
    "To limit the visual disturbance of a pulsing screen, the default refresh for the Word Clock is 295 seconds (just under 5 minutes). This can be adjusted in the configuration file."
   ]
  },
  {
   "cell_type": "markdown",
   "metadata": {},
   "source": [
    "## Requirements\n",
    "### Hardware\n",
    "* Raspberry Pi 4 Model B\n",
    "    * RPI 3 Model A should work as well, but is untested\n",
    "* [WaveShare e-Paper display with e-Paper HAT](https://www.waveshare.com/product/oleds-lcds/e-paper.htm)\n",
    "    * Any waveshare display should work -- see [Supported WaveShare ePaper Displays](#supported-waveshare-epaper- displays)\n",
    "* [HiFiBerry hat](https://www.hifiberry.com/shop/#boards) (*optional*) \n",
    "    * The HiFiBerry DAC+ PRO and similar boards add high-quality audio output to the Pi so it can act as a display and also work as a LMS client player using squeezelite\n",
    "    * GPIO 2x20 headers **must be added** to the board to support WaveShare HAT\n",
    "    * HiFiBerry's [DAC+ Bundle](https://www.hifiberry.com/shop/bundles/hifiberry-dac-bundle-4/) with the following configuraiton is a good choice:\n",
    "        * DAC+ Pro \n",
    "        * Acrylic Case for (RCA) AND DIGI+\n",
    "        * Raspberry Pi 4B 2GB (1GB should be sufficient as well)\n",
    "        * 16GB SD Card\n",
    "        * PowerSupply (USB C 5.1V/3A)\n",
    "        * 2x20 Pin Male Header (required for WaveShare HAT)\n",
    "    \n",
    "### Software\n",
    "* [Raspian Linux](https://www.raspbian.org/)\n",
    "    * Debian packages:\n",
    "        * libtiff5-dev (? verify in vm)\n",
    "        * libopenjp2-7-dev (? verify in vm)\n",
    "* [Logitech Media Server](http://wiki.slimdevices.com/index.php/Logitech_Media_Server) running on local network\n",
    "    * An LMS instance can be run on the Raspberry Pi\n",
    "* [squeezelite](http://wiki.slimdevices.com/index.php/Squeezelite) *(optional)*\n",
    "    * Squeezelite, in combination with a HiFiBerry, allows the Pi to be usded as LMS client player"
   ]
  },
  {
   "cell_type": "markdown",
   "metadata": {},
   "source": [
    "## Supported WaveShare ePaper Displays\n",
    "All WaveShare ePaper displays *should* work with SlimPi, but only in 1 bit (black/white) mode. Only landscape mode is suported currently. The epd libraries *should* scale the text and artwork to match the dimensions of the screen.\n",
    "\n",
    "**Tested Displays**\n",
    "* epd5in83\n",
    "\n",
    "\n",
    "## Configure HiFi Berry DAC+\n",
    "See [HiFi Berry guide](https://www.hifiberry.com/docs/software/configuring-linux-3-18-x/)\n",
    "- disable onboard sound in /boot/config.txt\n",
    "  * `#dtparam=audio=on`\n",
    "- add load device tree overlay file in /boot/config.txt\n",
    "  * `dtoverlay=hifiberry-dacplus`\n",
    "- configure ALSA by creating /etc/asound.conf and include the following:\n",
    "```\n",
    "pcm.!default {\n",
    "  type hw card 0\n",
    "}\n",
    "ctl.!default {\n",
    "  type hw card 0\n",
    "}\n",
    "```\n",
    " * make sure no .asound.conf file exists in user home directory\n",
    "\n",
    "## Setup Python Environment for Building\n",
    "### Requirements\n",
    "- Debian Packages -- install with apt\n",
    "  * libtiff5-dev libopenjp2-7-dev\n",
    "\n",
    "- Python Libraries -- install with pipenv\n",
    "  * RPi.GPIO\n",
    "  * spidev\n",
    "  * Pillow\n",
    "  * PyInstaller\n",
    "      * Version \n",
    "- WaveShare -- not sure best way to manage yet install with pipenv -- this is a fork of the library with the RaspberryPi directory renamed to remove the ampersand (&) character\n",
    "  * `pipenv install -e \"git+https://github.com/txoof/e-Paper.git#egg=waveshare-epd&subdirectory=RaspberryPi_and_JetsonNano/python/\"`\n",
    "\n",
    "\n",
    "## Notes & Useful Links\n",
    "[Pi Pinout](https://pinout.xyz/pinout/pin1_3v3_power)"
   ]
  },
  {
   "cell_type": "code",
   "execution_count": null,
   "metadata": {},
   "outputs": [],
   "source": []
  }
 ],
 "metadata": {
  "kernelspec": {
   "display_name": "slimpi_epd-b1Rf9la8",
   "language": "python",
   "name": "slimpi_epd-b1rf9la8"
  },
  "language_info": {
   "codemirror_mode": {
    "name": "ipython",
    "version": 3
   },
   "file_extension": ".py",
   "mimetype": "text/x-python",
   "name": "python",
   "nbconvert_exporter": "python",
   "pygments_lexer": "ipython3",
   "version": "3.7.3"
  }
 },
 "nbformat": 4,
 "nbformat_minor": 2
}
