{
 "cells": [
  {
   "cell_type": "code",
   "execution_count": 2,
   "metadata": {},
   "outputs": [],
   "source": [
    "%load_ext autoreload"
   ]
  },
  {
   "cell_type": "code",
   "execution_count": 3,
   "metadata": {},
   "outputs": [],
   "source": [
    "%autoreload 2"
   ]
  },
  {
   "cell_type": "code",
   "execution_count": 26,
   "metadata": {},
   "outputs": [],
   "source": [
    "import logging\n",
    "from pathlib import Path\n",
    "import textwrap"
   ]
  },
  {
   "cell_type": "code",
   "execution_count": 5,
   "metadata": {},
   "outputs": [],
   "source": [
    "from PIL import Image, ImageDraw, ImageFont\n",
    "from waveshare_epd import epd2in7b\n"
   ]
  },
  {
   "cell_type": "code",
   "execution_count": 6,
   "metadata": {},
   "outputs": [],
   "source": [
    "logging.basicConfig(level=logging.DEBUG)\n",
    "logger = logging.getLogger(__name__)"
   ]
  },
  {
   "cell_type": "code",
   "execution_count": 7,
   "metadata": {},
   "outputs": [],
   "source": [
    "epd = epd2in7b.EPD()"
   ]
  },
  {
   "cell_type": "code",
   "execution_count": 9,
   "metadata": {},
   "outputs": [],
   "source": [
    "# character distribution of english letters (no spaces) https://link.springer.com/content/pdf/10.3758/BF03195586.pdf\n",
    "dist = {\n",
    "'A': 0.0796394951934866,\n",
    "'B': 0.0480421724743304,\n",
    "'C': 0.0650193941562118,\n",
    "'D': 0.0367478368492653,\n",
    "'E': 0.0392455626459735,\n",
    "'F': 0.0285607049987683,\n",
    "'G': 0.0264235633824497,\n",
    "'H': 0.0350469680738427,\n",
    "'I': 0.063304067996198,\n",
    "'J': 0.0223114296397362,\n",
    "'K': 0.0132044112598647,\n",
    "'L': 0.0303276241783032,\n",
    "'M': 0.0735552041056704,\n",
    "'N': 0.058228959048466,\n",
    "'O': 0.0299636382603628,\n",
    "'P': 0.0408886018830318,\n",
    "'Q': 0.00330507150877549,\n",
    "'R': 0.0415148050705166,\n",
    "'S': 0.0864526085515713,\n",
    "'T': 0.092261358897769,\n",
    "'U': 0.0162965906935831,\n",
    "'V': 0.00880284634720004,\n",
    "'W': 0.0303874380635722,\n",
    "'X': 0.00214819726335884,\n",
    "'Y': 0.026731137152672,\n",
    "'Z': 0.0015903123050202,\n",
    "'a': 0.0853444241209682,\n",
    "'b': 0.014043443886782,\n",
    "'c': 0.0317851933335035,\n",
    "'d': 0.0384231410874873,\n",
    "'e': 0.125522566035832,\n",
    "'f': 0.0210277287958113,\n",
    "'g': 0.019565625337748,\n",
    "'h': 0.0479248841551587,\n",
    "'i': 0.0734040206369666,\n",
    "'j': 0.00106775804890564,\n",
    "'k': 0.00747099878278566,\n",
    "'l': 0.0413955994606343,\n",
    "'m': 0.0237913407247777,\n",
    "'n': 0.0735371823360625,\n",
    "'o': 0.0766780830435463,\n",
    "'p': 0.0203573642991815,\n",
    "'q': 0.000879113659646998,\n",
    "'r': 0.0670907487656561,\n",
    "'s': 0.0678732298030442,\n",
    "'t': 0.0892991141869109,\n",
    "'u': 0.0261576563826317,\n",
    "'v': 0.0105934322827605,\n",
    "'w': 0.0164673662068651,\n",
    "'x': 0.00200361905383887,\n",
    "'y': 0.0172194144536526,\n",
    "'z': 0.00107695111884201,\n",
    "}"
   ]
  },
  {
   "cell_type": "code",
   "execution_count": 10,
   "metadata": {},
   "outputs": [],
   "source": [
    "# representative string of letters over n characters\n",
    "s = ''\n",
    "total = 0\n",
    "n = 1000\n",
    "\n",
    "for each in dist:\n",
    "    s = s+(each*int(dist[each]*n))\n",
    "    total = total + int(dist[each]*n)\n",
    "#     print(each, dist[each])"
   ]
  },
  {
   "cell_type": "code",
   "execution_count": 18,
   "metadata": {},
   "outputs": [],
   "source": [
    "fontPath = Path('./Open_Sans/OpenSans-Regular.ttf')\n"
   ]
  },
  {
   "cell_type": "code",
   "execution_count": 19,
   "metadata": {},
   "outputs": [],
   "source": [
    "testFont = ImageFont.truetype(str(fontPath.absolute()), 24)"
   ]
  },
  {
   "cell_type": "code",
   "execution_count": 20,
   "metadata": {},
   "outputs": [
    {
     "name": "stdout",
     "output_type": "stream",
     "text": [
      "length of s: 1978\n",
      "length in px of test string: 26757\n",
      "pix per char: 13.527300303336704\n",
      "char per row: 20\n"
     ]
    }
   ],
   "source": [
    "print(f'length of s: {len(s)}')\n",
    "lengthPX = testFont.getsize(s)[0]\n",
    "print(f'length in px of test string: {lengthPX}')\n",
    "avgLen = lengthPX/len(s)\n",
    "print(f'pix per char: {avgLen}')\n",
    "# characters per row\n",
    "charRow = round(epd.height/avgLen)\n",
    "print(f'char per row: {charRow}')"
   ]
  },
  {
   "cell_type": "code",
   "execution_count": 48,
   "metadata": {},
   "outputs": [],
   "source": [
    "\n",
    "font = ImageFont.truetype(str(fontPath.absolute()), 24)"
   ]
  },
  {
   "cell_type": "code",
   "execution_count": 39,
   "metadata": {},
   "outputs": [],
   "source": [
    "text = 'Old education him departure any arranging one prevailed. Their end whole might began her. Behaved the comfort another fifteen eat. Partiality had his themselves ask pianoforte increasing discovered. So mr delay at since place whole above miles. He to observe conduct at detract because. Way ham unwilling not breakfast furniture explained perpetual. Or mr surrounded conviction so astonished literature. Songs to an blush woman be sorry young. We certain as removal attempt.'\n",
    "wrapper = textwrap.wrap(text, width=charRow)"
   ]
  },
  {
   "cell_type": "code",
   "execution_count": 41,
   "metadata": {},
   "outputs": [
    {
     "name": "stdout",
     "output_type": "stream",
     "text": [
      "17, Old education him\n",
      "13, departure any\n",
      "13, arranging one\n",
      "20, prevailed. Their end\n",
      "17, whole might began\n",
      "16, her. Behaved the\n",
      "15, comfort another\n",
      "12, fifteen eat.\n",
      "18, Partiality had his\n",
      "14, themselves ask\n",
      "10, pianoforte\n",
      "10, increasing\n",
      "17, discovered. So mr\n",
      "20, delay at since place\n",
      "18, whole above miles.\n",
      "13, He to observe\n",
      "18, conduct at detract\n",
      "16, because. Way ham\n",
      "13, unwilling not\n",
      "19, breakfast furniture\n",
      "20, explained perpetual.\n",
      "16, Or mr surrounded\n",
      "13, conviction so\n",
      "10, astonished\n",
      "20, literature. Songs to\n",
      "17, an blush woman be\n",
      "15, sorry young. We\n",
      "18, certain as removal\n",
      "8, attempt.\n"
     ]
    }
   ],
   "source": [
    "for each in wrapper:\n",
    "    print(f'{len(each)}, {each}')"
   ]
  },
  {
   "cell_type": "code",
   "execution_count": 42,
   "metadata": {},
   "outputs": [
    {
     "name": "stdout",
     "output_type": "stream",
     "text": [
      "Old education him\n",
      "departure any\n",
      "arranging one\n"
     ]
    }
   ],
   "source": [
    "foo = \"\\n\".join(wrapper[0:3])\n",
    "print(foo)"
   ]
  },
  {
   "cell_type": "code",
   "execution_count": null,
   "metadata": {},
   "outputs": [],
   "source": []
  },
  {
   "cell_type": "code",
   "execution_count": 31,
   "metadata": {},
   "outputs": [
    {
     "ename": "SyntaxError",
     "evalue": "unexpected EOF while parsing (<ipython-input-31-c12cdb34d5cd>, line 5)",
     "output_type": "error",
     "traceback": [
      "\u001b[0;36m  File \u001b[0;32m\"<ipython-input-31-c12cdb34d5cd>\"\u001b[0;36m, line \u001b[0;32m5\u001b[0m\n\u001b[0;31m    \u001b[0m\n\u001b[0m    ^\u001b[0m\n\u001b[0;31mSyntaxError\u001b[0m\u001b[0;31m:\u001b[0m unexpected EOF while parsing\n"
     ]
    }
   ],
   "source": [
    "maxLines = 3\n",
    "myText = ''\n",
    "for line in range(maxlines):\n",
    "\n",
    "    "
   ]
  },
  {
   "cell_type": "code",
   "execution_count": null,
   "metadata": {},
   "outputs": [],
   "source": [
    "wrapper"
   ]
  },
  {
   "cell_type": "code",
   "execution_count": 43,
   "metadata": {},
   "outputs": [
    {
     "name": "stderr",
     "output_type": "stream",
     "text": [
      "DEBUG:root:e-Paper busy\n",
      "DEBUG:root:e-Paper busy release\n"
     ]
    },
    {
     "data": {
      "text/plain": [
       "0"
      ]
     },
     "execution_count": 43,
     "metadata": {},
     "output_type": "execute_result"
    }
   ],
   "source": [
    "epd.init()"
   ]
  },
  {
   "cell_type": "code",
   "execution_count": 46,
   "metadata": {},
   "outputs": [
    {
     "name": "stderr",
     "output_type": "stream",
     "text": [
      "DEBUG:root:e-Paper busy\n",
      "DEBUG:root:e-Paper busy release\n"
     ]
    }
   ],
   "source": [
    "epd.Clear()"
   ]
  },
  {
   "cell_type": "code",
   "execution_count": 49,
   "metadata": {},
   "outputs": [
    {
     "name": "stderr",
     "output_type": "stream",
     "text": [
      "DEBUG:root:Horizontal\n",
      "DEBUG:root:Horizontal\n",
      "DEBUG:root:e-Paper busy\n",
      "DEBUG:root:e-Paper busy release\n"
     ]
    }
   ],
   "source": [
    "black = Image.new('1', (epd.height, epd.width), 255) # clear the frame\n",
    "red = Image.new('1', (epd.height, epd.width), 255)\n",
    "drawBlack = ImageDraw.Draw(black)\n",
    "drawRed = ImageDraw.Draw(red)\n",
    "drawBlack.text((0, 0), foo, font=font, fill=0)\n",
    "\n",
    "\n",
    "\n",
    "epd.display(epd.getbuffer(black), epd.getbuffer(red))\n",
    "\n",
    "#epd.sleep()"
   ]
  },
  {
   "cell_type": "code",
   "execution_count": null,
   "metadata": {},
   "outputs": [],
   "source": []
  },
  {
   "cell_type": "code",
   "execution_count": 166,
   "metadata": {},
   "outputs": [
    {
     "name": "stderr",
     "output_type": "stream",
     "text": [
      "DEBUG:root:spi end\n",
      "DEBUG:root:close 5V, Module enters 0 power consumption ...\n"
     ]
    }
   ],
   "source": [
    "try:\n",
    "    epd.sleep()\n",
    "except RuntimeError:\n",
    "    logger.warn('epd was not inited before sleeping; initing and sending sleep command')\n",
    "    epd.init()\n",
    "    epd.sleep()\n",
    "else:\n",
    "    Exception"
   ]
  },
  {
   "cell_type": "code",
   "execution_count": null,
   "metadata": {},
   "outputs": [],
   "source": []
  }
 ],
 "metadata": {
  "kernelspec": {
   "display_name": "slimpi_epd-b1Rf9la8",
   "language": "python",
   "name": "slimpi_epd-b1rf9la8"
  },
  "language_info": {
   "codemirror_mode": {
    "name": "ipython",
    "version": 3
   },
   "file_extension": ".py",
   "mimetype": "text/x-python",
   "name": "python",
   "nbconvert_exporter": "python",
   "pygments_lexer": "ipython3",
   "version": "3.7.3"
  }
 },
 "nbformat": 4,
 "nbformat_minor": 2
}
