{
 "cells": [
  {
   "cell_type": "code",
   "execution_count": 68,
   "metadata": {},
   "outputs": [],
   "source": [
    "import sys\n",
    "import argparse\n",
    "import configparser\n",
    "from pathlib import Path\n",
    "\n",
    "import logging"
   ]
  },
  {
   "cell_type": "markdown",
   "metadata": {},
   "source": [
    "# see this for inspiration https://github.com/szymonlipinski/examples/blob/master/python_settings/fixed.py"
   ]
  },
  {
   "cell_type": "code",
   "execution_count": 69,
   "metadata": {},
   "outputs": [],
   "source": [
    "logging.basicConfig(level=logging.DEBUG, format='%(name)s:%(funcName)s %(levelname)s: %(message)s')\n",
    "logger = logging.getLogger(__name__)\n"
   ]
  },
  {
   "cell_type": "code",
   "execution_count": 70,
   "metadata": {},
   "outputs": [],
   "source": [
    "def greeting(name: str) -> str:\n",
    "    return 'Hello ' + name"
   ]
  },
  {
   "cell_type": "code",
   "execution_count": 71,
   "metadata": {},
   "outputs": [
    {
     "data": {
      "text/plain": [
       "str"
      ]
     },
     "execution_count": 71,
     "metadata": {},
     "output_type": "execute_result"
    }
   ],
   "source": [
    "type(greeting('aaron'))"
   ]
  },
  {
   "cell_type": "code",
   "execution_count": 137,
   "metadata": {},
   "outputs": [],
   "source": [
    "class file():\n",
    "    '''class that creates a pathlib.Path().expanduser().resolve() object from a string\n",
    "    Args:\n",
    "        file(`str`): string representation of a file path'''\n",
    "    def __init__(self, file):\n",
    "        self.file = file\n",
    "        \n",
    "    @property\n",
    "    def file(self):\n",
    "        return self._file\n",
    "    \n",
    "    @file.setter\n",
    "    def file(self, file):\n",
    "        f = Path(file).expanduser().resolve()\n",
    "        if f.exists():\n",
    "            self._file = f\n",
    "            self.parent = f.parent\n",
    "            self.exists = True\n",
    "        else:\n",
    "            logging.warning(f'file does not exist: {f}')\n",
    "            self._file = None\n",
    "            self.parent = None\n",
    "            self.exists = False\n",
    "            \n",
    "    def __repr__(self) -> Path:\n",
    "        return repr(str(self.file))\n",
    "    \n",
    "    def __str__(self):\n",
    "        return(str(self.file))"
   ]
  },
  {
   "cell_type": "code",
   "execution_count": 141,
   "metadata": {},
   "outputs": [],
   "source": [
    "f = file('./slimpi.cfg')"
   ]
  },
  {
   "cell_type": "code",
   "execution_count": 144,
   "metadata": {},
   "outputs": [
    {
     "data": {
      "text/plain": [
       "'/Users/aciuffo/Documents/src/slimpi_epd/slimpi.cfg'"
      ]
     },
     "execution_count": 144,
     "metadata": {},
     "output_type": "execute_result"
    }
   ],
   "source": []
  },
  {
   "cell_type": "code",
   "execution_count": 145,
   "metadata": {},
   "outputs": [],
   "source": [
    "class Options():\n",
    "    '''parse command line options\n",
    "    Args:\n",
    "        args(`list`): sys.argv is typically passed here\n",
    "    Properties:\n",
    "        parser(`argparse.ArgumentParser`): argument parser object\n",
    "        args(`list`): list of arguments\n",
    "        options(NameSpace): argument parser generated namespace of arguments\n",
    "        opts_dict(`dict`): namespace -> dictionary'''\n",
    "    def __init__(self, args):\n",
    "        self.parser = argparse.ArgumentParser()      \n",
    "        self.args = args\n",
    "    \n",
    "    @property\n",
    "    def parser(self):\n",
    "        '''The argparser object'''\n",
    "        return self._parser\n",
    "    \n",
    "    @parser.setter\n",
    "    def parser(self, parser):\n",
    "        if parser:\n",
    "            self._parser = parser\n",
    "    \n",
    "    @property\n",
    "    def options(self):\n",
    "        '''argparser namespace of the parsed arguments'''\n",
    "        try:\n",
    "            return self._options\n",
    "        except AttributeError as e:\n",
    "            self._parse_args()\n",
    "            return self._options\n",
    "\n",
    "    \n",
    "    @options.setter\n",
    "    def options(self, options):\n",
    "        if options:\n",
    "            self._options = options\n",
    "#             self.opts_dict = vars(self.options)\n",
    "        else:\n",
    "            self._options = None\n",
    "    \n",
    "    @property\n",
    "    def opts_dict(self):\n",
    "        '''namespace of dictionary of parsed options'''\n",
    "        self._parse_args()\n",
    "        self._opts_dict = vars(self.options)\n",
    "        return self._opts_dict\n",
    "    \n",
    "    def _parse_args(self):\n",
    "        '''parse known arguments and discard unknown arguments'''\n",
    "        options, unknown = self.parser.parse_known_args()\n",
    "        logging.info(f'discarding unknwon commandline arguments: {unknown}')\n",
    "        self.options = options\n",
    "    \n",
    "    def add_argument(self, *args, **kwargs):\n",
    "        '''add arguments to the parser using standard argparse.ArgumentParser\n",
    "        Args:\n",
    "            *args, **kwargs'''\n",
    "        try:\n",
    "            self.parser.add_argument(*args, **kwargs)\n",
    "        except argparse.ArgumentError as e:\n",
    "            logging.warning(f'failed adding conflicting option {e}')"
   ]
  },
  {
   "cell_type": "code",
   "execution_count": 155,
   "metadata": {},
   "outputs": [],
   "source": [
    "class ConfigFile():\n",
    "    def __init__(self, cfg_file=None):\n",
    "        self.cfg_file = cfg_file\n",
    "    \n",
    "    @property\n",
    "    def cfg_file(self):\n",
    "        '''file() class object for storing resolved file path\n",
    "\n",
    "        Args:\n",
    "            cfg_file(`str` or `pathlib.Path`): path to .INI type configuration file\n",
    "\n",
    "        Sets:\n",
    "            config(`configparser.ConfigParser`): configuration parser object\n",
    "            config_dict(`dict`): dictionary rpresentation of configuration file'''        \n",
    "        return self._cfg_file\n",
    "    \n",
    "    @cfg_file.setter\n",
    "    def cfg_file(self, cfg_file):\n",
    "        self._cfg_file = file(cfg_file)\n",
    "        # must use the acutal pathlib.Path() object NOT The __str__ or __repr__ functions\n",
    "        # from file class\n",
    "        self.config = self.cfg_file.file\n",
    "\n",
    "    @property\n",
    "    def config(self):\n",
    "        '''configparser.ConfigParser object for managing configuration file\n",
    "        Args:\n",
    "            cfg_file(`str` or `pathlib.Path`): configuration file to parse\n",
    "        Sets:\n",
    "            config(`configparser.ConfigParser`): configuration parser object\n",
    "            config_dict(`dict`): dictionary rpresentation of configuration file'''            \n",
    "        return self._config\n",
    "    \n",
    "    @config.setter\n",
    "    def config(self, cfg_file):\n",
    "        config = configparser.ConfigParser()\n",
    "        config.read(cfg_file)\n",
    "        self._config = config\n",
    "        self.config_dict = self._config_2dict(config)\n",
    "    \n",
    "    \n",
    "        \n",
    "    def _config_2dict(self, configuration):\n",
    "        '''convert an argparse object into a dictionary\n",
    "\n",
    "        Args:\n",
    "            configuration(`configparser.ConfigParser`)\n",
    "\n",
    "        Returns:\n",
    "            `dict`'''\n",
    "        d = {}\n",
    "        for section in configuration.sections():\n",
    "            d[section] = {}\n",
    "            for opt in configuration.options(section):\n",
    "                d[section][opt] = configuration.get(section, opt)\n",
    "\n",
    "        return d"
   ]
  },
  {
   "cell_type": "code",
   "execution_count": 156,
   "metadata": {},
   "outputs": [],
   "source": [
    "c = ConfigFile(cfg_file='./slimpi.cfg')"
   ]
  },
  {
   "cell_type": "code",
   "execution_count": 157,
   "metadata": {},
   "outputs": [
    {
     "data": {
      "text/plain": [
       "['main', 'lms_server', 'layouts', 'logging']"
      ]
     },
     "execution_count": 157,
     "metadata": {},
     "output_type": "execute_result"
    }
   ],
   "source": [
    "c.config.sections()"
   ]
  },
  {
   "cell_type": "code",
   "execution_count": 158,
   "metadata": {},
   "outputs": [
    {
     "data": {
      "text/plain": [
       "{'main': {'splash_screen': 'True'},\n",
       " 'lms_server': {'host': '', 'port': '9000', 'player_id': ''},\n",
       " 'layouts': {'display': 'epd5in83',\n",
       "  'now_playing': 'threeRow',\n",
       "  'stopped': 'clock',\n",
       "  'splash': 'splash'},\n",
       " 'logging': {'log_level': 'INFO'}}"
      ]
     },
     "execution_count": 158,
     "metadata": {},
     "output_type": "execute_result"
    }
   ],
   "source": [
    "c.config_dict"
   ]
  },
  {
   "cell_type": "code",
   "execution_count": 160,
   "metadata": {
    "scrolled": true
   },
   "outputs": [],
   "source": [
    "o = Options(sys.argv)"
   ]
  },
  {
   "cell_type": "code",
   "execution_count": 161,
   "metadata": {},
   "outputs": [],
   "source": [
    "o.add_argument('-p', action='store_true', default=True, help='stuff and things')"
   ]
  },
  {
   "cell_type": "code",
   "execution_count": 162,
   "metadata": {},
   "outputs": [
    {
     "name": "stderr",
     "output_type": "stream",
     "text": [
      "root:_parse_args INFO: discarding unknwon commandline arguments: ['-f', '/Users/aciuffo/Library/Jupyter/runtime/kernel-4a95dcca-2ceb-451b-b15b-d174c64a3ce8.json']\n"
     ]
    },
    {
     "data": {
      "text/plain": [
       "Namespace(p=True)"
      ]
     },
     "execution_count": 162,
     "metadata": {},
     "output_type": "execute_result"
    }
   ],
   "source": [
    "o.options"
   ]
  },
  {
   "cell_type": "code",
   "execution_count": 163,
   "metadata": {},
   "outputs": [
    {
     "name": "stderr",
     "output_type": "stream",
     "text": [
      "root:_parse_args INFO: discarding unknwon commandline arguments: ['-f', '/Users/aciuffo/Library/Jupyter/runtime/kernel-4a95dcca-2ceb-451b-b15b-d174c64a3ce8.json']\n"
     ]
    },
    {
     "data": {
      "text/plain": [
       "{'p': True}"
      ]
     },
     "execution_count": 163,
     "metadata": {},
     "output_type": "execute_result"
    }
   ],
   "source": [
    "o.opts_dict"
   ]
  },
  {
   "cell_type": "markdown",
   "metadata": {},
   "source": [
    "create a \"Default\" configuration object from the builtin config\n",
    "Create a \"user\" configuration based on the user config\n",
    "merge the default and the user overriding the default with the user version\n",
    "merge the command line over the top of everything\n",
    "\n",
    "finally creating a dictionary of options"
   ]
  }
 ],
 "metadata": {
  "kernelspec": {
   "display_name": "slimpi_epd-dHmGVT29",
   "language": "python",
   "name": "slimpi_epd-dhmgvt29"
  },
  "language_info": {
   "codemirror_mode": {
    "name": "ipython",
    "version": 3
   },
   "file_extension": ".py",
   "mimetype": "text/x-python",
   "name": "python",
   "nbconvert_exporter": "python",
   "pygments_lexer": "ipython3",
   "version": "3.8.0"
  }
 },
 "nbformat": 4,
 "nbformat_minor": 2
}
