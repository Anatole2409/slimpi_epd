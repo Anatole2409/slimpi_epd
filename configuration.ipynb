{
 "cells": [
  {
   "cell_type": "code",
   "execution_count": 68,
   "metadata": {},
   "outputs": [],
   "source": [
    "import sys\n",
    "import argparse\n",
    "import configparser\n",
    "from pathlib import Path\n",
    "\n",
    "import logging"
   ]
  },
  {
   "cell_type": "markdown",
   "metadata": {},
   "source": [
    "# see this for inspiration https://github.com/szymonlipinski/examples/blob/master/python_settings/fixed.py"
   ]
  },
  {
   "cell_type": "code",
   "execution_count": 164,
   "metadata": {},
   "outputs": [],
   "source": [
    "logging.basicConfig(level=logging.DEBUG, format='%(name)s:%(funcName)s %(levelname)s: %(message)s')\n",
    "logger = logging.getLogger(__name__)"
   ]
  },
  {
   "cell_type": "code",
   "execution_count": 165,
   "metadata": {},
   "outputs": [],
   "source": [
    "class file():\n",
    "    '''class that creates a pathlib.Path().expanduser().resolve() object from a string\n",
    "    Args:\n",
    "        file(`str`): string representation of a file path'''\n",
    "    def __init__(self, file):\n",
    "        self.file = file\n",
    "        \n",
    "    @property\n",
    "    def file(self):\n",
    "        return self._file\n",
    "    \n",
    "    @file.setter\n",
    "    def file(self, file):\n",
    "        f = Path(file).expanduser().resolve()\n",
    "        if f.exists():\n",
    "            self._file = f\n",
    "            self.parent = f.parent\n",
    "            self.exists = True\n",
    "        else:\n",
    "            logging.warning(f'file does not exist: {f}')\n",
    "            self._file = None\n",
    "            self.parent = None\n",
    "            self.exists = False\n",
    "            \n",
    "    def __repr__(self) -> Path:\n",
    "        return repr(str(self.file))\n",
    "    \n",
    "    def __str__(self):\n",
    "        return(str(self.file))"
   ]
  },
  {
   "cell_type": "code",
   "execution_count": 145,
   "metadata": {},
   "outputs": [],
   "source": [
    "class Options():\n",
    "    '''parse command line options\n",
    "    Args:\n",
    "        args(`list`): sys.argv is typically passed here\n",
    "    Properties:\n",
    "        parser(`argparse.ArgumentParser`): argument parser object\n",
    "        args(`list`): list of arguments\n",
    "        options(NameSpace): argument parser generated namespace of arguments\n",
    "        opts_dict(`dict`): namespace -> dictionary'''\n",
    "    def __init__(self, args):\n",
    "        self.parser = argparse.ArgumentParser()      \n",
    "        self.args = args\n",
    "    \n",
    "    @property\n",
    "    def parser(self):\n",
    "        '''The argparser object'''\n",
    "        return self._parser\n",
    "    \n",
    "    @parser.setter\n",
    "    def parser(self, parser):\n",
    "        if parser:\n",
    "            self._parser = parser\n",
    "    \n",
    "    @property\n",
    "    def options(self):\n",
    "        '''argparser namespace of the parsed arguments'''\n",
    "        try:\n",
    "            return self._options\n",
    "        except AttributeError as e:\n",
    "            self._parse_args()\n",
    "            return self._options\n",
    "\n",
    "    \n",
    "    @options.setter\n",
    "    def options(self, options):\n",
    "        if options:\n",
    "            self._options = options\n",
    "#             self.opts_dict = vars(self.options)\n",
    "        else:\n",
    "            self._options = None\n",
    "    \n",
    "    @property\n",
    "    def opts_dict(self):\n",
    "        '''namespace of dictionary of parsed options'''\n",
    "        self._parse_args()\n",
    "        self._opts_dict = vars(self.options)\n",
    "        return self._opts_dict\n",
    "        \n",
    "    def _parse_args(self):\n",
    "        '''parse known arguments and discard unknown arguments'''\n",
    "        options, unknown = self.parser.parse_known_args()\n",
    "        logging.info(f'discarding unknwon commandline arguments: {unknown}')\n",
    "        self.options = options\n",
    "    \n",
    "    def add_argument(self, *args, **kwargs):\n",
    "        '''add arguments to the parser using standard argparse.ArgumentParser\n",
    "        Args:\n",
    "            *args, **kwargs'''\n",
    "        try:\n",
    "            self.parser.add_argument(*args, **kwargs)\n",
    "        except argparse.ArgumentError as e:\n",
    "            logging.warning(f'failed adding conflicting option {e}')"
   ]
  },
  {
   "cell_type": "code",
   "execution_count": 155,
   "metadata": {},
   "outputs": [],
   "source": [
    "class ConfigFile():\n",
    "    def __init__(self, cfg_file=None):\n",
    "        self.cfg_file = cfg_file\n",
    "    \n",
    "    @property\n",
    "    def cfg_file(self):\n",
    "        '''file() class object for storing resolved file path\n",
    "\n",
    "        Args:\n",
    "            cfg_file(`str` or `pathlib.Path`): path to .INI type configuration file\n",
    "\n",
    "        Sets:\n",
    "            config(`configparser.ConfigParser`): configuration parser object\n",
    "            config_dict(`dict`): dictionary rpresentation of configuration file'''        \n",
    "        return self._cfg_file\n",
    "    \n",
    "    @cfg_file.setter\n",
    "    def cfg_file(self, cfg_file):\n",
    "        self._cfg_file = file(cfg_file)\n",
    "        # must use the acutal pathlib.Path() object NOT The __str__ or __repr__ functions\n",
    "        # from file class\n",
    "        self.config = self.cfg_file.file\n",
    "\n",
    "    @property\n",
    "    def config(self):\n",
    "        '''configparser.ConfigParser object for managing configuration file\n",
    "        Args:\n",
    "            cfg_file(`str` or `pathlib.Path`): configuration file to parse\n",
    "        Sets:\n",
    "            config(`configparser.ConfigParser`): configuration parser object\n",
    "            config_dict(`dict`): dictionary rpresentation of configuration file'''            \n",
    "        return self._config\n",
    "    \n",
    "    @config.setter\n",
    "    def config(self, cfg_file):\n",
    "        config = configparser.ConfigParser()\n",
    "        config.read(cfg_file)\n",
    "        self._config = config\n",
    "        self.config_dict = self._config_2dict(config)\n",
    "    \n",
    "    \n",
    "        \n",
    "    def _config_2dict(self, configuration):\n",
    "        '''convert an argparse object into a dictionary\n",
    "\n",
    "        Args:\n",
    "            configuration(`configparser.ConfigParser`)\n",
    "\n",
    "        Returns:\n",
    "            `dict`'''\n",
    "        d = {}\n",
    "        for section in configuration.sections():\n",
    "            d[section] = {}\n",
    "            for opt in configuration.options(section):\n",
    "                d[section][opt] = configuration.get(section, opt)\n",
    "\n",
    "        return d"
   ]
  },
  {
   "cell_type": "code",
   "execution_count": 234,
   "metadata": {},
   "outputs": [],
   "source": [
    "d = {'foo': 'bar', 'spam': {'snake': 7, 'bear': [9, 9, 9], 'cow': {'name': 'sam', 'age': 4}}}\n",
    "u = {'foo': 'foobar', 'spam': {'bear': [1, 4, 6, 6]}}"
   ]
  },
  {
   "cell_type": "code",
   "execution_count": 238,
   "metadata": {},
   "outputs": [
    {
     "data": {
      "text/plain": [
       "True"
      ]
     },
     "execution_count": 238,
     "metadata": {},
     "output_type": "execute_result"
    }
   ],
   "source": [
    "'foo' in d.keys()"
   ]
  },
  {
   "cell_type": "code",
   "execution_count": 232,
   "metadata": {},
   "outputs": [
    {
     "name": "stdout",
     "output_type": "stream",
     "text": [
      "{'foo': 'bar', 'spam': {'snake': 7, 'bear': [9, 9, 9], 'cow': {'name': 'sam', 'age': 4}}}\n"
     ]
    }
   ],
   "source": [
    "print(d)"
   ]
  },
  {
   "cell_type": "code",
   "execution_count": 233,
   "metadata": {},
   "outputs": [
    {
     "name": "stdout",
     "output_type": "stream",
     "text": [
      "{'foo': {}, 'spam': {'snake': 7, 'bear': [9, 9, 9], 'cow': {'name': 'sam', 'age': 4}}}\n"
     ]
    }
   ],
   "source": [
    "d['foo'] = {}\n",
    "print(d)"
   ]
  },
  {
   "cell_type": "code",
   "execution_count": 192,
   "metadata": {},
   "outputs": [],
   "source": [
    "def merge_config(default_cfg: dict, user_cfg: dict):\n",
    "    merged_cfg = {}\n",
    "    merged_cfg.update(default_cfg)\n",
    "    merged_cfg.update(user_cfg)\n",
    "    \n",
    "    return merged_cfg\n"
   ]
  },
  {
   "cell_type": "code",
   "execution_count": 198,
   "metadata": {},
   "outputs": [],
   "source": [
    "import collections\n",
    "def dict_merge(d_one: dict, d_two: dict):\n",
    "    '''Recursively merge d_one and d_two\n",
    "        key/value pairs in d_two overwrite d_one\n",
    "        Thanks: https://gist.github.com/angstwad/bf22d1822c38a92ec0a9#file-dict_merge-py\n",
    "        \n",
    "    Args:\n",
    "        d_one(`dict`): dictionary one\n",
    "        d_two(`dict`): dictionary two\n",
    "        \n",
    "    Returns:\n",
    "        `dict`: merge of d_one and d_two where d_two overwrites d_one\n",
    "    \n",
    "    '''\n",
    "    for k, v in d_two.items():\n",
    "        if (k in d_one and isinstance(d_one[k], dict)\n",
    "                and isinstance(d_two[k], collections.Mapping)):\n",
    "            dict_merge(d_one[k], d_two[k])\n",
    "        else:\n",
    "            d_one[k] = d_two[k]\n",
    "    return d_one"
   ]
  },
  {
   "cell_type": "code",
   "execution_count": 199,
   "metadata": {},
   "outputs": [
    {
     "data": {
      "text/plain": [
       "{'foo': 'foobar',\n",
       " 'spam': {'snake': 7, 'bear': [1, 4, 6, 6], 'cow': {'name': 'sam', 'age': 4}}}"
      ]
     },
     "execution_count": 199,
     "metadata": {},
     "output_type": "execute_result"
    }
   ],
   "source": [
    "dict_merge(d, u)"
   ]
  },
  {
   "cell_type": "code",
   "execution_count": 178,
   "metadata": {},
   "outputs": [
    {
     "data": {
      "text/plain": [
       "{'foo': 'foobar', 'spam': {'bear': [1, 4, 6, 6]}}"
      ]
     },
     "execution_count": 178,
     "metadata": {},
     "output_type": "execute_result"
    }
   ],
   "source": [
    "merge_config(d, u)"
   ]
  },
  {
   "cell_type": "code",
   "execution_count": 156,
   "metadata": {},
   "outputs": [],
   "source": [
    "c = ConfigFile(cfg_file='./slimpi.cfg')"
   ]
  },
  {
   "cell_type": "code",
   "execution_count": 157,
   "metadata": {},
   "outputs": [
    {
     "data": {
      "text/plain": [
       "['main', 'lms_server', 'layouts', 'logging']"
      ]
     },
     "execution_count": 157,
     "metadata": {},
     "output_type": "execute_result"
    }
   ],
   "source": [
    "c.config.sections()"
   ]
  },
  {
   "cell_type": "code",
   "execution_count": 158,
   "metadata": {},
   "outputs": [
    {
     "data": {
      "text/plain": [
       "{'main': {'splash_screen': 'True'},\n",
       " 'lms_server': {'host': '', 'port': '9000', 'player_id': ''},\n",
       " 'layouts': {'display': 'epd5in83',\n",
       "  'now_playing': 'threeRow',\n",
       "  'stopped': 'clock',\n",
       "  'splash': 'splash'},\n",
       " 'logging': {'log_level': 'INFO'}}"
      ]
     },
     "execution_count": 158,
     "metadata": {},
     "output_type": "execute_result"
    }
   ],
   "source": [
    "c.config_dict"
   ]
  },
  {
   "cell_type": "code",
   "execution_count": 214,
   "metadata": {
    "scrolled": true
   },
   "outputs": [],
   "source": [
    "o = Options(sys.argv)"
   ]
  },
  {
   "cell_type": "code",
   "execution_count": 215,
   "metadata": {},
   "outputs": [],
   "source": [
    "o.add_argument('-l', '--log-level', dest='logging__log_level', action='store', \n",
    "               default='WARNING', choices=['DEBUG', 'INFO', 'WARNING', 'ERROR'])"
   ]
  },
  {
   "cell_type": "code",
   "execution_count": 216,
   "metadata": {},
   "outputs": [],
   "source": [
    "o.add_argument('-p', dest='main__pop', action='store_true', default=True, help='stuff and things', )"
   ]
  },
  {
   "cell_type": "code",
   "execution_count": 227,
   "metadata": {},
   "outputs": [
    {
     "data": {
      "text/plain": [
       "{'logging__log_level': 'WARNING', 'main__pop': True}"
      ]
     },
     "execution_count": 227,
     "metadata": {},
     "output_type": "execute_result"
    }
   ],
   "source": [
    "vars(o.options)"
   ]
  },
  {
   "cell_type": "code",
   "execution_count": 226,
   "metadata": {},
   "outputs": [
    {
     "name": "stdout",
     "output_type": "stream",
     "text": [
      "logging\n",
      "log_level\n",
      "main\n",
      "pop\n"
     ]
    }
   ],
   "source": [
    "for key in vars(o.options):\n",
    "    match = re.search('(\\w+)__(\\w+)', key)\n",
    "    print(match.group(1))\n",
    "    print(match.group(2))"
   ]
  },
  {
   "cell_type": "code",
   "execution_count": 240,
   "metadata": {},
   "outputs": [],
   "source": [
    "import re\n",
    "def _nested_opts_dict(opts):\n",
    "    d = {}\n",
    "    options = vars(opts)\n",
    "    for key in options.keys():\n",
    "        match = re.search('(\\w+)__(\\w+)', key)\n",
    "        section = match.group(1)\n",
    "        option = match.group(2)\n",
    "        if key not in d.keys():\n",
    "            d[key] = {}\n",
    "        \n",
    "        d[key][option] = options[key]\n",
    "    return d"
   ]
  },
  {
   "cell_type": "code",
   "execution_count": 241,
   "metadata": {},
   "outputs": [
    {
     "ename": "AttributeError",
     "evalue": "'NoneType' object has no attribute 'group'",
     "output_type": "error",
     "traceback": [
      "\u001b[0;31m---------------------------------------------------------------------------\u001b[0m",
      "\u001b[0;31mAttributeError\u001b[0m                            Traceback (most recent call last)",
      "\u001b[0;32m<ipython-input-241-714b29d84aa4>\u001b[0m in \u001b[0;36m<module>\u001b[0;34m\u001b[0m\n\u001b[0;32m----> 1\u001b[0;31m \u001b[0m_nested_opts_dict\u001b[0m\u001b[0;34m(\u001b[0m\u001b[0mo\u001b[0m\u001b[0;34m)\u001b[0m\u001b[0;34m\u001b[0m\u001b[0;34m\u001b[0m\u001b[0m\n\u001b[0m",
      "\u001b[0;32m<ipython-input-240-027d5788f2b2>\u001b[0m in \u001b[0;36m_nested_opts_dict\u001b[0;34m(opts)\u001b[0m\n\u001b[1;32m      5\u001b[0m     \u001b[0;32mfor\u001b[0m \u001b[0mkey\u001b[0m \u001b[0;32min\u001b[0m \u001b[0moptions\u001b[0m\u001b[0;34m.\u001b[0m\u001b[0mkeys\u001b[0m\u001b[0;34m(\u001b[0m\u001b[0;34m)\u001b[0m\u001b[0;34m:\u001b[0m\u001b[0;34m\u001b[0m\u001b[0;34m\u001b[0m\u001b[0m\n\u001b[1;32m      6\u001b[0m         \u001b[0mmatch\u001b[0m \u001b[0;34m=\u001b[0m \u001b[0mre\u001b[0m\u001b[0;34m.\u001b[0m\u001b[0msearch\u001b[0m\u001b[0;34m(\u001b[0m\u001b[0;34m'(\\w+)__(\\w+)'\u001b[0m\u001b[0;34m,\u001b[0m \u001b[0mkey\u001b[0m\u001b[0;34m)\u001b[0m\u001b[0;34m\u001b[0m\u001b[0;34m\u001b[0m\u001b[0m\n\u001b[0;32m----> 7\u001b[0;31m         \u001b[0msection\u001b[0m \u001b[0;34m=\u001b[0m \u001b[0mmatch\u001b[0m\u001b[0;34m.\u001b[0m\u001b[0mgroup\u001b[0m\u001b[0;34m(\u001b[0m\u001b[0;36m1\u001b[0m\u001b[0;34m)\u001b[0m\u001b[0;34m\u001b[0m\u001b[0;34m\u001b[0m\u001b[0m\n\u001b[0m\u001b[1;32m      8\u001b[0m         \u001b[0moption\u001b[0m \u001b[0;34m=\u001b[0m \u001b[0mmatch\u001b[0m\u001b[0;34m.\u001b[0m\u001b[0mgroup\u001b[0m\u001b[0;34m(\u001b[0m\u001b[0;36m2\u001b[0m\u001b[0;34m)\u001b[0m\u001b[0;34m\u001b[0m\u001b[0;34m\u001b[0m\u001b[0m\n\u001b[1;32m      9\u001b[0m         \u001b[0;32mif\u001b[0m \u001b[0mkey\u001b[0m \u001b[0;32mnot\u001b[0m \u001b[0;32min\u001b[0m \u001b[0md\u001b[0m\u001b[0;34m.\u001b[0m\u001b[0mkeys\u001b[0m\u001b[0;34m(\u001b[0m\u001b[0;34m)\u001b[0m\u001b[0;34m:\u001b[0m\u001b[0;34m\u001b[0m\u001b[0;34m\u001b[0m\u001b[0m\n",
      "\u001b[0;31mAttributeError\u001b[0m: 'NoneType' object has no attribute 'group'"
     ]
    }
   ],
   "source": [
    "_nested_opts_dict(o)"
   ]
  },
  {
   "cell_type": "code",
   "execution_count": 218,
   "metadata": {},
   "outputs": [
    {
     "name": "stderr",
     "output_type": "stream",
     "text": [
      "root:_parse_args INFO: discarding unknwon commandline arguments: ['-f', '/Users/aciuffo/Library/Jupyter/runtime/kernel-4a95dcca-2ceb-451b-b15b-d174c64a3ce8.json']\n"
     ]
    },
    {
     "data": {
      "text/plain": [
       "{'logging__log_level': 'WARNING', 'main__pop': True}"
      ]
     },
     "execution_count": 218,
     "metadata": {},
     "output_type": "execute_result"
    }
   ],
   "source": [
    "o.opts_dict"
   ]
  },
  {
   "cell_type": "markdown",
   "metadata": {},
   "source": [
    "create a \"Default\" configuration object from the builtin config\n",
    "Create a \"user\" configuration based on the user config\n",
    "merge the default and the user overriding the default with the user version\n",
    "merge the command line over the top of everything\n",
    "\n",
    "finally creating a dictionary of options"
   ]
  }
 ],
 "metadata": {
  "kernelspec": {
   "display_name": "slimpi_epd-dHmGVT29",
   "language": "python",
   "name": "slimpi_epd-dhmgvt29"
  },
  "language_info": {
   "codemirror_mode": {
    "name": "ipython",
    "version": 3
   },
   "file_extension": ".py",
   "mimetype": "text/x-python",
   "name": "python",
   "nbconvert_exporter": "python",
   "pygments_lexer": "ipython3",
   "version": "3.8.0"
  }
 },
 "nbformat": 4,
 "nbformat_minor": 2
}
