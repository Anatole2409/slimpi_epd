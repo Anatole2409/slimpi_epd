{
 "cells": [
  {
   "cell_type": "markdown",
   "metadata": {},
   "source": [
    "## Building SlimPi\n",
    "To build an executable package suitable for installing SlimPi requires several Debian development packages as well as several python libraries. See below for specifics.\n",
    "\n",
    "### Quick and Dirty Build\n",
    "The `build.sh` script will attempt to check the build environment and suggest any missing Debian packages. The next step is to build a virtualenv using pipenv. The final step is to create an executable package using pyinstaller. See below for more detailed requirements.\n",
    "-  run: `./build.sh`\n",
    "\n",
    "### Build Requirements\n",
    "- System Software\n",
    "    * python3 \n",
    "        `apt-get install python3`\n",
    "    * pip\n",
    "        `apt-get install python3-pip`\n",
    "    * pipevn\n",
    "        - `pip3 install pipenv`\n",
    "    * RPi.GPIO python libraries - pipenv chokes on the '.' characters in the name\n",
    "        - `pip3 install RPi.GPIO`\n",
    "- System Libraries\n",
    "    * `libtiff5-dev, libopenjp2-7-dev`\n",
    "        * install with `sudo apt-get install libtiff5-dev libopenjp2-7-dev`\n",
    "- Python Libraires from PyPi:\n",
    "    * `Pillow, cachepath, ratelimiter, lmsquery-fork, spidev`\n",
    "    *  Install with pipenv:\n",
    "        - `pipenv --three; pipenv sync` \n",
    "            - This will create a virtual environment and install the appropriate packages and dependencies        \n",
    "            - NOTE: `RPi.GPIO` must be added to Pipfile by and and quotated: `\"RPi.GPIO\" = \"*\" `\n",
    "\n",
    "### Building SlimPi\n",
    "- Create a runnable package using PyInstaller\n",
    "    * PyInstaller must be run within the virtual environment:\n",
    "        * `pipenv run pyinstaller --clean "
   ]
  },
  {
   "cell_type": "code",
   "execution_count": 2,
   "metadata": {},
   "outputs": [
    {
     "name": "stdout",
     "output_type": "stream",
     "text": [
      "[NbConvertApp] Converting notebook Building.ipynb to markdown\r\n"
     ]
    }
   ],
   "source": [
    "%alias mdconvert mdconvert Building.ipynb\n",
    "%mdconvert"
   ]
  },
  {
   "cell_type": "code",
   "execution_count": null,
   "metadata": {},
   "outputs": [],
   "source": []
  }
 ],
 "metadata": {
  "kernelspec": {
   "display_name": "slimpi_epd-b1Rf9la8",
   "language": "python",
   "name": "slimpi_epd-b1rf9la8"
  },
  "language_info": {
   "codemirror_mode": {
    "name": "ipython",
    "version": 3
   },
   "file_extension": ".py",
   "mimetype": "text/x-python",
   "name": "python",
   "nbconvert_exporter": "python",
   "pygments_lexer": "ipython3",
   "version": "3.7.3"
  }
 },
 "nbformat": 4,
 "nbformat_minor": 4
}
