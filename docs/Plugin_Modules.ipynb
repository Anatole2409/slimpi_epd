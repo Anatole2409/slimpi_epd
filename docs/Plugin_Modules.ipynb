{
 "cells": [
  {
   "cell_type": "markdown",
   "metadata": {},
   "source": [
    "## Plugin Modules\n",
    "Slimpi supports plugin modules that will display when the music is paused. \n",
    "\n",
    "Two plugins are included:\n",
    "**Word Clock** (default)\n",
    "\n",
    "<img width=\"200\" src=\"./SlimPi_wordclock.png\">\n",
    "\n",
    "\n",
    "**Clock**\n",
    "\n",
    "<img width=\"200\" src=\"./SlimPi_clock.png\">\n",
    "\n",
    "Plugins can be changed by specify the name of the plugin in `slimpi.cfg` under the `clock = ` heading. The plugin will be updated at the rate of `clock_update` seconds. The update rate should be at least double the refresh rete of the e-Paper pannel to prevent constant flickering refreshes.\n",
    "\n",
    "\n",
    "### Additional Plugins\n",
    "Additional plugins can be added to the Pluins folder. Plugins must include a function `update()` which expects exactly 0 parameters. `update()` must return a dictionary that may include strings, paths to image files or PIL.Image objects.\n",
    "\n",
    "Additional modules pulls on github are encouraged and welcome!\n",
    "\n",
    "A layout that uses the keys returned by the function `update()` must be added to the `layouts.py` (see layouts section above).\n",
    "\n",
    "SlimPi must be rebuilt if plugins use any python modules other than those listed in `Pipfile`. \n",
    "\n",
    "**Note**: PyInstlaler will likely fail to find any additional modules specified in a plugin; these will need to be specified using the `hiddenimports=[]` setting in `slimpi.spec` when building.\n",
    "\n",
    "#### Example Module and Layout\n",
    "```\n",
    "# weather.py\n",
    "def get_weather_image()\n",
    "    ...\n",
    "    # fetch a weather image and cache locally\n",
    "    \n",
    "    ...\n",
    "    return \"/path/to/image\"\n",
    "\n",
    "def get_temperature()\n",
    "    ...\n",
    "    # fetch temperature and store as temperature_as_string\n",
    "    ...\n",
    "    return temperature_as_string\n",
    "\n",
    "def update()\n",
    "    image = get_weather_image()\n",
    "    temperature = get_temperature()\n",
    "    return {'weather_image': image,\n",
    "            'weather_temp: temperature_as_string}\n",
    "```\n",
    "\n",
    "```\n",
    "# layouts.py\n",
    "weather = {\n",
    "    'weather_image':\n",
    "            {'image': True,\n",
    "             'max_lines': None,\n",
    "             'padding': 10,\n",
    "             'width': 1/5,\n",
    "             'height': 1,\n",
    "             'abs_coordinates': (0, 0),\n",
    "             'hcenter': True,\n",
    "             'vcenter': True,\n",
    "             'relative': False,\n",
    "             'font': None,\n",
    "             'font_size': None},    \n",
    "    'weather_temp':\n",
    "            {'image': None,\n",
    "             'max_lines': 1,\n",
    "             'padding': 10,\n",
    "             'width': 1/3,\n",
    "             'height': 1,\n",
    "             'abs_coordinates': (0, 0),\n",
    "             'hcenter': True,\n",
    "             'vcenter': True,\n",
    "             'relative': False,\n",
    "             'font': './fonts/Anton/Anton-Regular.ttf',\n",
    "             'font_size': None},\n",
    "```\n",
    "    "
   ]
  },
  {
   "cell_type": "code",
   "execution_count": 2,
   "metadata": {},
   "outputs": [
    {
     "name": "stdout",
     "output_type": "stream",
     "text": [
      "[NbConvertApp] WARNING | pattern 'Pulugin_Modules.ipynb' matched no files\r\n"
     ]
    }
   ],
   "source": [
    "%alias mdconvert mdconvert Pulugin_Modules.ipynb\n",
    "%mdconvert"
   ]
  },
  {
   "cell_type": "code",
   "execution_count": null,
   "metadata": {},
   "outputs": [],
   "source": []
  }
 ],
 "metadata": {
  "kernelspec": {
   "display_name": "slimpi_epd-b1Rf9la8",
   "language": "python",
   "name": "slimpi_epd-b1rf9la8"
  },
  "language_info": {
   "codemirror_mode": {
    "name": "ipython",
    "version": 3
   },
   "file_extension": ".py",
   "mimetype": "text/x-python",
   "name": "python",
   "nbconvert_exporter": "python",
   "pygments_lexer": "ipython3",
   "version": "3.7.3"
  }
 },
 "nbformat": 4,
 "nbformat_minor": 4
}
