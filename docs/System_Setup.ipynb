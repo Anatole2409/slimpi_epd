{
 "cells": [
  {
   "cell_type": "markdown",
   "metadata": {},
   "source": [
    "## System Setup\n",
    "SlimPi and the WaveShare display requries that SPI is enabled on the Raspberry Pi and the user running SlimPi is a member of the GPIO and SPI groups\n",
    "* Enable SPI\n",
    "    * `sudo raspi-config` Interfacing Options > SPI > Would you Like the SPI interface to be enabled > Yes\n",
    "* `usermod -a -G spi,gpio <current user>`\n",
    "\n",
    "### Configure HiFiBerry *(optional)*\n",
    "A HiFiBerry DAC+ or similar can be used for audio output. HiFiBerry has a [great guide for configuring Linux 4 kernels](https://www.hifiberry.com/docs/software/configuring-linux-3-18-x/)\n",
    "\n",
    "#### Quick and Dirty Configuration\n",
    "1. Disable onboard sound in `/boot/config.txt` \n",
    "    * `#dtparam=audio=on`\n",
    "2. Load deviced tree overlay for HiFiBerry in `/boot/config.txt`\n",
    "    * `dtoverlay=hifiberry-dacplus`\n",
    "3. Configure ALSA output *(optional)*\n",
    "    * Check that there is not a conflicing `.asound.conf` file in `~/`\n",
    "    * Create `/etc/asound.conf` and include the following:\n",
    "    ```\n",
    "    pcm.!default {\n",
    "    type hw card 0\n",
    "    }\n",
    "    ctl.!default {\n",
    "    type hw card 0\n",
    "    }\n",
    "    ```\n",
    "    \n",
    "### Install and Configure Squeeze Lite *(optional)*\n",
    "Squeezelite is a light-weight headless Squeezebox LMS player that works well with a HiFiBerry.\n",
    "\n",
    "* Install squeezelite package: `$ sudo apt-get install squeezelite`\n",
    "* Squeezelite uses the hostname as its default name to change the name do one of the following:\n",
    "    * Change the hostname:\n",
    "        1. `$ raspi-config` Network Options > Hostname\n",
    "        2. Edit `/etc/default/squeezelite` and edit `SL_NAME=YOUR_NAME_HERE`\n",
    "    * Additional squeezelite arguments such as resampling rates can be passed here as well - for a complete list see `man squeezelite`"
   ]
  },
  {
   "cell_type": "code",
   "execution_count": 3,
   "metadata": {},
   "outputs": [
    {
     "name": "stdout",
     "output_type": "stream",
     "text": [
      "[NbConvertApp] Converting notebook System_Setup.ipynb to markdown\r\n"
     ]
    }
   ],
   "source": [
    "%alias mdconvert mdconvert System_Setup.ipynb\n",
    "%mdconvert"
   ]
  },
  {
   "cell_type": "code",
   "execution_count": null,
   "metadata": {},
   "outputs": [],
   "source": []
  }
 ],
 "metadata": {
  "kernelspec": {
   "display_name": "slimpi_epd-b1Rf9la8",
   "language": "python",
   "name": "slimpi_epd-b1rf9la8"
  },
  "language_info": {
   "codemirror_mode": {
    "name": "ipython",
    "version": 3
   },
   "file_extension": ".py",
   "mimetype": "text/x-python",
   "name": "python",
   "nbconvert_exporter": "python",
   "pygments_lexer": "ipython3",
   "version": "3.7.3"
  }
 },
 "nbformat": 4,
 "nbformat_minor": 4
}
