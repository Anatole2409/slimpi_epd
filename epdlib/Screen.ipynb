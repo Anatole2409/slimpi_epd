{
 "cells": [
  {
   "cell_type": "code",
   "execution_count": 1,
   "metadata": {},
   "outputs": [],
   "source": [
    "%alias nbconvert nbconvert ./Screen.ipynb"
   ]
  },
  {
   "cell_type": "code",
   "execution_count": 10,
   "metadata": {},
   "outputs": [
    {
     "name": "stdout",
     "output_type": "stream",
     "text": [
      "[NbConvertApp] Converting notebook ./Screen.ipynb to python\r\n"
     ]
    }
   ],
   "source": [
    "%nbconvert"
   ]
  },
  {
   "cell_type": "code",
   "execution_count": 7,
   "metadata": {},
   "outputs": [],
   "source": [
    "import logging\n",
    "from PIL import Image, ImageDraw, ImageFont"
   ]
  },
  {
   "cell_type": "code",
   "execution_count": 8,
   "metadata": {},
   "outputs": [],
   "source": [
    "class Screen:\n",
    "    '''Class for interfacting with WaveShare EPD screens.\n",
    "    \n",
    "    `Screen` creates an object that provides methods for assembling images\n",
    "    and updating a WaveShare EPD.\n",
    "    \n",
    "    Attributes:\n",
    "        resolution (:obj:`tuple` of :obj: `int`): resolution of EPD\n",
    "        elements (:obj:`list` of :obj:`ImageBlock` or `TextBlock`): images to be assembled\n",
    "        image (:obj:`PIL.Image`): composite image to be written to screen\n",
    "        epd (:obj:`waveshare.epd`): waveshare EPD object \n",
    "    '''\n",
    "    def __init__(self, resolution=(600, 448), elements=[], epd=None):\n",
    "        '''Constructor for Screen class.\n",
    "        \n",
    "        Args:\n",
    "            resolution (:obj:`tuple` of :obj: `int`): resolution of EPD\n",
    "            elements (:obj:`list` of :obj:`ImageBlock` or `TextBlock`): images to be assembled\n",
    "            image (:obj:`PIL.Image`): composite image to be written to screen\n",
    "            epd (:obj:`waveshare.epd`): waveshare EPD object'''\n",
    "        self.resolution = resolution\n",
    "        self.elements = elements\n",
    "        self.image = self.clearScreen()\n",
    "        self.epd = epd\n",
    "        \n",
    "    def clearScreen(self):\n",
    "        '''Sets a clean base image for building screen layout.\n",
    "        \n",
    "        Returns:\n",
    "            :obj:PIL.Image\n",
    "        '''\n",
    "        image = Image.new('L', self.resolution, 255)\n",
    "        return image\n",
    "    \n",
    "    def concat(self, elements=None):\n",
    "        '''Concatenate multiple image objects into a single composite image\n",
    "        \n",
    "        Args:\n",
    "            elements (:obj:`list` of :obj:`ImageBlock` or `TextBlock`) - if none are\n",
    "                provided, use the existing elements\n",
    "                \n",
    "        Sets:\n",
    "            image (:obj:`PIL.Image`): composite of all members of `elements`\n",
    "            \n",
    "        Returns:\n",
    "            image (:obj:`PIL.Image`)\n",
    "        '''\n",
    "        self.image = self.clearScreen()\n",
    "        if elements:\n",
    "            elements = elements\n",
    "        else:\n",
    "            elements = self.elements\n",
    "            \n",
    "        for e in elements:\n",
    "            logging.debug(f'pasing image at: {e.img_coordinates}')\n",
    "            self.image.paste(e.image,  e.img_coordinates)\n",
    "        return(self.image)\n",
    "    \n",
    "    def initEPD(self):\n",
    "        '''Initialize the connection with the EPD Hat.\n",
    "        \n",
    "        Returns:\n",
    "            bool: True if successful\n",
    "        '''\n",
    "        if not self.epd:\n",
    "            raise UnboundLocalError('no epd object has been assigned')\n",
    "        try:\n",
    "            self.epd.init()\n",
    "        except Exception as e:\n",
    "            logging.error(f'failed to init epd: {e}')\n",
    "        return True\n",
    "    \n",
    "    def clearEPD(self):\n",
    "        '''Clear the EPD screen.\n",
    "        \n",
    "        Raises:\n",
    "            UnboundLocalError: no EPD has been intialized\n",
    "        \n",
    "        Returns:\n",
    "            bool: True if successful'''\n",
    "        if not self.epd:\n",
    "            raise UnboundLocalError('no epd object has been assigned')\n",
    "        try:\n",
    "            self.epd.Clear();\n",
    "        except Exception as e:\n",
    "            logging.error(f'failed to clear epd: {e}')\n",
    "        return True\n",
    "    \n",
    "    def writeEPD(self, image=None, sleep=True):\n",
    "        '''Write an image to the EPD.\n",
    "        \n",
    "        Args:\n",
    "            image (:obj:`PIL.Image`, optional): if none is provided use object `image`\n",
    "            sleep (bool): default - True; put the EPD to low power mode when done writing\n",
    "            \n",
    "        Returns:\n",
    "            bool: True if successful\n",
    "        '''\n",
    "        epd = self.epd\n",
    "        if not self.epd:\n",
    "            raise UnboundLocalError('no epd object has been assigned')\n",
    "        try:\n",
    "            epd.display(epd.getbuffer(self.image))\n",
    "            if sleep:\n",
    "                epd.sleep()\n",
    "        except Exception as e:\n",
    "            logging.error(f'failed to write to epd: {e}')\n",
    "            return False\n",
    "        return True\n",
    "        "
   ]
  }
 ],
 "metadata": {
  "kernelspec": {
   "display_name": "slimpi_epd-b1Rf9la8",
   "language": "python",
   "name": "slimpi_epd-b1rf9la8"
  },
  "language_info": {
   "codemirror_mode": {
    "name": "ipython",
    "version": 3
   },
   "file_extension": ".py",
   "mimetype": "text/x-python",
   "name": "python",
   "nbconvert_exporter": "python",
   "pygments_lexer": "ipython3",
   "version": "3.7.3"
  }
 },
 "nbformat": 4,
 "nbformat_minor": 2
}
