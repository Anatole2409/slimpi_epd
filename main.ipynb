{
 "cells": [
  {
   "cell_type": "code",
   "execution_count": 105,
   "metadata": {},
   "outputs": [
    {
     "name": "stdout",
     "output_type": "stream",
     "text": [
      "The autoreload extension is already loaded. To reload it, use:\n",
      "  %reload_ext autoreload\n"
     ]
    }
   ],
   "source": [
    "%load_ext autoreload\n",
    "%autoreload 2"
   ]
  },
  {
   "cell_type": "code",
   "execution_count": 128,
   "metadata": {},
   "outputs": [],
   "source": [
    "%reload_ext autoreload"
   ]
  },
  {
   "cell_type": "code",
   "execution_count": 129,
   "metadata": {},
   "outputs": [],
   "source": [
    "import logging\n",
    "import logging.config\n",
    "import configparser\n",
    "import os\n",
    "import time\n",
    "from pathlib import Path\n",
    "import signal\n",
    "from cachepath import CachePath, TempPath, Path\n",
    "import requests\n",
    "import shutil\n",
    "\n",
    "\n",
    "\n",
    "import lmsquery\n",
    "from waveshare_epd import epd5in83"
   ]
  },
  {
   "cell_type": "code",
   "execution_count": 130,
   "metadata": {},
   "outputs": [],
   "source": [
    "import cfg\n",
    "import epdlib"
   ]
  },
  {
   "cell_type": "code",
   "execution_count": 87,
   "metadata": {},
   "outputs": [],
   "source": [
    "# this works best as a global variable\n",
    "logConfig = Path(cfg.LOGCONFIG)\n",
    "logging.config.fileConfig(logConfig.absolute())\n",
    "# logging.basicConfig(level=logging.DEBUG, format='%(asctime)s %(name)s %(levelname)s: %(message)s')\n",
    "\n",
    "logger = logging.getLogger(__name__)"
   ]
  },
  {
   "cell_type": "code",
   "execution_count": 101,
   "metadata": {},
   "outputs": [],
   "source": [
    "logging.getLogger().setLevel(logging.DEBUG)"
   ]
  },
  {
   "cell_type": "code",
   "execution_count": 46,
   "metadata": {},
   "outputs": [],
   "source": [
    "appShortName = 'slimpi'\n",
    "name = 'com.txoof.'\n",
    "appLongName = name+appShortName"
   ]
  },
  {
   "cell_type": "code",
   "execution_count": 47,
   "metadata": {},
   "outputs": [],
   "source": [
    "def configuration(configFile=None):\n",
    "    \n",
    "    configDefaults = cfg.CONFIGDEFAULTS\n",
    "    \n",
    "    if not configFile:\n",
    "         configFile = Path(cfg.CONFIGFILE)\n",
    "\n",
    "    config = configparser.ConfigParser()\n",
    "    logger.info(f'reading configuration: {configFile}')\n",
    "    config.read(configFile)\n",
    "    \n",
    "    try:\n",
    "        for section in configDefaults:\n",
    "            if section not in config.sections():\n",
    "                logger.debug(f'adding section: {section}')\n",
    "                config.add_section(section)\n",
    "            \n",
    "            for option in configDefaults[section]:\n",
    "                if not config.has_option(section, option):\n",
    "                    logger.debug(f'missing option: {option}')\n",
    "                    logger.debug(f'setting {option} to: {configDefaults[section][option]}')\n",
    "                    config[section][option] = str(configDefaults[section][option])\n",
    "            with open(configFile, 'w') as file:\n",
    "                config.write(file)\n",
    "    \n",
    "    except Exception as e:\n",
    "        logging.exception(f'exception on configuration file: {e}')\n",
    "        raise\n",
    "    \n",
    "    logger.debug(f'config file contains sections: {config.sections()}')\n",
    "    return config"
   ]
  },
  {
   "cell_type": "code",
   "execution_count": 48,
   "metadata": {},
   "outputs": [],
   "source": [
    "def query(lms, last=0, delay=7):\n",
    "    '''query the player only when a specified delay has passed\n",
    "    Accepts:\n",
    "        last: float - last time query was called\n",
    "\n",
    "    Returns:\n",
    "        tuple(last, lms.now_playing()\n",
    "    '''\n",
    "    if last==0:\n",
    "        last = time.clock_gettime(time.CLOCK_MONOTONIC)-delay\n",
    "\n",
    "    if time.clock_gettime(time.CLOCK_MONOTONIC) > last+delay:\n",
    "        return time.clock_gettime(time.CLOCK_MONOTONIC), lms.now_playing()\n",
    "\n",
    "    else:\n",
    "        return last, None"
   ]
  },
  {
   "cell_type": "code",
   "execution_count": 49,
   "metadata": {},
   "outputs": [],
   "source": [
    "def cacheArt(query={}):\n",
    "    if not query:\n",
    "        return None\n",
    "    \n",
    "    cachePath = CachePath(appLongName, dir=True)\n",
    "    required = ['artwork_url', 'album_id'] \n",
    "    missing = []\n",
    "    \n",
    "    for key in required:\n",
    "        if not key in query:\n",
    "            missing.append(key)\n",
    "    if missing:\n",
    "        logger.warning(f'required value(s) in `query` missing: {missing}')\n",
    "        return None\n",
    "    \n",
    "    albumArtFile = cachePath/(query['album_id']+'.jpg')\n",
    "    \n",
    "    # check if file already exists in cache\n",
    "    if albumArtFile.exists():\n",
    "        logging.debug(f'album artwork already downloaded at: {albumArtFile}')\n",
    "        return albumArtFile\n",
    "    \n",
    "    r = False\n",
    "    albumArtURL = query['artwork_url']\n",
    "    \n",
    "    # try to fetch the album art\n",
    "    try:\n",
    "        r = requests.get(albumArtURL, stream=True)\n",
    "    except requests.exceptions.RequestException as e:\n",
    "        logging.error(f'failed to fetch artwork at {albumArtURL}: {e}')\n",
    "        \n",
    "    if r:\n",
    "        try:\n",
    "            with open(albumArtFile, 'wb') as outFile:\n",
    "                shutil.copyfileobj(r.raw, outFile)\n",
    "                logging.debug(f'wrote album art to: {albumArtFile}')\n",
    "        except (OSError, FileExistsError, ValueError) as e:\n",
    "            logging.error(f'failed to write {albumArtFile}: {e}')\n",
    "    else:\n",
    "        logging.error('skipping download of album artwork due to previous errors')\n",
    "\n",
    "    return albumArtFile\n",
    "    "
   ]
  },
  {
   "cell_type": "code",
   "execution_count": 50,
   "metadata": {},
   "outputs": [],
   "source": [
    "class signalHandler(object):\n",
    "    '''handle specific signals and allow graceful exiting while loop\n",
    "    https://stackoverflow.com/a/31464349/5530152\n",
    "    \n",
    "    Signals Handled Gracefully:\n",
    "        SIGINT\n",
    "        SIGTERM\n",
    "    Atributes:\n",
    "        kill_now (bool) default: False\n",
    "    '''\n",
    "    kill_now = False\n",
    "    def __init__(self):\n",
    "        signal.signal(signal.SIGINT, self.exit_gracefully)\n",
    "        signal.signal(signal.SIGTERM, self.exit_gracefully)\n",
    "    \n",
    "    def exit_gracefully(self, signum, frame):\n",
    "        self.kill_now = True"
   ]
  },
  {
   "cell_type": "code",
   "execution_count": 51,
   "metadata": {},
   "outputs": [],
   "source": [
    "def main():\n",
    "    '''main entry point\n",
    "    '''   \n",
    "    logger.setLevel(logging.DEBUG)\n",
    "    logger.info('Starting program')\n",
    "    config = configuration()\n",
    "    # scan for lms server and use the first one (this may be a terrible idea for other people)\n",
    "#     lmsServer = lmsquery.scanLMS()[0]\n",
    "    \n",
    "    # define LMS query object\n",
    "#     lms = lmsquery.LMSQuery(lmsServer['host'], lmsServer['port'], config.get('server', 'player'))\n",
    "    lms = lmsquery.LMSQuery(player_id=config.get('server', 'player'))\n",
    "    \n",
    "    screen = epdlib.Screen()\n",
    "    screen.epd = epd5in83.EPD()\n",
    "    screen.initEPD()\n",
    "#     screen.clearEPD()\n",
    "    layout = epdlib.Layout(layout=epdlib.layouts.threeRow)\n",
    "    layout.update_contents(query(lms, 0)[1])\n",
    "    screen.initEPD()\n",
    "    screen.elements=layout.blocks.values()\n",
    "#     screen.concat()\n",
    "#     screen.writeEPD()    \n",
    "    \n",
    "    \n",
    "    sigHandler = signalHandler()\n",
    "    \n",
    "    # last update\n",
    "    updated = 0\n",
    "    # id of currently playing track\n",
    "    nowPlayingID = None\n",
    "    # status of player \n",
    "    nowPlayingMode = None\n",
    "\n",
    "    # now playing fields to display\n",
    "    fields = ['title', 'album', 'artist', 'mode', 'artwork_url']\n",
    "    \n",
    "    \n",
    "    print(f'pid: {os.getpid()}')\n",
    "    try:\n",
    "        while not sigHandler.kill_now:\n",
    "            # add some try: around this\n",
    "            updated, value = query(lms=lms, last=updated, delay=3)\n",
    "            \n",
    "            response = value\n",
    "            \n",
    "            # if there's a response, check to see if display needs an update\n",
    "            if response: \n",
    "                # if the album ID changed the player state changed, update the display\n",
    "                if response['id'] != nowPlayingID or response['mode'] != nowPlayingMode:\n",
    "                    \n",
    "                    albumArt = cacheArt(response)\n",
    "                    \n",
    "                    if not albumArt:\n",
    "                        albumArt = cfg.NOIMAGE\n",
    "                        \n",
    "                    value['coverart'] = str(albumArt)\n",
    "                    \n",
    "                    layout.update_contents(value)\n",
    "                    screen.initEPD()\n",
    "                    screen.elements=layout.blocks.values()\n",
    "                    screen.concat()\n",
    "                    screen.writeEPD()                      \n",
    "                    \n",
    "                    nowPlayingID = response['id']\n",
    "                    nowPlayingMode = response['mode']\n",
    "                    for field in fields:\n",
    "                        print(f'{field}: {response[field]}')\n",
    "                    print('\\n')\n",
    "            time.sleep(0.5)\n",
    "    finally:\n",
    "        print(\"cleaning up\")\n",
    "        screen.initEPD()\n",
    "        screen.clearEPD()\n",
    "        return layout    "
   ]
  },
  {
   "cell_type": "code",
   "execution_count": 75,
   "metadata": {},
   "outputs": [
    {
     "name": "stdout",
     "output_type": "stream",
     "text": [
      "Layout:__init__:92:INFO - create layout\n",
      "Layout:_calculate_layout:222:INFO - ***title***\n",
      "Layout:_calculate_layout:222:INFO - ***coverart***\n",
      "Layout:_calculate_layout:222:INFO - ***artist***\n",
      "Layout:_calculate_layout:222:INFO - ***album***\n",
      "Layout:_calculate_layout:222:INFO - ***mode***\n",
      "Block:__init__:221:INFO - create TextBlock\n",
      "Block:__init__:142:INFO - create ImageBlock\n",
      "Block:__init__:221:INFO - create TextBlock\n",
      "Block:__init__:221:INFO - create TextBlock\n",
      "Block:__init__:221:INFO - create TextBlock\n",
      "pid: 707\n",
      "title: Sinking\n",
      "album: The Head on the Door\n",
      "artist: The Cure\n",
      "mode: play\n",
      "artwork_url: http://192.168.178.9:9000/music/27ac4369/cover.jpg\n",
      "\n",
      "\n",
      "title: Mountain Cry\n",
      "album: Travelers & Thieves\n",
      "artist: Blues Traveler\n",
      "mode: play\n",
      "artwork_url: http://192.168.178.9:9000/music/6793ecf0/cover.jpg\n",
      "\n",
      "\n",
      "<ipython-input-49-8dcb301e2ede>:cacheArt:40:ERROR - skipping download of album artwork due to previous errors\n",
      "Block:image:167:WARNING - could not open image at /tmp/com.txoof.slimpi/5563.jpg\n",
      "Block:image:168:WARNING - setting to blank 1x1 image\n",
      "title: Air You a Hypnotist? (Doom x The Flaming Lips)\n",
      "album: Мишка Presents Trillwave\n",
      "artist: The Hood Internet\n",
      "mode: play\n",
      "artwork_url: http://192.168.178.9:9000/music/949b20b5/cover.jpg\n",
      "\n",
      "\n",
      "title: Comfortable Up Here\n",
      "album: The Mixtape, Volume Four\n",
      "artist: Lil Wayne feat. Babyface vs. RÃ¶yksopp\n",
      "mode: play\n",
      "artwork_url: http://192.168.178.9:9000/music/0e30b932/cover.jpg\n",
      "\n",
      "\n",
      "title: Smile\n",
      "album: Alright, Still\n",
      "artist: Lily Allen\n",
      "mode: play\n",
      "artwork_url: http://192.168.178.9:9000/music/60411ccb/cover.jpg\n",
      "\n",
      "\n",
      "title: A-Punk\n",
      "album: Vampire Weekend\n",
      "artist: Vampire Weekend\n",
      "mode: play\n",
      "artwork_url: http://192.168.178.9:9000/music/b312d8f1/cover.jpg\n",
      "\n",
      "\n",
      "title: America (feat. Mos Def & Chali 2na)\n",
      "album: Troubadour\n",
      "artist: K'naan\n",
      "mode: play\n",
      "artwork_url: http://192.168.178.9:9000/music/21a2f9ed/cover.jpg\n",
      "\n",
      "\n",
      "title: Smokin' Banana Peels\n",
      "album: Chaos Rules: Live at the Trocadero\n",
      "artist: The Dead Milkmen\n",
      "mode: play\n",
      "artwork_url: http://192.168.178.9:9000/music/1c3e60dc/cover.jpg\n",
      "\n",
      "\n",
      "title: Nightswimming\n",
      "album: In Time: The Best of R.E.M. 1988-2003\n",
      "artist: R.E.M.\n",
      "mode: play\n",
      "artwork_url: http://192.168.178.9:9000/music/6022c9a9/cover.jpg\n",
      "\n",
      "\n",
      "title: Thieves in the Temple\n",
      "album: The Very Best of Prince\n",
      "artist: Prince\n",
      "mode: play\n",
      "artwork_url: http://192.168.178.9:9000/music/f1fcaa8b/cover.jpg\n",
      "\n",
      "\n",
      "title: You Asked The Listener Question Hotline\n",
      "album: Planet Money\n",
      "artist: podcasts\n",
      "mode: play\n",
      "artwork_url: http://192.168.178.9:9000/music/0/cover.jpg\n",
      "\n",
      "\n",
      "title: Lavender Hill\n",
      "album: The Kinks Are the Village Green Preservation Society\n",
      "artist: The Kinks\n",
      "mode: play\n",
      "artwork_url: http://192.168.178.9:9000/music/83edb261/cover.jpg\n",
      "\n",
      "\n",
      "title: Russian Lullaby\n",
      "album: Jerry Garcia / David Grisman\n",
      "artist: Jerry Garcia & David Grisman\n",
      "mode: play\n",
      "artwork_url: http://192.168.178.9:9000/music/f6dc7858/cover.jpg\n",
      "\n",
      "\n",
      "title: All the Same\n",
      "album: Weightless in Water\n",
      "artist: Strangefolk\n",
      "mode: play\n",
      "artwork_url: http://192.168.178.9:9000/music/d27e3d43/cover.jpg\n",
      "\n",
      "\n",
      "cleaning up\n"
     ]
    }
   ],
   "source": [
    "if __name__ == '__main__':\n",
    "    \n",
    "    foo = main()"
   ]
  },
  {
   "cell_type": "code",
   "execution_count": 53,
   "metadata": {},
   "outputs": [
    {
     "data": {
      "text/plain": [
       "True"
      ]
     },
     "execution_count": 53,
     "metadata": {},
     "output_type": "execute_result"
    }
   ],
   "source": [
    "    sc = epdlib.Screen()\n",
    "    sc.epd = epd5in83.EPD()\n",
    "    sc.initEPD()\n",
    "    sc.clearEPD()"
   ]
  },
  {
   "cell_type": "code",
   "execution_count": 131,
   "metadata": {},
   "outputs": [
    {
     "name": "stdout",
     "output_type": "stream",
     "text": [
      "Layout:__init__:92:INFO - create layout\n",
      "Layout:layout:192:DEBUG - calculating values from layout for resolution (600, 448)\n",
      "Layout:_calculate_layout:222:INFO - ***time***\n",
      "Layout:_check_keys:109:DEBUG - checking key/values\n",
      "Layout:_check_keys:114:DEBUG - missing key: dimensions; adding and setting to None\n",
      "Layout:_calculate_layout:229:DEBUG - dimensions: (600, 392)\n",
      "Layout:_calculate_layout:258:DEBUG - has explict position\n",
      "Layout:_calculate_layout:260:DEBUG - abs_coordinates: (0, 0)\n",
      "Layout:_scalefont:135:DEBUG - calculating font size\n",
      "Layout:_scalefont:136:DEBUG - using font at path: /home/pi/src/slimpi_epd/fonts/Ubuntu/Ubuntu-Regular.ttf\n",
      "Layout:_scalefont:148:DEBUG - target X font dimension 510.0\n",
      "Layout:_scalefont:149:DEBUG - target Y dimension: 274.4\n",
      "Layout:_scalefont:162:DEBUG - X target exceeded\n",
      "Layout:_scalefont:178:DEBUG - test string: W W W ; dimensions for fontsize 146: (513, 137)\n",
      "Layout:_calculate_layout:222:INFO - ***mode***\n",
      "Layout:_check_keys:109:DEBUG - checking key/values\n",
      "Layout:_check_keys:114:DEBUG - missing key: dimensions; adding and setting to None\n",
      "Layout:_calculate_layout:229:DEBUG - dimensions: (600, 49)\n",
      "Layout:_calculate_layout:239:DEBUG - has calculated position\n",
      "Layout:_calculate_layout:260:DEBUG - abs_coordinates: (0, 0)\n",
      "Layout:_scalefont:135:DEBUG - calculating font size\n",
      "Layout:_scalefont:136:DEBUG - using font at path: /home/pi/src/slimpi_epd/fonts/Ubuntu/Ubuntu-Regular.ttf\n",
      "Layout:_scalefont:148:DEBUG - target X font dimension 510.0\n",
      "Layout:_scalefont:149:DEBUG - target Y dimension: 34.3\n",
      "Layout:_scalefont:166:DEBUG - Y target exceeded\n",
      "Layout:_scalefont:178:DEBUG - test string: W W W ; dimensions for fontsize 36: (129, 35)\n",
      "Layout:_calculate_layout:222:INFO - ***bar***\n",
      "Layout:_check_keys:109:DEBUG - checking key/values\n",
      "Layout:_check_keys:114:DEBUG - missing key: rand; adding and setting to False\n",
      "Layout:_check_keys:114:DEBUG - missing key: dimensions; adding and setting to None\n",
      "Layout:_calculate_layout:229:DEBUG - dimensions: (600, 7)\n",
      "Layout:_calculate_layout:239:DEBUG - has calculated position\n",
      "Layout:_calculate_layout:260:DEBUG - abs_coordinates: (0, 0)\n",
      "Layout:_set_images:287:DEBUG - ***time***)\n",
      "Layout:_set_images:291:DEBUG - set text block\n",
      "Block:area:79:DEBUG - maximum area: (600, 392)\n",
      "Block:abs_coordinates:96:DEBUG - absolute coordinates: (0, 0)\n",
      "Block:__init__:222:INFO - create TextBlock\n",
      "Block:maxchar:281:DEBUG - maximum characters per line: 7\n",
      "Block:text_formatter:324:DEBUG - formatted list:\n",
      " ['.']\n",
      "Block:_text2image:341:DEBUG - random is set: True\n",
      "Block:_text2image:354:DEBUG - text image dimensions: (36, 139)\n",
      "Block:_text2image:375:DEBUG - setting random position within area\n",
      "Layout:_set_images:287:DEBUG - ***mode***)\n",
      "Layout:_set_images:291:DEBUG - set text block\n",
      "Block:area:79:DEBUG - maximum area: (600, 49)\n",
      "Block:abs_coordinates:96:DEBUG - absolute coordinates: (0, 392)\n",
      "Block:__init__:222:INFO - create TextBlock\n",
      "Block:maxchar:281:DEBUG - maximum characters per line: 30\n",
      "Block:text_formatter:324:DEBUG - formatted list:\n",
      " ['.']\n",
      "Block:_text2image:341:DEBUG - random is set: True\n",
      "Block:_text2image:354:DEBUG - text image dimensions: (9, 34)\n",
      "Block:_text2image:375:DEBUG - setting random position within area\n",
      "Layout:_set_images:287:DEBUG - ***bar***)\n",
      "Layout:_set_images:297:DEBUG - set image block\n",
      "Block:area:79:DEBUG - maximum area: (600, 7)\n",
      "Block:abs_coordinates:96:DEBUG - absolute coordinates: (0, 441)\n",
      "Block:__init__:143:INFO - create ImageBlock\n",
      "Block:image:156:DEBUG - setting empty 1x1 image\n"
     ]
    }
   ],
   "source": [
    "tl = epdlib.Layout(layout=epdlib.layouts.clock)"
   ]
  },
  {
   "cell_type": "code",
   "execution_count": 110,
   "metadata": {},
   "outputs": [],
   "source": [
    "from PIL import Image"
   ]
  },
  {
   "cell_type": "code",
   "execution_count": 132,
   "metadata": {},
   "outputs": [],
   "source": [
    "i = Image.new('1', (600, 7), color=0)"
   ]
  },
  {
   "cell_type": "code",
   "execution_count": 147,
   "metadata": {},
   "outputs": [
    {
     "name": "stdout",
     "output_type": "stream",
     "text": [
      "Layout:update_contents:312:DEBUG - updating blocks\n",
      "Layout:update_contents:318:DEBUG - updating block: time\n",
      "Block:text_formatter:324:DEBUG - formatted list:\n",
      " ['20:40']\n",
      "Block:_text2image:341:DEBUG - random is set: True\n",
      "Block:_text2image:354:DEBUG - text image dimensions: (364, 139)\n",
      "Block:_text2image:375:DEBUG - setting random position within area\n",
      "Layout:update_contents:318:DEBUG - updating block: mode\n",
      "Block:text_formatter:324:DEBUG - formatted list:\n",
      " ['stopped']\n",
      "Block:_text2image:341:DEBUG - random is set: True\n",
      "Block:_text2image:354:DEBUG - text image dimensions: (134, 41)\n",
      "Block:_text2image:375:DEBUG - setting random position within area\n",
      "Layout:update_contents:318:DEBUG - updating block: bar\n",
      "Block:image:160:DEBUG - formatting image: <PIL.Image.Image image mode=1 size=600x7 at 0xAFE745F0>\n",
      "Block:image:162:DEBUG - set image dimensions: 7\n",
      "Block:image:173:DEBUG - using passed image\n",
      "Block:image:176:DEBUG - resizing image\n",
      "Block:image:193:DEBUG - set img_coordinates: (0, 441)\n"
     ]
    }
   ],
   "source": [
    "upd = {'time': '20:40', 'mode': 'stopped', 'bar': i}\n",
    "tl.update_contents(upd)"
   ]
  },
  {
   "cell_type": "code",
   "execution_count": 148,
   "metadata": {},
   "outputs": [],
   "source": [
    "sc.elements = tl.blocks.values()"
   ]
  },
  {
   "cell_type": "code",
   "execution_count": 149,
   "metadata": {},
   "outputs": [
    {
     "name": "stdout",
     "output_type": "stream",
     "text": [
      "Screen:concat:88:DEBUG - pasting image at: (0, 0)\n",
      "Screen:concat:88:DEBUG - pasting image at: (0, 392)\n",
      "Screen:concat:88:DEBUG - pasting image at: (0, 441)\n"
     ]
    },
    {
     "data": {
      "image/png": "[encoded data removed]",
      "text/plain": [
       "<PIL.Image.Image image mode=L size=600x448 at 0xB0002B70>"
      ]
     },
     "execution_count": 149,
     "metadata": {},
     "output_type": "execute_result"
    }
   ],
   "source": [
    "sc.concat()"
   ]
  },
  {
   "cell_type": "code",
   "execution_count": 150,
   "metadata": {},
   "outputs": [
    {
     "name": "stdout",
     "output_type": "stream",
     "text": [
      "epd5in83:ReadBusy:69:DEBUG - e-Paper busy\n",
      "epd5in83:ReadBusy:72:DEBUG - e-Paper busy release\n",
      "epd5in83:getbuffer:128:DEBUG - imwidth = 600  imheight =  448 \n",
      "epd5in83:ReadBusy:69:DEBUG - e-Paper busy\n",
      "epd5in83:ReadBusy:72:DEBUG - e-Paper busy release\n",
      "epd5in83:ReadBusy:69:DEBUG - e-Paper busy\n",
      "epd5in83:ReadBusy:72:DEBUG - e-Paper busy release\n",
      "epdconfig:module_exit:80:DEBUG - spi end\n",
      "epdconfig:module_exit:83:DEBUG - close 5V, Module enters 0 power consumption ...\n"
     ]
    },
    {
     "data": {
      "text/plain": [
       "True"
      ]
     },
     "execution_count": 150,
     "metadata": {},
     "output_type": "execute_result"
    }
   ],
   "source": [
    "sc.initEPD()\n",
    "sc.writeEPD()"
   ]
  },
  {
   "cell_type": "code",
   "execution_count": 97,
   "metadata": {},
   "outputs": [],
   "source": [
    "import datetime"
   ]
  },
  {
   "cell_type": "code",
   "execution_count": 63,
   "metadata": {},
   "outputs": [
    {
     "name": "stdout",
     "output_type": "stream",
     "text": [
      "Layout:__init__:92:INFO - create layout\n",
      "Layout:layout:194:INFO - no layout provided\n"
     ]
    }
   ],
   "source": [
    "l = epdlib.Layout(resolution=(600, 392))"
   ]
  },
  {
   "cell_type": "code",
   "execution_count": 64,
   "metadata": {},
   "outputs": [
    {
     "data": {
      "text/plain": [
       "146"
      ]
     },
     "execution_count": 64,
     "metadata": {},
     "output_type": "execute_result"
    }
   ],
   "source": [
    "l._scalefont(font='./fonts/Ubuntu/Ubuntu-Regular.ttf', dimensions=(600,392))"
   ]
  },
  {
   "cell_type": "code",
   "execution_count": 65,
   "metadata": {},
   "outputs": [
    {
     "name": "stdout",
     "output_type": "stream",
     "text": [
      "Block:__init__:221:INFO - create TextBlock\n"
     ]
    }
   ],
   "source": [
    "b = epdlib.Block.TextBlock(font='./fonts/Ubuntu/Ubuntu-Regular.ttf', font_size=87, area=(600, 392))"
   ]
  },
  {
   "cell_type": "code",
   "execution_count": 66,
   "metadata": {},
   "outputs": [
    {
     "name": "stdout",
     "output_type": "stream",
     "text": [
      "Help on TextBlock in module epdlib.Block object:\n",
      "\n",
      "class TextBlock(Block)\n",
      " |  TextBlock(text=' ', font=None, font_size=24, max_lines=1, maxchar=None, chardist=None, *args, **kwargs)\n",
      " |  \n",
      " |  Method resolution order:\n",
      " |      TextBlock\n",
      " |      Block\n",
      " |      builtins.object\n",
      " |  \n",
      " |  Methods defined here:\n",
      " |  \n",
      " |  __init__(self, text=' ', font=None, font_size=24, max_lines=1, maxchar=None, chardist=None, *args, **kwargs)\n",
      " |      Constructor for ImageBlock Class.\n",
      " |      \n",
      " |      Args:\n",
      " |          image (PIL.Image): Image to be formatted and resized to fit within\n",
      " |              area\n",
      " |          area (:obj:`tuple` of :obj: `int`): x, y integer dimensions of \n",
      " |              maximum area in pixles\n",
      " |          abs_coordinates (:obj:`tuple` of `int`): x, y integer coordinates of image area\n",
      " |              within a larger image\n",
      " |          hcenter (boolean, optional): True - horizontal-align image within the area, \n",
      " |              False - left-align image\n",
      " |          vcenter (boolean, optional): True - vertical-align image within the area,\n",
      " |              False - top-align image            rand (boolean, optional): True - ignore vcenter, hcenter choose random position for\n",
      " |              image within area\n",
      " |          padding (int, optional): amount of padding between resized image and edge of area\n",
      " |  \n",
      " |  text_formatter(self, text=None, max_lines=None, maxchar=None)\n",
      " |      format text using word-wrap strategies. \n",
      " |      \n",
      " |      Formatting is based on number of lines, area size and maximum characters per line\n",
      " |      \n",
      " |      Args:\n",
      " |          text (str): raw text\n",
      " |          maxchar (int): maximum number of characters on each line\n",
      " |          max_lines (int): maximum number of lines\n",
      " |          \n",
      " |      Returns:\n",
      " |          :obj:`list` of :obj:`str`\n",
      " |  \n",
      " |  update(self, update=None)\n",
      " |      update function the object with the incoming data.\n",
      " |      \n",
      " |      Method is used by other class objects to update all image blocks \n",
      " |      \n",
      " |      Args:\n",
      " |          update (str): path to image file\n",
      " |              \n",
      " |      Returns:\n",
      " |          bool: True upon success\n",
      " |  \n",
      " |  ----------------------------------------------------------------------\n",
      " |  Data descriptors defined here:\n",
      " |  \n",
      " |  maxchar\n",
      " |      int: maximum number of characters per line - if no value \n",
      " |              is provided, this will be calculated\n",
      " |      \n",
      " |      If no value is provided, a random string of characters is generated based on the\n",
      " |      frequency tables: `chardist`. The default distribution is American English. \n",
      " |      Based on this string the maximum number of characters for a given font and font size.\n",
      " |  \n",
      " |  text\n",
      " |      :obj:`str`: raw text to be formatted.\n",
      " |      \n",
      " |      setting or resetting this property will also set the following attributes\n",
      " |          text (str): unformatted raw text\n",
      " |          text_formatted (list): of (str): wrapped text\n",
      " |          image (:obj:`PIL.Image`): image based on wrapped and formatted text\n",
      " |          img_coordinates (:obj:`tuple` of :obj:`int`): coordinates of text image adjusted \n",
      " |              for size of textblock\n",
      " |  \n",
      " |  ----------------------------------------------------------------------\n",
      " |  Data descriptors inherited from Block:\n",
      " |  \n",
      " |  __dict__\n",
      " |      dictionary for instance variables (if defined)\n",
      " |  \n",
      " |  __weakref__\n",
      " |      list of weak references to the object (if defined)\n",
      " |  \n",
      " |  abs_coordinates\n",
      " |      :obj:`tuple` of :obj:`int`: absolute_coordinates of area within larger image.\n",
      " |      \n",
      " |      Setting `abs_coordinates` atomatically sets `img_coordinates` to the same value.\n",
      " |  \n",
      " |  area\n",
      " |      :obj:`tuple` of :obj:`int`: maximum area of imageblock\n",
      "\n"
     ]
    }
   ],
   "source": [
    "help(b)"
   ]
  },
  {
   "cell_type": "code",
   "execution_count": 67,
   "metadata": {},
   "outputs": [],
   "source": [
    "t = datetime.datetime.now().time()\n",
    "timeStr = f'{t.hour}:{t.minute}'"
   ]
  },
  {
   "cell_type": "code",
   "execution_count": null,
   "metadata": {},
   "outputs": [],
   "source": []
  }
 ],
 "metadata": {
  "kernelspec": {
   "display_name": "slimpi_epd-b1Rf9la8",
   "language": "python",
   "name": "slimpi_epd-b1rf9la8"
  },
  "language_info": {
   "codemirror_mode": {
    "name": "ipython",
    "version": 3
   },
   "file_extension": ".py",
   "mimetype": "text/x-python",
   "name": "python",
   "nbconvert_exporter": "python",
   "pygments_lexer": "ipython3",
   "version": "3.7.3"
  }
 },
 "nbformat": 4,
 "nbformat_minor": 2
}
