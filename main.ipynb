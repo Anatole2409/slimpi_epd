{
 "cells": [
  {
   "cell_type": "code",
   "execution_count": 2,
   "metadata": {},
   "outputs": [
    {
     "name": "stdout",
     "output_type": "stream",
     "text": [
      "The autoreload extension is already loaded. To reload it, use:\n",
      "  %reload_ext autoreload\n"
     ]
    }
   ],
   "source": [
    "%load_ext autoreload\n",
    "%autoreload 2"
   ]
  },
  {
   "cell_type": "code",
   "execution_count": 7,
   "metadata": {},
   "outputs": [],
   "source": [
    "%reload_ext autoreload"
   ]
  },
  {
   "cell_type": "code",
   "execution_count": 21,
   "metadata": {},
   "outputs": [],
   "source": [
    "import logging\n",
    "import logging.config\n",
    "import configparser\n",
    "import os\n",
    "import time\n",
    "from pathlib import Path\n",
    "import signal\n",
    "\n",
    "import lmsquery\n",
    "from waveshare_epd import epd5in83"
   ]
  },
  {
   "cell_type": "code",
   "execution_count": null,
   "metadata": {},
   "outputs": [],
   "source": []
  },
  {
   "cell_type": "code",
   "execution_count": 8,
   "metadata": {},
   "outputs": [],
   "source": [
    "import cfg\n",
    "from epdlib import *"
   ]
  },
  {
   "cell_type": "code",
   "execution_count": 9,
   "metadata": {},
   "outputs": [],
   "source": [
    "# this works best as a global variable\n",
    "logConfig = Path(cfg.LOGCONFIG)\n",
    "logging.config.fileConfig(logConfig.absolute())\n",
    "# logging.basicConfig(level=logging.DEBUG, format='%(asctime)s %(name)s %(levelname)s: %(message)s')\n",
    "\n",
    "logger = logging.getLogger(__name__)"
   ]
  },
  {
   "cell_type": "code",
   "execution_count": 11,
   "metadata": {},
   "outputs": [],
   "source": [
    "def configuration(configFile=None):\n",
    "    \n",
    "    configDefaults = cfg.CONFIGDEFAULTS\n",
    "    \n",
    "    if not configFile:\n",
    "         configFile = Path(cfg.CONFIGFILE)\n",
    "\n",
    "    config = configparser.ConfigParser()\n",
    "    logger.info(f'reading configuration: {configFile}')\n",
    "    config.read(configFile)\n",
    "    \n",
    "    try:\n",
    "        for section in configDefaults:\n",
    "            if section not in config.sections():\n",
    "                logger.debug(f'adding section: {section}')\n",
    "                config.add_section(section)\n",
    "            \n",
    "            for option in configDefaults[section]:\n",
    "                if not config.has_option(section, option):\n",
    "                    logger.debug(f'missing option: {option}')\n",
    "                    logger.debug(f'setting {option} to: {configDefaults[section][option]}')\n",
    "                    config[section][option] = str(configDefaults[section][option])\n",
    "            with open(configFile, 'w') as file:\n",
    "                config.write(file)\n",
    "    \n",
    "    except Exception as e:\n",
    "        logging.exception(f'exception on configuration file: {e}')\n",
    "        raise\n",
    "    \n",
    "    logger.debug(f'config file contains sections: {config.sections()}')\n",
    "    return config"
   ]
  },
  {
   "cell_type": "code",
   "execution_count": 15,
   "metadata": {},
   "outputs": [],
   "source": [
    "def query(lms, last=0, delay=7):\n",
    "    '''query the player only when a specified delay has passed\n",
    "    Accepts:\n",
    "        last: float - last time query was called\n",
    "\n",
    "    Returns:\n",
    "        tuple(last, lms.now_playing()\n",
    "    '''\n",
    "    if last==0:\n",
    "        last = time.clock_gettime(time.CLOCK_MONOTONIC)-delay\n",
    "\n",
    "    if time.clock_gettime(time.CLOCK_MONOTONIC) > last+delay:\n",
    "        return time.clock_gettime(time.CLOCK_MONOTONIC), lms.now_playing()\n",
    "\n",
    "    else:\n",
    "        return last, None"
   ]
  },
  {
   "cell_type": "code",
   "execution_count": 16,
   "metadata": {},
   "outputs": [],
   "source": [
    "class signalHandler(object):\n",
    "    '''handle specific signals and allow graceful exiting while loop\n",
    "    https://stackoverflow.com/a/31464349/5530152\n",
    "    \n",
    "    Signals Handled Gracefully:\n",
    "        SIGINT\n",
    "        SIGTERM\n",
    "    Atributes:\n",
    "        kill_now (bool) default: False\n",
    "    '''\n",
    "    kill_now = False\n",
    "    def __init__(self):\n",
    "        signal.signal(signal.SIGINT, self.exit_gracefully)\n",
    "        signal.signal(signal.SIGTERM, self.exit_gracefully)\n",
    "    \n",
    "    def exit_gracefully(self, signum, frame):\n",
    "        self.kill_now = True"
   ]
  },
  {
   "cell_type": "code",
   "execution_count": 22,
   "metadata": {},
   "outputs": [],
   "source": [
    "def main():\n",
    "    '''main entry point\n",
    "    '''   \n",
    "    logger.setLevel(logging.DEBUG)\n",
    "    logger.info('Starting program')\n",
    "    config = configuration()\n",
    "    # scan for lms server and use the first one (this may be a terrible idea for other people)\n",
    "#     lmsServer = lmsquery.scanLMS()[0]\n",
    "    \n",
    "    # define LMS query object\n",
    "#     lms = lmsquery.LMSQuery(lmsServer['host'], lmsServer['port'], config.get('server', 'player'))\n",
    "    lms = lmsquery.LMSQuery(player_id=config.get('server', 'player'))\n",
    "    \n",
    "    \n",
    "    sigHandler = signalHandler()\n",
    "    \n",
    "    # last update\n",
    "    updated = 0\n",
    "    # id of currently playing track\n",
    "    nowPlayingID = None\n",
    "    # status of player \n",
    "    nowPlayingMode = None\n",
    "\n",
    "    # now playing fields to display\n",
    "    fields = ['title', 'album', 'artist', 'mode']\n",
    "    \n",
    "    \n",
    "    print(f'pid: {os.getpid()}')\n",
    "    try:\n",
    "        while not sigHandler.kill_now:\n",
    "            updated, value = query(lms, updated)\n",
    "            response = value\n",
    "            if response:\n",
    "                if response['id'] != nowPlayingID or response['mode'] != nowPlayingMode:\n",
    "                    nowPlayingID = response['id']\n",
    "                    nowPlayingMode = response['mode']\n",
    "                    for field in fields:\n",
    "                        print(f'{field}: {response[field]}')\n",
    "                    print('\\n')\n",
    "            time.sleep(0.5)\n",
    "    finally:\n",
    "        print(\"cleaning up\")\n",
    "    "
   ]
  },
  {
   "cell_type": "code",
   "execution_count": null,
   "metadata": {},
   "outputs": [
    {
     "name": "stdout",
     "output_type": "stream",
     "text": [
      "__main__         5:     INFO - Starting program\n",
      "__main__         9:     INFO - reading configuration: servercfg.ini\n",
      "__main__         30:     DEBUG - config file contains sections: ['server', 'screen']\n",
      "pid: 1553\n",
      "title: Ease Your Feet in the Sea\n",
      "album: The Boy With the Arab Strap\n",
      "artist: Belle and Sebastian\n",
      "mode: stop\n",
      "\n",
      "\n",
      "title: Diplomat's Son\n",
      "album: Contra\n",
      "artist: Vampire Weekend\n",
      "mode: play\n",
      "\n",
      "\n",
      "title: Diplomat's Son\n",
      "album: Contra\n",
      "artist: Vampire Weekend\n",
      "mode: pause\n",
      "\n",
      "\n",
      "title: #607: Didn't We Solve This One?\n",
      "album: This American Life\n",
      "artist: This American Life\n",
      "mode: play\n",
      "\n",
      "\n",
      "title: #607: Didn't We Solve This One?\n",
      "album: This American Life\n",
      "artist: This American Life\n",
      "mode: pause\n",
      "\n",
      "\n",
      "title: Diplomat's Son\n",
      "album: Contra\n",
      "artist: Vampire Weekend\n",
      "mode: play\n",
      "\n",
      "\n",
      "title: Diplomat's Son\n",
      "album: Contra\n",
      "artist: Vampire Weekend\n",
      "mode: pause\n",
      "\n",
      "\n",
      "title: California English\n",
      "album: Contra\n",
      "artist: Vampire Weekend\n",
      "mode: play\n",
      "\n",
      "\n",
      "title: Diplomat's Son\n",
      "album: Contra\n",
      "artist: Vampire Weekend\n",
      "mode: play\n",
      "\n",
      "\n"
     ]
    }
   ],
   "source": [
    "if __name__ == '__main__':\n",
    "    \n",
    "    foo = main()"
   ]
  },
  {
   "cell_type": "code",
   "execution_count": null,
   "metadata": {},
   "outputs": [],
   "source": [
    "l = Layout(layout=layouts.threeRow)\n",
    "l.set_images()"
   ]
  },
  {
   "cell_type": "code",
   "execution_count": null,
   "metadata": {},
   "outputs": [],
   "source": []
  },
  {
   "cell_type": "code",
   "execution_count": null,
   "metadata": {},
   "outputs": [],
   "source": [
    "uA = {'title': \"Steam Engine\",\n",
    "      'artist': \"My Morning Jacket\",\n",
    "      'album': \"It Still Moves\",\n",
    "      'status': \"Playing\",\n",
    "      'coverart': \"./cover.jpg\"}\n",
    "uB = {'title': \"This Tornado Loves You\",\n",
    "      'artist': \"Neko Case\",\n",
    "      'album': \"Middle Cyclone\",\n",
    "      'status': \"Paused\",\n",
    "      'coverart': \"./ozo_cover.jpg\"}\n"
   ]
  },
  {
   "cell_type": "code",
   "execution_count": null,
   "metadata": {},
   "outputs": [],
   "source": [
    "e = epd5in83.EPD()\n",
    "s = Screen()\n",
    "s.epd = e\n",
    "s.initEPD()"
   ]
  },
  {
   "cell_type": "code",
   "execution_count": null,
   "metadata": {},
   "outputs": [],
   "source": [
    "l.update_contents(uA)"
   ]
  },
  {
   "cell_type": "code",
   "execution_count": null,
   "metadata": {},
   "outputs": [],
   "source": [
    "s.elements=l.blocks.values()\n",
    "s.concat()\n",
    "s.writeEPD()"
   ]
  },
  {
   "cell_type": "code",
   "execution_count": null,
   "metadata": {},
   "outputs": [],
   "source": [
    "s.initEPD()\n",
    "s.clearEPD()"
   ]
  }
 ],
 "metadata": {
  "kernelspec": {
   "display_name": "slimpi_epd-b1Rf9la8",
   "language": "python",
   "name": "slimpi_epd-b1rf9la8"
  },
  "language_info": {
   "codemirror_mode": {
    "name": "ipython",
    "version": 3
   },
   "file_extension": ".py",
   "mimetype": "text/x-python",
   "name": "python",
   "nbconvert_exporter": "python",
   "pygments_lexer": "ipython3",
   "version": "3.7.3"
  }
 },
 "nbformat": 4,
 "nbformat_minor": 2
}
