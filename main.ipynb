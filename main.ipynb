{
 "cells": [
  {
   "cell_type": "code",
   "execution_count": 1,
   "metadata": {},
   "outputs": [],
   "source": [
    "%load_ext autoreload\n",
    "%autoreload 2"
   ]
  },
  {
   "cell_type": "code",
   "execution_count": 2,
   "metadata": {},
   "outputs": [],
   "source": [
    "%reload_ext autoreload"
   ]
  },
  {
   "cell_type": "code",
   "execution_count": 3,
   "metadata": {},
   "outputs": [],
   "source": [
    "import logging\n",
    "import logging.config\n",
    "import configparser\n",
    "import os\n",
    "\n",
    "from pathlib import Path\n",
    "\n",
    "# handle kill signals gracefully\n",
    "import signal\n",
    "\n",
    "# create a cache path to hold downloade album art\n",
    "from cachepath import CachePath, TempPath, Path\n",
    "\n",
    "# requests for downloading album art from remote\n",
    "import requests\n",
    "from requests import exceptions as rqExcept\n",
    "\n",
    "# write out the requests file-like-object\n",
    "import shutil\n",
    "\n",
    "# clock \n",
    "from datetime import datetime\n",
    "# loop delay - sleep\n",
    "import time\n",
    "\n",
    "# rate limit the queries on the LMS server\n",
    "from ratelimiter import RateLimiter\n",
    "\n",
    "# parse commandline arguments\n",
    "import argparse\n",
    "\n",
    "import lmsquery\n",
    "from waveshare_epd import epd5in83"
   ]
  },
  {
   "cell_type": "code",
   "execution_count": 4,
   "metadata": {},
   "outputs": [],
   "source": [
    "import cfg\n",
    "import epdlib"
   ]
  },
  {
   "cell_type": "code",
   "execution_count": 5,
   "metadata": {},
   "outputs": [],
   "source": [
    "# this works best as a global variable\n",
    "logConfig = Path(cfg.LOGCONFIG)\n",
    "logging.config.fileConfig(logConfig.absolute())\n",
    "# logging.basicConfig(level=logging.DEBUG, format='%(asctime)s %(name)s %(levelname)s: %(message)s')\n",
    "\n",
    "logger = logging.getLogger(__name__)"
   ]
  },
  {
   "cell_type": "code",
   "execution_count": 6,
   "metadata": {},
   "outputs": [],
   "source": [
    "# logging.getLogger().setLevel(logging.DEBUG)\n",
    "logging.getLogger().setLevel(logging.INFO)"
   ]
  },
  {
   "cell_type": "code",
   "execution_count": 7,
   "metadata": {},
   "outputs": [],
   "source": [
    "appShortName = 'slimpi'\n",
    "name = 'com.txoof.'\n",
    "appLongName = name+appShortName "
   ]
  },
  {
   "cell_type": "code",
   "execution_count": 8,
   "metadata": {},
   "outputs": [],
   "source": [
    "def read_config(cfgfile=None, required={}):\n",
    "    if not cfgfile:\n",
    "        return {}\n",
    "    \n",
    "    config = configparser.ConfigParser()\n",
    "    logging.info(f'reading config file {cfgfile}')\n",
    "    config.read(cfgfile)\n",
    "    \n",
    "    try:\n",
    "        for section in required:\n",
    "            if section not in config.sections():\n",
    "                logging.debug(f'adding missing section: {section}')\n",
    "                config.add_section(section)\n",
    "        \n",
    "            for option in required[section]:\n",
    "                if not config.has_option(section, option):\n",
    "                    logger.debug(f'adding missing option: {option}')\n",
    "                    config[section][option] = str(required[section][option])\n",
    "            with open(cfgfile, 'w') as file:\n",
    "                config.write(file)\n",
    "    except Exception as e:\n",
    "        logging.exception(f'exception while writing config file: {e}')\n",
    "        raise\n",
    "    \n",
    "    return config"
   ]
  },
  {
   "cell_type": "code",
   "execution_count": 9,
   "metadata": {},
   "outputs": [],
   "source": [
    "def configuration(configFile=None):    \n",
    "    \n",
    "    # FIXME this is a terrible idea\n",
    "    configDefaults = cfg.CONFIGDEFAULTS\n",
    "    \n",
    "    if not configFile:\n",
    "         configFile = Path(cfg.CONFIGFILE)\n",
    "\n",
    "    config = configparser.ConfigParser()\n",
    "    logger.info(f'reading configuration: {configFile}')\n",
    "    config.read(configFile)\n",
    "    \n",
    "    try:\n",
    "        for section in configDefaults:\n",
    "            if section not in config.sections():\n",
    "                logger.debug(f'adding section: {section}')\n",
    "                config.add_section(section)\n",
    "            \n",
    "            for option in configDefaults[section]:\n",
    "                if not config.has_option(section, option):\n",
    "                    logger.debug(f'missing option: {option}')\n",
    "                    logger.debug(f'setting {option} to: {configDefaults[section][option]}')\n",
    "                    config[section][option] = str(configDefaults[section][option])\n",
    "            with open(configFile, 'w') as file:\n",
    "                config.write(file)\n",
    "    \n",
    "    except Exception as e:\n",
    "        logging.exception(f'exception on configuration file: {e}')\n",
    "        raise\n",
    "    \n",
    "    logger.debug(f'config file contains sections: {config.sections()}')\n",
    "    return config"
   ]
  },
  {
   "cell_type": "code",
   "execution_count": 10,
   "metadata": {},
   "outputs": [],
   "source": [
    "# def query(lms, last=0, delay=7):\n",
    "#     '''query the player only when a specified delay has passed\n",
    "#     Accepts:\n",
    "#         last: float - last time query was called\n",
    "\n",
    "#     Returns:\n",
    "#         tuple(last, lms.now_playing()\n",
    "#     '''\n",
    "#     if last==0:\n",
    "#         last = time.clock_gettime(time.CLOCK_MONOTONIC)-delay\n",
    "\n",
    "#     if time.clock_gettime(time.CLOCK_MONOTONIC) > last+delay:\n",
    "#         return time.clock_gettime(time.CLOCK_MONOTONIC), lms.now_playing()\n",
    "\n",
    "#     else:\n",
    "#         return last, None"
   ]
  },
  {
   "cell_type": "code",
   "execution_count": 11,
   "metadata": {},
   "outputs": [],
   "source": [
    "def cacheArt(query={}):\n",
    "    if not query:\n",
    "        return None\n",
    "    \n",
    "    cachePath = CachePath(appLongName, dir=True)\n",
    "    required = ['artwork_url', 'album_id'] \n",
    "    missing = []\n",
    "    \n",
    "    for key in required:\n",
    "        if not key in query:\n",
    "            missing.append(key)\n",
    "    if missing:\n",
    "        logger.warning(f'required value(s) in `query` missing: {missing}')\n",
    "        return None\n",
    "    \n",
    "    albumArtFile = cachePath/(query['album_id']+'.jpg')\n",
    "    \n",
    "    # check if file already exists in cache\n",
    "    if albumArtFile.exists():\n",
    "        logging.debug(f'album artwork already downloaded at: {albumArtFile}')\n",
    "        return albumArtFile\n",
    "    \n",
    "    r = False\n",
    "    albumArtURL = query['artwork_url']\n",
    "    \n",
    "    # try to fetch the album art\n",
    "    try:\n",
    "        r = requests.get(albumArtURL, stream=True)\n",
    "    except requests.exceptions.RequestException as e:\n",
    "        logging.error(f'failed to fetch artwork at {albumArtURL}: {e}')\n",
    "        \n",
    "    if r:\n",
    "        try:\n",
    "            with open(albumArtFile, 'wb') as outFile:\n",
    "                shutil.copyfileobj(r.raw, outFile)\n",
    "                logging.debug(f'wrote album art to: {albumArtFile}')\n",
    "        except (OSError, FileExistsError, ValueError) as e:\n",
    "            logging.error(f'failed to write {albumArtFile}: {e}')\n",
    "    else:\n",
    "        logging.error('skipping download of album artwork due to previous errors')\n",
    "\n",
    "    return albumArtFile\n",
    "    "
   ]
  },
  {
   "cell_type": "code",
   "execution_count": 12,
   "metadata": {},
   "outputs": [],
   "source": [
    "class signalHandler(object):\n",
    "    '''handle specific signals and allow graceful exiting while loop\n",
    "    https://stackoverflow.com/a/31464349/5530152\n",
    "    \n",
    "    Signals Handled Gracefully:\n",
    "        SIGINT\n",
    "        SIGTERM\n",
    "    Atributes:\n",
    "        kill_now (bool) default: False\n",
    "    '''\n",
    "    kill_now = False\n",
    "    def __init__(self):\n",
    "        signal.signal(signal.SIGINT, self.exit_gracefully)\n",
    "        signal.signal(signal.SIGTERM, self.exit_gracefully)\n",
    "    \n",
    "    def exit_gracefully(self, signum, frame):\n",
    "        self.kill_now = True"
   ]
  },
  {
   "cell_type": "code",
   "execution_count": 13,
   "metadata": {},
   "outputs": [],
   "source": [
    "def limit_callback(until):\n",
    "        duration = int(round(until - time.time()))\n",
    "        logging.debug(f'function call rate limited sleeping for {duration} seconds')"
   ]
  },
  {
   "cell_type": "code",
   "execution_count": 14,
   "metadata": {},
   "outputs": [],
   "source": []
  },
  {
   "cell_type": "code",
   "execution_count": 15,
   "metadata": {},
   "outputs": [],
   "source": [
    "def arg_parse():\n",
    "    parser = argparse.ArgumentParser()\n",
    "    \n",
    "    # configuration file\n",
    "    parser.add_argument('-c', type=str, required=False,\n",
    "                        help='use the specified configuration file. Default is stored in ~/.config/myApp/config.ini')\n",
    "    \n",
    "    \n",
    "    \n",
    "    args, unknown = parser.parse_known_args()\n",
    "    logging.warn(f'unknwon commandline arguments: {unknown}')\n",
    "    \n",
    "    return args"
   ]
  },
  {
   "cell_type": "code",
   "execution_count": 16,
   "metadata": {},
   "outputs": [],
   "source": [
    "def new_main():\n",
    "    '''main entry point'''\n",
    "    \n",
    "    # set up the log level\n",
    "    logger.info('starting program')\n",
    "    \n",
    "    \n",
    "    \n",
    "    config = configuration()\n",
    "\n",
    "    sigHandler = signalHandler()\n",
    "\n",
    "    # now playing fields to use\n",
    "    fields = ['title', 'album', 'artist', 'mode', 'artwork_url']\n",
    "    \n",
    "    # lms server configuration\n",
    "    player_id = config.get('server', 'player')\n",
    "    lms = lmsquery.LMSQuery(player_id=player_id)\n",
    "    \n",
    "    # create the screen object for managing screen writing\n",
    "    screen = epdlib.Screen()\n",
    "    screen.epd = epd5in83.EPD()\n",
    "#     screen.initEPD()\n",
    "\n",
    "    # layout for music output - \n",
    "    # FIXME - this layout shouldn't be hard coded here\n",
    "    music_layout = epdlib.Layout(layout=epdlib.layouts.threeRow)\n",
    "#     music_layout.update_contents(query(lms, 0)[1])\n",
    "    \n",
    "    # layout for clock output\n",
    "    # FIXME - this shouldn't be hard coded here\n",
    "    clock_layout = epdlib.Layout(layout=epdlib.layouts.clock)\n",
    "#     clock_layout.update_contents({'time': datetime.now().strftime(\"%H:%M\"), 'mode': 'stop'})\n",
    "    clock_layout.update_contents({'time': time_now(), 'mode': ' '})\n",
    "\n",
    "    \n",
    "    screen.initEPD()\n",
    "    screen.elements=music_layout.blocks.values()\n",
    "    \n",
    "    refresh = False\n",
    "    updated = 0\n",
    "    last_update = 0\n",
    "    \n",
    "    nowplaying_id = None\n",
    "    nowplaying_mode = None\n",
    "    lmsQuery_ratelimit = RateLimiter(max_calls=1, period=3, callback=limit_callback)\n",
    "    \n",
    "    try:\n",
    "        while not sigHandler.kill_now:\n",
    "            response = None\n",
    "            logging.debug('querying lms server')\n",
    "            with lmsQuery_ratelimit:\n",
    "                try:\n",
    "                    response = lms.now_playing()\n",
    "                except rqExcept.ConnectionError as e:\n",
    "                    logging.warning(f'server could not find player id to query: {player_id}')\n",
    "                    logging.warning('is the specified player active?')\n",
    "                    response = {'title': f'Could not connect to meidia player: {player_id}',\n",
    "                                'id': 'NONE', 'mode': 'ERROR'}\n",
    "                    nowplaying_mode = response['mode']\n",
    "                except KeyError as e:\n",
    "                    logging.info(f'No playlist is active on player {player_id}')\n",
    "                    response = {'title': 'No music is queued', 'id': 'NONE', 'mode': 'No Playlist'}\n",
    "                    nowplaying_mode = response['mode']\n",
    "            \n",
    "            # check for a response\n",
    "            if response:\n",
    "                if response['id'] != nowplaying_id or response['mode'] != nowplaying_mode:\n",
    "                    logging.info(f'track/mode change {response[\"mode\"]}')\n",
    "                    nowplaying_id = response['id']\n",
    "                    nowplaying_mode = response['mode']\n",
    "                    \n",
    "                    albumArt = cacheArt(response)\n",
    "                    if not albumArt:\n",
    "                        albumArt = cfg.NOIMAGE\n",
    "                    \n",
    "                    # add the path to the album art into the response\n",
    "                    response['coverart'] = str(albumArt)\n",
    "                             \n",
    "                    music_layout.update_contents(response)\n",
    "                    refresh = music_layout\n",
    "                else:\n",
    "                    refresh = False\n",
    "                    \n",
    "            if nowplaying_mode != 'play' and screen.update.last_updated > 60:\n",
    "                logging.debug('music appears to be paused')\n",
    "                clock_layout.update_contents({'time': time_now(), 'mode': nowplaying_mode})\n",
    "                refresh = clock_layout\n",
    "#             else:\n",
    "#                 refresh = False\n",
    "            \n",
    "            if refresh:\n",
    "                logging.debug('refreshing display')\n",
    "                screen.initEPD()\n",
    "                screen.elements=refresh.blocks.values()\n",
    "                screen.concat()\n",
    "                screen.writeEPD()   \n",
    "                refresh = False\n",
    "            \n",
    "            time.sleep(0.5)\n",
    "    finally:\n",
    "        logging.info(\"cleaning up and wiping screen\")\n",
    "        screen.initEPD()\n",
    "        screen.clearEPD()"
   ]
  },
  {
   "cell_type": "code",
   "execution_count": null,
   "metadata": {},
   "outputs": [],
   "source": [
    "import sys"
   ]
  },
  {
   "cell_type": "code",
   "execution_count": null,
   "metadata": {},
   "outputs": [],
   "source": [
    "sys.argv.append('-c')\n",
    "sys.argv.append('~/slimpi.ini')"
   ]
  },
  {
   "cell_type": "code",
   "execution_count": 17,
   "metadata": {},
   "outputs": [
    {
     "name": "stdout",
     "output_type": "stream",
     "text": [
      "<ipython-input-16-de7239d93657>:new_main:5:INFO - starting program\n",
      "<ipython-input-9-058caeef3ae2>:configuration:10:INFO - reading configuration: servercfg.ini\n",
      "Screen:initEPD:167:INFO - <waveshare_epd.epd5in83.EPD object at 0xb0e5a470> initialized\n",
      "<ipython-input-16-de7239d93657>:new_main:69:INFO - track/mode change pause\n",
      "Screen:initEPD:167:INFO - <waveshare_epd.epd5in83.EPD object at 0xb0e5a470> initialized\n",
      "<ipython-input-16-de7239d93657>:new_main:69:INFO - track/mode change play\n",
      "Screen:initEPD:167:INFO - <waveshare_epd.epd5in83.EPD object at 0xb0e5a470> initialized\n",
      "<ipython-input-16-de7239d93657>:new_main:69:INFO - track/mode change play\n",
      "Screen:initEPD:167:INFO - <waveshare_epd.epd5in83.EPD object at 0xb0e5a470> initialized\n",
      "<ipython-input-16-de7239d93657>:new_main:69:INFO - track/mode change play\n",
      "Screen:initEPD:167:INFO - <waveshare_epd.epd5in83.EPD object at 0xb0e5a470> initialized\n",
      "<ipython-input-16-de7239d93657>:new_main:69:INFO - track/mode change play\n",
      "Screen:initEPD:167:INFO - <waveshare_epd.epd5in83.EPD object at 0xb0e5a470> initialized\n",
      "<ipython-input-16-de7239d93657>:new_main:69:INFO - track/mode change play\n",
      "Screen:initEPD:167:INFO - <waveshare_epd.epd5in83.EPD object at 0xb0e5a470> initialized\n",
      "<ipython-input-16-de7239d93657>:new_main:69:INFO - track/mode change pause\n",
      "Screen:initEPD:167:INFO - <waveshare_epd.epd5in83.EPD object at 0xb0e5a470> initialized\n",
      "<ipython-input-16-de7239d93657>:new_main:69:INFO - track/mode change stop\n",
      "Screen:initEPD:167:INFO - <waveshare_epd.epd5in83.EPD object at 0xb0e5a470> initialized\n",
      "<ipython-input-16-de7239d93657>:new_main:102:INFO - cleaning up and wiping screen\n",
      "Screen:initEPD:167:INFO - <waveshare_epd.epd5in83.EPD object at 0xb0e5a470> initialized\n"
     ]
    }
   ],
   "source": [
    "\n",
    "new_main()"
   ]
  },
  {
   "cell_type": "code",
   "execution_count": null,
   "metadata": {},
   "outputs": [],
   "source": [
    "# if __name__ == '__main__':\n",
    "    \n",
    "#     foo = main()"
   ]
  },
  {
   "cell_type": "code",
   "execution_count": 17,
   "metadata": {},
   "outputs": [
    {
     "data": {
      "text/plain": [
       "True"
      ]
     },
     "execution_count": 17,
     "metadata": {},
     "output_type": "execute_result"
    }
   ],
   "source": [
    "sc = epdlib.Screen()\n",
    "sc.epd = epd5in83.EPD()\n",
    "sc.initEPD()\n",
    "sc.clearEPD()"
   ]
  }
 ],
 "metadata": {
  "kernelspec": {
   "display_name": "slimpi_epd-b1Rf9la8",
   "language": "python",
   "name": "slimpi_epd-b1rf9la8"
  },
  "language_info": {
   "codemirror_mode": {
    "name": "ipython",
    "version": 3
   },
   "file_extension": ".py",
   "mimetype": "text/x-python",
   "name": "python",
   "nbconvert_exporter": "python",
   "pygments_lexer": "ipython3",
   "version": "3.7.3"
  }
 },
 "nbformat": 4,
 "nbformat_minor": 2
}
