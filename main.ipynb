{
 "cells": [
  {
   "cell_type": "code",
   "execution_count": 1,
   "metadata": {},
   "outputs": [],
   "source": [
    "%load_ext autoreload\n",
    "%autoreload 2"
   ]
  },
  {
   "cell_type": "code",
   "execution_count": 31,
   "metadata": {},
   "outputs": [],
   "source": [
    "%reload_ext autoreload"
   ]
  },
  {
   "cell_type": "code",
   "execution_count": 19,
   "metadata": {},
   "outputs": [],
   "source": [
    "import logging\n",
    "import logging.config\n",
    "import configparser\n",
    "import os\n",
    "import time\n",
    "from pathlib import Path\n",
    "import signal\n",
    "from cachepath import CachePath, TempPath, Path\n",
    "import requests\n",
    "import shutil\n",
    "\n",
    "\n",
    "\n",
    "import lmsquery\n",
    "from waveshare_epd import epd5in83"
   ]
  },
  {
   "cell_type": "code",
   "execution_count": 32,
   "metadata": {},
   "outputs": [],
   "source": [
    "import cfg\n",
    "import epdlib"
   ]
  },
  {
   "cell_type": "code",
   "execution_count": 5,
   "metadata": {},
   "outputs": [],
   "source": [
    "# this works best as a global variable\n",
    "logConfig = Path(cfg.LOGCONFIG)\n",
    "logging.config.fileConfig(logConfig.absolute())\n",
    "# logging.basicConfig(level=logging.DEBUG, format='%(asctime)s %(name)s %(levelname)s: %(message)s')\n",
    "\n",
    "logger = logging.getLogger(__name__)"
   ]
  },
  {
   "cell_type": "code",
   "execution_count": 6,
   "metadata": {},
   "outputs": [],
   "source": [
    "appShortName = 'slimpi'\n",
    "name = 'com.txoof.'\n",
    "appLongName = name+appShortName"
   ]
  },
  {
   "cell_type": "code",
   "execution_count": null,
   "metadata": {},
   "outputs": [],
   "source": [
    "def configuration(configFile=None):\n",
    "    \n",
    "    configDefaults = cfg.CONFIGDEFAULTS\n",
    "    \n",
    "    if not configFile:\n",
    "         configFile = Path(cfg.CONFIGFILE)\n",
    "\n",
    "    config = configparser.ConfigParser()\n",
    "    logger.info(f'reading configuration: {configFile}')\n",
    "    config.read(configFile)\n",
    "    \n",
    "    try:\n",
    "        for section in configDefaults:\n",
    "            if section not in config.sections():\n",
    "                logger.debug(f'adding section: {section}')\n",
    "                config.add_section(section)\n",
    "            \n",
    "            for option in configDefaults[section]:\n",
    "                if not config.has_option(section, option):\n",
    "                    logger.debug(f'missing option: {option}')\n",
    "                    logger.debug(f'setting {option} to: {configDefaults[section][option]}')\n",
    "                    config[section][option] = str(configDefaults[section][option])\n",
    "            with open(configFile, 'w') as file:\n",
    "                config.write(file)\n",
    "    \n",
    "    except Exception as e:\n",
    "        logging.exception(f'exception on configuration file: {e}')\n",
    "        raise\n",
    "    \n",
    "    logger.debug(f'config file contains sections: {config.sections()}')\n",
    "    return config"
   ]
  },
  {
   "cell_type": "code",
   "execution_count": null,
   "metadata": {},
   "outputs": [],
   "source": [
    "def query(lms, last=0, delay=7):\n",
    "    '''query the player only when a specified delay has passed\n",
    "    Accepts:\n",
    "        last: float - last time query was called\n",
    "\n",
    "    Returns:\n",
    "        tuple(last, lms.now_playing()\n",
    "    '''\n",
    "    if last==0:\n",
    "        last = time.clock_gettime(time.CLOCK_MONOTONIC)-delay\n",
    "\n",
    "    if time.clock_gettime(time.CLOCK_MONOTONIC) > last+delay:\n",
    "        return time.clock_gettime(time.CLOCK_MONOTONIC), lms.now_playing()\n",
    "\n",
    "    else:\n",
    "        return last, None"
   ]
  },
  {
   "cell_type": "code",
   "execution_count": null,
   "metadata": {},
   "outputs": [],
   "source": [
    "def cacheArt(query={}):\n",
    "    if not query:\n",
    "        return None\n",
    "    \n",
    "    cachePath = CachePath(appLongName, dir=True)\n",
    "    required = ['artwork_url', 'album_id'] \n",
    "    missing = []\n",
    "    \n",
    "    for key in required:\n",
    "        if not key in query:\n",
    "            missing.append(key)\n",
    "    if missing:\n",
    "        logger.warning(f'required value(s) in `query` missing: {missing}')\n",
    "        return None\n",
    "    \n",
    "    albumArtFile = cachePath/(query['album_id']+'.jpg')\n",
    "    \n",
    "    # check if file already exists in cache\n",
    "    if albumArtFile.exists():\n",
    "        logging.debug(f'album artwork already downloaded at: {albumArtFile}')\n",
    "        return albumArtFile\n",
    "    \n",
    "    r = False\n",
    "    albumArtURL = query['artwork_url']\n",
    "    \n",
    "    # try to fetch the album art\n",
    "    try:\n",
    "        r = requests.get(albumArtURL, stream=True)\n",
    "    except requests.exceptions.RequestException as e:\n",
    "        logging.error(f'failed to fetch artwork at {albumArtURL}: {e}')\n",
    "        \n",
    "    if r:\n",
    "        try:\n",
    "            with open(albumArtFile, 'wb') as outFile:\n",
    "                shutil.copyfileobj(r.raw, outFile)\n",
    "                logging.debug(f'wrote album art to: {albumArtFile}')\n",
    "        except (OSError, FileExistsError, ValueError) as e:\n",
    "            logging.error(f'failed to write {albumArtFile}: {e}')\n",
    "    else:\n",
    "        logging.error('skipping download of album artwork due to previous errors')\n",
    "\n",
    "    return albumArtFile\n",
    "    "
   ]
  },
  {
   "cell_type": "code",
   "execution_count": null,
   "metadata": {},
   "outputs": [],
   "source": [
    "class signalHandler(object):\n",
    "    '''handle specific signals and allow graceful exiting while loop\n",
    "    https://stackoverflow.com/a/31464349/5530152\n",
    "    \n",
    "    Signals Handled Gracefully:\n",
    "        SIGINT\n",
    "        SIGTERM\n",
    "    Atributes:\n",
    "        kill_now (bool) default: False\n",
    "    '''\n",
    "    kill_now = False\n",
    "    def __init__(self):\n",
    "        signal.signal(signal.SIGINT, self.exit_gracefully)\n",
    "        signal.signal(signal.SIGTERM, self.exit_gracefully)\n",
    "    \n",
    "    def exit_gracefully(self, signum, frame):\n",
    "        self.kill_now = True"
   ]
  },
  {
   "cell_type": "code",
   "execution_count": null,
   "metadata": {},
   "outputs": [],
   "source": [
    "def main():\n",
    "    '''main entry point\n",
    "    '''   \n",
    "    logger.setLevel(logging.DEBUG)\n",
    "    logger.info('Starting program')\n",
    "    config = configuration()\n",
    "    # scan for lms server and use the first one (this may be a terrible idea for other people)\n",
    "#     lmsServer = lmsquery.scanLMS()[0]\n",
    "    \n",
    "    # define LMS query object\n",
    "#     lms = lmsquery.LMSQuery(lmsServer['host'], lmsServer['port'], config.get('server', 'player'))\n",
    "    lms = lmsquery.LMSQuery(player_id=config.get('server', 'player'))\n",
    "    \n",
    "    screen = epdlib.Screen()\n",
    "    screen.epd = epd5in83.EPD()\n",
    "    screen.initEPD()\n",
    "#     screen.clearEPD()\n",
    "    layout = epdlib.Layout(layout=epdlib.layouts.threeRow)\n",
    "    layout.update_contents(query(lms, 0)[1])\n",
    "    screen.initEPD()\n",
    "    screen.elements=layout.blocks.values()\n",
    "#     screen.concat()\n",
    "#     screen.writeEPD()    \n",
    "    \n",
    "    \n",
    "    sigHandler = signalHandler()\n",
    "    \n",
    "    # last update\n",
    "    updated = 0\n",
    "    # id of currently playing track\n",
    "    nowPlayingID = None\n",
    "    # status of player \n",
    "    nowPlayingMode = None\n",
    "\n",
    "    # now playing fields to display\n",
    "    fields = ['title', 'album', 'artist', 'mode', 'artwork_url']\n",
    "    \n",
    "    \n",
    "    print(f'pid: {os.getpid()}')\n",
    "    try:\n",
    "        while not sigHandler.kill_now:\n",
    "            # add some try: around this\n",
    "            updated, value = query(lms=lms, last=updated, delay=3)\n",
    "            \n",
    "            response = value\n",
    "            \n",
    "            # if there's a response, check to see if display needs an update\n",
    "            if response: \n",
    "                # if the album ID changed the player state changed, update the display\n",
    "                if response['id'] != nowPlayingID or response['mode'] != nowPlayingMode:\n",
    "                    \n",
    "                    albumArt = cacheArt(response)\n",
    "                    \n",
    "                    if not albumArt:\n",
    "                        albumArt = cfg.NOIMAGE\n",
    "                        \n",
    "                    value['coverart'] = str(albumArt)\n",
    "                    \n",
    "                    layout.update_contents(value)\n",
    "                    screen.initEPD()\n",
    "                    screen.elements=layout.blocks.values()\n",
    "                    screen.concat()\n",
    "                    screen.writeEPD()                      \n",
    "                    \n",
    "                    nowPlayingID = response['id']\n",
    "                    nowPlayingMode = response['mode']\n",
    "                    for field in fields:\n",
    "                        print(f'{field}: {response[field]}')\n",
    "                    print('\\n')\n",
    "            time.sleep(0.5)\n",
    "    finally:\n",
    "        print(\"cleaning up\")\n",
    "        screen.initEPD()\n",
    "        screen.clearEPD()\n",
    "        return layout    "
   ]
  },
  {
   "cell_type": "code",
   "execution_count": null,
   "metadata": {},
   "outputs": [],
   "source": [
    "if __name__ == '__main__':\n",
    "    \n",
    "    foo = main()"
   ]
  },
  {
   "cell_type": "code",
   "execution_count": null,
   "metadata": {},
   "outputs": [],
   "source": [
    "    sc = epdlib.Screen()\n",
    "    sc.epd = epd5in83.EPD()\n",
    "    sc.initEPD()\n",
    "    sc.clearEPD()"
   ]
  },
  {
   "cell_type": "code",
   "execution_count": 34,
   "metadata": {},
   "outputs": [
    {
     "name": "stdout",
     "output_type": "stream",
     "text": [
      "Layout:layout:172:DEBUG - calculating values from layout for resolution (600, 448)\n",
      "Layout:_calculate_layout:202:DEBUG - ***time***\n",
      "Layout:_check_keys:108:DEBUG - checking key/values\n",
      "Layout:_check_keys:113:DEBUG - missing key: dimensions; adding and setting to None\n",
      "Layout:_calculate_layout:209:DEBUG - dimensions: (600, 392)\n",
      "Layout:_calculate_layout:238:DEBUG - has explict position\n",
      "Layout:_calculate_layout:240:DEBUG - abs_coordinates: (0, 0)\n",
      "Layout:_scalefont:134:DEBUG - calculating font size\n",
      "Layout:_scalefont:135:DEBUG - using font at path: /home/pi/src/slimpi_epd/fonts/Ubuntu/Ubuntu-Regular.ttf\n",
      "Layout:_scalefont:145:DEBUG - target Y fontsize: 274.4\n",
      "Layout:_scalefont:158:DEBUG - fontsize: 294\n",
      "Layout:_calculate_layout:202:DEBUG - ***mode***\n",
      "Layout:_check_keys:108:DEBUG - checking key/values\n",
      "Layout:_check_keys:113:DEBUG - missing key: dimensions; adding and setting to None\n",
      "Layout:_calculate_layout:209:DEBUG - dimensions: (600, 56)\n",
      "Layout:_calculate_layout:219:DEBUG - has calculated position\n",
      "Layout:_calculate_layout:240:DEBUG - abs_coordinates: (0, 0)\n",
      "Layout:_scalefont:134:DEBUG - calculating font size\n",
      "Layout:_scalefont:135:DEBUG - using font at path: /home/pi/src/slimpi_epd/fonts/Ubuntu/Ubuntu-Regular.ttf\n",
      "Layout:_scalefont:145:DEBUG - target Y fontsize: 39.199999999999996\n",
      "Layout:_scalefont:158:DEBUG - fontsize: 42\n",
      "Layout:_set_images:267:DEBUG - ***time***)\n",
      "Layout:_set_images:271:DEBUG - set text block\n",
      "Block:area:74:DEBUG - maximum area: (600, 392)\n",
      "Block:abs_coordinates:91:DEBUG - absolute coordinates: (0, 0)\n",
      "Block:maxchar:264:DEBUG - maximum characters per line: 4\n"
     ]
    },
    {
     "ename": "ValueError",
     "evalue": "placeholder too large for max width",
     "output_type": "error",
     "traceback": [
      "\u001b[0;31m---------------------------------------------------------------------------\u001b[0m",
      "\u001b[0;31mValueError\u001b[0m                                Traceback (most recent call last)",
      "\u001b[0;32m<ipython-input-34-73d7afe7647e>\u001b[0m in \u001b[0;36m<module>\u001b[0;34m\u001b[0m\n\u001b[0;32m----> 1\u001b[0;31m \u001b[0mtl\u001b[0m \u001b[0;34m=\u001b[0m \u001b[0mepdlib\u001b[0m\u001b[0;34m.\u001b[0m\u001b[0mLayout\u001b[0m\u001b[0;34m(\u001b[0m\u001b[0mlayout\u001b[0m\u001b[0;34m=\u001b[0m\u001b[0mepdlib\u001b[0m\u001b[0;34m.\u001b[0m\u001b[0mlayouts\u001b[0m\u001b[0;34m.\u001b[0m\u001b[0mclock\u001b[0m\u001b[0;34m)\u001b[0m\u001b[0;34m\u001b[0m\u001b[0;34m\u001b[0m\u001b[0m\n\u001b[0m",
      "\u001b[0;32m~/src/slimpi_epd/epdlib/Layout.py\u001b[0m in \u001b[0;36m__init__\u001b[0;34m(self, resolution, layout, font)\u001b[0m\n\u001b[1;32m     92\u001b[0m         \u001b[0mself\u001b[0m\u001b[0;34m.\u001b[0m\u001b[0mresolution\u001b[0m \u001b[0;34m=\u001b[0m \u001b[0mresolution\u001b[0m\u001b[0;34m\u001b[0m\u001b[0;34m\u001b[0m\u001b[0m\n\u001b[1;32m     93\u001b[0m         \u001b[0mself\u001b[0m\u001b[0;34m.\u001b[0m\u001b[0mfont\u001b[0m \u001b[0;34m=\u001b[0m \u001b[0mstr\u001b[0m\u001b[0;34m(\u001b[0m\u001b[0mPath\u001b[0m\u001b[0;34m(\u001b[0m\u001b[0mfont\u001b[0m\u001b[0;34m)\u001b[0m\u001b[0;34m.\u001b[0m\u001b[0mresolve\u001b[0m\u001b[0;34m(\u001b[0m\u001b[0;34m)\u001b[0m\u001b[0;34m)\u001b[0m\u001b[0;34m\u001b[0m\u001b[0;34m\u001b[0m\u001b[0m\n\u001b[0;32m---> 94\u001b[0;31m         \u001b[0mself\u001b[0m\u001b[0;34m.\u001b[0m\u001b[0mlayout\u001b[0m \u001b[0;34m=\u001b[0m \u001b[0mcopy\u001b[0m\u001b[0;34m.\u001b[0m\u001b[0mdeepcopy\u001b[0m\u001b[0;34m(\u001b[0m\u001b[0mlayout\u001b[0m\u001b[0;34m)\u001b[0m\u001b[0;34m\u001b[0m\u001b[0;34m\u001b[0m\u001b[0m\n\u001b[0m\u001b[1;32m     95\u001b[0m         \u001b[0mself\u001b[0m\u001b[0;34m.\u001b[0m\u001b[0mimages\u001b[0m \u001b[0;34m=\u001b[0m \u001b[0;32mNone\u001b[0m\u001b[0;34m\u001b[0m\u001b[0;34m\u001b[0m\u001b[0m\n\u001b[1;32m     96\u001b[0m \u001b[0;34m\u001b[0m\u001b[0m\n",
      "\u001b[0;32m~/src/slimpi_epd/epdlib/Layout.py\u001b[0m in \u001b[0;36mlayout\u001b[0;34m(self, layout)\u001b[0m\n\u001b[1;32m    177\u001b[0m             \u001b[0mself\u001b[0m\u001b[0;34m.\u001b[0m\u001b[0m_layout\u001b[0m \u001b[0;34m=\u001b[0m \u001b[0mself\u001b[0m\u001b[0;34m.\u001b[0m\u001b[0m_calculate_layout\u001b[0m\u001b[0;34m(\u001b[0m\u001b[0mlayout\u001b[0m\u001b[0;34m)\u001b[0m\u001b[0;34m\u001b[0m\u001b[0;34m\u001b[0m\u001b[0m\n\u001b[1;32m    178\u001b[0m             \u001b[0;32mif\u001b[0m \u001b[0mself\u001b[0m\u001b[0;34m.\u001b[0m\u001b[0m_layout\u001b[0m\u001b[0;34m:\u001b[0m\u001b[0;34m\u001b[0m\u001b[0;34m\u001b[0m\u001b[0m\n\u001b[0;32m--> 179\u001b[0;31m                 \u001b[0mself\u001b[0m\u001b[0;34m.\u001b[0m\u001b[0m_set_images\u001b[0m\u001b[0;34m(\u001b[0m\u001b[0;34m)\u001b[0m\u001b[0;34m\u001b[0m\u001b[0;34m\u001b[0m\u001b[0m\n\u001b[0m\u001b[1;32m    180\u001b[0m             \u001b[0;32melse\u001b[0m\u001b[0;34m:\u001b[0m\u001b[0;34m\u001b[0m\u001b[0;34m\u001b[0m\u001b[0m\n\u001b[1;32m    181\u001b[0m                 \u001b[0mlogging\u001b[0m\u001b[0;34m.\u001b[0m\u001b[0mdebug\u001b[0m\u001b[0;34m(\u001b[0m\u001b[0;34m'no layout provided'\u001b[0m\u001b[0;34m)\u001b[0m\u001b[0;34m\u001b[0m\u001b[0;34m\u001b[0m\u001b[0m\n",
      "\u001b[0;32m~/src/slimpi_epd/epdlib/Layout.py\u001b[0m in \u001b[0;36m_set_images\u001b[0;34m(self)\u001b[0m\n\u001b[1;32m    273\u001b[0m                                        \u001b[0mfont_size\u001b[0m\u001b[0;34m=\u001b[0m\u001b[0msection\u001b[0m\u001b[0;34m[\u001b[0m\u001b[0;34m'fontsize'\u001b[0m\u001b[0;34m]\u001b[0m\u001b[0;34m,\u001b[0m \u001b[0mmax_lines\u001b[0m\u001b[0;34m=\u001b[0m\u001b[0msection\u001b[0m\u001b[0;34m[\u001b[0m\u001b[0;34m'max_lines'\u001b[0m\u001b[0;34m]\u001b[0m\u001b[0;34m,\u001b[0m\u001b[0;34m\u001b[0m\u001b[0;34m\u001b[0m\u001b[0m\n\u001b[1;32m    274\u001b[0m                                        \u001b[0mhcenter\u001b[0m\u001b[0;34m=\u001b[0m\u001b[0msection\u001b[0m\u001b[0;34m[\u001b[0m\u001b[0;34m'hcenter'\u001b[0m\u001b[0;34m]\u001b[0m\u001b[0;34m,\u001b[0m \u001b[0mvcenter\u001b[0m\u001b[0;34m=\u001b[0m\u001b[0msection\u001b[0m\u001b[0;34m[\u001b[0m\u001b[0;34m'vcenter'\u001b[0m\u001b[0;34m]\u001b[0m\u001b[0;34m,\u001b[0m\u001b[0;34m\u001b[0m\u001b[0;34m\u001b[0m\u001b[0m\n\u001b[0;32m--> 275\u001b[0;31m                                        abs_coordinates=section['abs_coordinates'])\n\u001b[0m\u001b[1;32m    276\u001b[0m             \u001b[0;32mif\u001b[0m \u001b[0msection\u001b[0m\u001b[0;34m[\u001b[0m\u001b[0;34m'image'\u001b[0m\u001b[0;34m]\u001b[0m\u001b[0;34m:\u001b[0m\u001b[0;34m\u001b[0m\u001b[0;34m\u001b[0m\u001b[0m\n\u001b[1;32m    277\u001b[0m                 \u001b[0mlogging\u001b[0m\u001b[0;34m.\u001b[0m\u001b[0mdebug\u001b[0m\u001b[0;34m(\u001b[0m\u001b[0;34m'set image block'\u001b[0m\u001b[0;34m)\u001b[0m\u001b[0;34m\u001b[0m\u001b[0;34m\u001b[0m\u001b[0m\n",
      "\u001b[0;32m~/src/slimpi_epd/epdlib/Block.py\u001b[0m in \u001b[0;36m__init__\u001b[0;34m(self, text, font, font_size, max_lines, maxchar, chardist, *args, **kwargs)\u001b[0m\n\u001b[1;32m    216\u001b[0m         \u001b[0mself\u001b[0m\u001b[0;34m.\u001b[0m\u001b[0mmaxchar\u001b[0m \u001b[0;34m=\u001b[0m \u001b[0mmaxchar\u001b[0m\u001b[0;34m\u001b[0m\u001b[0;34m\u001b[0m\u001b[0m\n\u001b[1;32m    217\u001b[0m         \u001b[0mself\u001b[0m\u001b[0;34m.\u001b[0m\u001b[0mimage\u001b[0m \u001b[0;34m=\u001b[0m\u001b[0;32mNone\u001b[0m\u001b[0;34m\u001b[0m\u001b[0;34m\u001b[0m\u001b[0m\n\u001b[0;32m--> 218\u001b[0;31m         \u001b[0mself\u001b[0m\u001b[0;34m.\u001b[0m\u001b[0mtext\u001b[0m \u001b[0;34m=\u001b[0m \u001b[0mtext\u001b[0m\u001b[0;34m\u001b[0m\u001b[0;34m\u001b[0m\u001b[0m\n\u001b[0m\u001b[1;32m    219\u001b[0m \u001b[0;34m\u001b[0m\u001b[0m\n\u001b[1;32m    220\u001b[0m     \u001b[0;32mdef\u001b[0m \u001b[0mupdate\u001b[0m\u001b[0;34m(\u001b[0m\u001b[0mself\u001b[0m\u001b[0;34m,\u001b[0m \u001b[0mupdate\u001b[0m\u001b[0;34m=\u001b[0m\u001b[0;32mNone\u001b[0m\u001b[0;34m)\u001b[0m\u001b[0;34m:\u001b[0m\u001b[0;34m\u001b[0m\u001b[0;34m\u001b[0m\u001b[0m\n",
      "\u001b[0;32m~/src/slimpi_epd/epdlib/Block.py\u001b[0m in \u001b[0;36mtext\u001b[0;34m(self, text)\u001b[0m\n\u001b[1;32m    280\u001b[0m     \u001b[0;32mdef\u001b[0m \u001b[0mtext\u001b[0m\u001b[0;34m(\u001b[0m\u001b[0mself\u001b[0m\u001b[0;34m,\u001b[0m \u001b[0mtext\u001b[0m\u001b[0;34m)\u001b[0m\u001b[0;34m:\u001b[0m\u001b[0;34m\u001b[0m\u001b[0;34m\u001b[0m\u001b[0m\n\u001b[1;32m    281\u001b[0m         \u001b[0mself\u001b[0m\u001b[0;34m.\u001b[0m\u001b[0m_text\u001b[0m \u001b[0;34m=\u001b[0m \u001b[0mtext\u001b[0m\u001b[0;34m\u001b[0m\u001b[0;34m\u001b[0m\u001b[0m\n\u001b[0;32m--> 282\u001b[0;31m         \u001b[0mself\u001b[0m\u001b[0;34m.\u001b[0m\u001b[0mtext_formatted\u001b[0m \u001b[0;34m=\u001b[0m \u001b[0mself\u001b[0m\u001b[0;34m.\u001b[0m\u001b[0mtext_formatter\u001b[0m\u001b[0;34m(\u001b[0m\u001b[0;34m)\u001b[0m\u001b[0;34m\u001b[0m\u001b[0;34m\u001b[0m\u001b[0m\n\u001b[0m\u001b[1;32m    283\u001b[0m         \u001b[0mself\u001b[0m\u001b[0;34m.\u001b[0m\u001b[0mimage\u001b[0m \u001b[0;34m=\u001b[0m \u001b[0mself\u001b[0m\u001b[0;34m.\u001b[0m\u001b[0m_text2image\u001b[0m\u001b[0;34m(\u001b[0m\u001b[0;34m)\u001b[0m\u001b[0;34m\u001b[0m\u001b[0;34m\u001b[0m\u001b[0m\n\u001b[1;32m    284\u001b[0m \u001b[0;34m\u001b[0m\u001b[0m\n",
      "\u001b[0;32m~/src/slimpi_epd/epdlib/Block.py\u001b[0m in \u001b[0;36mtext_formatter\u001b[0;34m(self, text, max_lines, maxchar)\u001b[0m\n\u001b[1;32m    304\u001b[0m \u001b[0;34m\u001b[0m\u001b[0m\n\u001b[1;32m    305\u001b[0m         \u001b[0mwrapper\u001b[0m \u001b[0;34m=\u001b[0m \u001b[0mtextwrap\u001b[0m\u001b[0;34m.\u001b[0m\u001b[0mTextWrapper\u001b[0m\u001b[0;34m(\u001b[0m\u001b[0mwidth\u001b[0m\u001b[0;34m=\u001b[0m\u001b[0mmaxchar\u001b[0m\u001b[0;34m,\u001b[0m \u001b[0mmax_lines\u001b[0m\u001b[0;34m=\u001b[0m\u001b[0mmax_lines\u001b[0m\u001b[0;34m)\u001b[0m\u001b[0;34m\u001b[0m\u001b[0;34m\u001b[0m\u001b[0m\n\u001b[0;32m--> 306\u001b[0;31m         \u001b[0mformatted\u001b[0m \u001b[0;34m=\u001b[0m \u001b[0mwrapper\u001b[0m\u001b[0;34m.\u001b[0m\u001b[0mwrap\u001b[0m\u001b[0;34m(\u001b[0m\u001b[0mtext\u001b[0m\u001b[0;34m)\u001b[0m\u001b[0;34m\u001b[0m\u001b[0;34m\u001b[0m\u001b[0m\n\u001b[0m\u001b[1;32m    307\u001b[0m         \u001b[0mlogging\u001b[0m\u001b[0;34m.\u001b[0m\u001b[0mdebug\u001b[0m\u001b[0;34m(\u001b[0m\u001b[0;34mf'formatted list:\\n {formatted}'\u001b[0m\u001b[0;34m)\u001b[0m\u001b[0;34m\u001b[0m\u001b[0;34m\u001b[0m\u001b[0m\n\u001b[1;32m    308\u001b[0m         \u001b[0;32mreturn\u001b[0m\u001b[0;34m(\u001b[0m\u001b[0mformatted\u001b[0m\u001b[0;34m)\u001b[0m\u001b[0;34m\u001b[0m\u001b[0;34m\u001b[0m\u001b[0m\n",
      "\u001b[0;32m/usr/lib/python3.7/textwrap.py\u001b[0m in \u001b[0;36mwrap\u001b[0;34m(self, text)\u001b[0m\n\u001b[1;32m    352\u001b[0m         \u001b[0;32mif\u001b[0m \u001b[0mself\u001b[0m\u001b[0;34m.\u001b[0m\u001b[0mfix_sentence_endings\u001b[0m\u001b[0;34m:\u001b[0m\u001b[0;34m\u001b[0m\u001b[0;34m\u001b[0m\u001b[0m\n\u001b[1;32m    353\u001b[0m             \u001b[0mself\u001b[0m\u001b[0;34m.\u001b[0m\u001b[0m_fix_sentence_endings\u001b[0m\u001b[0;34m(\u001b[0m\u001b[0mchunks\u001b[0m\u001b[0;34m)\u001b[0m\u001b[0;34m\u001b[0m\u001b[0;34m\u001b[0m\u001b[0m\n\u001b[0;32m--> 354\u001b[0;31m         \u001b[0;32mreturn\u001b[0m \u001b[0mself\u001b[0m\u001b[0;34m.\u001b[0m\u001b[0m_wrap_chunks\u001b[0m\u001b[0;34m(\u001b[0m\u001b[0mchunks\u001b[0m\u001b[0;34m)\u001b[0m\u001b[0;34m\u001b[0m\u001b[0;34m\u001b[0m\u001b[0m\n\u001b[0m\u001b[1;32m    355\u001b[0m \u001b[0;34m\u001b[0m\u001b[0m\n\u001b[1;32m    356\u001b[0m     \u001b[0;32mdef\u001b[0m \u001b[0mfill\u001b[0m\u001b[0;34m(\u001b[0m\u001b[0mself\u001b[0m\u001b[0;34m,\u001b[0m \u001b[0mtext\u001b[0m\u001b[0;34m)\u001b[0m\u001b[0;34m:\u001b[0m\u001b[0;34m\u001b[0m\u001b[0;34m\u001b[0m\u001b[0m\n",
      "\u001b[0;32m/usr/lib/python3.7/textwrap.py\u001b[0m in \u001b[0;36m_wrap_chunks\u001b[0;34m(self, chunks)\u001b[0m\n\u001b[1;32m    253\u001b[0m                 \u001b[0mindent\u001b[0m \u001b[0;34m=\u001b[0m \u001b[0mself\u001b[0m\u001b[0;34m.\u001b[0m\u001b[0minitial_indent\u001b[0m\u001b[0;34m\u001b[0m\u001b[0;34m\u001b[0m\u001b[0m\n\u001b[1;32m    254\u001b[0m             \u001b[0;32mif\u001b[0m \u001b[0mlen\u001b[0m\u001b[0;34m(\u001b[0m\u001b[0mindent\u001b[0m\u001b[0;34m)\u001b[0m \u001b[0;34m+\u001b[0m \u001b[0mlen\u001b[0m\u001b[0;34m(\u001b[0m\u001b[0mself\u001b[0m\u001b[0;34m.\u001b[0m\u001b[0mplaceholder\u001b[0m\u001b[0;34m.\u001b[0m\u001b[0mlstrip\u001b[0m\u001b[0;34m(\u001b[0m\u001b[0;34m)\u001b[0m\u001b[0;34m)\u001b[0m \u001b[0;34m>\u001b[0m \u001b[0mself\u001b[0m\u001b[0;34m.\u001b[0m\u001b[0mwidth\u001b[0m\u001b[0;34m:\u001b[0m\u001b[0;34m\u001b[0m\u001b[0;34m\u001b[0m\u001b[0m\n\u001b[0;32m--> 255\u001b[0;31m                 \u001b[0;32mraise\u001b[0m \u001b[0mValueError\u001b[0m\u001b[0;34m(\u001b[0m\u001b[0;34m\"placeholder too large for max width\"\u001b[0m\u001b[0;34m)\u001b[0m\u001b[0;34m\u001b[0m\u001b[0;34m\u001b[0m\u001b[0m\n\u001b[0m\u001b[1;32m    256\u001b[0m \u001b[0;34m\u001b[0m\u001b[0m\n\u001b[1;32m    257\u001b[0m         \u001b[0;31m# Arrange in reverse order so items can be efficiently popped\u001b[0m\u001b[0;34m\u001b[0m\u001b[0;34m\u001b[0m\u001b[0;34m\u001b[0m\u001b[0m\n",
      "\u001b[0;31mValueError\u001b[0m: placeholder too large for max width"
     ]
    }
   ],
   "source": [
    "tl = epdlib.Layout(layout=epdlib.layouts.clock)"
   ]
  },
  {
   "cell_type": "code",
   "execution_count": 33,
   "metadata": {},
   "outputs": [],
   "source": [
    "import datetime"
   ]
  },
  {
   "cell_type": "code",
   "execution_count": 53,
   "metadata": {},
   "outputs": [
    {
     "name": "stdout",
     "output_type": "stream",
     "text": [
      "Layout:layout:172:DEBUG - calculating values from layout for resolution (600, 392)\n",
      "Layout:layout:174:INFO - no layout provided\n"
     ]
    }
   ],
   "source": [
    "l = epdlib.Layout(resolution=(600, 392))"
   ]
  },
  {
   "cell_type": "code",
   "execution_count": 56,
   "metadata": {},
   "outputs": [
    {
     "name": "stdout",
     "output_type": "stream",
     "text": [
      "Layout:_scalefont:134:DEBUG - calculating font size\n",
      "Layout:_scalefont:135:DEBUG - using font at path: /home/pi/src/slimpi_epd/fonts/Ubuntu/Ubuntu-Regular.ttf\n",
      "Layout:_scalefont:145:DEBUG - target Y fontsize: 274.4\n",
      "Layout:_scalefont:158:DEBUG - fontsize: 294\n"
     ]
    },
    {
     "data": {
      "text/plain": [
       "294"
      ]
     },
     "execution_count": 56,
     "metadata": {},
     "output_type": "execute_result"
    }
   ],
   "source": [
    "l._scalefont(font='./fonts/Ubuntu/Ubuntu-Regular.ttf', dimensions=(600,392))"
   ]
  },
  {
   "cell_type": "code",
   "execution_count": 59,
   "metadata": {},
   "outputs": [
    {
     "name": "stdout",
     "output_type": "stream",
     "text": [
      "Block:area:74:DEBUG - maximum area: (600, 392)\n",
      "Block:abs_coordinates:91:DEBUG - absolute coordinates: (0, 0)\n",
      "Block:maxchar:264:DEBUG - maximum characters per line: 4\n"
     ]
    },
    {
     "ename": "ValueError",
     "evalue": "placeholder too large for max width",
     "output_type": "error",
     "traceback": [
      "\u001b[0;31m---------------------------------------------------------------------------\u001b[0m",
      "\u001b[0;31mValueError\u001b[0m                                Traceback (most recent call last)",
      "\u001b[0;32m<ipython-input-59-c0718709f181>\u001b[0m in \u001b[0;36m<module>\u001b[0;34m\u001b[0m\n\u001b[0;32m----> 1\u001b[0;31m \u001b[0mb\u001b[0m \u001b[0;34m=\u001b[0m \u001b[0mepdlib\u001b[0m\u001b[0;34m.\u001b[0m\u001b[0mBlock\u001b[0m\u001b[0;34m.\u001b[0m\u001b[0mTextBlock\u001b[0m\u001b[0;34m(\u001b[0m\u001b[0mfont\u001b[0m\u001b[0;34m=\u001b[0m\u001b[0;34m'./fonts/Ubuntu/Ubuntu-Regular.ttf'\u001b[0m\u001b[0;34m,\u001b[0m \u001b[0mfont_size\u001b[0m\u001b[0;34m=\u001b[0m\u001b[0;36m250\u001b[0m\u001b[0;34m,\u001b[0m \u001b[0marea\u001b[0m\u001b[0;34m=\u001b[0m\u001b[0;34m(\u001b[0m\u001b[0;36m600\u001b[0m\u001b[0;34m,\u001b[0m \u001b[0;36m392\u001b[0m\u001b[0;34m)\u001b[0m\u001b[0;34m)\u001b[0m\u001b[0;34m\u001b[0m\u001b[0;34m\u001b[0m\u001b[0m\n\u001b[0m",
      "\u001b[0;32m~/src/slimpi_epd/epdlib/Block.py\u001b[0m in \u001b[0;36m__init__\u001b[0;34m(self, text, font, font_size, max_lines, maxchar, chardist, *args, **kwargs)\u001b[0m\n\u001b[1;32m    216\u001b[0m         \u001b[0mself\u001b[0m\u001b[0;34m.\u001b[0m\u001b[0mmaxchar\u001b[0m \u001b[0;34m=\u001b[0m \u001b[0mmaxchar\u001b[0m\u001b[0;34m\u001b[0m\u001b[0;34m\u001b[0m\u001b[0m\n\u001b[1;32m    217\u001b[0m         \u001b[0mself\u001b[0m\u001b[0;34m.\u001b[0m\u001b[0mimage\u001b[0m \u001b[0;34m=\u001b[0m\u001b[0;32mNone\u001b[0m\u001b[0;34m\u001b[0m\u001b[0;34m\u001b[0m\u001b[0m\n\u001b[0;32m--> 218\u001b[0;31m         \u001b[0mself\u001b[0m\u001b[0;34m.\u001b[0m\u001b[0mtext\u001b[0m \u001b[0;34m=\u001b[0m \u001b[0mtext\u001b[0m\u001b[0;34m\u001b[0m\u001b[0;34m\u001b[0m\u001b[0m\n\u001b[0m\u001b[1;32m    219\u001b[0m \u001b[0;34m\u001b[0m\u001b[0m\n\u001b[1;32m    220\u001b[0m     \u001b[0;32mdef\u001b[0m \u001b[0mupdate\u001b[0m\u001b[0;34m(\u001b[0m\u001b[0mself\u001b[0m\u001b[0;34m,\u001b[0m \u001b[0mupdate\u001b[0m\u001b[0;34m=\u001b[0m\u001b[0;32mNone\u001b[0m\u001b[0;34m)\u001b[0m\u001b[0;34m:\u001b[0m\u001b[0;34m\u001b[0m\u001b[0;34m\u001b[0m\u001b[0m\n",
      "\u001b[0;32m~/src/slimpi_epd/epdlib/Block.py\u001b[0m in \u001b[0;36mtext\u001b[0;34m(self, text)\u001b[0m\n\u001b[1;32m    280\u001b[0m     \u001b[0;32mdef\u001b[0m \u001b[0mtext\u001b[0m\u001b[0;34m(\u001b[0m\u001b[0mself\u001b[0m\u001b[0;34m,\u001b[0m \u001b[0mtext\u001b[0m\u001b[0;34m)\u001b[0m\u001b[0;34m:\u001b[0m\u001b[0;34m\u001b[0m\u001b[0;34m\u001b[0m\u001b[0m\n\u001b[1;32m    281\u001b[0m         \u001b[0mself\u001b[0m\u001b[0;34m.\u001b[0m\u001b[0m_text\u001b[0m \u001b[0;34m=\u001b[0m \u001b[0mtext\u001b[0m\u001b[0;34m\u001b[0m\u001b[0;34m\u001b[0m\u001b[0m\n\u001b[0;32m--> 282\u001b[0;31m         \u001b[0mself\u001b[0m\u001b[0;34m.\u001b[0m\u001b[0mtext_formatted\u001b[0m \u001b[0;34m=\u001b[0m \u001b[0mself\u001b[0m\u001b[0;34m.\u001b[0m\u001b[0mtext_formatter\u001b[0m\u001b[0;34m(\u001b[0m\u001b[0;34m)\u001b[0m\u001b[0;34m\u001b[0m\u001b[0;34m\u001b[0m\u001b[0m\n\u001b[0m\u001b[1;32m    283\u001b[0m         \u001b[0mself\u001b[0m\u001b[0;34m.\u001b[0m\u001b[0mimage\u001b[0m \u001b[0;34m=\u001b[0m \u001b[0mself\u001b[0m\u001b[0;34m.\u001b[0m\u001b[0m_text2image\u001b[0m\u001b[0;34m(\u001b[0m\u001b[0;34m)\u001b[0m\u001b[0;34m\u001b[0m\u001b[0;34m\u001b[0m\u001b[0m\n\u001b[1;32m    284\u001b[0m \u001b[0;34m\u001b[0m\u001b[0m\n",
      "\u001b[0;32m~/src/slimpi_epd/epdlib/Block.py\u001b[0m in \u001b[0;36mtext_formatter\u001b[0;34m(self, text, max_lines, maxchar)\u001b[0m\n\u001b[1;32m    304\u001b[0m \u001b[0;34m\u001b[0m\u001b[0m\n\u001b[1;32m    305\u001b[0m         \u001b[0mwrapper\u001b[0m \u001b[0;34m=\u001b[0m \u001b[0mtextwrap\u001b[0m\u001b[0;34m.\u001b[0m\u001b[0mTextWrapper\u001b[0m\u001b[0;34m(\u001b[0m\u001b[0mwidth\u001b[0m\u001b[0;34m=\u001b[0m\u001b[0mmaxchar\u001b[0m\u001b[0;34m,\u001b[0m \u001b[0mmax_lines\u001b[0m\u001b[0;34m=\u001b[0m\u001b[0mmax_lines\u001b[0m\u001b[0;34m)\u001b[0m\u001b[0;34m\u001b[0m\u001b[0;34m\u001b[0m\u001b[0m\n\u001b[0;32m--> 306\u001b[0;31m         \u001b[0mformatted\u001b[0m \u001b[0;34m=\u001b[0m \u001b[0mwrapper\u001b[0m\u001b[0;34m.\u001b[0m\u001b[0mwrap\u001b[0m\u001b[0;34m(\u001b[0m\u001b[0mtext\u001b[0m\u001b[0;34m)\u001b[0m\u001b[0;34m\u001b[0m\u001b[0;34m\u001b[0m\u001b[0m\n\u001b[0m\u001b[1;32m    307\u001b[0m         \u001b[0mlogging\u001b[0m\u001b[0;34m.\u001b[0m\u001b[0mdebug\u001b[0m\u001b[0;34m(\u001b[0m\u001b[0;34mf'formatted list:\\n {formatted}'\u001b[0m\u001b[0;34m)\u001b[0m\u001b[0;34m\u001b[0m\u001b[0;34m\u001b[0m\u001b[0m\n\u001b[1;32m    308\u001b[0m         \u001b[0;32mreturn\u001b[0m\u001b[0;34m(\u001b[0m\u001b[0mformatted\u001b[0m\u001b[0;34m)\u001b[0m\u001b[0;34m\u001b[0m\u001b[0;34m\u001b[0m\u001b[0m\n",
      "\u001b[0;32m/usr/lib/python3.7/textwrap.py\u001b[0m in \u001b[0;36mwrap\u001b[0;34m(self, text)\u001b[0m\n\u001b[1;32m    352\u001b[0m         \u001b[0;32mif\u001b[0m \u001b[0mself\u001b[0m\u001b[0;34m.\u001b[0m\u001b[0mfix_sentence_endings\u001b[0m\u001b[0;34m:\u001b[0m\u001b[0;34m\u001b[0m\u001b[0;34m\u001b[0m\u001b[0m\n\u001b[1;32m    353\u001b[0m             \u001b[0mself\u001b[0m\u001b[0;34m.\u001b[0m\u001b[0m_fix_sentence_endings\u001b[0m\u001b[0;34m(\u001b[0m\u001b[0mchunks\u001b[0m\u001b[0;34m)\u001b[0m\u001b[0;34m\u001b[0m\u001b[0;34m\u001b[0m\u001b[0m\n\u001b[0;32m--> 354\u001b[0;31m         \u001b[0;32mreturn\u001b[0m \u001b[0mself\u001b[0m\u001b[0;34m.\u001b[0m\u001b[0m_wrap_chunks\u001b[0m\u001b[0;34m(\u001b[0m\u001b[0mchunks\u001b[0m\u001b[0;34m)\u001b[0m\u001b[0;34m\u001b[0m\u001b[0;34m\u001b[0m\u001b[0m\n\u001b[0m\u001b[1;32m    355\u001b[0m \u001b[0;34m\u001b[0m\u001b[0m\n\u001b[1;32m    356\u001b[0m     \u001b[0;32mdef\u001b[0m \u001b[0mfill\u001b[0m\u001b[0;34m(\u001b[0m\u001b[0mself\u001b[0m\u001b[0;34m,\u001b[0m \u001b[0mtext\u001b[0m\u001b[0;34m)\u001b[0m\u001b[0;34m:\u001b[0m\u001b[0;34m\u001b[0m\u001b[0;34m\u001b[0m\u001b[0m\n",
      "\u001b[0;32m/usr/lib/python3.7/textwrap.py\u001b[0m in \u001b[0;36m_wrap_chunks\u001b[0;34m(self, chunks)\u001b[0m\n\u001b[1;32m    253\u001b[0m                 \u001b[0mindent\u001b[0m \u001b[0;34m=\u001b[0m \u001b[0mself\u001b[0m\u001b[0;34m.\u001b[0m\u001b[0minitial_indent\u001b[0m\u001b[0;34m\u001b[0m\u001b[0;34m\u001b[0m\u001b[0m\n\u001b[1;32m    254\u001b[0m             \u001b[0;32mif\u001b[0m \u001b[0mlen\u001b[0m\u001b[0;34m(\u001b[0m\u001b[0mindent\u001b[0m\u001b[0;34m)\u001b[0m \u001b[0;34m+\u001b[0m \u001b[0mlen\u001b[0m\u001b[0;34m(\u001b[0m\u001b[0mself\u001b[0m\u001b[0;34m.\u001b[0m\u001b[0mplaceholder\u001b[0m\u001b[0;34m.\u001b[0m\u001b[0mlstrip\u001b[0m\u001b[0;34m(\u001b[0m\u001b[0;34m)\u001b[0m\u001b[0;34m)\u001b[0m \u001b[0;34m>\u001b[0m \u001b[0mself\u001b[0m\u001b[0;34m.\u001b[0m\u001b[0mwidth\u001b[0m\u001b[0;34m:\u001b[0m\u001b[0;34m\u001b[0m\u001b[0;34m\u001b[0m\u001b[0m\n\u001b[0;32m--> 255\u001b[0;31m                 \u001b[0;32mraise\u001b[0m \u001b[0mValueError\u001b[0m\u001b[0;34m(\u001b[0m\u001b[0;34m\"placeholder too large for max width\"\u001b[0m\u001b[0;34m)\u001b[0m\u001b[0;34m\u001b[0m\u001b[0;34m\u001b[0m\u001b[0m\n\u001b[0m\u001b[1;32m    256\u001b[0m \u001b[0;34m\u001b[0m\u001b[0m\n\u001b[1;32m    257\u001b[0m         \u001b[0;31m# Arrange in reverse order so items can be efficiently popped\u001b[0m\u001b[0;34m\u001b[0m\u001b[0;34m\u001b[0m\u001b[0;34m\u001b[0m\u001b[0m\n",
      "\u001b[0;31mValueError\u001b[0m: placeholder too large for max width"
     ]
    }
   ],
   "source": [
    "b = epdlib.Block.TextBlock(font='./fonts/Ubuntu/Ubuntu-Regular.ttf', font_size=250, area=(600, 392))"
   ]
  },
  {
   "cell_type": "code",
   "execution_count": 42,
   "metadata": {},
   "outputs": [
    {
     "name": "stdout",
     "output_type": "stream",
     "text": [
      "Help on TextBlock in module epdlib.Block object:\n",
      "\n",
      "class TextBlock(Block)\n",
      " |  TextBlock(text=' ', font=None, font_size=24, max_lines=1, maxchar=None, chardist=None, *args, **kwargs)\n",
      " |  \n",
      " |  Method resolution order:\n",
      " |      TextBlock\n",
      " |      Block\n",
      " |      builtins.object\n",
      " |  \n",
      " |  Methods defined here:\n",
      " |  \n",
      " |  __init__(self, text=' ', font=None, font_size=24, max_lines=1, maxchar=None, chardist=None, *args, **kwargs)\n",
      " |      Constructor for ImageBlock Class.\n",
      " |      \n",
      " |      Args:\n",
      " |          image (PIL.Image): Image to be formatted and resized to fit within\n",
      " |              area\n",
      " |          area (:obj:`tuple` of :obj: `int`): x, y integer dimensions of \n",
      " |              maximum area in pixles\n",
      " |          abs_coordinates (:obj:`tuple` of `int`): x, y integer coordinates of image area\n",
      " |              within a larger image\n",
      " |          hcenter (boolean, optional): True - horizontal-align image within the area, \n",
      " |              False - left-align image\n",
      " |          vcenter (boolean, optional): True - vertical-align image within the area,\n",
      " |              False - top-align image\n",
      " |          padding (int, optional): amount of padding between resized image and edge of area\n",
      " |  \n",
      " |  text_formatter(self, text=None, max_lines=None, maxchar=None)\n",
      " |      format text using word-wrap strategies. \n",
      " |      \n",
      " |      Formatting is based on number of lines, area size and maximum characters per line\n",
      " |      \n",
      " |      Args:\n",
      " |          text (str): raw text\n",
      " |          maxchar (int): maximum number of characters on each line\n",
      " |          max_lines (int): maximum number of lines\n",
      " |          \n",
      " |      Returns:\n",
      " |          :obj:`list` of :obj:`str`\n",
      " |  \n",
      " |  update(self, update=None)\n",
      " |      update function the object with the incoming data.\n",
      " |      \n",
      " |      Method is used by other class objects to update all image blocks \n",
      " |      \n",
      " |      Args:\n",
      " |          update (str): path to image file\n",
      " |              \n",
      " |      Returns:\n",
      " |          bool: True upon success\n",
      " |  \n",
      " |  ----------------------------------------------------------------------\n",
      " |  Data descriptors defined here:\n",
      " |  \n",
      " |  maxchar\n",
      " |      int: maximum number of characters per line - if no value \n",
      " |              is provided, this will be calculated\n",
      " |      \n",
      " |      If no value is provided, a random string of characters is generated based on the\n",
      " |      frequency tables: `chardist`. The default distribution is American English. \n",
      " |      Based on this string the maximum number of characters for a given font and font size.\n",
      " |  \n",
      " |  text\n",
      " |      :obj:`str`: raw text to be formatted.\n",
      " |      \n",
      " |      setting or resetting this property will also set the following attributes\n",
      " |          text (str): unformatted raw text\n",
      " |          text_formatted (list): of (str): wrapped text\n",
      " |          image (:obj:`PIL.Image`): image based on wrapped and formatted text\n",
      " |          img_coordinates (:obj:`tuple` of :obj:`int`): coordinates of text image adjusted \n",
      " |              for size of textblock\n",
      " |  \n",
      " |  ----------------------------------------------------------------------\n",
      " |  Data descriptors inherited from Block:\n",
      " |  \n",
      " |  __dict__\n",
      " |      dictionary for instance variables (if defined)\n",
      " |  \n",
      " |  __weakref__\n",
      " |      list of weak references to the object (if defined)\n",
      " |  \n",
      " |  abs_coordinates\n",
      " |      :obj:`tuple` of :obj:`int`: absolute_coordinates of area within larger image.\n",
      " |      \n",
      " |      Setting `abs_coordinates` atomatically sets `img_coordinates` to the same value.\n",
      " |  \n",
      " |  area\n",
      " |      :obj:`tuple` of :obj:`int`: maximum area of imageblock\n",
      "\n"
     ]
    }
   ],
   "source": [
    "help(b)"
   ]
  },
  {
   "cell_type": "code",
   "execution_count": null,
   "metadata": {},
   "outputs": [],
   "source": [
    "t = datetime.datetime.now().time()\n",
    "timeStr = f'{t.hour}:{t.minute}'"
   ]
  },
  {
   "cell_type": "code",
   "execution_count": null,
   "metadata": {},
   "outputs": [],
   "source": []
  }
 ],
 "metadata": {
  "kernelspec": {
   "display_name": "slimpi_epd-b1Rf9la8",
   "language": "python",
   "name": "slimpi_epd-b1rf9la8"
  },
  "language_info": {
   "codemirror_mode": {
    "name": "ipython",
    "version": 3
   },
   "file_extension": ".py",
   "mimetype": "text/x-python",
   "name": "python",
   "nbconvert_exporter": "python",
   "pygments_lexer": "ipython3",
   "version": "3.7.3"
  }
 },
 "nbformat": 4,
 "nbformat_minor": 2
}
