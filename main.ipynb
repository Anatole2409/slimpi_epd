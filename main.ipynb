{
 "cells": [
  {
   "cell_type": "code",
   "execution_count": 37,
   "metadata": {},
   "outputs": [
    {
     "name": "stdout",
     "output_type": "stream",
     "text": [
      "The autoreload extension is already loaded. To reload it, use:\n",
      "  %reload_ext autoreload\n"
     ]
    }
   ],
   "source": [
    "%load_ext autoreload\n",
    "%autoreload 2"
   ]
  },
  {
   "cell_type": "code",
   "execution_count": 43,
   "metadata": {},
   "outputs": [],
   "source": [
    "%reload_ext autoreload"
   ]
  },
  {
   "cell_type": "code",
   "execution_count": 44,
   "metadata": {},
   "outputs": [],
   "source": [
    "import logging\n",
    "import logging.config\n",
    "import configparser\n",
    "import os\n",
    "import time\n",
    "from pathlib import Path\n",
    "import signal\n",
    "from cachepath import CachePath, TempPath, Path\n",
    "import requests\n",
    "import shutil\n",
    "\n",
    "\n",
    "\n",
    "import lmsquery\n",
    "from waveshare_epd import epd5in83"
   ]
  },
  {
   "cell_type": "code",
   "execution_count": 45,
   "metadata": {},
   "outputs": [],
   "source": [
    "import cfg\n",
    "import epdlib"
   ]
  },
  {
   "cell_type": "code",
   "execution_count": 29,
   "metadata": {},
   "outputs": [],
   "source": [
    "# this works best as a global variable\n",
    "logConfig = Path(cfg.LOGCONFIG)\n",
    "logging.config.fileConfig(logConfig.absolute())\n",
    "# logging.basicConfig(level=logging.DEBUG, format='%(asctime)s %(name)s %(levelname)s: %(message)s')\n",
    "\n",
    "logger = logging.getLogger(__name__)"
   ]
  },
  {
   "cell_type": "code",
   "execution_count": 30,
   "metadata": {},
   "outputs": [],
   "source": [
    "appShortName = 'slimpi'\n",
    "name = 'com.txoof.'\n",
    "appLongName = name+appShortName"
   ]
  },
  {
   "cell_type": "code",
   "execution_count": 31,
   "metadata": {},
   "outputs": [],
   "source": [
    "def configuration(configFile=None):\n",
    "    \n",
    "    configDefaults = cfg.CONFIGDEFAULTS\n",
    "    \n",
    "    if not configFile:\n",
    "         configFile = Path(cfg.CONFIGFILE)\n",
    "\n",
    "    config = configparser.ConfigParser()\n",
    "    logger.info(f'reading configuration: {configFile}')\n",
    "    config.read(configFile)\n",
    "    \n",
    "    try:\n",
    "        for section in configDefaults:\n",
    "            if section not in config.sections():\n",
    "                logger.debug(f'adding section: {section}')\n",
    "                config.add_section(section)\n",
    "            \n",
    "            for option in configDefaults[section]:\n",
    "                if not config.has_option(section, option):\n",
    "                    logger.debug(f'missing option: {option}')\n",
    "                    logger.debug(f'setting {option} to: {configDefaults[section][option]}')\n",
    "                    config[section][option] = str(configDefaults[section][option])\n",
    "            with open(configFile, 'w') as file:\n",
    "                config.write(file)\n",
    "    \n",
    "    except Exception as e:\n",
    "        logging.exception(f'exception on configuration file: {e}')\n",
    "        raise\n",
    "    \n",
    "    logger.debug(f'config file contains sections: {config.sections()}')\n",
    "    return config"
   ]
  },
  {
   "cell_type": "code",
   "execution_count": 32,
   "metadata": {},
   "outputs": [],
   "source": [
    "def query(lms, last=0, delay=7):\n",
    "    '''query the player only when a specified delay has passed\n",
    "    Accepts:\n",
    "        last: float - last time query was called\n",
    "\n",
    "    Returns:\n",
    "        tuple(last, lms.now_playing()\n",
    "    '''\n",
    "    if last==0:\n",
    "        last = time.clock_gettime(time.CLOCK_MONOTONIC)-delay\n",
    "\n",
    "    if time.clock_gettime(time.CLOCK_MONOTONIC) > last+delay:\n",
    "        return time.clock_gettime(time.CLOCK_MONOTONIC), lms.now_playing()\n",
    "\n",
    "    else:\n",
    "        return last, None"
   ]
  },
  {
   "cell_type": "code",
   "execution_count": 33,
   "metadata": {},
   "outputs": [],
   "source": [
    "def cacheArt(query={}):\n",
    "    if not query:\n",
    "        return None\n",
    "    \n",
    "    cachePath = CachePath(appLongName, dir=True)\n",
    "    required = ['artwork_url', 'album_id'] \n",
    "    missing = []\n",
    "    \n",
    "    for key in required:\n",
    "        if not key in query:\n",
    "            missing.append(key)\n",
    "    if missing:\n",
    "        logger.warning(f'required value(s) in `query` missing: {missing}')\n",
    "        return None\n",
    "    \n",
    "    albumArtFile = cachePath/(query['album_id']+'.jpg')\n",
    "    \n",
    "    # check if file already exists in cache\n",
    "    if albumArtFile.exists():\n",
    "        logging.debug(f'album artwork already downloaded at: {albumArtFile}')\n",
    "        return albumArtFile\n",
    "    \n",
    "    r = False\n",
    "    albumArtURL = query['artwork_url']\n",
    "    \n",
    "    # try to fetch the album art\n",
    "    try:\n",
    "        r = requests.get(albumArtURL, stream=True)\n",
    "    except requests.exceptions.RequestException as e:\n",
    "        logging.error(f'failed to fetch artwork at {albumArtURL}: {e}')\n",
    "        \n",
    "    if r:\n",
    "        try:\n",
    "            with open(albumArtFile, 'wb') as outFile:\n",
    "                shutil.copyfileobj(r.raw, outFile)\n",
    "                logging.debug(f'wrote album art to: {albumArtFile}')\n",
    "        except (OSError, FileExistsError, ValueError) as e:\n",
    "            logging.error(f'failed to write {albumArtFile}: {e}')\n",
    "    else:\n",
    "        logging.error('skipping download of album artwork due to previous errors')\n",
    "\n",
    "    return albumArtFile\n",
    "    "
   ]
  },
  {
   "cell_type": "code",
   "execution_count": 34,
   "metadata": {},
   "outputs": [],
   "source": [
    "class signalHandler(object):\n",
    "    '''handle specific signals and allow graceful exiting while loop\n",
    "    https://stackoverflow.com/a/31464349/5530152\n",
    "    \n",
    "    Signals Handled Gracefully:\n",
    "        SIGINT\n",
    "        SIGTERM\n",
    "    Atributes:\n",
    "        kill_now (bool) default: False\n",
    "    '''\n",
    "    kill_now = False\n",
    "    def __init__(self):\n",
    "        signal.signal(signal.SIGINT, self.exit_gracefully)\n",
    "        signal.signal(signal.SIGTERM, self.exit_gracefully)\n",
    "    \n",
    "    def exit_gracefully(self, signum, frame):\n",
    "        self.kill_now = True"
   ]
  },
  {
   "cell_type": "code",
   "execution_count": 41,
   "metadata": {},
   "outputs": [],
   "source": [
    "def main():\n",
    "    '''main entry point\n",
    "    '''   \n",
    "    logger.setLevel(logging.DEBUG)\n",
    "    logger.info('Starting program')\n",
    "    config = configuration()\n",
    "    # scan for lms server and use the first one (this may be a terrible idea for other people)\n",
    "#     lmsServer = lmsquery.scanLMS()[0]\n",
    "    \n",
    "    # define LMS query object\n",
    "#     lms = lmsquery.LMSQuery(lmsServer['host'], lmsServer['port'], config.get('server', 'player'))\n",
    "    lms = lmsquery.LMSQuery(player_id=config.get('server', 'player'))\n",
    "    \n",
    "    screen = epdlib.Screen()\n",
    "    screen.epd = epd5in83.EPD()\n",
    "    screen.initEPD()\n",
    "#     screen.clearEPD()\n",
    "    layout = epdlib.Layout(layout=epdlib.layouts.threeRow)\n",
    "    layout.update_contents(query(lms, 0)[1])\n",
    "    screen.initEPD()\n",
    "    screen.elements=layout.blocks.values()\n",
    "#     screen.concat()\n",
    "#     screen.writeEPD()    \n",
    "    \n",
    "    \n",
    "    sigHandler = signalHandler()\n",
    "    \n",
    "    # last update\n",
    "    updated = 0\n",
    "    # id of currently playing track\n",
    "    nowPlayingID = None\n",
    "    # status of player \n",
    "    nowPlayingMode = None\n",
    "\n",
    "    # now playing fields to display\n",
    "    fields = ['title', 'album', 'artist', 'mode', 'artwork_url']\n",
    "    \n",
    "    \n",
    "    print(f'pid: {os.getpid()}')\n",
    "    try:\n",
    "        while not sigHandler.kill_now:\n",
    "            # add some try: around this\n",
    "            updated, value = query(lms=lms, last=updated, delay=3)\n",
    "            \n",
    "            response = value\n",
    "            \n",
    "            # if there's a response, check to see if display needs an update\n",
    "            if response: \n",
    "                # if the album ID changed the player state changed, update the display\n",
    "                if response['id'] != nowPlayingID or response['mode'] != nowPlayingMode:\n",
    "                    \n",
    "                    albumArt = cacheArt(response)\n",
    "                    \n",
    "                    if not albumArt:\n",
    "                        albumArt = cfg.NOIMAGE\n",
    "                        \n",
    "                    value['coverart'] = str(albumArt)\n",
    "                    \n",
    "                    layout.update_contents(value)\n",
    "                    screen.initEPD()\n",
    "                    screen.elements=layout.blocks.values()\n",
    "                    screen.concat()\n",
    "                    screen.writeEPD()                      \n",
    "                    \n",
    "                    nowPlayingID = response['id']\n",
    "                    nowPlayingMode = response['mode']\n",
    "                    for field in fields:\n",
    "                        print(f'{field}: {response[field]}')\n",
    "                    print('\\n')\n",
    "            time.sleep(0.5)\n",
    "    finally:\n",
    "        print(\"cleaning up\")\n",
    "        screen.initEPD()\n",
    "        screen.clearEPD()\n",
    "        return layout    "
   ]
  },
  {
   "cell_type": "code",
   "execution_count": 46,
   "metadata": {},
   "outputs": [
    {
     "name": "stdout",
     "output_type": "stream",
     "text": [
      "epd5in83:ReadBusy:69:DEBUG - e-Paper busy\n",
      "epd5in83:ReadBusy:72:DEBUG - e-Paper busy release\n",
      "Layout:layout:191:DEBUG - calculating values from layout for resolution (600, 448)\n",
      "Layout:_calculate_layout:221:DEBUG - ***title***\n",
      "Layout:_check_keys:108:DEBUG - checking key/values\n",
      "Layout:_check_keys:113:DEBUG - missing key: dimensions; adding and setting to None\n",
      "Layout:_calculate_layout:228:DEBUG - dimensions: (600, 179)\n",
      "Layout:_calculate_layout:257:DEBUG - has explict position\n",
      "Layout:_calculate_layout:259:DEBUG - abs_coordinates: (0, 0)\n",
      "Layout:_scalefont:134:DEBUG - calculating font size\n",
      "Layout:_scalefont:135:DEBUG - using font at path: /home/pi/src/slimpi_epd/fonts/Open_Sans/OpenSans-Regular.ttf\n",
      "Layout:_scalefont:147:DEBUG - target X font dimension 510.0\n",
      "Layout:_scalefont:148:DEBUG - target Y dimension: 62.65\n",
      "Layout:_scalefont:165:DEBUG - Y target exceeded\n",
      "Layout:_scalefont:177:DEBUG - test string: W W W ; dimensions for fontsize 58: (210, 64)\n",
      "Layout:_calculate_layout:221:DEBUG - ***coverart***\n",
      "Layout:_check_keys:108:DEBUG - checking key/values\n",
      "Layout:_check_keys:113:DEBUG - missing key: dimensions; adding and setting to None\n",
      "Layout:_calculate_layout:228:DEBUG - dimensions: (360, 269)\n",
      "Layout:_calculate_layout:238:DEBUG - has calculated position\n",
      "Layout:_calculate_layout:259:DEBUG - abs_coordinates: (0, 0)\n",
      "Layout:_calculate_layout:221:DEBUG - ***artist***\n",
      "Layout:_check_keys:108:DEBUG - checking key/values\n",
      "Layout:_check_keys:113:DEBUG - missing key: dimensions; adding and setting to None\n",
      "Layout:_calculate_layout:228:DEBUG - dimensions: (240, 90)\n",
      "Layout:_calculate_layout:238:DEBUG - has calculated position\n",
      "Layout:_calculate_layout:259:DEBUG - abs_coordinates: (0, 0)\n",
      "Layout:_scalefont:134:DEBUG - calculating font size\n",
      "Layout:_scalefont:135:DEBUG - using font at path: /home/pi/src/slimpi_epd/fonts/Open_Sans/OpenSans-Regular.ttf\n",
      "Layout:_scalefont:147:DEBUG - target X font dimension 204.0\n",
      "Layout:_scalefont:148:DEBUG - target Y dimension: 31.499999999999996\n",
      "Layout:_scalefont:165:DEBUG - Y target exceeded\n",
      "Layout:_scalefont:177:DEBUG - test string: W W W ; dimensions for fontsize 29: (108, 33)\n",
      "Layout:_calculate_layout:221:DEBUG - ***album***\n",
      "Layout:_check_keys:108:DEBUG - checking key/values\n",
      "Layout:_check_keys:113:DEBUG - missing key: dimensions; adding and setting to None\n",
      "Layout:_calculate_layout:228:DEBUG - dimensions: (240, 90)\n",
      "Layout:_calculate_layout:238:DEBUG - has calculated position\n",
      "Layout:_calculate_layout:259:DEBUG - abs_coordinates: (0, 0)\n",
      "Layout:_scalefont:134:DEBUG - calculating font size\n",
      "Layout:_scalefont:135:DEBUG - using font at path: /home/pi/src/slimpi_epd/fonts/Open_Sans/OpenSans-Regular.ttf\n",
      "Layout:_scalefont:147:DEBUG - target X font dimension 204.0\n",
      "Layout:_scalefont:148:DEBUG - target Y dimension: 31.499999999999996\n",
      "Layout:_scalefont:165:DEBUG - Y target exceeded\n",
      "Layout:_scalefont:177:DEBUG - test string: W W W ; dimensions for fontsize 29: (108, 33)\n",
      "Layout:_calculate_layout:221:DEBUG - ***mode***\n",
      "Layout:_check_keys:108:DEBUG - checking key/values\n",
      "Layout:_check_keys:113:DEBUG - missing key: padding; adding and setting to 0\n",
      "Layout:_check_keys:113:DEBUG - missing key: font; adding and setting to /home/pi/src/slimpi_epd/fonts/Open_Sans/OpenSans-Regular.ttf\n",
      "Layout:_check_keys:113:DEBUG - missing key: fontsize; adding and setting to None\n",
      "Layout:_check_keys:113:DEBUG - missing key: dimensions; adding and setting to None\n",
      "Layout:_calculate_layout:228:DEBUG - dimensions: (240, 90)\n",
      "Layout:_calculate_layout:238:DEBUG - has calculated position\n",
      "Layout:_calculate_layout:259:DEBUG - abs_coordinates: (0, 0)\n",
      "Layout:_scalefont:134:DEBUG - calculating font size\n",
      "Layout:_scalefont:135:DEBUG - using font at path: /home/pi/src/slimpi_epd/fonts/Open_Sans/OpenSans-Regular.ttf\n",
      "Layout:_scalefont:147:DEBUG - target X font dimension 204.0\n",
      "Layout:_scalefont:148:DEBUG - target Y dimension: 62.99999999999999\n",
      "Layout:_scalefont:161:DEBUG - X target exceeded\n",
      "Layout:_scalefont:177:DEBUG - test string: W W W ; dimensions for fontsize 57: (207, 62)\n",
      "Layout:_set_images:286:DEBUG - ***title***)\n",
      "Layout:_set_images:290:DEBUG - set text block\n",
      "Block:area:74:DEBUG - maximum area: (600, 179)\n",
      "Block:abs_coordinates:91:DEBUG - absolute coordinates: (0, 0)\n",
      "Block:maxchar:272:DEBUG - maximum characters per line: 18\n",
      "Block:text_formatter:315:DEBUG - formatted list:\n",
      " ['.']\n",
      "Block:_text2image:344:DEBUG - text image dimensions: (15, 63)\n",
      "Block:_text2image:356:DEBUG - h-center line: .\n",
      "Block:_text2image:364:DEBUG - h-center image coordinates\n",
      "Block:_text2image:369:DEBUG - v-center image coordinates\n",
      "Block:_text2image:373:DEBUG - image coordinates (292, 58)\n",
      "Layout:_set_images:286:DEBUG - ***coverart***)\n",
      "Layout:_set_images:296:DEBUG - set image block\n",
      "Block:area:74:DEBUG - maximum area: (360, 269)\n",
      "Block:abs_coordinates:91:DEBUG - absolute coordinates: (0, 179)\n",
      "Block:image:151:DEBUG - setting empty 1x1 image\n",
      "Layout:_set_images:286:DEBUG - ***artist***)\n",
      "Layout:_set_images:290:DEBUG - set text block\n",
      "Block:area:74:DEBUG - maximum area: (240, 90)\n",
      "Block:abs_coordinates:91:DEBUG - absolute coordinates: (360, 179)\n",
      "Block:maxchar:272:DEBUG - maximum characters per line: 15\n",
      "Block:text_formatter:315:DEBUG - formatted list:\n",
      " ['.']\n",
      "Block:_text2image:344:DEBUG - text image dimensions: (8, 31)\n",
      "Block:_text2image:369:DEBUG - v-center image coordinates\n",
      "Block:_text2image:373:DEBUG - image coordinates (360, 209)\n",
      "Layout:_set_images:286:DEBUG - ***album***)\n",
      "Layout:_set_images:290:DEBUG - set text block\n",
      "Block:area:74:DEBUG - maximum area: (240, 90)\n",
      "Block:abs_coordinates:91:DEBUG - absolute coordinates: (360, 269)\n",
      "Block:maxchar:272:DEBUG - maximum characters per line: 15\n",
      "Block:text_formatter:315:DEBUG - formatted list:\n",
      " ['.']\n",
      "Block:_text2image:344:DEBUG - text image dimensions: (8, 31)\n",
      "Block:_text2image:369:DEBUG - v-center image coordinates\n",
      "Block:_text2image:373:DEBUG - image coordinates (360, 299)\n",
      "Layout:_set_images:286:DEBUG - ***mode***)\n",
      "Layout:_set_images:290:DEBUG - set text block\n",
      "Block:area:74:DEBUG - maximum area: (240, 90)\n",
      "Block:abs_coordinates:91:DEBUG - absolute coordinates: (360, 359)\n",
      "Block:maxchar:272:DEBUG - maximum characters per line: 7\n",
      "Block:text_formatter:315:DEBUG - formatted list:\n",
      " ['.']\n",
      "Block:_text2image:344:DEBUG - text image dimensions: (15, 62)\n",
      "Block:_text2image:369:DEBUG - v-center image coordinates\n",
      "Block:_text2image:373:DEBUG - image coordinates (360, 373)\n",
      "Layout:update_contents:311:DEBUG - updating blocks\n",
      "Layout:update_contents:320:DEBUG - ignoring block id\n",
      "Layout:update_contents:317:DEBUG - updating block: title\n",
      "Block:text_formatter:315:DEBUG - formatted list:\n",
      " ['Birthday']\n",
      "Block:_text2image:344:DEBUG - text image dimensions: (231, 76)\n",
      "Block:_text2image:356:DEBUG - h-center line: Birthday\n",
      "Block:_text2image:364:DEBUG - h-center image coordinates\n",
      "Block:_text2image:369:DEBUG - v-center image coordinates\n",
      "Block:_text2image:373:DEBUG - image coordinates (184, 52)\n",
      "Layout:update_contents:317:DEBUG - updating block: artist\n",
      "Block:text_formatter:315:DEBUG - formatted list:\n",
      " ['The Beatles']\n",
      "Block:_text2image:344:DEBUG - text image dimensions: (156, 31)\n",
      "Block:_text2image:369:DEBUG - v-center image coordinates\n",
      "Block:_text2image:373:DEBUG - image coordinates (360, 209)\n",
      "Layout:update_contents:320:DEBUG - ignoring block coverid\n",
      "Layout:update_contents:320:DEBUG - ignoring block duration\n",
      "Layout:update_contents:320:DEBUG - ignoring block album_id\n",
      "Layout:update_contents:320:DEBUG - ignoring block genre\n",
      "Layout:update_contents:317:DEBUG - updating block: album\n",
      "Block:text_formatter:315:DEBUG - formatted list:\n",
      " ['The Beatles', 'Deluxe, [...]']\n",
      "Block:_text2image:344:DEBUG - text image dimensions: (156, 67)\n",
      "Block:_text2image:369:DEBUG - v-center image coordinates\n",
      "Block:_text2image:373:DEBUG - image coordinates (360, 281)\n",
      "Layout:update_contents:320:DEBUG - ignoring block artwork_url\n",
      "Layout:update_contents:320:DEBUG - ignoring block time\n",
      "Layout:update_contents:317:DEBUG - updating block: mode\n",
      "Block:text_formatter:315:DEBUG - formatted list:\n",
      " ['play']\n",
      "Block:_text2image:344:DEBUG - text image dimensions: (110, 75)\n",
      "Block:_text2image:369:DEBUG - v-center image coordinates\n",
      "Block:_text2image:373:DEBUG - image coordinates (360, 367)\n",
      "epd5in83:ReadBusy:69:DEBUG - e-Paper busy\n",
      "epd5in83:ReadBusy:72:DEBUG - e-Paper busy release\n",
      "pid: 1029\n",
      "<ipython-input-33-8dcb301e2ede>:cacheArt:20:DEBUG - album artwork already downloaded at: /tmp/com.txoof.slimpi/4998.jpg\n"
     ]
    },
    {
     "name": "stdout",
     "output_type": "stream",
     "text": [
      "Layout:update_contents:311:DEBUG - updating blocks\n",
      "Layout:update_contents:320:DEBUG - ignoring block id\n",
      "Layout:update_contents:317:DEBUG - updating block: title\n",
      "Block:text_formatter:315:DEBUG - formatted list:\n",
      " ['Birthday']\n",
      "Block:_text2image:344:DEBUG - text image dimensions: (231, 76)\n",
      "Block:_text2image:356:DEBUG - h-center line: Birthday\n",
      "Block:_text2image:364:DEBUG - h-center image coordinates\n",
      "Block:_text2image:369:DEBUG - v-center image coordinates\n",
      "Block:_text2image:373:DEBUG - image coordinates (184, 52)\n",
      "Layout:update_contents:317:DEBUG - updating block: artist\n",
      "Block:text_formatter:315:DEBUG - formatted list:\n",
      " ['The Beatles']\n",
      "Block:_text2image:344:DEBUG - text image dimensions: (156, 31)\n",
      "Block:_text2image:369:DEBUG - v-center image coordinates\n",
      "Block:_text2image:373:DEBUG - image coordinates (360, 209)\n",
      "Layout:update_contents:320:DEBUG - ignoring block coverid\n",
      "Layout:update_contents:320:DEBUG - ignoring block duration\n",
      "Layout:update_contents:320:DEBUG - ignoring block album_id\n",
      "Layout:update_contents:320:DEBUG - ignoring block genre\n",
      "Layout:update_contents:317:DEBUG - updating block: album\n",
      "Block:text_formatter:315:DEBUG - formatted list:\n",
      " ['The Beatles', 'Deluxe, [...]']\n",
      "Block:_text2image:344:DEBUG - text image dimensions: (156, 67)\n",
      "Block:_text2image:369:DEBUG - v-center image coordinates\n",
      "Block:_text2image:373:DEBUG - image coordinates (360, 281)\n",
      "Layout:update_contents:320:DEBUG - ignoring block artwork_url\n",
      "Layout:update_contents:320:DEBUG - ignoring block time\n",
      "Layout:update_contents:317:DEBUG - updating block: mode\n",
      "Block:text_formatter:315:DEBUG - formatted list:\n",
      " ['play']\n",
      "Block:_text2image:344:DEBUG - text image dimensions: (110, 75)\n",
      "Block:_text2image:369:DEBUG - v-center image coordinates\n",
      "Block:_text2image:373:DEBUG - image coordinates (360, 367)\n",
      "Layout:update_contents:317:DEBUG - updating block: coverart\n",
      "Block:image:155:DEBUG - formatting image: /tmp/com.txoof.slimpi/4998.jpg\n",
      "Block:image:157:DEBUG - set image dimensions: 259\n",
      "Block:image:185:DEBUG - set img_coordinates: (55, 189)\n",
      "epd5in83:ReadBusy:69:DEBUG - e-Paper busy\n",
      "epd5in83:ReadBusy:72:DEBUG - e-Paper busy release\n",
      "Screen:concat:88:DEBUG - pasting image at: (184, 52)\n",
      "Screen:concat:88:DEBUG - pasting image at: (55, 189)\n",
      "Screen:concat:88:DEBUG - pasting image at: (360, 209)\n",
      "Screen:concat:88:DEBUG - pasting image at: (360, 281)\n",
      "Screen:concat:88:DEBUG - pasting image at: (360, 367)\n",
      "epd5in83:getbuffer:128:DEBUG - imwidth = 600  imheight =  448 \n",
      "epd5in83:ReadBusy:69:DEBUG - e-Paper busy\n",
      "epd5in83:ReadBusy:72:DEBUG - e-Paper busy release\n",
      "epd5in83:ReadBusy:69:DEBUG - e-Paper busy\n",
      "epd5in83:ReadBusy:72:DEBUG - e-Paper busy release\n",
      "epdconfig:module_exit:80:DEBUG - spi end\n",
      "epdconfig:module_exit:83:DEBUG - close 5V, Module enters 0 power consumption ...\n",
      "title: Birthday\n",
      "album: The Beatles Deluxe, Volume 1\n",
      "artist: The Beatles\n",
      "mode: play\n",
      "artwork_url: http://192.168.178.9:9000/music/8ae2b296/cover.jpg\n",
      "\n",
      "\n",
      "cleaning up\n",
      "epd5in83:ReadBusy:69:DEBUG - e-Paper busy\n",
      "epd5in83:ReadBusy:72:DEBUG - e-Paper busy release\n",
      "epd5in83:ReadBusy:69:DEBUG - e-Paper busy\n",
      "epd5in83:ReadBusy:72:DEBUG - e-Paper busy release\n"
     ]
    }
   ],
   "source": [
    "if __name__ == '__main__':\n",
    "    \n",
    "    foo = main()"
   ]
  },
  {
   "cell_type": "code",
   "execution_count": 5,
   "metadata": {},
   "outputs": [
    {
     "data": {
      "text/plain": [
       "True"
      ]
     },
     "execution_count": 5,
     "metadata": {},
     "output_type": "execute_result"
    }
   ],
   "source": [
    "    sc = epdlib.Screen()\n",
    "    sc.epd = epd5in83.EPD()\n",
    "    sc.initEPD()\n",
    "    sc.clearEPD()"
   ]
  },
  {
   "cell_type": "code",
   "execution_count": 6,
   "metadata": {},
   "outputs": [],
   "source": [
    "tl = epdlib.Layout(layout=epdlib.layouts.clock)"
   ]
  },
  {
   "cell_type": "code",
   "execution_count": 7,
   "metadata": {},
   "outputs": [],
   "source": [
    "from PIL import Image"
   ]
  },
  {
   "cell_type": "code",
   "execution_count": 8,
   "metadata": {},
   "outputs": [],
   "source": [
    "i = Image.new('1', (600, 7), color=0)"
   ]
  },
  {
   "cell_type": "code",
   "execution_count": 9,
   "metadata": {},
   "outputs": [],
   "source": [
    "upd = {'time': '20:40', 'mode': 'stopped', 'bar': i}\n",
    "tl.update_contents(upd)"
   ]
  },
  {
   "cell_type": "code",
   "execution_count": 10,
   "metadata": {},
   "outputs": [
    {
     "data": {
      "image/png": "[encoded data removed]",
      "text/plain": [
       "<PIL.Image.Image image mode=1 size=288x110 at 0xB04522B0>"
      ]
     },
     "execution_count": 10,
     "metadata": {},
     "output_type": "execute_result"
    }
   ],
   "source": [
    "tl.blocks['time'].image"
   ]
  },
  {
   "cell_type": "code",
   "execution_count": 11,
   "metadata": {},
   "outputs": [],
   "source": [
    "sc.elements = tl.blocks.values()"
   ]
  },
  {
   "cell_type": "code",
   "execution_count": 12,
   "metadata": {},
   "outputs": [
    {
     "data": {
      "image/png": "[encoded data removed]",
      "text/plain": [
       "<PIL.Image.Image image mode=L size=600x448 at 0xB04520B0>"
      ]
     },
     "execution_count": 12,
     "metadata": {},
     "output_type": "execute_result"
    }
   ],
   "source": [
    "sc.concat()"
   ]
  },
  {
   "cell_type": "code",
   "execution_count": 14,
   "metadata": {},
   "outputs": [
    {
     "data": {
      "text/plain": [
       "True"
      ]
     },
     "execution_count": 14,
     "metadata": {},
     "output_type": "execute_result"
    }
   ],
   "source": [
    "sc.initEPD()\n",
    "sc.writeEPD()"
   ]
  },
  {
   "cell_type": "code",
   "execution_count": null,
   "metadata": {},
   "outputs": [],
   "source": [
    "import datetime"
   ]
  },
  {
   "cell_type": "code",
   "execution_count": null,
   "metadata": {},
   "outputs": [],
   "source": [
    "l = epdlib.Layout(resolution=(600, 392))"
   ]
  },
  {
   "cell_type": "code",
   "execution_count": null,
   "metadata": {},
   "outputs": [],
   "source": [
    "l._scalefont(font='./fonts/Ubuntu/Ubuntu-Regular.ttf', dimensions=(600,392))"
   ]
  },
  {
   "cell_type": "code",
   "execution_count": null,
   "metadata": {},
   "outputs": [],
   "source": [
    "b = epdlib.Block.TextBlock(font='./fonts/Ubuntu/Ubuntu-Regular.ttf', font_size=87, area=(600, 392))"
   ]
  },
  {
   "cell_type": "code",
   "execution_count": null,
   "metadata": {},
   "outputs": [],
   "source": [
    "help(b)"
   ]
  },
  {
   "cell_type": "code",
   "execution_count": null,
   "metadata": {},
   "outputs": [],
   "source": [
    "t = datetime.datetime.now().time()\n",
    "timeStr = f'{t.hour}:{t.minute}'"
   ]
  },
  {
   "cell_type": "code",
   "execution_count": null,
   "metadata": {},
   "outputs": [],
   "source": []
  }
 ],
 "metadata": {
  "kernelspec": {
   "display_name": "slimpi_epd-b1Rf9la8",
   "language": "python",
   "name": "slimpi_epd-b1rf9la8"
  },
  "language_info": {
   "codemirror_mode": {
    "name": "ipython",
    "version": 3
   },
   "file_extension": ".py",
   "mimetype": "text/x-python",
   "name": "python",
   "nbconvert_exporter": "python",
   "pygments_lexer": "ipython3",
   "version": "3.7.3"
  }
 },
 "nbformat": 4,
 "nbformat_minor": 2
}
