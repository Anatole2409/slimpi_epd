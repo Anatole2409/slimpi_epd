{
 "cells": [
  {
   "cell_type": "code",
   "execution_count": 1,
   "metadata": {},
   "outputs": [],
   "source": [
    "%load_ext autoreload\n",
    "%autoreload 2"
   ]
  },
  {
   "cell_type": "code",
   "execution_count": 2,
   "metadata": {},
   "outputs": [],
   "source": [
    "%reload_ext autoreload"
   ]
  },
  {
   "cell_type": "code",
   "execution_count": 31,
   "metadata": {},
   "outputs": [],
   "source": [
    "# logging \n",
    "import logging\n",
    "import logging.config\n",
    "\n",
    "# shell utilities for manpiulating files\n",
    "from shutil import copyfile\n",
    "\n",
    "# parse configuration files\n",
    "import configparser\n",
    "\n",
    "# parse command line arguments\n",
    "import argparse\n",
    "\n",
    "# handle file paths in a sane way\n",
    "from pathlib import Path"
   ]
  },
  {
   "cell_type": "code",
   "execution_count": 4,
   "metadata": {},
   "outputs": [],
   "source": [
    "# this works best as a global variable\n",
    "# FIXME - best practice for specifying this?\n",
    "logConfig = Path('./logging.cfg')\n",
    "logging.config.fileConfig(logConfig.absolute())\n",
    "# logging.basicConfig(level=logging.DEBUG, format='%(asctime)s %(name)s %(levelname)s: %(message)s')\n",
    "\n",
    "logger = logging.getLogger(__name__)"
   ]
  },
  {
   "cell_type": "code",
   "execution_count": 5,
   "metadata": {},
   "outputs": [],
   "source": [
    "def arg_parse():\n",
    "    '''parse arguments for this script\n",
    "    \n",
    "    Arguments parsed:\n",
    "        -c: configuration file\n",
    "    \n",
    "    Returns:\n",
    "        :obj:argpars.ArgumentParser'''\n",
    "    parser = argparse.ArgumentParser()\n",
    "    \n",
    "    # configuration file\n",
    "    parser.add_argument('-c', type=str, required=False,\n",
    "                        help='use the specified configuration file. Default is stored in ~/.config/myApp/config.ini')\n",
    "    \n",
    "    parser.add_argument('-q', type=str, required=False,\n",
    "                       help='this is for testing only')\n",
    "    \n",
    "    args, unknown = parser.parse_known_args()\n",
    "    logging.info(f'discarding unknwon commandline arguments: {unknown}')\n",
    "    \n",
    "    return args"
   ]
  },
  {
   "cell_type": "code",
   "execution_count": 46,
   "metadata": {},
   "outputs": [],
   "source": [
    "def read_config(cfgfile=None, default=None):\n",
    "    '''read `cfgfile` file and optionally create one if it does not exist\n",
    "\n",
    "    Args:\n",
    "        cfgfile(str): path to configuration file to be read\n",
    "        default(str): path to default configuration file that should be \n",
    "            used if cfgfile does not exist -- this is useful for creating\n",
    "            config files on first run\n",
    "    \n",
    "    Returns:\n",
    "        obj:configparser.ConfigParser\n",
    "    '''\n",
    "    if not cfgfile:\n",
    "        return {}\n",
    "    \n",
    "    cfgfile = Path(cfgfile).expanduser()\n",
    "    default = Path(default).expanduser() if default else None\n",
    "    \n",
    "    # check if the path exists\n",
    "    logging.debug(f'creating parent directory (if needed): {cfgfile.parent}')\n",
    "    Path(cfgfile.parent).mkdir(parents=True, exist_ok=True)\n",
    "\n",
    "    # check if specified file exists, otherwise copy the default (if provided)    \n",
    "    if not cfgfile.exists() and default:\n",
    "        logging.debug(f'copying {default} to {cfgfile}')\n",
    "        copyfile(default, cfgfile)\n",
    "    elif not default:\n",
    "        raise FileNotFoundError(f'could not open {cfgfile}')\n",
    "    \n",
    "    config = configparser.ConfigParser()\n",
    "    logging.info(f'reading config file {cfgfile}')\n",
    "    config.read(cfgfile)\n",
    "    \n",
    "    return config"
   ]
  },
  {
   "cell_type": "code",
   "execution_count": 56,
   "metadata": {},
   "outputs": [
    {
     "name": "stdout",
     "output_type": "stream",
     "text": [
      "Help on function copyfile in module shutil:\n",
      "\n",
      "copyfile(src, dst, *, follow_symlinks=True)\n",
      "    Copy data from src to dst.\n",
      "    \n",
      "    If follow_symlinks is not set and src is a symbolic link, a new\n",
      "    symlink will be created instead of copying the file it points to.\n",
      "\n"
     ]
    }
   ],
   "source": [
    "help(copyfile)"
   ]
  },
  {
   "cell_type": "code",
   "execution_count": null,
   "metadata": {},
   "outputs": [],
   "source": [
    "import sys"
   ]
  },
  {
   "cell_type": "code",
   "execution_count": null,
   "metadata": {},
   "outputs": [],
   "source": [
    "sys.argv.append('-c')\n",
    "sys.argv.append('~/slimpi.ini')"
   ]
  },
  {
   "cell_type": "code",
   "execution_count": null,
   "metadata": {},
   "outputs": [],
   "source": [
    "sys.argv\n"
   ]
  },
  {
   "cell_type": "code",
   "execution_count": null,
   "metadata": {},
   "outputs": [],
   "source": [
    "args = arg_parse()"
   ]
  },
  {
   "cell_type": "code",
   "execution_count": null,
   "metadata": {},
   "outputs": [],
   "source": [
    "print(args.q)\n"
   ]
  },
  {
   "cell_type": "code",
   "execution_count": 52,
   "metadata": {},
   "outputs": [],
   "source": [
    "def main():\n",
    "    # Configuration Variables\n",
    "    \n",
    "    # name\n",
    "    appShortName = 'slimpi'\n",
    "    name = 'com.txoof.'\n",
    "    appLongName = name+appShortName        \n",
    "    \n",
    "    # Default configuration file if none is specified\n",
    "    builtin_cfg = Path('./slimpi.cfg')\n",
    "    user_cfg = Path(f'~/.config/{appLongName}/slimpi.cfg').expanduser()  \n",
    "    \n",
    "    args = arg_parse()\n",
    "    \n",
    "    if args.c:\n",
    "        user_cfg = args.c\n",
    "        \n",
    "    logging.info(f'using configuration file: {user_cfg}')        \n",
    "    \n",
    "    # read configuration file\n",
    "    configuration = read_config(cfgfile=user_cfg, default=builtin_cfg)\n",
    "    # check if there are any \n",
    "    if len(configuration.sections()) < 1:\n",
    "        raise EOFError(f'config file, {cfg_file}, contained no configuration')\n",
    "        \n",
    "    return configuration"
   ]
  },
  {
   "cell_type": "code",
   "execution_count": 54,
   "metadata": {},
   "outputs": [
    {
     "name": "stdout",
     "output_type": "stream",
     "text": [
      "<ipython-input-5-b795292e2218>:arg_parse:19:INFO - discarding unknwon commandline arguments: ['-f', '/home/pi/.local/share/jupyter/runtime/kernel-ea10ebdb-f34c-45ec-a43f-760cf036b6b6.json']\n",
      "<ipython-input-52-7e5d8a086a28>:main:18:INFO - using configuration file: /home/pi/.config/com.txoof.slimpi/slimpi.cfg\n",
      "<ipython-input-46-1ef3c37a85d1>:read_config:20:DEBUG - creating parent directory (if needed): /home/pi/.config/com.txoof.slimpi\n",
      "<ipython-input-46-1ef3c37a85d1>:read_config:31:INFO - reading config file /home/pi/.config/com.txoof.slimpi/slimpi.cfg\n",
      "<configparser.ConfigParser object at 0xaf761ab0>\n"
     ]
    }
   ],
   "source": [
    "if __name__ == '__main__':\n",
    "    foo = main()\n",
    "print(foo)"
   ]
  },
  {
   "cell_type": "code",
   "execution_count": 55,
   "metadata": {},
   "outputs": [
    {
     "data": {
      "text/plain": [
       "<configparser.ConfigParser at 0xaf761ab0>"
      ]
     },
     "execution_count": 55,
     "metadata": {},
     "output_type": "execute_result"
    }
   ],
   "source": [
    "foo"
   ]
  }
 ],
 "metadata": {
  "kernelspec": {
   "display_name": "slimpi_epd-b1Rf9la8",
   "language": "python",
   "name": "slimpi_epd-b1rf9la8"
  },
  "language_info": {
   "codemirror_mode": {
    "name": "ipython",
    "version": 3
   },
   "file_extension": ".py",
   "mimetype": "text/x-python",
   "name": "python",
   "nbconvert_exporter": "python",
   "pygments_lexer": "ipython3",
   "version": "3.7.3"
  }
 },
 "nbformat": 4,
 "nbformat_minor": 2
}
