{
 "cells": [
  {
   "cell_type": "code",
   "execution_count": 1,
   "metadata": {},
   "outputs": [],
   "source": [
    "%load_ext autoreload\n",
    "%autoreload 2"
   ]
  },
  {
   "cell_type": "code",
   "execution_count": 2,
   "metadata": {},
   "outputs": [],
   "source": [
    "%reload_ext autoreload"
   ]
  },
  {
   "cell_type": "code",
   "execution_count": 3,
   "metadata": {},
   "outputs": [],
   "source": [
    "# logging \n",
    "import logging\n",
    "import logging.config\n",
    "\n",
    "# allow loading modules from strings\n",
    "import importlib\n",
    "\n",
    "# shell utilities for manpiulating files\n",
    "from shutil import copyfile\n",
    "\n",
    "# parse configuration files\n",
    "import configparser\n",
    "\n",
    "# parse command line arguments\n",
    "import argparse\n",
    "\n",
    "# handle file paths in a sane way\n",
    "from pathlib import Path"
   ]
  },
  {
   "cell_type": "code",
   "execution_count": 4,
   "metadata": {},
   "outputs": [],
   "source": [
    "# # this works best as a global variable\n",
    "# # FIXME - best practice for specifying this?\n",
    "# logConfig = Path('./logging.cfg')\n",
    "# logging.config.fileConfig(logConfig.absolute())\n",
    "# # logging.basicConfig(level=logging.DEBUG, format='%(asctime)s %(name)s %(levelname)s: %(message)s')\n",
    "\n",
    "# logger = logging.getLogger(__name__)"
   ]
  },
  {
   "cell_type": "code",
   "execution_count": 5,
   "metadata": {},
   "outputs": [],
   "source": [
    "def arg_parse():\n",
    "    '''parse arguments for this script\n",
    "    \n",
    "    Arguments parsed:\n",
    "        -c: configuration file\n",
    "    \n",
    "    Returns:\n",
    "        :obj:argpars.ArgumentParser'''\n",
    "    parser = argparse.ArgumentParser()\n",
    "    \n",
    "    # configuration file\n",
    "    parser.add_argument('-c', type=str, required=False,\n",
    "                        help='use the specified configuration file. Default is stored in ~/.config/myApp/config.ini')\n",
    "       \n",
    "    parser.add_argument('-q', type=str, required=False,\n",
    "                       help='this is for testing only')\n",
    "    \n",
    "    args, unknown = parser.parse_known_args()\n",
    "    logging.info(f'discarding unknwon commandline arguments: {unknown}')\n",
    "    \n",
    "    return args"
   ]
  },
  {
   "cell_type": "code",
   "execution_count": 38,
   "metadata": {},
   "outputs": [],
   "source": [
    "def read_config(cfgfile=None, default=None):\n",
    "    '''read `cfgfile` file and optionally create one if it does not exist\n",
    "\n",
    "    Args:\n",
    "        cfgfile(str): path to configuration file to be read\n",
    "        default(str): path to default configuration file that should be \n",
    "            used if cfgfile does not exist -- this is useful for creating\n",
    "            config files on first run\n",
    "    \n",
    "    Returns:\n",
    "        obj:configparser.ConfigParser\n",
    "    '''\n",
    "    if not cfgfile:\n",
    "        return {}\n",
    "    \n",
    "    cfgfile = Path(cfgfile).expanduser().resolve()\n",
    "    default = Path(default).expanduser().resolve() if default else None\n",
    "    \n",
    "    # check if the path exists\n",
    "    logging.debug(f'creating parent directory (if needed): {cfgfile.parent}')\n",
    "    Path(cfgfile.parent).mkdir(parents=True, exist_ok=True)\n",
    "\n",
    "    # check if specified file exists, otherwise copy the default (if provided)    \n",
    "    if not cfgfile.exists() and default:\n",
    "        logging.debug(f'copying {default} to {cfgfile}')\n",
    "        try:\n",
    "            copyfile(default, cfgfile)\n",
    "        except (FileNotFoundError, PermissionError) as e:\n",
    "            print(f'failed to copy default file ({default}) to specified file: {e}')\n",
    "            return False\n",
    "#     elif not default:\n",
    "#         raise FileNotFoundError(f'could not open {cfgfile}')\n",
    "    \n",
    "    config = configparser.ConfigParser()\n",
    "    logging.info(f'reading config file {cfgfile}')\n",
    "    config.read(cfgfile)\n",
    "    \n",
    "    return config"
   ]
  },
  {
   "cell_type": "code",
   "execution_count": 84,
   "metadata": {},
   "outputs": [],
   "source": [
    "def config_2dict(configuration):\n",
    "    \n",
    "    for section in configuration.sections():\n",
    "        d[section] = {}\n",
    "        for opt in configuration.options(section):\n",
    "            d[section][opt] = myC.get(section, opt)\n",
    "    \n",
    "    return d"
   ]
  },
  {
   "cell_type": "code",
   "execution_count": 101,
   "metadata": {},
   "outputs": [],
   "source": [
    "def main():\n",
    "    # constants\n",
    "    waveshare = 'waveshare_epd.' # note trailing '.' !!\n",
    "    layouts = 'epdlib.layouts'\n",
    "       \n",
    "    \n",
    "    \n",
    "    # this works best as a global variable\n",
    "    # FIXME - best practice for specifying this?\n",
    "    logingConfig = Path('./logging.cfg').resolve()\n",
    "    logging.config.fileConfig(logingConfig)\n",
    "    # logging.basicConfig(level=logging.DEBUG, format='%(asctime)s %(name)s %(levelname)s: %(message)s')\n",
    "    logger = logging.getLogger(__name__)\n",
    "    \n",
    "    \n",
    "    # Configuration Variables\n",
    "    \n",
    "    # execute the program - use for checking configuration state \n",
    "    execute = True\n",
    "    # name\n",
    "    appShortName = 'slimpi'\n",
    "    name = 'com.txoof.'\n",
    "    appLongName = name+appShortName        \n",
    "    \n",
    "    # Default configuration file if none is specified\n",
    "    builtin_cfg = Path('./slimpi.cfg')\n",
    "    # standard location for stored user configuration\n",
    "    user_cfg = Path(f'~/.config/{appLongName}/slimpi.cfg').expanduser()  \n",
    "    \n",
    "    # parse command line arguments\n",
    "    args = arg_parse()\n",
    "    \n",
    "    # use a specified configuration file\n",
    "    if args.c:\n",
    "        user_cfg = args.c\n",
    "        \n",
    "    logging.info(f'using configuration file: {user_cfg}')        \n",
    "    \n",
    "    # read configuration file\n",
    "    # config parser object\n",
    "    configuration = read_config(cfgfile=user_cfg, default=builtin_cfg)\n",
    "    execute = True if configuration else False\n",
    "    # dictionary\n",
    "    cfg = config_2dict(configuration)\n",
    "    \n",
    "    \n",
    "    # get all the configuration variables \n",
    "    try:\n",
    "        # lms server settings\n",
    "        lms_server = cfg['lms_server']\n",
    "        \n",
    "        # set epd type\n",
    "        epd = importlib.import_module('waveshare_epd.'+cfg['layouts']['display'])\n",
    "        \n",
    "        playing_layout = importlib.import_module(layouts)\n",
    "        \n",
    "        \n",
    "    except (KeyError, NoSectionError) as e:\n",
    "        logging.error(f'Error configuration file missing section: {e}')\n",
    "        execute = False\n",
    "    \n",
    "    # if execute was set false anywhere, bail out\n",
    "    if not execute:\n",
    "        print('Exiting due to previous errors')\n",
    "        return\n",
    "    \n",
    "        \n",
    "        \n",
    "        \n",
    "    # check if there are any \n",
    "#     if len(configuration.sections()) < 1:\n",
    "# #         raise EOFError(f'config file, {cfg_file}, contained no configuration')\n",
    "#         print(f'Confuration file: {cfg_file}, contained no configuration')\n",
    "#         print('exiting')\n",
    "#         return None\n",
    "    \n",
    "    \n",
    "    \n",
    "    \n",
    "    \n",
    "    \n",
    "    \n",
    "    \n",
    "    \n",
    "    return configuration"
   ]
  },
  {
   "cell_type": "code",
   "execution_count": 102,
   "metadata": {},
   "outputs": [
    {
     "name": "stdout",
     "output_type": "stream",
     "text": [
      "<ipython-input-5-b795292e2218>:arg_parse:19:INFO - discarding unknwon commandline arguments: ['-f', '/home/pi/.local/share/jupyter/runtime/kernel-a6bf9f2b-109f-4d75-8c20-7461b4e9b2cd.json']\n",
      "<ipython-input-101-b08a88921107>:main:31:INFO - using configuration file: /home/pi/.config/com.txoof.slimpi/slimpi.cfg\n",
      "<ipython-input-38-82fb72048f05>:read_config:20:DEBUG - creating parent directory (if needed): /home/pi/.config/com.txoof.slimpi\n",
      "<ipython-input-38-82fb72048f05>:read_config:35:INFO - reading config file /home/pi/.config/com.txoof.slimpi/slimpi.cfg\n",
      "<configparser.ConfigParser object at 0xaf270630>\n"
     ]
    }
   ],
   "source": [
    "if __name__ == '__main__':\n",
    "    foo = main()\n",
    "print(foo)"
   ]
  },
  {
   "cell_type": "code",
   "execution_count": 108,
   "metadata": {},
   "outputs": [
    {
     "data": {
      "text/plain": [
       "['__builtins__',\n",
       " '__cached__',\n",
       " '__doc__',\n",
       " '__file__',\n",
       " '__init__',\n",
       " '__loader__',\n",
       " '__name__',\n",
       " '__package__',\n",
       " '__spec__',\n",
       " 'clock',\n",
       " 'threeRow',\n",
       " 'twoColumn']"
      ]
     },
     "execution_count": 108,
     "metadata": {},
     "output_type": "execute_result"
    }
   ],
   "source": [
    "myL = importlib.import_module('epdlib.layouts')\n",
    "dir(myL)"
   ]
  },
  {
   "cell_type": "code",
   "execution_count": 109,
   "metadata": {},
   "outputs": [
    {
     "data": {
      "text/plain": [
       "{'title': {'image': None,\n",
       "  'max_lines': 3,\n",
       "  'padding': 10,\n",
       "  'width': 1,\n",
       "  'height': 0.5714285714285714,\n",
       "  'abs_coordinates': (0, 0),\n",
       "  'hcenter': True,\n",
       "  'vcenter': True,\n",
       "  'relative': False,\n",
       "  'font': None,\n",
       "  'fontsize': None},\n",
       " 'coverart': {'image': True,\n",
       "  'max_lines': None,\n",
       "  'padding': 10,\n",
       "  'width': 0.4,\n",
       "  'height': 0.42857142857142855,\n",
       "  'abs_coordinates': (0, None),\n",
       "  'hcenter': True,\n",
       "  'vcenter': True,\n",
       "  'relative': ['coverart', 'title'],\n",
       "  'font': None,\n",
       "  'fontsize': None},\n",
       " 'artist': {'image': None,\n",
       "  'max_lines': 2,\n",
       "  'padding': 10,\n",
       "  'width': 0.6,\n",
       "  'height': 0.21428571428571427,\n",
       "  'abs_coordinates': (None, None),\n",
       "  'hcenter': False,\n",
       "  'vcenter': True,\n",
       "  'relative': ['coverart', 'title'],\n",
       "  'font': None,\n",
       "  'fontsize': None},\n",
       " 'album': {'image': None,\n",
       "  'max_lines': 2,\n",
       "  'padding': 10,\n",
       "  'width': 0.6,\n",
       "  'height': 0.14285714285714285,\n",
       "  'abs_coordinates': (None, None),\n",
       "  'hcenter': False,\n",
       "  'vcenter': True,\n",
       "  'relative': ['coverart', 'artist'],\n",
       "  'font': None,\n",
       "  'fontsize': None},\n",
       " 'mode': {'image': False,\n",
       "  'max_lines': 1,\n",
       "  'width': 0.6,\n",
       "  'height': 0.07142857142857142,\n",
       "  'abs_coordinates': (None, None),\n",
       "  'hcenter': False,\n",
       "  'vcenter': True,\n",
       "  'rand': True,\n",
       "  'relative': ['coverart', 'album']}}"
      ]
     },
     "execution_count": 109,
     "metadata": {},
     "output_type": "execute_result"
    }
   ],
   "source": [
    "myL.threeRow"
   ]
  },
  {
   "cell_type": "code",
   "execution_count": null,
   "metadata": {},
   "outputs": [],
   "source": [
    "import sys\n",
    "sys.argv.append('-c')\n",
    "sys.argv.append('~/slimpi.ini')"
   ]
  },
  {
   "cell_type": "code",
   "execution_count": null,
   "metadata": {},
   "outputs": [],
   "source": [
    "sys.argv\n"
   ]
  }
 ],
 "metadata": {
  "kernelspec": {
   "display_name": "slimpi_epd-b1Rf9la8",
   "language": "python",
   "name": "slimpi_epd-b1rf9la8"
  },
  "language_info": {
   "codemirror_mode": {
    "name": "ipython",
    "version": 3
   },
   "file_extension": ".py",
   "mimetype": "text/x-python",
   "name": "python",
   "nbconvert_exporter": "python",
   "pygments_lexer": "ipython3",
   "version": "3.7.3"
  }
 },
 "nbformat": 4,
 "nbformat_minor": 2
}
