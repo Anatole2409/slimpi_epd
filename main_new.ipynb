{
 "cells": [
  {
   "cell_type": "code",
   "execution_count": 2,
   "metadata": {},
   "outputs": [
    {
     "name": "stdout",
     "output_type": "stream",
     "text": [
      "The autoreload extension is already loaded. To reload it, use:\n",
      "  %reload_ext autoreload\n"
     ]
    }
   ],
   "source": [
    "%load_ext autoreload\n",
    "%autoreload 2"
   ]
  },
  {
   "cell_type": "code",
   "execution_count": 4,
   "metadata": {},
   "outputs": [],
   "source": [
    "%reload_ext autoreload"
   ]
  },
  {
   "cell_type": "code",
   "execution_count": 30,
   "metadata": {},
   "outputs": [],
   "source": [
    "# logging \n",
    "import logging\n",
    "import logging.config\n",
    "\n",
    "# parse configuration files\n",
    "import configparser\n",
    "\n",
    "# parse command line arguments\n",
    "import argparse\n",
    "\n",
    "# handle file paths in a sane way\n",
    "from pathlib import Path"
   ]
  },
  {
   "cell_type": "code",
   "execution_count": 31,
   "metadata": {},
   "outputs": [],
   "source": [
    "# this works best as a global variable\n",
    "# FIXME - best practice for specifying this?\n",
    "logConfig = Path('./logging.cfg')\n",
    "logging.config.fileConfig(logConfig.absolute())\n",
    "# logging.basicConfig(level=logging.DEBUG, format='%(asctime)s %(name)s %(levelname)s: %(message)s')\n",
    "\n",
    "logger = logging.getLogger(__name__)"
   ]
  },
  {
   "cell_type": "code",
   "execution_count": 32,
   "metadata": {},
   "outputs": [],
   "source": [
    "def arg_parse():\n",
    "    parser = argparse.ArgumentParser()\n",
    "    \n",
    "    # configuration file\n",
    "    parser.add_argument('-c', type=str, required=False,\n",
    "                        help='use the specified configuration file. Default is stored in ~/.config/myApp/config.ini')\n",
    "    \n",
    "    \n",
    "    \n",
    "    args, unknown = parser.parse_known_args()\n",
    "    logging.info(f'discarding unknwon commandline arguments: {unknown}')\n",
    "    \n",
    "    return args"
   ]
  },
  {
   "cell_type": "code",
   "execution_count": 33,
   "metadata": {},
   "outputs": [],
   "source": [
    "def read_config(cfgfile=None, required={}):\n",
    "    if not cfgfile:\n",
    "        return {}\n",
    "    \n",
    "    config = configparser.ConfigParser()\n",
    "    logging.info(f'reading config file {cfgfile}')\n",
    "    config.read(cfgfile)\n",
    "    \n",
    "    try:\n",
    "        for section in required:\n",
    "            if section not in config.sections():\n",
    "                logging.debug(f'adding missing section: {section}')\n",
    "                config.add_section(section)\n",
    "        \n",
    "            for option in required[section]:\n",
    "                if not config.has_option(section, option):\n",
    "                    logger.debug(f'adding missing option: {option}')\n",
    "                    config[section][option] = str(required[section][option])\n",
    "            with open(cfgfile, 'w') as file:\n",
    "                config.write(file)\n",
    "    except Exception as e:\n",
    "        logging.exception(f'exception while writing config file: {e}')\n",
    "        raise\n",
    "    \n",
    "    return config"
   ]
  },
  {
   "cell_type": "code",
   "execution_count": 10,
   "metadata": {},
   "outputs": [],
   "source": [
    "import sys"
   ]
  },
  {
   "cell_type": "code",
   "execution_count": 11,
   "metadata": {},
   "outputs": [],
   "source": [
    "sys.argv.append('-c')\n",
    "sys.argv.append('~/slimpi.ini')"
   ]
  },
  {
   "cell_type": "code",
   "execution_count": 21,
   "metadata": {},
   "outputs": [],
   "source": [
    "args = arg_parse()"
   ]
  },
  {
   "cell_type": "code",
   "execution_count": 35,
   "metadata": {},
   "outputs": [
    {
     "name": "stdout",
     "output_type": "stream",
     "text": [
      "<ipython-input-33-230504a7eb23>:read_config:6:INFO - reading config file ~/slimpi.ini\n"
     ]
    }
   ],
   "source": [
    "cfg = read_config(args.c, required)"
   ]
  },
  {
   "cell_type": "code",
   "execution_count": 34,
   "metadata": {},
   "outputs": [
    {
     "data": {
      "text/plain": [
       "[]"
      ]
     },
     "execution_count": 34,
     "metadata": {},
     "output_type": "execute_result"
    }
   ],
   "source": [
    "cfg.sections()"
   ]
  },
  {
   "cell_type": "code",
   "execution_count": null,
   "metadata": {},
   "outputs": [],
   "source": [
    "def main():\n",
    "    # Configuration Variables\n",
    "    # Default configuration file if none is specified\n",
    "    default_cfg = Path('./slimpi.cfg')\n",
    "    \n",
    "    "
   ]
  }
 ],
 "metadata": {
  "kernelspec": {
   "display_name": "slimpi_epd-dHmGVT29",
   "language": "python",
   "name": "slimpi_epd-dhmgvt29"
  },
  "language_info": {
   "codemirror_mode": {
    "name": "ipython",
    "version": 3
   },
   "file_extension": ".py",
   "mimetype": "text/x-python",
   "name": "python",
   "nbconvert_exporter": "python",
   "pygments_lexer": "ipython3",
   "version": "3.8.0"
  }
 },
 "nbformat": 4,
 "nbformat_minor": 2
}
