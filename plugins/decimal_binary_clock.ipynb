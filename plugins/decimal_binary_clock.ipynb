{
 "cells": [
  {
   "cell_type": "code",
   "execution_count": null,
   "metadata": {},
   "outputs": [],
   "source": [
    "%alias nbconvert nbconvert ./decimal_binary_clock.ipynb\n",
    "\n",
    "%nbconvert"
   ]
  },
  {
   "cell_type": "code",
   "execution_count": 1,
   "metadata": {},
   "outputs": [],
   "source": [
    "from datetime import datetime\n",
    "from PIL import Image, ImageDraw\n",
    "import re"
   ]
  },
  {
   "cell_type": "code",
   "execution_count": 2,
   "metadata": {},
   "outputs": [],
   "source": [
    "def check_num(func):\n",
    "    \"\"\"decorator function wrapper\"\"\"\n",
    "    def func_wrapper(d, *args, **kwargs):\n",
    "        \"\"\"Check for positive integers\n",
    "        Params:\n",
    "            d(int): integer to check\n",
    "        \n",
    "        Raises:\n",
    "            ValueError - values that are negative, not integer or greater than 99\"\"\"\n",
    "#         if d > 99:\n",
    "#             raise ValueError (f'{d} is > 99')\n",
    "        if not isinstance(d, int):\n",
    "            raise ValueError (f'{d} is not an integer')\n",
    "        if d < 0:\n",
    "            raise ValueError (f'{d} < 0 {func} only accepts values >= 0')\n",
    "        return func(d, *args, **kwargs)\n",
    "    return func_wrapper"
   ]
  },
  {
   "cell_type": "code",
   "execution_count": 3,
   "metadata": {},
   "outputs": [],
   "source": [
    "@check_num\n",
    "def split_place_value(d):\n",
    "    tens = int((d-(d%10))/10)\n",
    "    ones = int(d-tens*10)\n",
    "    return tens, ones"
   ]
  },
  {
   "cell_type": "code",
   "execution_count": 4,
   "metadata": {},
   "outputs": [],
   "source": [
    "def time_now():\n",
    "    return datetime.now().strftime(\"%H:%M\")"
   ]
  },
  {
   "cell_type": "code",
   "execution_count": 5,
   "metadata": {},
   "outputs": [],
   "source": [
    "def split_by_place(d):\n",
    "    num_list = []\n",
    "    for i in str(d):\n",
    "        num_list.append(int(i))\n",
    "    \n",
    "    return num_list"
   ]
  },
  {
   "cell_type": "code",
   "execution_count": 6,
   "metadata": {},
   "outputs": [],
   "source": [
    "@check_num\n",
    "def dec2bin(d, min_bits=4):\n",
    "    bin_array = []\n",
    "    whole = d\n",
    "    while whole > 0:\n",
    "        remainder = whole%2 \n",
    "        whole = int(whole/2)\n",
    "        bin_array.append(remainder)\n",
    "        \n",
    "    if len(bin_array) < min_bits:\n",
    "        for i in range(0, min_bits-len(bin_array)):\n",
    "            bin_array.append(0)\n",
    "\n",
    "    return bin_array[::-1]"
   ]
  },
  {
   "cell_type": "code",
   "execution_count": 7,
   "metadata": {},
   "outputs": [],
   "source": [
    "def dot_array(r, border, array, padding):\n",
    "    dim = [(r*2)+padding*2, len(array)*(r*2)+padding*(len(array)+1)] \n",
    "    image = Image.new('1', dim, color=1)\n",
    "    d = ImageDraw.Draw(image)\n",
    "    for idx, val in enumerate(array):\n",
    "        topOuter = [0+padding, (r*2*idx)+padding+padding*idx]\n",
    "        bottomOuter = [r*2+padding, r*2*(idx+1)+padding+padding*idx]\n",
    "        topInner = [topOuter[0]+border, topOuter[1]+border]\n",
    "        bottomInner = [bottomOuter[0]-border, bottomOuter[1]-border]\n",
    "        d.ellipse(topOuter+bottomOuter, fill=0)\n",
    "        if val==0:\n",
    "            d.ellipse(topInner+bottomInner, fill=1)\n",
    "    \n",
    "    return image"
   ]
  },
  {
   "cell_type": "code",
   "execution_count": 8,
   "metadata": {},
   "outputs": [],
   "source": [
    "def separator(dim, padding):\n",
    "    dim = [dim[0]+padding, dim[1]+padding]\n",
    "    top = [padding, padding]\n",
    "    bottom = dim\n",
    "    i = Image.new('1', dim, color=1)\n",
    "    d = ImageDraw.Draw(i)\n",
    "    d.rectangle(top+bottom, fill=0)\n",
    "    \n",
    "    return i"
   ]
  },
  {
   "cell_type": "code",
   "execution_count": 9,
   "metadata": {},
   "outputs": [],
   "source": [
    "def get_time(time=None):\n",
    "    r = 30\n",
    "    border = 10\n",
    "    padding = 10\n",
    "    time_array = []\n",
    "    img_x = 0\n",
    "    img_y = 0\n",
    "    img_array = []\n",
    "    return_time = None\n",
    "\n",
    "    # break the time string into digits if provided\n",
    "    if time:\n",
    "        return_time = str(time)\n",
    "        time = str(time)\n",
    "        match = re.search('([0-9]{1,2}):([0-9]{1,2})', time)\n",
    "        hour = match.group(1)\n",
    "        minute = match.group(2)\n",
    "    else:\n",
    "        hour = datetime.now().hour\n",
    "        minute = datetime.now().minute\n",
    "        return_time = f'{hour:02}:{minute:02}'\n",
    "    \n",
    "    \n",
    "    # make sure there are two digits in hour\n",
    "    if len(str(hour)) < 2:\n",
    "        time_array = [0]\n",
    "    \n",
    "    # join up the hours and the colon \n",
    "    time_array = time_array + split_by_place(hour) + [-1]\n",
    "    \n",
    "    # make sure there are two digits in minute\n",
    "    if len(str(minute)) < 2:\n",
    "        time_array = time_array + [0]\n",
    "    \n",
    "    # join up the hours, colon and minute\n",
    "    time_array = time_array + split_by_place(minute)\n",
    "    \n",
    "    # build an array of the images\n",
    "    for i in time_array:\n",
    "        # separator is represented by a negative number\n",
    "        if i < 0:\n",
    "            img_array.append(separator(dim=[r, 4*(r*2)+padding*5], padding=0))\n",
    "        # create a dot array for each decimal place\n",
    "        else:\n",
    "            img_array.append(dot_array(r=r, border=border, padding=padding, array=dec2bin(i)))\n",
    "    \n",
    "    # determine dimensions of array\n",
    "    for j in img_array:\n",
    "        img_x = img_x + j.width\n",
    "        if j.height > img_y:\n",
    "            img_y = j.height\n",
    "            \n",
    "    # create a blank image\n",
    "    img = Image.new('1', [img_x, img_y], color=1)\n",
    "    \n",
    "    # build the composite image\n",
    "    x_pos = 0\n",
    "    y_pos = 0\n",
    "    for j in img_array:\n",
    "        img.paste(j, [x_pos, y_pos])\n",
    "        x_pos = x_pos + j.width\n",
    "    \n",
    "    return {'bin_img': img, 'time': return_time, 'mode': None}     "
   ]
  }
 ],
 "metadata": {
  "kernelspec": {
   "display_name": "slimpi_epd-b1Rf9la8",
   "language": "python",
   "name": "slimpi_epd-b1rf9la8"
  },
  "language_info": {
   "codemirror_mode": {
    "name": "ipython",
    "version": 3
   },
   "file_extension": ".py",
   "mimetype": "text/x-python",
   "name": "python",
   "nbconvert_exporter": "python",
   "pygments_lexer": "ipython3",
   "version": "3.7.3"
  }
 },
 "nbformat": 4,
 "nbformat_minor": 4
}
