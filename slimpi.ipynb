{
 "cells": [
  {
   "cell_type": "code",
   "execution_count": 1,
   "metadata": {},
   "outputs": [],
   "source": [
    "%load_ext autoreload\n",
    "%autoreload 2"
   ]
  },
  {
   "cell_type": "code",
   "execution_count": 2,
   "metadata": {},
   "outputs": [],
   "source": [
    "%reload_ext autoreload\n"
   ]
  },
  {
   "cell_type": "code",
   "execution_count": 86,
   "metadata": {},
   "outputs": [],
   "source": [
    "import logging\n",
    "import logging.config\n",
    "\n",
    "# parse arguments\n",
    "import sys\n",
    "\n",
    "# handle importing libraries based on config file\n",
    "import importlib\n",
    "\n",
    "##### PyPi Modules #####\n",
    "# rate limit the queries on the LMS server\n",
    "from ratelimiter import RateLimiter\n",
    "\n",
    "import lmsquery"
   ]
  },
  {
   "cell_type": "code",
   "execution_count": 87,
   "metadata": {},
   "outputs": [],
   "source": [
    "import epdlib\n",
    "import Configuration"
   ]
  },
  {
   "cell_type": "code",
   "execution_count": 110,
   "metadata": {},
   "outputs": [],
   "source": [
    "def do_exit(status=0):\n",
    "    sys.exit(status)"
   ]
  },
  {
   "cell_type": "code",
   "execution_count": 146,
   "metadata": {},
   "outputs": [],
   "source": [
    "def main():\n",
    "    #### this could be moved into a configuration sub and passed into main as one clean dictionary\n",
    "    import constants\n",
    "    \n",
    "    ########## CONSTANTS #########\n",
    "    version = constants.version\n",
    "    app_name = constants.app_name\n",
    "    app_long_name = constants.app_long_name\n",
    "    url = constants.url\n",
    "    logging_cfg = Configuration.fullPath(constants.logging_cfg)\n",
    "    default_cfg = constants.default_cfg\n",
    "    user_cfg = Configuration.fullPath(constants.user_cfg)\n",
    "    noartwork = Configuration.fullPath(constants.noartwork)\n",
    "    \n",
    "    waveshare = constants.waveshare\n",
    "    layouts_file = constants.layouts\n",
    "    \n",
    "    keyError_fmt = 'KeyError: section [{}] is missing value: {}'\n",
    "    configError_fmt = 'see section [{}] in config file {}'\n",
    "    valError_fmt = ''\n",
    "    \n",
    "    ######### CONFIGURATION #########\n",
    "    \n",
    "    ##### SETUP LOGGING #####\n",
    "    logging.config.fileConfig(logging_cfg)\n",
    "    logger = logging.getLogger(__name__)\n",
    "    \n",
    "    ##### COMMAND LINE ARGUMENTS\n",
    "    options = Configuration.Options(sys.argv)\n",
    "    # add options to the configuration object\n",
    "    # for options that override the configuration file options, add in the format: \n",
    "    # dest=[[ConfigFileSectionName]]__[[Option_Name]]\n",
    "    # options that are not in the configuraton file can be added using the format:\n",
    "    # dest=commandline_option_name\n",
    "    \n",
    "    # set logging level\n",
    "    options.add_argument('-l', '--log-level', ignore_none=True, \n",
    "                         type=str, choices=['DEBUG', 'INFO', 'WARNING', 'ERROR'], \n",
    "                         dest='main__log_level', \n",
    "                         help='set logging level: DEBUG, INFO, WARNING, ERROR')\n",
    "\n",
    "    # alternative user_cfg file\n",
    "    options.add_argument('-c', '--config', type=str, required=False, \n",
    "                         dest='user_cfg', ignore_none=True, default=user_cfg,\n",
    "                         help=f'use the specified configuration file; default user config: {user_cfg}')\n",
    "    \n",
    "    # list servers - \n",
    "    options.add_argument('-s', '--list-servers', action='store_true', \n",
    "                         dest='list_servers',\n",
    "                         default=False,\n",
    "                         help='list servers and players found on local network and exit')\n",
    "    \n",
    "    # parse the command line options\n",
    "    options.parse_args()\n",
    "\n",
    "    ##### ACTION COMMANDLINE SWITCHES #####\n",
    "    if options.options.list_servers:\n",
    "        logging.error('FIXME - need to addd routine to list server info')\n",
    "        exit\n",
    "        pass    \n",
    "    \n",
    "    # use an alternative user configuration file\n",
    "    if 'user_cfg' in options.opts_dict:\n",
    "        user_cfg = options.opts_dict['user_cfg']\n",
    "    \n",
    "    # read the configuration files\n",
    "    config_file = Configuration.ConfigFile(default_cfg, user_cfg)    \n",
    "    \n",
    "    # merge the configuration files and the command line options\n",
    "    config = Configuration.merge_dict(config_file.config_dict, options.nested_opts_dict)\n",
    "    \n",
    "\n",
    "        \n",
    "    ##### OBJECTS #####\n",
    "    logging.root.setLevel(config['main']['log_level'])\n",
    "    \n",
    "    # LMS Query rate limiter wrapper - allow max of `max_calls` per `period` (seconds)\n",
    "    lmsQuery_ratelimit = RateLimiter(max_calls=1, period=3)\n",
    "    # create lms query object\n",
    "    try:\n",
    "        lms = lmsquery.LMSQuery(**config['lms_server'])\n",
    "        if not lms.player_id:\n",
    "#             raise ValueError('missing `player_id` value in lms_server section of config file')\n",
    "            raise ValueError(keyError_fmt.format('lms_server', 'player_id'))\n",
    "    except TypeError as e:\n",
    "#         logging.fatal(f'could not configure lms_server connection - see lms_server section in config file')\n",
    "        logging.fatal(configError_fmt.format('lms_server', user_cfg))\n",
    "        logging.fatal(f'Error: {e}')\n",
    "        \n",
    "    except ValueError as e:\n",
    "        logging.fatal(e)\n",
    "        logging.fatal(f'locate server and player information with:\\n$ {app_name} --list-servers')\n",
    "        do_exit(0)\n",
    "    \n",
    "    # setup EPD Display\n",
    "    try:\n",
    "        epd = importlib.import_module('.'.join([waveshare, config['layouts']['display']]))\n",
    "    except (KeyError) as e:\n",
    "        logging.fatal(keyError_fmt.format('layouts', 'display'))\n",
    "        logging.fatal(configError_fmt.format('layouts', user_cfg))\n",
    "        logging.fatal(e)\n",
    "        do_exit(0)\n",
    "    except (ModuleNotFoundError) as e:\n",
    "        logging.fatal(keyError_fmt.format('layouts', 'display'))\n",
    "        logging.fatal(configError_fmt.format('layouts', user_cfg))\n",
    "        logging.fatal(e)\n",
    "        do_exit(0)\n",
    "    \n",
    "    # setup layouts for displaying content\n",
    "    try:\n",
    "        layouts = importlib.import_module(layouts_file)\n",
    "        playing_layout_format = getattr(layouts, config['layouts']['now_playing'])\n",
    "        stopped_layout_format = getattr(layouts, config['layouts']['stopped'])\n",
    "        splash_layout_format = getattr(layouts, config['layouts']['splash'])\n",
    "    except (ModuleNotFoundError) as e:\n",
    "        logging.fatal(f'could not import layouts file: {layouts_file}')\n",
    "        logging.fatal(e)\n",
    "        do_exit(0)\n",
    "    except KeyError as e:\n",
    "        logging.fatal(keyError_fmt.format('layouts', e.args[0]))\n",
    "        logging.fatal(configError_fmt.format('layouts', user_cfg))\n",
    "        logging.fatal(e)\n",
    "        do_exit(0)\n",
    "    \n",
    "    # set resolution for screen\n",
    "    resolution = [epd.EPD_HEIGHT, epd.EPD_WIDTH]\n",
    "    # sort to put longest dimension first for landscape layout\n",
    "    resolution.sort(reverse=True)\n",
    "    \n",
    "    playing_layout = epdlib.Layout(layout=playing_layout_format, resolution=resolution)\n",
    "    \n",
    "    \n",
    "    splash_layout = epdlib.Layout(layout=splash_layout_format, resolution=resolution)\n",
    "    splash_layout.update_contents({'app_name': app_name,\n",
    "                                   'version': version,\n",
    "                                   'url': url})\n",
    "    \n",
    "    playing_layout = epdlib.Layout(layout=playing_layout_format, resolution=resolution)\n",
    "    stopped_layout = epdlib.Layout(layout=stopped_layout_format, resolution=resolution)\n",
    "    \n",
    "    # scren objects for managing writing to screen\n",
    "    screen = epdlib.Screen()\n",
    "    screen.epd = epd.EPD()\n",
    "    screen.initEPD()\n",
    "    \n",
    "    \n",
    "    ########## EXECUTION ##########\n",
    "    # Show splash screen\n",
    "    if config['main']['splash_screen']:\n",
    "        # push the images in the layout to the screen\n",
    "        screen.elements = splash_layout.blocks.values()\n",
    "        # concat all the individual images\n",
    "        screen.concat()\n",
    "        # write the image\n",
    "        screen.writeEPD()\n",
    "    \n",
    "    # refresh the screen when true\n",
    "    refresh = False\n",
    "    \n",
    "    \n",
    "    \n",
    "    logging.info('return!')\n",
    "    return "
   ]
  },
  {
   "cell_type": "code",
   "execution_count": 149,
   "metadata": {},
   "outputs": [
    {
     "name": "stdout",
     "output_type": "stream",
     "text": [
      "Configuration:parse_args:154:WARNING - ignoring unknown options: ['-f', '/home/pi/.local/share/jupyter/runtime/kernel-a2ac2af6-13d7-4b75-85de-edd6114d8625.json']\n",
      "Screen:initEPD:167:INFO - <waveshare_epd.epd5in83.EPD object at 0xae390c90> initialized\n",
      "<ipython-input-146-af67b0076302>:main:151:INFO - return!\n"
     ]
    }
   ],
   "source": [
    "c = main()"
   ]
  },
  {
   "cell_type": "code",
   "execution_count": 137,
   "metadata": {},
   "outputs": [
    {
     "data": {
      "text/plain": [
       "('now_playingx',)"
      ]
     },
     "execution_count": 137,
     "metadata": {},
     "output_type": "execute_result"
    }
   ],
   "source": [
    "c.args"
   ]
  }
 ],
 "metadata": {
  "kernelspec": {
   "display_name": "slimpi_epd-b1Rf9la8",
   "language": "python",
   "name": "slimpi_epd-b1rf9la8"
  },
  "language_info": {
   "codemirror_mode": {
    "name": "ipython",
    "version": 3
   },
   "file_extension": ".py",
   "mimetype": "text/x-python",
   "name": "python",
   "nbconvert_exporter": "python",
   "pygments_lexer": "ipython3",
   "version": "3.7.3"
  }
 },
 "nbformat": 4,
 "nbformat_minor": 2
}
