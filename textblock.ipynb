{
 "cells": [
  {
   "cell_type": "code",
   "execution_count": 5,
   "metadata": {},
   "outputs": [],
   "source": [
    "%load_ext autoreload"
   ]
  },
  {
   "cell_type": "code",
   "execution_count": 6,
   "metadata": {},
   "outputs": [],
   "source": [
    "%autoreload 2"
   ]
  },
  {
   "cell_type": "code",
   "execution_count": 7,
   "metadata": {},
   "outputs": [],
   "source": [
    "import logging\n",
    "from pathlib import Path\n",
    "import textwrap\n",
    "import copy\n",
    "from PIL import Image, ImageDraw, ImageFont\n",
    "from waveshare_epd import epd2in7b"
   ]
  },
  {
   "cell_type": "code",
   "execution_count": 8,
   "metadata": {},
   "outputs": [],
   "source": [
    "import constants\n"
   ]
  },
  {
   "cell_type": "code",
   "execution_count": 9,
   "metadata": {},
   "outputs": [],
   "source": [
    "logging.basicConfig(level=logging.DEBUG)\n",
    "logger = logging.getLogger(__name__)"
   ]
  },
  {
   "cell_type": "code",
   "execution_count": 278,
   "metadata": {},
   "outputs": [],
   "source": [
    "class TextBlock:\n",
    "    '''Class for creating a 1 bit image of word-wrapped text\n",
    "    \n",
    "    Args\n",
    "    ----\n",
    "        resolution (int, int): tuple of ints representing maximum resolution of image\n",
    "        text (str): text to format into image\n",
    "        font (str): path to ttf font\n",
    "        size (int): size of font in points (pixles)\n",
    "        max_lines (int): maximum number of wrapped rows of text; surplus is discarded\n",
    "        maxchar (int): maximum number of characters per row\n",
    "            this is automatically calculated if not specified based on font face, font size\n",
    "            and letter frequency (see chardist below)\n",
    "        chardist (dict): character frequency distribution for a particular language\n",
    "            provided distributions in constants.py: \n",
    "            USA_CHARDIST+, FRA_CHARDIST, DEU_CHARDIST, PRT_CHARDIST, ITA_CHARDIST, TUR_CHARDIST,\n",
    "            SWE_CHARDIST, NED_CHARDIST, DAN_CHARDIST\n",
    "                + only USA english includes upper and lower case characters\n",
    "        coordinates (int, int): location on screen image should be positioned (not used locally)\n",
    "    \n",
    "    Attributes\n",
    "    ----------\n",
    "        resolution (int, int): max resolution of image in px\n",
    "        font (ImageFont.trueType): font and size to use\n",
    "        maxchar (int): maximum number of characters per row\n",
    "        max_lines (int): maximum number of wrapped rows of text; surplus is discarded\n",
    "        coordinates (int, int): position of text in final image (not used in this class)\n",
    "        size (int, int): size of text image in px\n",
    "        text (str): raw text\n",
    "        formatted (str): wrapped text\n",
    "        textimage (ImageDraw.Draw): 1 bit image containing formatted text text\n",
    "\n",
    "\n",
    "    '''\n",
    "    def __init__(self, resolution=(264, 176), text=' ', font=constants.FONT, size=24, max_lines=3,\n",
    "                 maxchar=None, justify='l', coordinates=(0, 0), chardist=constants.USA_CHARDIST):\n",
    "        self.resolution=resolution\n",
    "        self.font = ImageFont.truetype(str(Path(font).absolute()), size)\n",
    "        self._chardist = chardist\n",
    "        self.maxchar = maxchar\n",
    "        self.justify = justify\n",
    "        self.max_lines = max_lines\n",
    "        self.coordinates = coordinates\n",
    "        self.text = text\n",
    "    \n",
    "        \n",
    "    @property\n",
    "    def resolution(self):\n",
    "        '''maximum resolution in for image\n",
    "        \n",
    "        ::2-tuple of int'''\n",
    "        return self._resolution\n",
    "    \n",
    "    @resolution.setter\n",
    "    def resolution(self, resolution):\n",
    "#         for r in resolution:\n",
    "#             if not isinstance(r, int):\n",
    "#                 raise TypeError(f'resolution must be type int: {r}')\n",
    "#             if r < 0:\n",
    "#                 raise ValueError(f'resolution must be positive: {r}')\n",
    "        if self.coordcheck(resolution):\n",
    "            self._resolution = resolution\n",
    "        else:\n",
    "            raise ValueError(f'bad resolution value: {resolution}')\n",
    "    \n",
    "    @property\n",
    "    def coordinates(self):\n",
    "        '''coordinates to place the formatted text within the final image (not used in this method)\n",
    "        \n",
    "        ::2 tuple of int'''\n",
    "        return self._coordinates\n",
    "    \n",
    "    @coordinates.setter\n",
    "    def coordinates(self, coordinates):\n",
    "        if self.coordcheck(coordinates):\n",
    "            self._coordinates = coordinates\n",
    "        else:\n",
    "            raise ValueError(f'bad coordinate values: {coordinates}')\n",
    "    \n",
    "    @property\n",
    "    def maxchar(self):\n",
    "        '''maximum number of characters per row\n",
    "            if no value is set this is calculated based on font face, font size and letter frequency\n",
    "            \n",
    "        ::int'''\n",
    "        return self._maxchar\n",
    "    \n",
    "    @maxchar.setter\n",
    "    def maxchar(self, maxchar):\n",
    "        if maxchar:\n",
    "            self.__maxchar = maxchar\n",
    "            return(maxchar)\n",
    "        else:\n",
    "            s = ''\n",
    "            n = 1000 # sample string size for measuring\n",
    "            # create a string of characters containing the letter distribution\n",
    "            for char in self._chardist:\n",
    "                s = s+(char*int(self._chardist[char]*n))\n",
    "            sLenPX = self.font.getsize(s)[0] # string length in Pixles\n",
    "            avgCharLen = sLenPX/len(s)\n",
    "            maxchar = round(self.resolution[0]/avgCharLen)\n",
    "            self._maxchar = maxchar\n",
    "    \n",
    "    @property\n",
    "    def text(self):\n",
    "        '''raw text\n",
    "        \n",
    "        ::str'''\n",
    "        return self._text\n",
    "    \n",
    "    @text.setter\n",
    "    def text(self, text):\n",
    "        if not text:\n",
    "            self.text = None\n",
    "        else:\n",
    "            self._text = text\n",
    "            self.formatted = self.formattext()\n",
    "            self.image = self.textimage()\n",
    "    \n",
    "    @property\n",
    "    def max_lines(self):\n",
    "        '''maximum number of rows to use when wrapping text\n",
    "        \n",
    "        ::int'''\n",
    "        return self._max_lines\n",
    "    \n",
    "    @max_lines.setter\n",
    "    def max_lines(self, max_lines):\n",
    "        if max_lines < 1:\n",
    "            raise ValueError(f'max_lines must be greater than 0: {max_lines}')\n",
    "        if not isinstance(max_lines, int):\n",
    "            raise ValueError(f'max_lines must be type integer: {max_lines}')\n",
    "        self._max_lines = max_lines\n",
    "    \n",
    "    def formattext(self, text=None, maxchar=None, max_lines=None, justify=None):\n",
    "        '''format text using word-wrap strategies\n",
    "        \n",
    "        Args\n",
    "        ----\n",
    "            text (str): raw text\n",
    "            maxchar (int): maximum number of characters in each row\n",
    "            max_lines (int): maximum number of rows\n",
    "            justify (str): 'l'-left (default), 'c'-center\n",
    "            \n",
    "        Returns\n",
    "        -------\n",
    "            ::str'''\n",
    "        \n",
    "        if not maxchar:\n",
    "            maxchar = self.maxchar\n",
    "        if not max_lines:\n",
    "            max_lines = self.max_lines\n",
    "        if not text:\n",
    "            text = self.text\n",
    "        if not justify:\n",
    "            justify = self.justify\n",
    "\n",
    "        wrapper = textwrap.TextWrapper(width=maxchar, max_lines=max_lines)\n",
    "        lines = wrapper.wrap(text)\n",
    "        \n",
    "        # pad out unused lines in max_lines\n",
    "        if len(lines) < max_lines:\n",
    "            for i in range(0, max_lines-len(lines)):\n",
    "                lines.append(\" \")\n",
    "\n",
    "        logging.debug(f'total lines: {len(lines)}')\n",
    "        if justify == 'c':\n",
    "            myText = \"\\n\".join(line.center(maxchar) for line in lines)\n",
    "        else:\n",
    "            myText = \"\\n\".join(line for line in lines)\n",
    "    \n",
    "        # always return a string with at least one character\n",
    "        if len(myText) < 1:\n",
    "            myText = ' '\n",
    "        \n",
    "        return(myText)\n",
    "    \n",
    "    def textimage(self, text=None, coordinates=None):\n",
    "        '''produces 1 bit image of containing wrapped text\n",
    "        \n",
    "        Args\n",
    "        ----\n",
    "            text (str): raw text to use; if non is provided use self.text\n",
    "            coordinates (int): coordinates of text in final image (not used in this class)\n",
    "            \n",
    "        Returns\n",
    "        -------\n",
    "            ::Image.new()'''\n",
    "        if text:\n",
    "            text = self.formattext(text)\n",
    "        else:\n",
    "            text = self.formatted\n",
    "            \n",
    "        if not coordinates:\n",
    "            coordinates = self.coordinates\n",
    "\n",
    "        # get the size of the text\n",
    "        draw = ImageDraw.Draw(Image.new('1', (1, 1))) # create a dummy image and drawing instance\n",
    "        self.size = draw.textsize(text, self.font)\n",
    "        \n",
    "        logging.debug(f'text size: {self.size}')\n",
    "        # create an empty image\n",
    "        image = Image.new('1', self.size, 255) # create a blank image \n",
    "        # get a drawing context\n",
    "        draw = ImageDraw.Draw(image)\n",
    "#         draw.text        \n",
    "        draw.text((0,0), text, font=self.font) # draw the text at the origin\n",
    "        self.image = image\n",
    "        return image\n",
    "\n",
    "    def coordcheck(self, coordinates):\n",
    "        for c in coordinates:\n",
    "            if not isinstance(c, int):\n",
    "                raise TypeError(f'coordinate must be type int: {c}')\n",
    "                return False # redundant\n",
    "            if c < 0:\n",
    "                raise ValueError(f'coordinate must be positive: {c}')\n",
    "                return False # redundant\n",
    "        return True"
   ]
  },
  {
   "cell_type": "code",
   "execution_count": 327,
   "metadata": {},
   "outputs": [],
   "source": [
    "class Screen:\n",
    "    def __init__(self, resolution=(264, 176), elements=[], epd=None):\n",
    "        self.resolution = resolution\n",
    "        self.elements = elements\n",
    "        self.image = self.clearScreen()\n",
    "        self.epd = epd\n",
    "        \n",
    "    @property\n",
    "    def resolution(self):\n",
    "        return self._resolution\n",
    "    \n",
    "    @resolution.setter\n",
    "    def resolution(self, resolution):\n",
    "        if self.coordcheck(resolution):\n",
    "            self._resolution = resolution\n",
    "    \n",
    "    def clearScreen(self):\n",
    "        '''sets base image for building screen to an empty background'''\n",
    "        self.image = Image.new('1', self.resolution, 255)\n",
    "        return self.image\n",
    "\n",
    "    def concat(self, elements=None):\n",
    "        if elements:\n",
    "            elements = elements\n",
    "        else:\n",
    "            elements = self.elements\n",
    "    \n",
    "        for e in self.elements:\n",
    "            self.image.paste(e.image, (e.coordinates))\n",
    "        return(self.image)\n",
    "        \n",
    "    def coordcheck(self, coordinates):\n",
    "        for c in coordinates:\n",
    "            if not isinstance(c, int):\n",
    "                raise TypeError(f'coordinate must be type int: {c}')\n",
    "                return False # redundant\n",
    "            if c < 0:\n",
    "                raise ValueError(f'coordinate must be positive: {c}')\n",
    "                return False # redundant\n",
    "        return True        \n",
    "    \n",
    "    def initEPD(self):\n",
    "        if not self.epd:\n",
    "            raise UnboundLocalError('no epd object has been assigned')\n",
    "        try:\n",
    "            self.epd.init()\n",
    "        except Exception as e:\n",
    "            logging.error(f'failed to init epd: {e}')\n",
    "    \n",
    "    def clearEPD(self):\n",
    "        if not self.epd:\n",
    "            raise UnboundLocalError('no epd object has been assigned')\n",
    "        try:\n",
    "            self.epd.Clear();\n",
    "        except Exception as e:\n",
    "            logging.error(f'failed to clear epd: {e}')\n",
    "    \n",
    "    def writeEPD(self, image=None):\n",
    "        epd = self.epd\n",
    "        if not self.epd:\n",
    "            raise UnboundLocalError('no epd object has been assigned')\n",
    "        try:\n",
    "            epd.display(epd.getbuffer(self.image), epd.getbuffer(Image.new('1', (epd.height, epd.width), 255)))\n",
    "            epd.sleep()\n",
    "        except Exception as e:\n",
    "            logging.error(f'failed to write to epd: {e}')\n",
    "        \n",
    "        "
   ]
  },
  {
   "cell_type": "code",
   "execution_count": 330,
   "metadata": {},
   "outputs": [
    {
     "name": "stderr",
     "output_type": "stream",
     "text": [
      "DEBUG:root:total lines: 3\n",
      "DEBUG:root:text size: (193, 125)\n"
     ]
    },
    {
     "data": {
      "text/plain": [
       "'    Lovely   \\n   Creature  \\n             '"
      ]
     },
     "execution_count": 330,
     "metadata": {},
     "output_type": "execute_result"
    }
   ],
   "source": [
    "t = TextBlock(text=\"Lovely Creature\", size=36, coordinates=(5, 0), justify='c')\n",
    "t.formatted"
   ]
  },
  {
   "cell_type": "code",
   "execution_count": 331,
   "metadata": {},
   "outputs": [
    {
     "name": "stderr",
     "output_type": "stream",
     "text": [
      "DEBUG:root:total lines: 2\n",
      "DEBUG:root:text size: (193, 44)\n"
     ]
    }
   ],
   "source": [
    "a = TextBlock(text='Nick Cave and The Bad Seeds', size = 18, coordinates=(5, t.size[1]), max_lines=2)"
   ]
  },
  {
   "cell_type": "code",
   "execution_count": 332,
   "metadata": {},
   "outputs": [
    {
     "data": {
      "image/png": "[encoded data removed]",
      "text/plain": [
       "<PIL.Image.Image image mode=1 size=264x176 at 0xAF105230>"
      ]
     },
     "execution_count": 332,
     "metadata": {},
     "output_type": "execute_result"
    }
   ],
   "source": [
    "s = Screen(elements=[a, t])\n",
    "s.concat()"
   ]
  },
  {
   "cell_type": "code",
   "execution_count": 333,
   "metadata": {},
   "outputs": [
    {
     "name": "stderr",
     "output_type": "stream",
     "text": [
      "DEBUG:root:e-Paper busy\n",
      "DEBUG:root:e-Paper busy release\n",
      "DEBUG:root:Horizontal\n",
      "DEBUG:root:Horizontal\n",
      "DEBUG:root:e-Paper busy\n",
      "DEBUG:root:e-Paper busy release\n",
      "DEBUG:root:spi end\n",
      "DEBUG:root:close 5V, Module enters 0 power consumption ...\n"
     ]
    }
   ],
   "source": [
    "s.epd = epd2in7b.EPD()\n",
    "s.initEPD()\n",
    "# s.clearEPD()\n",
    "s.writeEPD()"
   ]
  },
  {
   "cell_type": "code",
   "execution_count": 324,
   "metadata": {},
   "outputs": [],
   "source": [
    "e = epd2in7b.EPD()\n"
   ]
  },
  {
   "cell_type": "code",
   "execution_count": 326,
   "metadata": {},
   "outputs": [
    {
     "name": "stderr",
     "output_type": "stream",
     "text": [
      "DEBUG:root:e-Paper busy\n",
      "DEBUG:root:e-Paper busy release\n"
     ]
    },
    {
     "data": {
      "text/plain": [
       "0"
      ]
     },
     "execution_count": 326,
     "metadata": {},
     "output_type": "execute_result"
    }
   ],
   "source": [
    "e.init()"
   ]
  },
  {
   "cell_type": "code",
   "execution_count": null,
   "metadata": {},
   "outputs": [],
   "source": [
    "e.sleep()"
   ]
  },
  {
   "cell_type": "code",
   "execution_count": 78,
   "metadata": {},
   "outputs": [
    {
     "name": "stderr",
     "output_type": "stream",
     "text": [
      "DEBUG:root:e-Paper busy\n",
      "DEBUG:root:e-Paper busy release\n"
     ]
    }
   ],
   "source": [
    "e.Clear()"
   ]
  },
  {
   "cell_type": "code",
   "execution_count": 110,
   "metadata": {},
   "outputs": [],
   "source": [
    "b = Image.new('1', (e.height, e.width), 255)\n",
    "r = Image.new('1', (e.height, e.width), 255)\n",
    "f = ImageFont.truetype(font=constants.FONT, size=24)\n",
    "bDraw = ImageDraw.Draw(b)"
   ]
  },
  {
   "cell_type": "code",
   "execution_count": 111,
   "metadata": {},
   "outputs": [],
   "source": [
    "bDraw.text((0, 0), \"hello world\", font=f)"
   ]
  },
  {
   "cell_type": "code",
   "execution_count": 122,
   "metadata": {},
   "outputs": [
    {
     "name": "stderr",
     "output_type": "stream",
     "text": [
      "DEBUG:root:Horizontal\n",
      "DEBUG:root:Horizontal\n",
      "DEBUG:root:e-Paper busy\n",
      "DEBUG:root:e-Paper busy release\n"
     ]
    }
   ],
   "source": [
    "e.display(e.getbuffer(s.image), e.getbuffer(Image.new('1', (e.height, e.width), 255)))"
   ]
  },
  {
   "cell_type": "code",
   "execution_count": 80,
   "metadata": {},
   "outputs": [],
   "source": [
    "# ((size), (position))\n",
    "# find the size if all images were concatinated together\n",
    "cords = [((10, 10), (50, 10)), ((120, 120), (0, 0)), ((120, 120), (120, 0)), ((240, 60), (0, 120)), ((50, 100), (170, 70))]"
   ]
  },
  {
   "cell_type": "code",
   "execution_count": 81,
   "metadata": {},
   "outputs": [
    {
     "name": "stdout",
     "output_type": "stream",
     "text": [
      "found a new X max 60\n",
      "found a new Y max 20\n",
      "found a new X max 120\n",
      "found a new Y max 120\n",
      "found a new X max 240\n",
      "found a new Y max 180\n",
      "240 180\n"
     ]
    }
   ],
   "source": [
    "x = 0\n",
    "y = 0\n",
    "lastX = 0\n",
    "lastY = 0\n",
    "for c in cords:\n",
    "    thisX = c[1][0] + c[0][0]\n",
    "    thisY = c[1][1] + c[0][1]\n",
    "    \n",
    "    if thisX > lastX:\n",
    "        lastX = thisX\n",
    "        print(f'found a new X max {lastX}')\n",
    "    \n",
    "    if thisY > lastY:\n",
    "        lastY = thisY\n",
    "        print(f'found a new Y max {lastY}')\n",
    "        \n",
    "print(lastX, lastY)"
   ]
  },
  {
   "cell_type": "code",
   "execution_count": 100,
   "metadata": {},
   "outputs": [],
   "source": [
    "st = 'foo\\n'"
   ]
  },
  {
   "cell_type": "code",
   "execution_count": 157,
   "metadata": {},
   "outputs": [
    {
     "ename": "AttributeError",
     "evalue": "'list' object has no attribute 'fill'",
     "output_type": "error",
     "traceback": [
      "\u001b[0;31m---------------------------------------------------------------------------\u001b[0m",
      "\u001b[0;31mAttributeError\u001b[0m                            Traceback (most recent call last)",
      "\u001b[0;32m<ipython-input-157-1081ec16b8f8>\u001b[0m in \u001b[0;36m<module>\u001b[0;34m\u001b[0m\n\u001b[1;32m      1\u001b[0m \u001b[0mtext\u001b[0m \u001b[0;34m=\u001b[0m \u001b[0;34m\"If true, then words longer than width will be broken in order to ensure that no lines are longer than width. If it is false, long words will not be broken, and some lines may be longer than width. (Long words will be put on a line by themselves, in order to minimize the amount by which width is exceeded.)\"\u001b[0m\u001b[0;34m\u001b[0m\u001b[0;34m\u001b[0m\u001b[0m\n\u001b[1;32m      2\u001b[0m \u001b[0mw\u001b[0m \u001b[0;34m=\u001b[0m \u001b[0mtextwrap\u001b[0m\u001b[0;34m.\u001b[0m\u001b[0mwrap\u001b[0m\u001b[0;34m(\u001b[0m\u001b[0mtext\u001b[0m\u001b[0;34m)\u001b[0m\u001b[0;34m\u001b[0m\u001b[0;34m\u001b[0m\u001b[0m\n\u001b[0;32m----> 3\u001b[0;31m \u001b[0mw\u001b[0m\u001b[0;34m.\u001b[0m\u001b[0mfill\u001b[0m\u001b[0;34m\u001b[0m\u001b[0;34m\u001b[0m\u001b[0m\n\u001b[0m",
      "\u001b[0;31mAttributeError\u001b[0m: 'list' object has no attribute 'fill'"
     ]
    }
   ],
   "source": [
    "text = \"If true, then words longer than width will be broken in order to ensure that no lines are longer than width. If it is false, long words will not be broken, and some lines may be longer than width. (Long words will be put on a line by themselves, in order to minimize the amount by which width is exceeded.)\"\n",
    "w = textwrap.wrap(text)\n"
   ]
  },
  {
   "cell_type": "code",
   "execution_count": 158,
   "metadata": {},
   "outputs": [],
   "source": [
    "tw = textwrap.TextWrapper(width=40, max_lines=3)"
   ]
  },
  {
   "cell_type": "code",
   "execution_count": 161,
   "metadata": {},
   "outputs": [
    {
     "data": {
      "text/plain": [
       "'If true, then words longer than width\\nwill be broken in order to ensure that\\nno lines are longer than width. If [...]'"
      ]
     },
     "execution_count": 161,
     "metadata": {},
     "output_type": "execute_result"
    }
   ],
   "source": [
    "lines = tw.wrap(text)\n",
    "\"\\n\".join(line for line in lines)\n"
   ]
  },
  {
   "cell_type": "code",
   "execution_count": 146,
   "metadata": {},
   "outputs": [
    {
     "name": "stdout",
     "output_type": "stream",
     "text": [
      "If true, then words \n",
      " longer than width  \n",
      "will be broken [...]\n"
     ]
    }
   ],
   "source": [
    "tw = textwrap.TextWrapper(width=20, max_lines=3)\n",
    "lines = tw.wrap(text)\n",
    "t = \"\\n\".join(line.center(20) for line in lines)\n",
    "print(t)"
   ]
  }
 ],
 "metadata": {
  "kernelspec": {
   "display_name": "slimpi_epd-b1Rf9la8",
   "language": "python",
   "name": "slimpi_epd-b1rf9la8"
  },
  "language_info": {
   "codemirror_mode": {
    "name": "ipython",
    "version": 3
   },
   "file_extension": ".py",
   "mimetype": "text/x-python",
   "name": "python",
   "nbconvert_exporter": "python",
   "pygments_lexer": "ipython3",
   "version": "3.7.3"
  }
 },
 "nbformat": 4,
 "nbformat_minor": 2
}
