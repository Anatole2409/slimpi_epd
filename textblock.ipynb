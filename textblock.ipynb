{
 "cells": [
  {
   "cell_type": "code",
   "execution_count": 3,
   "metadata": {},
   "outputs": [
    {
     "name": "stdout",
     "output_type": "stream",
     "text": [
      "The autoreload extension is already loaded. To reload it, use:\n",
      "  %reload_ext autoreload\n"
     ]
    }
   ],
   "source": [
    "%load_ext autoreload"
   ]
  },
  {
   "cell_type": "code",
   "execution_count": 4,
   "metadata": {},
   "outputs": [],
   "source": [
    "%autoreload 2"
   ]
  },
  {
   "cell_type": "code",
   "execution_count": 5,
   "metadata": {},
   "outputs": [],
   "source": [
    "import logging\n",
    "from pathlib import Path\n",
    "import textwrap\n",
    "import copy\n",
    "from PIL import Image, ImageDraw, ImageFont\n",
    "from waveshare_epd import epd2in7b\n",
    "from waveshare_epd import epd5in83"
   ]
  },
  {
   "cell_type": "code",
   "execution_count": 6,
   "metadata": {},
   "outputs": [],
   "source": [
    "import constants\n"
   ]
  },
  {
   "cell_type": "code",
   "execution_count": 7,
   "metadata": {},
   "outputs": [],
   "source": [
    "logging.basicConfig(level=logging.DEBUG)\n",
    "logger = logging.getLogger(__name__)"
   ]
  },
  {
   "cell_type": "code",
   "execution_count": 71,
   "metadata": {},
   "outputs": [],
   "source": [
    "class TextBlock:\n",
    "    '''Class for creating a 1 bit image of word-wrapped text\n",
    "    \n",
    "    Args\n",
    "    ----\n",
    "        resolution (int, int): tuple of ints representing maximum resolution of image\n",
    "        text (str): text to format into image\n",
    "        font (str): path to ttf font\n",
    "        size (int): size of font in points (pixles)\n",
    "        max_lines (int): maximum number of wrapped rows of text; surplus is discarded\n",
    "        maxchar (int): maximum number of characters per row\n",
    "            this is automatically calculated if not specified based on font face, font size\n",
    "            and letter frequency (see chardist below)\n",
    "        chardist (dict): character frequency distribution for a particular language\n",
    "            provided distributions in constants.py: \n",
    "            USA_CHARDIST+, FRA_CHARDIST, DEU_CHARDIST, PRT_CHARDIST, ITA_CHARDIST, TUR_CHARDIST,\n",
    "            SWE_CHARDIST, NED_CHARDIST, DAN_CHARDIST\n",
    "                + only USA english includes upper and lower case characters\n",
    "        coordinates (int, int): location on screen image should be positioned (not used locally)\n",
    "    \n",
    "    Attributes\n",
    "    ----------\n",
    "        resolution (int, int): max resolution of image in px\n",
    "        font (ImageFont.trueType): font and size to use\n",
    "        maxchar (int): maximum number of characters per row\n",
    "        max_lines (int): maximum number of wrapped rows of text; surplus is discarded\n",
    "        coordinates (int, int): position of text in final image (not used in this class)\n",
    "        size (int, int): size of text image in px\n",
    "        text (str): raw text\n",
    "        formatted (str): wrapped text\n",
    "        textimage (ImageDraw.Draw): 1 bit image containing formatted text text\n",
    "\n",
    "\n",
    "    '''\n",
    "    def __init__(self, resolution=(600, 448), text=' ', font=constants.FONT, size=24, max_lines=3,\n",
    "                 maxchar=None, center=False, coordinates=(0, 0), chardist=constants.USA_CHARDIST):\n",
    "        self.resolution=resolution\n",
    "        self.font = ImageFont.truetype(str(Path(font).absolute()), size)\n",
    "        self._chardist = chardist\n",
    "        self.maxchar = maxchar\n",
    "        self.center = center\n",
    "        self.dimensions = (0, 0)\n",
    "        self.max_lines = max_lines\n",
    "        self.coordinates = coordinates\n",
    "        self.image = None\n",
    "        self.text = text\n",
    "    \n",
    "        \n",
    "    @property\n",
    "    def resolution(self):\n",
    "        '''maximum resolution in for image\n",
    "        \n",
    "        ::2-tuple of int'''\n",
    "        return self._resolution\n",
    "    \n",
    "    @resolution.setter\n",
    "    def resolution(self, resolution):\n",
    "#         for r in resolution:\n",
    "#             if not isinstance(r, int):\n",
    "#                 raise TypeError(f'resolution must be type int: {r}')\n",
    "#             if r < 0:\n",
    "#                 raise ValueError(f'resolution must be positive: {r}')\n",
    "        if self.coordcheck(resolution):\n",
    "            self._resolution = resolution\n",
    "        else:\n",
    "            raise ValueError(f'bad resolution value: {resolution}')\n",
    "    \n",
    "    @property\n",
    "    def coordinates(self):\n",
    "        '''coordinates to place the formatted text within the final image (not used in this method)\n",
    "        \n",
    "        ::2 tuple of int'''\n",
    "        return self._coordinates\n",
    "    \n",
    "    @coordinates.setter\n",
    "    def coordinates(self, coordinates):\n",
    "        if self.coordcheck(coordinates):\n",
    "            self._coordinates = coordinates\n",
    "        else:\n",
    "            raise ValueError(f'bad coordinate values: {coordinates}')\n",
    "    \n",
    "    @property\n",
    "    def maxchar(self):\n",
    "        '''maximum number of characters per row\n",
    "            if no value is set this is calculated based on font face, font size and letter frequency\n",
    "            \n",
    "        ::int'''\n",
    "        return self._maxchar\n",
    "    \n",
    "    @maxchar.setter\n",
    "    def maxchar(self, maxchar):\n",
    "        if maxchar:\n",
    "            self.__maxchar = maxchar\n",
    "            return(maxchar)\n",
    "        else:\n",
    "            s = ''\n",
    "            n = 1000 # sample string size for measuring\n",
    "            # create a string of characters containing the letter distribution\n",
    "            for char in self._chardist:\n",
    "                s = s+(char*int(self._chardist[char]*n))\n",
    "            sLenPX = self.font.getsize(s)[0] # string length in Pixles\n",
    "            avgCharLen = sLenPX/len(s)\n",
    "            maxchar = round(self.resolution[0]/avgCharLen)\n",
    "            self._maxchar = maxchar\n",
    "            logging.debug(f'maximum characters/line: {maxchar}')\n",
    "    \n",
    "    @property\n",
    "    def text(self):\n",
    "        '''raw text\n",
    "        \n",
    "        ::str'''\n",
    "        return self._text\n",
    "    \n",
    "    @text.setter\n",
    "    def text(self, text):\n",
    "        if not text:\n",
    "            self.text = None\n",
    "        else:\n",
    "            self._text = text\n",
    "            self.formatted = self.formattext()\n",
    "            self.image = self.textimage()\n",
    "    \n",
    "    @property\n",
    "    def max_lines(self):\n",
    "        '''maximum number of rows to use when wrapping text\n",
    "        \n",
    "        ::int'''\n",
    "        return self._max_lines\n",
    "    \n",
    "    @max_lines.setter\n",
    "    def max_lines(self, max_lines):\n",
    "        if max_lines < 1:\n",
    "            raise ValueError(f'max_lines must be greater than 0: {max_lines}')\n",
    "        if not isinstance(max_lines, int):\n",
    "            raise ValueError(f'max_lines must be type integer: {max_lines}')\n",
    "        self._max_lines = max_lines\n",
    "    \n",
    "    def formattext(self, text=None, maxchar=None, max_lines=None):\n",
    "        '''format text using word-wrap strategies\n",
    "        \n",
    "        Args\n",
    "        ----\n",
    "            text (str): raw text\n",
    "            maxchar (int): maximum number of characters in each row\n",
    "            max_lines (int): maximum number of rows\n",
    "            justify (str): 'l'-left (default), 'c'-center\n",
    "            \n",
    "        Returns\n",
    "        -------\n",
    "            ::list of ::str'''\n",
    "        \n",
    "        if not maxchar:\n",
    "            maxchar = self.maxchar\n",
    "        if not max_lines:\n",
    "            max_lines = self.max_lines\n",
    "        if not text:\n",
    "            text = self.text\n",
    "\n",
    "        wrapper = textwrap.TextWrapper(width=maxchar, max_lines=max_lines)\n",
    "        myText = wrapper.wrap(text)\n",
    "        \n",
    "        # pad out unused lines in max_lines\n",
    "        if len(myText) < max_lines:\n",
    "            for i in range(len(myText), max_lines):\n",
    "                myText.append(\" \")\n",
    "        \n",
    "        logging.debug(f'total lines: {len(myText)}')\n",
    "        \n",
    "        logging.debug(myText)\n",
    "    \n",
    "        \n",
    "        return(myText)\n",
    "    \n",
    "    def textimage(self, text=None, coordinates=None, center=None):\n",
    "        '''produces 1 bit image of containing wrapped text\n",
    "        \n",
    "        Args\n",
    "        ----\n",
    "            text (str): raw text to use; if none is provided use self.formatted\n",
    "            coordinates (int): coordinates of text in final image (not used in this class)\n",
    "            \n",
    "        Returns\n",
    "        -------\n",
    "            ::Image.new()'''\n",
    "        if text:\n",
    "            text = self.formattext(text)\n",
    "        else:\n",
    "            text = self.formatted\n",
    "        \n",
    "        if not center:\n",
    "            center = self.center\n",
    "        \n",
    "        if not coordinates:\n",
    "            coordinates = self.coordinates\n",
    "        \n",
    "        tallest = self.font.getsize('Q')[1]\n",
    "        current_h = 0\n",
    "        pad = round(tallest*.1)\n",
    "        current_w = 0\n",
    "        # determine the dimensions of each line of text and total dimensions\n",
    "        for line in self.formatted:\n",
    "            w, h = self.font.getsize(line)\n",
    "            current_h += h + pad # accumulate the total height\n",
    "            if w > current_w: # find the longest line\n",
    "                current_w = w \n",
    "        dimensions = (current_w, current_h)\n",
    "        logging.debug(f'text dimension: {dimensions}')\n",
    "        self.dimensions = dimensions\n",
    "        image = Image.new('1', dimensions, 255)\n",
    "        draw = ImageDraw.Draw(image)\n",
    "        current_h = 0\n",
    "        y_pos = 0\n",
    "        # loop through the lines again to build the image\n",
    "        for line in self.formatted:\n",
    "            w, h = self.font.getsize(line)\n",
    "            if center:\n",
    "                y_pos = (dimensions[0]-w)/2\n",
    "            draw.text((y_pos, current_h), line, font=self.font)\n",
    "            current_h += h + pad\n",
    "        \n",
    "        if center:\n",
    "            new_coordinates = (round(self.resolution[0]/2-self.dimensions[0]/2)+self.coordinates[0], \n",
    "                               self.coordinates[1])\n",
    "            self.coordinates = new_coordinates\n",
    "        \n",
    "        return image\n",
    "\n",
    "    def coordcheck(self, coordinates):\n",
    "        for c in coordinates:\n",
    "            if not isinstance(c, int):\n",
    "                raise TypeError(f'coordinate must be type int: {c}')\n",
    "                return False # redundant\n",
    "            if c < 0:\n",
    "                raise ValueError(f'coordinate must be positive: {c}')\n",
    "                return False # redundant\n",
    "        return True"
   ]
  },
  {
   "cell_type": "code",
   "execution_count": 93,
   "metadata": {},
   "outputs": [
    {
     "name": "stderr",
     "output_type": "stream",
     "text": [
      "DEBUG:root:maximum characters/line: 18\n",
      "DEBUG:root:total lines: 3\n",
      "DEBUG:root:['Bach: Cello Suite', '#2 In D Minor, BWV', '1008 - 1. Prelude']\n",
      "DEBUG:root:text dimension: (548, 229)\n"
     ]
    }
   ],
   "source": [
    "t = TextBlock(text=\"Bach: Cello Suite #2 In D Minor, BWV 1008 - 1. Prelude\", size=60, coordinates=(0, 0), center=True)"
   ]
  },
  {
   "cell_type": "code",
   "execution_count": 94,
   "metadata": {},
   "outputs": [
    {
     "data": {
      "text/plain": [
       "(26, 0)"
      ]
     },
     "execution_count": 94,
     "metadata": {},
     "output_type": "execute_result"
    }
   ],
   "source": [
    "t.coordinates\n"
   ]
  },
  {
   "cell_type": "code",
   "execution_count": 95,
   "metadata": {},
   "outputs": [
    {
     "data": {
      "image/png": "[encoded data removed]",
      "text/plain": [
       "<PIL.Image.Image image mode=1 size=548x229 at 0xB02EA8D0>"
      ]
     },
     "execution_count": 95,
     "metadata": {},
     "output_type": "execute_result"
    }
   ],
   "source": [
    "t.image"
   ]
  },
  {
   "cell_type": "code",
   "execution_count": 96,
   "metadata": {},
   "outputs": [
    {
     "name": "stderr",
     "output_type": "stream",
     "text": [
      "DEBUG:root:maximum characters/line: 29\n",
      "DEBUG:root:total lines: 2\n",
      "DEBUG:root:['Edgar Meyer', ' ']\n",
      "DEBUG:root:text dimension: (212, 95)\n"
     ]
    }
   ],
   "source": [
    "a = TextBlock(text=\"Edgar Meyer\", size=36, coordinates=(5, t.dimensions[1]), max_lines=2)"
   ]
  },
  {
   "cell_type": "code",
   "execution_count": 77,
   "metadata": {},
   "outputs": [
    {
     "data": {
      "image/png": "[encoded data removed]",
      "text/plain": [
       "<PIL.Image.Image image mode=1 size=439x86 at 0xB0460710>"
      ]
     },
     "execution_count": 77,
     "metadata": {},
     "output_type": "execute_result"
    }
   ],
   "source": [
    "a.image"
   ]
  },
  {
   "cell_type": "code",
   "execution_count": 89,
   "metadata": {},
   "outputs": [],
   "source": [
    "class Screen:\n",
    "    def __init__(self, resolution=(600, 448), elements=[], epd=None):\n",
    "        self.resolution = resolution\n",
    "        self.elements = elements\n",
    "        self.image = self.clearScreen()\n",
    "        self.epd = epd\n",
    "        \n",
    "    @property\n",
    "    def resolution(self):\n",
    "        return self._resolution\n",
    "    \n",
    "    @resolution.setter\n",
    "    def resolution(self, resolution):\n",
    "        if self.coordcheck(resolution):\n",
    "            self._resolution = resolution\n",
    "    \n",
    "    def clearScreen(self):\n",
    "        '''sets base image for building screen to an empty background'''\n",
    "        self.image = Image.new('1', self.resolution, 255)\n",
    "        return self.image\n",
    "\n",
    "    def concat(self, elements=None):\n",
    "        if elements:\n",
    "            elements = elements\n",
    "        else:\n",
    "            elements = self.elements\n",
    "    \n",
    "        for e in self.elements:\n",
    "            self.image.paste(e.image, (e.coordinates))\n",
    "        return(self.image)\n",
    "        \n",
    "    def coordcheck(self, coordinates):\n",
    "        for c in coordinates:\n",
    "            if not isinstance(c, int):\n",
    "                raise TypeError(f'coordinate must be type int: {c}')\n",
    "                return False # redundant\n",
    "            if c < 0:\n",
    "                raise ValueError(f'coordinate must be positive: {c}')\n",
    "                return False # redundant\n",
    "        return True        \n",
    "    \n",
    "    def initEPD(self):\n",
    "        if not self.epd:\n",
    "            raise UnboundLocalError('no epd object has been assigned')\n",
    "        try:\n",
    "            self.epd.init()\n",
    "        except Exception as e:\n",
    "            logging.error(f'failed to init epd: {e}')\n",
    "    \n",
    "    def clearEPD(self):\n",
    "        if not self.epd:\n",
    "            raise UnboundLocalError('no epd object has been assigned')\n",
    "        try:\n",
    "            self.epd.Clear();\n",
    "        except Exception as e:\n",
    "            logging.error(f'failed to clear epd: {e}')\n",
    "    \n",
    "    def writeEPD(self, image=None, sleep=True):\n",
    "        epd = self.epd\n",
    "        if not self.epd:\n",
    "            raise UnboundLocalError('no epd object has been assigned')\n",
    "        try:\n",
    "#             epd.display(epd.getbuffer(self.image), epd.getbuffer(Image.new('1', (epd.height, epd.width), 255)))\n",
    "            epd.display(epd.getbuffer(self.image))\n",
    "            if sleep:\n",
    "                epd.sleep()\n",
    "        except Exception as e:\n",
    "            logging.error(f'failed to write to epd: {e}')\n",
    "        \n",
    "        "
   ]
  },
  {
   "cell_type": "code",
   "execution_count": null,
   "metadata": {},
   "outputs": [],
   "source": [
    "e = epd5in83.EPD()"
   ]
  },
  {
   "cell_type": "code",
   "execution_count": null,
   "metadata": {},
   "outputs": [],
   "source": [
    "e.height, e.width"
   ]
  },
  {
   "cell_type": "code",
   "execution_count": 97,
   "metadata": {},
   "outputs": [
    {
     "data": {
      "image/png": "[encoded data removed]",
      "text/plain": [
       "<PIL.Image.Image image mode=1 size=600x448 at 0xB02EA990>"
      ]
     },
     "execution_count": 97,
     "metadata": {},
     "output_type": "execute_result"
    }
   ],
   "source": [
    "s = Screen(elements=[a, t])\n",
    "s.concat()"
   ]
  },
  {
   "cell_type": "code",
   "execution_count": 98,
   "metadata": {},
   "outputs": [
    {
     "name": "stderr",
     "output_type": "stream",
     "text": [
      "DEBUG:root:e-Paper busy\n",
      "DEBUG:root:e-Paper busy release\n",
      "DEBUG:root:imwidth = 600  imheight =  448 \n",
      "DEBUG:root:e-Paper busy\n",
      "DEBUG:root:e-Paper busy release\n",
      "DEBUG:root:e-Paper busy\n",
      "DEBUG:root:e-Paper busy release\n",
      "DEBUG:root:spi end\n",
      "DEBUG:root:close 5V, Module enters 0 power consumption ...\n"
     ]
    }
   ],
   "source": [
    "s.epd = epd5in83.EPD()\n",
    "s.initEPD()\n",
    "# s.clearEPD()\n",
    "s.writeEPD()"
   ]
  }
 ],
 "metadata": {
  "kernelspec": {
   "display_name": "slimpi_epd-b1Rf9la8",
   "language": "python",
   "name": "slimpi_epd-b1rf9la8"
  },
  "language_info": {
   "codemirror_mode": {
    "name": "ipython",
    "version": 3
   },
   "file_extension": ".py",
   "mimetype": "text/x-python",
   "name": "python",
   "nbconvert_exporter": "python",
   "pygments_lexer": "ipython3",
   "version": "3.7.3"
  }
 },
 "nbformat": 4,
 "nbformat_minor": 2
}
