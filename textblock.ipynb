{
 "cells": [
  {
   "cell_type": "code",
   "execution_count": null,
   "metadata": {},
   "outputs": [],
   "source": [
    "%load_ext autoreload"
   ]
  },
  {
   "cell_type": "code",
   "execution_count": 2,
   "metadata": {},
   "outputs": [],
   "source": [
    "%autoreload 2"
   ]
  },
  {
   "cell_type": "code",
   "execution_count": 3,
   "metadata": {},
   "outputs": [],
   "source": [
    "import logging\n",
    "from pathlib import Path\n",
    "import textwrap\n",
    "import copy\n",
    "from PIL import Image, ImageDraw, ImageFont\n",
    "from waveshare_epd import epd2in7b"
   ]
  },
  {
   "cell_type": "code",
   "execution_count": 4,
   "metadata": {},
   "outputs": [],
   "source": [
    "import constants\n"
   ]
  },
  {
   "cell_type": "code",
   "execution_count": 5,
   "metadata": {},
   "outputs": [],
   "source": [
    "logging.basicConfig(level=logging.DEBUG)\n",
    "logger = logging.getLogger(__name__)"
   ]
  },
  {
   "cell_type": "code",
   "execution_count": 6,
   "metadata": {},
   "outputs": [],
   "source": [
    "class textblock:\n",
    "    '''Class for creating blocks of formatted and wrapped text as images using PIL(Pillow)\n",
    "    \n",
    "    Args\n",
    "    ----\n",
    "        resolution (2-tuple): width (x), height (y) in pixles of canvas\n",
    "        font (Path): path to ttf font\n",
    "        size (int): size in points to use for rendering text\n",
    "        maxRows (int): maximum number of rows to produce (overflow rows will be discarded)\n",
    "        text (str): unformatted text\n",
    "        charPerRow (int): maximum number of rows to use per row\n",
    "            this is automatically calculated using font, display size and english letter \n",
    "            distribution. Other letter distributions can be provided see CHARDIST\n",
    "        charDist (dict): letter use distribution for calculating maximum number of char/row \n",
    "            for character set. Default set is for [A..Z, a..z].\n",
    "            Format: CHARDIST = {'A': 0.0796394951934866, 'B': 0.0480421724743304,}\n",
    "            For more languages see: \n",
    "                * https://en.wikipedia.org/wiki/Letter_frequency \n",
    "                * https://www.sttmedia.com/characterfrequencies\n",
    "            \n",
    "    Attributres\n",
    "    -----------\n",
    "        height (int): height in pixles of the display\n",
    "        width (int): width in pixles of the display\n",
    "        font (str): path to ttf font\n",
    "        text (str): unformatted text\n",
    "        charPerRow (int): maximum number of characters to allow per row before wrapping\n",
    "        maxRows (int): maximum number of rows of text to produce (overflow rows will be discarded)\n",
    "        __charDist (dict): private var containing character distribution \n",
    "        formattedText (str): word-wrapped text\n",
    "    \n",
    "    Methods\n",
    "    -------\n",
    "    \n",
    "    \n",
    "    '''\n",
    "    def __init__(self, resolution=(264, 176), font=constants.FONT, size=24, maxRows=3, text='',\n",
    "                 charPerRow=None, charDist=constants.USA_CHARDIST):\n",
    "        self.height = resolution[0]\n",
    "        self.width = resolution[1]\n",
    "        self.font = self.setFont(fontPath=font, size=size)\n",
    "        self.__charDist = charDist\n",
    "        self.charPerRow = charPerRow\n",
    "        self.maxRows = maxRows\n",
    "        self.text = text\n",
    "        \n",
    "    def setFont(self, fontPath, size):\n",
    "        logger.debug(f'font: {Path(fontPath).absolute()}: {Path(fontPath).exists()}')\n",
    "        font = ImageFont.truetype(str(Path(fontPath).absolute()), size)\n",
    "        return(font)\n",
    "    \n",
    "    \n",
    "    @property\n",
    "    def charPerRow(self):\n",
    "        return self.__charPerRow\n",
    "    \n",
    "    @charPerRow.setter\n",
    "    def charPerRow(self, charPerRow):\n",
    "        if charPerRow:\n",
    "            self.__charPerRow = charPerRow\n",
    "            return(charPerRow)\n",
    "        s = ''\n",
    "        n = 1000\n",
    "        testFont = self.font\n",
    "        # create a string of characters containing the letter distribution\n",
    "        for char in self.__charDist:\n",
    "            s = s+(char*int(self.__charDist[char]*n))\n",
    "        sLenPX = testFont.getsize(s)[0] # string length in Pixles\n",
    "        avgCharLen = sLenPX/len(s)\n",
    "        charPerRow = round(self.height/avgCharLen)        \n",
    "        self.__charPerRow = charPerRow\n",
    "        \n",
    "    @property\n",
    "    def text(self):\n",
    "        return self.__text\n",
    "\n",
    "    @text.setter\n",
    "    def text(self, text):\n",
    "        if not text:\n",
    "            text = ' '\n",
    "        self.__text = text\n",
    "        self.formattedText = self.wrapText(text)\n",
    "        \n",
    "    def wrapText(self, text='', charPerRow=None, maxRows=None):\n",
    "        if not charPerRow:\n",
    "            charPerRow = self.charPerRow\n",
    "        if not maxRows:\n",
    "            maxRows = self.maxRows\n",
    "        try:\n",
    "            wrapper = textwrap.wrap(text, width=charPerRow)\n",
    "        except AttributeError as e:\n",
    "            raise ValueError(f'Attribute Error: {text} is not a string; it appears to be {type(text)}')\n",
    "        myText = \"\\n\".join(wrapper[0:maxRows])\n",
    "        return(myText)\n",
    "    \n",
    "    def textImg(self, text=None):\n",
    "        blankImage = Image.new('1', (self.height, self.width), 255) # create a blank image \n",
    "        myImage = ImageDraw.Draw(blankImage) # cr\n",
    "        if text:\n",
    "            myText = self.wrapText(text)\n",
    "        else:\n",
    "            myText = self.formattedText\n",
    "        \n",
    "        # this is suspect code - I think this works because it makes a shallow copy; probably need to \n",
    "        # do this in a more direct and obvious way\n",
    "        myImage.text((0, 0), myText, font=self.font, fill=0)\n",
    "        \n",
    "        return(blankImage)\n",
    "    \n",
    "    "
   ]
  },
  {
   "cell_type": "code",
   "execution_count": 30,
   "metadata": {},
   "outputs": [
    {
     "name": "stderr",
     "output_type": "stream",
     "text": [
      "DEBUG:__main__:font: /home/pi/src/slimpi_epd/fonts/Open_Sans/OpenSans-Regular.ttf: True\n",
      "DEBUG:__main__:font: /home/pi/src/slimpi_epd/fonts/Open_Sans/OpenSans-Regular.ttf: True\n"
     ]
    }
   ],
   "source": [
    "epd = epd2in7b.EPD()\n",
    "track = textblock(resolution=(epd.height, epd.width), maxRows=3, size=24)\n",
    "empty = textblock(resolution=(epd.height, epd.width), maxRows=1, size=10)"
   ]
  },
  {
   "cell_type": "code",
   "execution_count": 31,
   "metadata": {},
   "outputs": [],
   "source": [
    "track.text = 'Old education him departure any arranging one prevailed. Their end whole might began her. Behaved the comfort another fifteen eat. Partiality had his themselves ask pianoforte increasing discovered. So mr delay at since place whole above miles. He to observe conduct at detract because. Way ham unwilling not breakfast furniture explained perpetual. Or mr surrounded conviction so astonished literature. Songs to an blush woman be sorry young. We certain as removal attempt.'"
   ]
  },
  {
   "cell_type": "code",
   "execution_count": 32,
   "metadata": {},
   "outputs": [
    {
     "data": {
      "image/png": "[encoded data removed]",
      "text/plain": [
       "<PIL.Image.Image image mode=1 size=264x176 at 0xAFAC0770>"
      ]
     },
     "execution_count": 32,
     "metadata": {},
     "output_type": "execute_result"
    }
   ],
   "source": [
    "track.textImg()"
   ]
  },
  {
   "cell_type": "code",
   "execution_count": 28,
   "metadata": {},
   "outputs": [
    {
     "name": "stderr",
     "output_type": "stream",
     "text": [
      "DEBUG:root:e-Paper busy\n",
      "DEBUG:root:e-Paper busy release\n"
     ]
    },
    {
     "data": {
      "text/plain": [
       "0"
      ]
     },
     "execution_count": 28,
     "metadata": {},
     "output_type": "execute_result"
    }
   ],
   "source": [
    "epd.init()"
   ]
  },
  {
   "cell_type": "code",
   "execution_count": 29,
   "metadata": {},
   "outputs": [
    {
     "name": "stderr",
     "output_type": "stream",
     "text": [
      "DEBUG:root:Horizontal\n",
      "DEBUG:root:Horizontal\n",
      "DEBUG:root:e-Paper busy\n",
      "DEBUG:root:e-Paper busy release\n"
     ]
    }
   ],
   "source": [
    "epd.display(epd.getbuffer(track.textImg()), epd.getbuffer(empty.textImg()))"
   ]
  },
  {
   "cell_type": "code",
   "execution_count": null,
   "metadata": {},
   "outputs": [],
   "source": []
  },
  {
   "cell_type": "code",
   "execution_count": null,
   "metadata": {},
   "outputs": [],
   "source": []
  }
 ],
 "metadata": {
  "kernelspec": {
   "display_name": "slimpi_epd-b1Rf9la8",
   "language": "python",
   "name": "slimpi_epd-b1rf9la8"
  },
  "language_info": {
   "codemirror_mode": {
    "name": "ipython",
    "version": 3
   },
   "file_extension": ".py",
   "mimetype": "text/x-python",
   "name": "python",
   "nbconvert_exporter": "python",
   "pygments_lexer": "ipython3",
   "version": "3.7.3"
  }
 },
 "nbformat": 4,
 "nbformat_minor": 2
}
