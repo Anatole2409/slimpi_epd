{
 "cells": [
  {
   "cell_type": "code",
   "execution_count": 3,
   "metadata": {},
   "outputs": [],
   "source": [
    "%load_ext autoreload"
   ]
  },
  {
   "cell_type": "code",
   "execution_count": 4,
   "metadata": {},
   "outputs": [],
   "source": [
    "%autoreload 2"
   ]
  },
  {
   "cell_type": "code",
   "execution_count": 5,
   "metadata": {},
   "outputs": [],
   "source": [
    "import logging\n",
    "from pathlib import Path\n",
    "import textwrap\n",
    "import copy\n",
    "from PIL import Image, ImageDraw, ImageFont\n",
    "from waveshare_epd import epd2in7b\n",
    "from waveshare_epd import epd5in83"
   ]
  },
  {
   "cell_type": "code",
   "execution_count": 6,
   "metadata": {},
   "outputs": [],
   "source": [
    "import random"
   ]
  },
  {
   "cell_type": "code",
   "execution_count": 7,
   "metadata": {},
   "outputs": [],
   "source": [
    "import constants\n"
   ]
  },
  {
   "cell_type": "code",
   "execution_count": 8,
   "metadata": {},
   "outputs": [],
   "source": [
    "logging.basicConfig(level=logging.DEBUG)\n",
    "logger = logging.getLogger(__name__)"
   ]
  },
  {
   "cell_type": "code",
   "execution_count": 282,
   "metadata": {},
   "outputs": [
    {
     "ename": "SyntaxError",
     "evalue": "invalid syntax (<ipython-input-282-b418dd18d8f9>, line 95)",
     "output_type": "error",
     "traceback": [
      "\u001b[0;36m  File \u001b[0;32m\"<ipython-input-282-b418dd18d8f9>\"\u001b[0;36m, line \u001b[0;32m95\u001b[0m\n\u001b[0;31m    def base_coordinates(self, coordinates)\u001b[0m\n\u001b[0m                                           ^\u001b[0m\n\u001b[0;31mSyntaxError\u001b[0m\u001b[0;31m:\u001b[0m invalid syntax\n"
     ]
    }
   ],
   "source": [
    "class xTextBlock:\n",
    "    '''Class for creating a 1 bit image of word-wrapped text\n",
    "    \n",
    "    Args\n",
    "    ----\n",
    "        resolution (int, int): tuple of ints representing maximum resolution of image\n",
    "        text (str): text to format into image\n",
    "        font (str): path to ttf font\n",
    "        size (int): size of font in points (pixles)\n",
    "        max_lines (int): maximum number of wrapped rows of text; surplus is discarded\n",
    "        maxchar (int): maximum number of characters per row\n",
    "            this is automatically calculated if not specified based on font face, font size\n",
    "            and letter frequency (see chardist below)\n",
    "        hcenter (bool): horiziontally center-align the text block (default False) and align horizontally\n",
    "                        within the absolute coordinates\n",
    "        vcenter (bool): vertically center-align the text block within the absolute coordinates\n",
    "        chardist (dict): character frequency distribution for a particular language\n",
    "            provided distributions in constants.py: \n",
    "            USA_CHARDIST+, FRA_CHARDIST, DEU_CHARDIST, PRT_CHARDIST, ITA_CHARDIST, TUR_CHARDIST,\n",
    "            SWE_CHARDIST, NED_CHARDIST, DAN_CHARDIST\n",
    "                + only USA english includes upper and lower case characters\n",
    "        coordinates (int, int): location on screen image should be positioned (not used locally)\n",
    "    \n",
    "    Attributes\n",
    "    ----------\n",
    "        resolution (int, int): max resolution of image in px\n",
    "        font (ImageFont.trueType): font and size to use\n",
    "        maxchar (int): maximum number of characters per row\n",
    "        max_lines (int): maximum number of wrapped rows of text; surplus is discarded\n",
    "        coordinates (int, int): position of text in final image (not used in this class)\n",
    "        size (int, int): size of text image in px\n",
    "        text (str): raw text\n",
    "        formatted (str): wrapped text\n",
    "        textimage (ImageDraw.Draw): 1 bit image containing formatted text text\n",
    "\n",
    "\n",
    "    '''\n",
    "    def __init__(self, resolution=(600, 448), text=' ', font=constants.FONT, size=24, max_lines=3,\n",
    "                 maxchar=None, hcenter=False, vcenter=False, coordinates=(0, 0), chardist=None):\n",
    "        self.resolution=resolution\n",
    "        self.font = ImageFont.truetype(str(Path(font).absolute()), size)\n",
    "        if chardist:\n",
    "            self._chardist = chardist\n",
    "        else:\n",
    "            self._chardist = constants.USA_CHARDIST\n",
    "        self.maxchar = maxchar\n",
    "        self.hcenter = hcenter\n",
    "        self.vcenter = vcenter\n",
    "        self.dimensions = (0, 0)\n",
    "        self.max_lines = max_lines\n",
    "        self.coordinates = coordinates\n",
    "        self.image = None\n",
    "        self.text = text\n",
    "    \n",
    "        \n",
    "    @property\n",
    "    def resolution(self):\n",
    "        '''maximum resolution in for image\n",
    "        \n",
    "        ::2-tuple of int'''\n",
    "        return self._resolution\n",
    "    \n",
    "    @resolution.setter\n",
    "    def resolution(self, resolution):\n",
    "#         for r in resolution:\n",
    "#             if not isinstance(r, int):\n",
    "#                 raise TypeError(f'resolution must be type int: {r}')\n",
    "#             if r < 0:\n",
    "#                 raise ValueError(f'resolution must be positive: {r}')\n",
    "        if self.coordcheck(resolution):\n",
    "            self._resolution = resolution\n",
    "        else:\n",
    "            raise ValueError(f'bad resolution value: {resolution}')\n",
    "    \n",
    "    @property\n",
    "    def coordinates(self):\n",
    "        '''coordinates to place the formatted text within the final image (not used in this method)\n",
    "        \n",
    "        ::2 tuple of int'''\n",
    "        return self._coordinates\n",
    "    \n",
    "    @coordinates.setter\n",
    "    def coordinates(self, coordinates):\n",
    "        if self.coordcheck(coordinates):\n",
    "            self._coordinates = coordinates\n",
    "        else:\n",
    "            raise ValueError(f'bad coordinate values: {coordinates}')\n",
    "    \n",
    "    @property\n",
    "    def maxchar(self):\n",
    "        '''maximum number of characters per row\n",
    "            if no value is set this is calculated based on font face, font size and letter frequency\n",
    "            \n",
    "        ::int'''\n",
    "        return self._maxchar\n",
    "    \n",
    "    @maxchar.setter\n",
    "    def maxchar(self, maxchar):\n",
    "        if maxchar:\n",
    "            self.__maxchar = maxchar\n",
    "            return(maxchar)\n",
    "        else:\n",
    "            s = ''\n",
    "            n = 1000 # sample string size for measuring\n",
    "            # create a string of characters containing the letter distribution\n",
    "            for char in self._chardist:\n",
    "                s = s+(char*int(self._chardist[char]*n))\n",
    "            sLenPX = self.font.getsize(s)[0] # string length in Pixles\n",
    "            avgCharLen = sLenPX/len(s)\n",
    "            maxchar = round(self.resolution[0]/avgCharLen)\n",
    "            self._maxchar = maxchar\n",
    "            logging.debug(f'maximum characters/line: {maxchar}')\n",
    "    \n",
    "    @property\n",
    "    def text(self):\n",
    "        '''raw text\n",
    "        \n",
    "        ::str'''\n",
    "        return self._text\n",
    "    \n",
    "    @text.setter\n",
    "    def text(self, text):\n",
    "        if not text:\n",
    "            self.text = None\n",
    "        else:\n",
    "            self._text = text\n",
    "            self.formatted = self.formattext()\n",
    "            self.image = self.textimage()\n",
    "    \n",
    "    @property\n",
    "    def max_lines(self):\n",
    "        '''maximum number of rows to use when wrapping text\n",
    "        \n",
    "        ::int'''\n",
    "        return self._max_lines\n",
    "    \n",
    "    @max_lines.setter\n",
    "    def max_lines(self, max_lines):\n",
    "        if max_lines < 1:\n",
    "            raise ValueError(f'max_lines must be greater than 0: {max_lines}')\n",
    "        if not isinstance(max_lines, int):\n",
    "            raise ValueError(f'max_lines must be type integer: {max_lines}')\n",
    "        self._max_lines = max_lines\n",
    "    \n",
    "    def formattext(self, text=None, maxchar=None, max_lines=None):\n",
    "        '''format text using word-wrap strategies\n",
    "        \n",
    "        Args\n",
    "        ----\n",
    "            text (str): raw text\n",
    "            maxchar (int): maximum number of characters in each row\n",
    "            max_lines (int): maximum number of rows\n",
    "            justify (str): 'l'-left (default), 'c'-center\n",
    "            \n",
    "        Returns\n",
    "        -------\n",
    "            ::list of ::str'''\n",
    "        \n",
    "        if not maxchar:\n",
    "            maxchar = self.maxchar\n",
    "        if not max_lines:\n",
    "            max_lines = self.max_lines\n",
    "        if not text:\n",
    "            text = self.text\n",
    "\n",
    "        wrapper = textwrap.TextWrapper(width=maxchar, max_lines=max_lines)\n",
    "        myText = wrapper.wrap(text)\n",
    "        \n",
    "        # pad out unused lines in max_lines\n",
    "#         if len(myText) < max_lines:\n",
    "#             for i in range(len(myText), max_lines):\n",
    "#                 myText.append(\" \")\n",
    "        \n",
    "        logging.debug(f'total lines: {len(myText)}')\n",
    "        \n",
    "        logging.debug(myText)\n",
    "    \n",
    "        \n",
    "        return(myText)\n",
    "    \n",
    "    def textimage(self, text=None, coordinates=None, hcenter=None, vcenter=None):\n",
    "        '''produces 1 bit image of containing wrapped text\n",
    "        \n",
    "        Args\n",
    "        ----\n",
    "            text (str): raw text to use; if none is provided use self.formatted\n",
    "            coordinates (int): coordinates of text in final image (not used in this class)\n",
    "            hcenter (bool): horizontally align text block \n",
    "            vcenter (bool): vertically align the text block\n",
    "            \n",
    "        Returns\n",
    "        -------\n",
    "            ::Image.new()'''\n",
    "        if text:\n",
    "            formatted = self.formattext(text)\n",
    "        else:\n",
    "            formatted = self.formatted\n",
    "        \n",
    "        if hcenter is None:\n",
    "            hcenter = self.hcenter\n",
    "        \n",
    "        if vcenter is None:\n",
    "            vcenter = self.vcenter\n",
    "        \n",
    "        if not coordinates:\n",
    "            coordinates = self.coordinates\n",
    "        \n",
    "        # determine the tallest character\n",
    "        tallest = self.font.getsize('Q')[1]\n",
    "        current_h = 0\n",
    "        current_w = 0\n",
    "        # determine the dimensions of each line of text and total dimensions\n",
    "        for line in formatted:\n",
    "            w, h = self.font.getsize(line)\n",
    "            current_h += h # accumulate the total height\n",
    "            if w > current_w: # find the longest line\n",
    "                current_w = w \n",
    "       \n",
    "        self.dimensions = (current_w, current_h)\n",
    "        logging.debug(f'text dimension: {self.dimensions}')\n",
    "    \n",
    "        # create a base image to draw on\n",
    "        image = Image.new('1', self.dimensions, 255)\n",
    "        draw = ImageDraw.Draw(image)\n",
    "        current_h = 0\n",
    "        y_pos = 0\n",
    "        # loop through the lines again to build the image\n",
    "        for line in self.formatted:\n",
    "            w, h = self.font.getsize(line)\n",
    "            # center - align block of text\n",
    "            if hcenter:\n",
    "                y_pos = (dimensions[0]-w)/2\n",
    "            draw.text((y_pos, current_h), line, font=self.font)\n",
    "            current_h += h\n",
    "            \n",
    "        # horizontal and vertical centering of text within the absolute coordinates\n",
    "        logging.debug(f'base coordinates: {self.coordinates}')\n",
    "        logging.debug(f'resolution: {self.resolution}')\n",
    "        if hcenter:\n",
    "            logging.debug(f'h-centering')\n",
    "            new_x = self.coordinates[0] + round(self.resolution[0]/2 - self.dimensions[0]/2)\n",
    "        else:\n",
    "            new_x = self.coordinates[0]\n",
    "\n",
    "        if vcenter:\n",
    "            logging.debug(f'v-centering')\n",
    "            new_y = self.coordinates[1] + round(self.resolution[1]/2 - self.dimensions[1]/2)\n",
    "        else:\n",
    "            new_y = self.coordinates[1]\n",
    "        \n",
    "        logging.debug(f'new coordinates: {(new_x, new_y)}')\n",
    "        try:\n",
    "            self.coordinates = (new_x, new_y)\n",
    "        except ValueError as e:\n",
    "            logging.warning(f'error when attempting to vcenter text: {e}')\n",
    "            logging.warning(f'retrying with centered text')\n",
    "            image = self.textimage(text, coordinates, vcenter=False, hcenter=False)\n",
    "                \n",
    "  \n",
    "          \n",
    "        return image\n",
    "\n",
    "    def coordcheck(self, coordinates):\n",
    "        for index, c in enumerate(coordinates):\n",
    "            if not isinstance(c, int):\n",
    "                raise TypeError(f'coordinate must be type int: '(index, c))\n",
    "                return False # redundant\n",
    "            if c < 0:\n",
    "                raise ValueError(f'coordinate must be positive: ', (index, c))\n",
    "                return False # redundant\n",
    "        return True"
   ]
  },
  {
   "cell_type": "code",
   "execution_count": 345,
   "metadata": {},
   "outputs": [],
   "source": [
    "class TextBlock:\n",
    "    \n",
    "    \n",
    "    def __init__(self, resolution=(600, 448), text=' ', font=None, size=24, max_lines=1,\n",
    "                 maxchar=None, hcenter=False, vcenter=False, coordinates=(0, 0), chardist=None):\n",
    "        self.resolution=resolution\n",
    "        if font:\n",
    "            self.font = ImageFont.truetype(str(Path(font).absolute()), size)\n",
    "        else:\n",
    "            self.font = ImageFont.truetype(str(Path(constants.FONT).absolute()), size)\n",
    "    \n",
    "        if chardist:\n",
    "            self._chardist = chardist\n",
    "        else:\n",
    "            self._chardist = constants.USA_CHARDIST\n",
    "        self.maxchar = maxchar\n",
    "        self.hcenter = hcenter\n",
    "        self.vcenter = vcenter\n",
    "        self.dimensions = (0, 0)\n",
    "        self.max_lines = max_lines\n",
    "        self.base_coordinates = coordinates\n",
    "        self.coordinates = coordinates\n",
    "        self.image = None\n",
    "        self.text = text    \n",
    "        \n",
    "    @property\n",
    "    def resolution(self):\n",
    "        '''maximum resolution in for image\n",
    "        \n",
    "        ::2-tuple of int'''\n",
    "        return self._resolution\n",
    "    \n",
    "    @resolution.setter\n",
    "    def resolution(self, resolution):\n",
    "#         for r in resolution:\n",
    "#             if not isinstance(r, int):\n",
    "#                 raise TypeError(f'resolution must be type int: {r}')\n",
    "#             if r < 0:\n",
    "#                 raise ValueError(f'resolution must be positive: {r}')\n",
    "        logging.debug('set resolution')\n",
    "        if self.coordcheck(resolution):\n",
    "            self._resolution = resolution\n",
    "        else:\n",
    "            raise ValueError(f'bad resolution value: {resolution}')\n",
    "\n",
    "    @property\n",
    "    def coordinates(self):\n",
    "        '''coordinates to place the formatted text within the final image (not used in this method)\n",
    "        \n",
    "        ::2 tuple of int'''\n",
    "        return self._coordinates\n",
    "    \n",
    "    @coordinates.setter\n",
    "    def coordinates(self, coordinates):\n",
    "        if self.coordcheck(coordinates):\n",
    "            self._coordinates = coordinates\n",
    "        else:\n",
    "            raise ValueError(f'bad coordinate values: {coordinates}')\n",
    "        logging.debug(f'image coordinates: {self.coordinates}')\n",
    "\n",
    "    @property\n",
    "    def base_coordinates(self):\n",
    "        return self._base_coordinates\n",
    "    \n",
    "    @base_coordinates.setter\n",
    "    def base_coordinates(self, coordinates):\n",
    "        if self.coordcheck(coordinates):\n",
    "            self._base_coordinates = coordinates\n",
    "        else:\n",
    "            raise ValueError(f'bad coordinate values: {coordinates}')\n",
    "        logging.debug(f'absolute coordinates: {self.base_coordinates}')        \n",
    "    \n",
    "    @property\n",
    "    def maxchar(self):\n",
    "        '''maximum number of characters per row\n",
    "            if no value is set this is calculated based on font face, font size and letter frequency\n",
    "            \n",
    "        ::int'''\n",
    "        return self._maxchar\n",
    "    \n",
    "    @maxchar.setter\n",
    "    def maxchar(self, maxchar):\n",
    "        if maxchar:\n",
    "            self.__maxchar = maxchar\n",
    "            return(maxchar)\n",
    "        else:\n",
    "            s = ''\n",
    "            n = 1000 # sample string size for measuring\n",
    "            # create a string of characters containing the letter distribution\n",
    "            for char in self._chardist:\n",
    "                s = s+(char*int(self._chardist[char]*n))\n",
    "            sLenPX = self.font.getsize(s)[0] # string length in Pixles\n",
    "            avgCharLen = sLenPX/len(s)\n",
    "            maxchar = round(self.resolution[0]/avgCharLen)\n",
    "            self._maxchar = maxchar\n",
    "            logging.debug(f'maximum characters/line: {maxchar}')\n",
    "\n",
    "    @property\n",
    "    def text(self):\n",
    "        '''raw text\n",
    "        \n",
    "        ::str'''\n",
    "        return self._text\n",
    "    \n",
    "    @text.setter\n",
    "    def text(self, text):\n",
    "        if not text:\n",
    "            self.text = None\n",
    "        else:\n",
    "            self._text = text\n",
    "            self.formatted = self.formattext()\n",
    "            self.image = self.textimage()            \n",
    "\n",
    "    @property\n",
    "    def max_lines(self):\n",
    "        '''maximum number of rows to use when wrapping text\n",
    "        \n",
    "        ::int'''\n",
    "        return self._max_lines\n",
    "    \n",
    "    @max_lines.setter\n",
    "    def max_lines(self, max_lines):\n",
    "        if not isinstance(max_lines, int):\n",
    "            raise ValueError(f'max_lines must be type integer: {max_lines}')\n",
    "        if max_lines < 1:\n",
    "            raise ValueError(f'max_lines must be greater than 0: {max_lines}')\n",
    "        self._max_lines = max_lines\n",
    "\n",
    "    def formattext(self, text=None, max_lines=None, maxchar=None):\n",
    "        '''format text using word-wrap strategies based on number of lines and maximum\n",
    "            characters per line\n",
    "        \n",
    "        Args\n",
    "        ----\n",
    "            text (str): raw text\n",
    "            maxchar (int): maximum number of characters in each row\n",
    "            max_lines (int): maximum number of rows\n",
    "            \n",
    "        Returns\n",
    "        -------\n",
    "            ::list of ::str'''\n",
    "        \n",
    "        if not text:\n",
    "            text = self.text        \n",
    "        if not maxchar:\n",
    "            maxchar = self.maxchar\n",
    "        if not max_lines:\n",
    "            max_lines = self.max_lines\n",
    "\n",
    "        wrapper = textwrap.TextWrapper(width=maxchar, max_lines=max_lines)\n",
    "        myText = wrapper.wrap(text)\n",
    "        logging.debug(f'total lines of text: {len(myText)}')\n",
    "        logging.debug(myText)\n",
    "        return(myText)\n",
    "    \n",
    "    \n",
    "    def textimage(self):\n",
    "        '''produces 1 bit image of containing wrapped text\n",
    "        \n",
    "        Sets\n",
    "        ----\n",
    "            self.image\n",
    "            self.dimensions\n",
    "            self.coordinates\n",
    "            \n",
    "        Returns\n",
    "        -------\n",
    "            ::tuple: Image.new()'''\n",
    "            \n",
    "        # get the total dimensions of the text block image\n",
    "        y_total = 0\n",
    "        x_max = 0\n",
    "        \n",
    "        for line in self.formatted:\n",
    "            x, y = self.font.getsize(line)\n",
    "            y_total += y # accumulate the total height\n",
    "            if x > x_max: # find the longest line\n",
    "                x_max = x\n",
    "        self.dimensions = (x_max, y_total)\n",
    "        logging.debug(f'text image dimensions: {self.dimensions}')\n",
    "        \n",
    "        # build the image\n",
    "        image = Image.new('1', self.dimensions, 255)\n",
    "        draw = ImageDraw.Draw(image)\n",
    "        y_total = 0\n",
    "        for line in self.formatted:\n",
    "            x_pos = 0\n",
    "            x, y = self.font.getsize(line)\n",
    "            if self.hcenter:\n",
    "                logging.debug('horizontally centering text line in image')\n",
    "                x_pos = round(self.dimensions[0]/2-x/2)\n",
    "            draw.text((x_pos, y_total), line, font=self.font)\n",
    "            y_total += y\n",
    "        \n",
    "        \n",
    "        if self.hcenter:\n",
    "            logging.debug('horizontally centering coordinates')\n",
    "            new_x = self.coordinates[0] + round(self.resolution[0]/2 - self.dimensions[0]/2)\n",
    "            self.coordinates = (new_x, self.base_coordinates[1])\n",
    "            \n",
    "        if self.vcenter:\n",
    "            logging.debug('vertically centering coordinates')\n",
    "            new_y = self.coordinates[1] + round(self.resolution[1]/2 - self.dimensions[1]/2)\n",
    "            self.coordinates = (self.base_coordinates[0], new_y)\n",
    "\n",
    "        self.image = image\n",
    "        return self.image\n",
    "    \n",
    "    def coordcheck(self, coordinates):\n",
    "        for index, c in enumerate(coordinates):\n",
    "            if not isinstance(c, int):\n",
    "                raise TypeError(f'coordinate must be type int: '(index, c))\n",
    "                return False # redundant\n",
    "            if c < 0:\n",
    "                raise ValueError(f'coordinate must be positive: ', (index, c))\n",
    "                return False # redundant\n",
    "        return True"
   ]
  },
  {
   "cell_type": "code",
   "execution_count": 349,
   "metadata": {},
   "outputs": [
    {
     "name": "stderr",
     "output_type": "stream",
     "text": [
      "DEBUG:root:set resolution\n",
      "DEBUG:root:maximum characters/line: 13\n",
      "DEBUG:root:absolute coordinates: (200, 0)\n",
      "DEBUG:root:image coordinates: (200, 0)\n",
      "DEBUG:root:total lines of text: 0\n",
      "DEBUG:root:[]\n",
      "DEBUG:root:text image dimensions: (0, 0)\n",
      "DEBUG:root:horizontally centering coordinates\n",
      "DEBUG:root:image coordinates: (400, 0)\n"
     ]
    }
   ],
   "source": [
    "t = TextBlock(resolution=(400, 269), size=55, max_lines=3, coordinates=(200, 0), hcenter=True)"
   ]
  },
  {
   "cell_type": "code",
   "execution_count": 344,
   "metadata": {},
   "outputs": [
    {
     "name": "stderr",
     "output_type": "stream",
     "text": [
      "DEBUG:root:set resolution\n",
      "DEBUG:root:maximum characters/line: 13\n",
      "DEBUG:root:absolute coordinates: (200, 0)\n",
      "DEBUG:root:image coordinates: (200, 0)\n",
      "DEBUG:root:total lines of text: 2\n",
      "DEBUG:root:['When U Love', 'Someone']\n",
      "DEBUG:root:text image dimensions: (339, 120)\n",
      "DEBUG:root:horizontally centering text line in image\n",
      "DEBUG:root:horizontally centering text line in image\n",
      "DEBUG:root:horizontally centering coordinates\n",
      "DEBUG:root:image coordinates: (230, 0)\n",
      "DEBUG:root:vertically centering coordinates\n",
      "DEBUG:root:image coordinates: (200, 74)\n"
     ]
    }
   ],
   "source": [
    "t = TextBlock(resolution=(400, 269), text=\"When U Love Someone\", size=55, max_lines=3,\n",
    "              coordinates=(200, 0), hcenter=True, vcenter=True)"
   ]
  },
  {
   "cell_type": "code",
   "execution_count": 291,
   "metadata": {},
   "outputs": [
    {
     "data": {
      "text/plain": [
       "['When U Love', 'Someone']"
      ]
     },
     "execution_count": 291,
     "metadata": {},
     "output_type": "execute_result"
    }
   ],
   "source": [
    "t.formatted"
   ]
  },
  {
   "cell_type": "code",
   "execution_count": 292,
   "metadata": {},
   "outputs": [
    {
     "data": {
      "image/png": "[encoded data removed]",
      "text/plain": [
       "<PIL.Image.Image image mode=1 size=339x120 at 0xAF394950>"
      ]
     },
     "execution_count": 292,
     "metadata": {},
     "output_type": "execute_result"
    }
   ],
   "source": [
    "t.image"
   ]
  },
  {
   "cell_type": "code",
   "execution_count": 293,
   "metadata": {},
   "outputs": [
    {
     "data": {
      "text/plain": [
       "(339, 120)"
      ]
     },
     "execution_count": 293,
     "metadata": {},
     "output_type": "execute_result"
    }
   ],
   "source": [
    "t.dimensions"
   ]
  },
  {
   "cell_type": "code",
   "execution_count": 11,
   "metadata": {},
   "outputs": [],
   "source": [
    "class CoverArt:\n",
    "    def __init__(self, image=None, resolution=(1, 1), coordinates=(0,0)):\n",
    "        self.resolution = resolution\n",
    "        self.coordinates = coordinates\n",
    "        self.image = image\n",
    "        \n",
    "    @property\n",
    "    def image(self):\n",
    "        return self._image\n",
    "    \n",
    "    @image.setter\n",
    "    def image(self, image):\n",
    "        im = Image.open(image)\n",
    "        myImage = im.convert(mode='L', colors=2)\n",
    "        myImage = myImage.resize((self.resolution))\n",
    "        self._image = myImage\n",
    "        \n",
    "        \n",
    "        \n",
    "    "
   ]
  },
  {
   "cell_type": "code",
   "execution_count": 316,
   "metadata": {},
   "outputs": [],
   "source": [
    "class Screen:\n",
    "    def __init__(self, resolution=(600, 448), elements=[], epd=None):\n",
    "        self.resolution = resolution\n",
    "        self.elements = elements\n",
    "        self.image = self.clearScreen()\n",
    "        self.epd = epd\n",
    "        \n",
    "    @property\n",
    "    def resolution(self):\n",
    "        return self._resolution\n",
    "    \n",
    "    @resolution.setter\n",
    "    def resolution(self, resolution):\n",
    "        if self.coordcheck(resolution):\n",
    "            self._resolution = resolution\n",
    "    \n",
    "    def clearScreen(self):\n",
    "        '''sets base image for building screen to an empty background'''\n",
    "        self.image = Image.new('L', self.resolution, 255)\n",
    "        return self.image\n",
    "\n",
    "    def concat(self, elements=None):\n",
    "        if elements:\n",
    "            elements = elements\n",
    "        else:\n",
    "            elements = self.elements\n",
    "    \n",
    "        for e in self.elements:\n",
    "            logging.debug(f'pasting image at: {e.coordinates}')\n",
    "            self.image.paste(e.image, (e.coordinates))\n",
    "        return(self.image)\n",
    "        \n",
    "    def coordcheck(self, coordinates):\n",
    "        for c in coordinates:\n",
    "            if not isinstance(c, int):\n",
    "                raise TypeError(f'coordinate must be type int: {c}')\n",
    "                return False # redundant\n",
    "            if c < 0:\n",
    "                raise ValueError(f'coordinate must be positive: {c}')\n",
    "                return False # redundant\n",
    "        return True        \n",
    "    \n",
    "    def initEPD(self):\n",
    "        if not self.epd:\n",
    "            raise UnboundLocalError('no epd object has been assigned')\n",
    "        try:\n",
    "            self.epd.init()\n",
    "        except Exception as e:\n",
    "            logging.error(f'failed to init epd: {e}')\n",
    "    \n",
    "    def clearEPD(self):\n",
    "        if not self.epd:\n",
    "            raise UnboundLocalError('no epd object has been assigned')\n",
    "        try:\n",
    "            self.epd.Clear();\n",
    "        except Exception as e:\n",
    "            logging.error(f'failed to clear epd: {e}')\n",
    "    \n",
    "    def writeEPD(self, image=None, sleep=True):\n",
    "        epd = self.epd\n",
    "        if not self.epd:\n",
    "            raise UnboundLocalError('no epd object has been assigned')\n",
    "        try:\n",
    "#             epd.display(epd.getbuffer(self.image), epd.getbuffer(Image.new('1', (epd.height, epd.width), 255)))\n",
    "            epd.display(epd.getbuffer(self.image))\n",
    "            if sleep:\n",
    "                epd.sleep()\n",
    "        except Exception as e:\n",
    "            logging.error(f'failed to write to epd: {e}')\n",
    "        \n",
    "        "
   ]
  },
  {
   "cell_type": "code",
   "execution_count": 317,
   "metadata": {},
   "outputs": [],
   "source": [
    "# the sections MUST be ordered logically so relative calculations can be made\n",
    "# if section 'artist' depends on section 'title' for relative positioning, \n",
    "# 'artist' MUST be listed AFTER 'title'\n",
    "\n",
    "twoColumn = {\n",
    "    'coverart': { # coverart image\n",
    "                'image': True, # has an image that may need to be resized\n",
    "                'max_lines': None, # number of lines of text associated with this section\n",
    "                'padding': 10, # amount of padding at edge\n",
    "                'width': 1/3, # fraction of total width of display\n",
    "                'height': 1, # fraction of total height\n",
    "                'coordinates': (0, 0), # X, Y for top left position of section\n",
    "                'hcenter': True, # horizontal center-align the contents\n",
    "                'vcenter': True, # vertically center-align the contents\n",
    "                'relative': False, # False if position is absolute\n",
    "                'font': None,\n",
    "                'fontsize': None # font size to use for text\n",
    "    },\n",
    "    'title': { # track title\n",
    "                'image': None, # none if no image is needed\n",
    "                'max_lines': 3, # number of lines of text associated with this section\n",
    "                'padding': 10,  # padding at edge\n",
    "                'width': 2/3, # fraction of total width of display\n",
    "                'height': 3/5, # fraction of total height of display\n",
    "                'coordinates': (None, 0), # X, Y for top left position of section\n",
    "                                          # None indicates that the position is not known and will be calculated \n",
    "                                          # relative to another section\n",
    "                                          # integer indicates an absolute position to use\n",
    "                'hcenter': False, # horizontal center-align the contents\n",
    "                'vcenter': True, # vertically center-align the contents\n",
    "                'relative': ['coverart', 'title'], # [X Section coordinates+dimension, Y section coordinates+dimension]\n",
    "                'font': None,\n",
    "                'fontsize': None # font size to use for text\n",
    "\n",
    "    },\n",
    "    'artist': { # track artist\n",
    "                'image': None,\n",
    "                'max_lines': 2,\n",
    "                'padding': 10,\n",
    "                'width': 2/3,\n",
    "                'height': 1/5,\n",
    "                'coordinates': (None, None),\n",
    "                'hcenter': False,\n",
    "                'vcenter': True,\n",
    "                'relative': ['coverart', 'title'],\n",
    "                'font': None,\n",
    "                'fontsize': None\n",
    "    },\n",
    "    'album': { #album name\n",
    "                'image': None,\n",
    "                'max_lines': 2,\n",
    "                'padding': 10,\n",
    "                'width': 2/3,\n",
    "                'height': 1/5,\n",
    "                'coordinates': (None, None),\n",
    "                'hcenter': False,\n",
    "                'vcenter': True,\n",
    "                'relative': ['coverart', 'artist'],\n",
    "                'font': None,\n",
    "                'fontsize': None\n",
    "        \n",
    "    }\n",
    "}"
   ]
  },
  {
   "cell_type": "code",
   "execution_count": 323,
   "metadata": {},
   "outputs": [],
   "source": [
    "class Layout:\n",
    "    def __init__(self, resolution=(600, 448), layout=None, font=constants.FONT):\n",
    "        self.resolution = resolution\n",
    "        self.font = str(Path(font).absolute())\n",
    "        self.layout = copy.deepcopy(layout)\n",
    "        self.images = None\n",
    "    \n",
    "    def _check_keys(self, dictionary={}, values={}):\n",
    "        logging.debug('checking key/values')\n",
    "        for k, v in values.items():\n",
    "            try:\n",
    "                dictionary[k]\n",
    "            except KeyError as e:\n",
    "                logging.debug(f'missing key: {k}; adding and setting to {v}')\n",
    "                dictionary[k] = v\n",
    "        return dictionary\n",
    "    \n",
    "    def _scalefont(self, font=constants.FONT, lines=1, text=\"W\", resolution=(100, 100)):\n",
    "        # start at fontsize 1 \n",
    "        fontsize = 1\n",
    "        y_fraction = .7\n",
    "        target = resolution[1]/lines*y_fraction\n",
    "\n",
    "        font = ImageFont.truetype(str(Path(constants.FONT).absolute()), fontsize)\n",
    "\n",
    "        fontdim = font.getsize(text)\n",
    "\n",
    "        # work up until font covers img_fraction of the resolution return one smaller than this as the fontsize\n",
    "        while fontdim[1] < target:\n",
    "            fontdim = font.getsize(text)\n",
    "            fontsize +=1\n",
    "            font = ImageFont.truetype(str(Path(constants.FONT).absolute()), fontsize)\n",
    "#         fontsize -= 1\n",
    "        logging.debug(f'target Y fontsize: {target}, fontsize: {fontsize}, fontdim: {fontdim}')\n",
    "        \n",
    "        return(fontsize)    \n",
    "    \n",
    "    @property\n",
    "    def layout(self):\n",
    "        return self._layout\n",
    "    \n",
    "    @layout.setter\n",
    "    def layout(self, layout):\n",
    "        logging.debug('calculating layout')\n",
    "        if not layout:\n",
    "            self._layout = None\n",
    "        \n",
    "        l = layout\n",
    "        resolution = self.resolution\n",
    "        # required values that will be used in calculating the layout\n",
    "        values = {'image': None, 'max_lines': 1, 'padding': 0, 'width': 1, 'height': 1, \n",
    "                  'coordinates': None, 'hcenter': False, 'vcenter': False, 'relative': False, \n",
    "                  'font': self.font, 'fontsize': None, 'dimensions': None}\n",
    "        for section in l:\n",
    "            logging.debug(f'***{section}***')\n",
    "            this_section = self._check_keys(l[section], values)\n",
    "                    \n",
    "            dimensions = (round(resolution[0]*this_section['width']), \n",
    "                          round(resolution[1]*this_section['height']))\n",
    "            \n",
    "            this_section['dimensions'] = dimensions\n",
    "            logging.debug(f'dimensions: {dimensions}')\n",
    "            \n",
    "            # set the thumbnail_size to resize the image\n",
    "            if this_section['image']:\n",
    "                maxsize = min(this_section['dimensions'])-this_section['padding']*2\n",
    "                this_section['thumbnail_size'] = (maxsize, maxsize)\n",
    "            \n",
    "            # calculate the relative position if needed\n",
    "            # if either of the coordinates are set as \"None\" - attempt to calculate the position\n",
    "            if this_section['coordinates'][0] is None or this_section['coordinates'][1] is None:\n",
    "                logging.debug(f'has calculated position')\n",
    "                # store coordinates\n",
    "                pos = []\n",
    "                # check each value in relative section\n",
    "                for idx, r in enumerate(this_section['relative']):\n",
    "                    if r == section:\n",
    "                        # use the value from this_section\n",
    "                        pos.append(this_section['coordinates'][idx])\n",
    "                    else:\n",
    "                        # use the value from another section\n",
    "                        pos.append(l[r]['dimensions'][idx] + l[r]['coordinates'][idx])\n",
    "                \n",
    "                # save the values as a tuple\n",
    "                this_section['coordinates']=(pos[0], pos[1])\n",
    "            else:\n",
    "                logging.debug('has explict position')\n",
    "            logging.debug(f'coordinates={this_section[\"coordinates\"]}')\n",
    "            \n",
    "            # calculate fontsize\n",
    "            if this_section['max_lines']:\n",
    "                if not this_section['font']:\n",
    "                    this_section['font'] = self.font\n",
    "\n",
    "                if not this_section['fontsize']:\n",
    "                    this_section['fontsize'] = self._scalefont(font=this_section['font'], \n",
    "                                                               resolution=this_section['dimensions'],\n",
    "                                                               lines=this_section['max_lines'])    \n",
    "\n",
    "            l[section] = this_section\n",
    "        self._layout = l\n",
    "        \n",
    "    def set_images(self, layout=None):\n",
    "        if not layout:\n",
    "            return {}\n",
    "        \n",
    "        blocks = {}\n",
    "        for sec in layout:\n",
    "            section = layout[sec]\n",
    "            if section['max_lines']:\n",
    "                logging.debug(f'***{sec}***)')\n",
    "                logging.debug('set text block')\n",
    "                blocks[sec] = TextBlock(resolution=section['dimensions'], text='.', font=section['font'], \n",
    "                                       size=section['fontsize'], max_lines=section['max_lines'],\n",
    "                                       hcenter=section['hcenter'], vcenter=section['vcenter'],\n",
    "                                       coordinates=section['coordinates'])\n",
    "        self.blocks = blocks\n",
    "                "
   ]
  },
  {
   "cell_type": "code",
   "execution_count": 324,
   "metadata": {},
   "outputs": [
    {
     "name": "stderr",
     "output_type": "stream",
     "text": [
      "DEBUG:root:calculating layout\n",
      "DEBUG:root:***coverart***\n",
      "DEBUG:root:checking key/values\n",
      "DEBUG:root:missing key: dimensions; adding and setting to None\n",
      "DEBUG:root:dimensions: (200, 448)\n",
      "DEBUG:root:has explict position\n",
      "DEBUG:root:coordinates=(0, 0)\n",
      "DEBUG:root:***title***\n",
      "DEBUG:root:checking key/values\n",
      "DEBUG:root:missing key: dimensions; adding and setting to None\n",
      "DEBUG:root:dimensions: (400, 269)\n",
      "DEBUG:root:has calculated position\n",
      "DEBUG:root:coordinates=(200, 0)\n",
      "DEBUG:root:target Y fontsize: 62.766666666666666, fontsize: 60, fontdim: (55, 64)\n",
      "DEBUG:root:***artist***\n",
      "DEBUG:root:checking key/values\n",
      "DEBUG:root:missing key: dimensions; adding and setting to None\n",
      "DEBUG:root:dimensions: (400, 90)\n",
      "DEBUG:root:has calculated position\n",
      "DEBUG:root:coordinates=(200, 269)\n",
      "DEBUG:root:target Y fontsize: 31.499999999999996, fontsize: 31, fontdim: (28, 33)\n",
      "DEBUG:root:***album***\n",
      "DEBUG:root:checking key/values\n",
      "DEBUG:root:missing key: dimensions; adding and setting to None\n",
      "DEBUG:root:dimensions: (400, 90)\n",
      "DEBUG:root:has calculated position\n",
      "DEBUG:root:coordinates=(200, 359)\n",
      "DEBUG:root:target Y fontsize: 31.499999999999996, fontsize: 31, fontdim: (28, 33)\n"
     ]
    }
   ],
   "source": [
    "L = Layout(resolution=(600, 448), layout=twoColumn)"
   ]
  },
  {
   "cell_type": "code",
   "execution_count": 328,
   "metadata": {},
   "outputs": [
    {
     "name": "stderr",
     "output_type": "stream",
     "text": [
      "DEBUG:root:***title***)\n",
      "DEBUG:root:set text block\n",
      "DEBUG:root:maximum characters/line: 12\n",
      "DEBUG:root:coordinates: (200, 0)\n",
      "DEBUG:root:coordinates: (200, 0)\n",
      "DEBUG:root:coordinates: (200, 0)\n",
      "DEBUG:root:total lines of text: 1\n",
      "DEBUG:root:['.']\n",
      "DEBUG:root:text image dimensions: (16, 66)\n",
      "DEBUG:root:vertically centering coordinates\n",
      "DEBUG:root:coordinates: (200, 102)\n",
      "DEBUG:root:***artist***)\n",
      "DEBUG:root:set text block\n",
      "DEBUG:root:maximum characters/line: 23\n",
      "DEBUG:root:coordinates: (200, 269)\n",
      "DEBUG:root:coordinates: (200, 269)\n",
      "DEBUG:root:coordinates: (200, 269)\n",
      "DEBUG:root:total lines of text: 1\n",
      "DEBUG:root:['.']\n",
      "DEBUG:root:text image dimensions: (8, 34)\n",
      "DEBUG:root:vertically centering coordinates\n",
      "DEBUG:root:coordinates: (200, 297)\n",
      "DEBUG:root:***album***)\n",
      "DEBUG:root:set text block\n",
      "DEBUG:root:maximum characters/line: 23\n",
      "DEBUG:root:coordinates: (200, 359)\n",
      "DEBUG:root:coordinates: (200, 359)\n",
      "DEBUG:root:coordinates: (200, 359)\n",
      "DEBUG:root:total lines of text: 1\n",
      "DEBUG:root:['.']\n",
      "DEBUG:root:text image dimensions: (8, 34)\n",
      "DEBUG:root:vertically centering coordinates\n",
      "DEBUG:root:coordinates: (200, 387)\n"
     ]
    }
   ],
   "source": [
    "L.set_images(layout=L.layout)"
   ]
  },
  {
   "cell_type": "code",
   "execution_count": 331,
   "metadata": {},
   "outputs": [
    {
     "name": "stderr",
     "output_type": "stream",
     "text": [
      "DEBUG:root:total lines of text: 1\n",
      "DEBUG:root:['Wasted']\n",
      "DEBUG:root:text image dimensions: (210, 66)\n",
      "DEBUG:root:vertically centering coordinates\n",
      "DEBUG:root:coordinates: (200, 204)\n"
     ]
    }
   ],
   "source": [
    "L.blocks['title'].text = \"Wasted\"\n",
    "# L.blocks['artist'].text = 'Dirty Projectors, David Bryne'\n",
    "# L.blocks['album'].text = 'Knotty Pine / So Far Around the Bend'"
   ]
  },
  {
   "cell_type": "code",
   "execution_count": 302,
   "metadata": {},
   "outputs": [],
   "source": [
    "ca = CoverArt('./cover.jpg', resolution=(180, 180), coordinates=(10, 114))"
   ]
  },
  {
   "cell_type": "code",
   "execution_count": 333,
   "metadata": {},
   "outputs": [],
   "source": [
    "s = Screen(elements=[ca, L.blocks['title'], L.blocks['artist'], L.blocks['album']])"
   ]
  },
  {
   "cell_type": "code",
   "execution_count": 334,
   "metadata": {},
   "outputs": [
    {
     "name": "stderr",
     "output_type": "stream",
     "text": [
      "DEBUG:root:pasting image at: (10, 114)\n",
      "DEBUG:root:pasting image at: (200, 204)\n",
      "DEBUG:root:pasting image at: (200, 297)\n",
      "DEBUG:root:pasting image at: (200, 387)\n"
     ]
    },
    {
     "data": {
      "image/png": "[encoded data removed]",
      "text/plain": [
       "<PIL.Image.Image image mode=L size=600x448 at 0xAEF01A70>"
      ]
     },
     "execution_count": 334,
     "metadata": {},
     "output_type": "execute_result"
    }
   ],
   "source": [
    "s.concat()"
   ]
  },
  {
   "cell_type": "code",
   "execution_count": 305,
   "metadata": {},
   "outputs": [
    {
     "data": {
      "text/plain": [
       "[<__main__.CoverArt at 0xaec02610>,\n",
       " <__main__.TextBlock at 0xaef0a350>,\n",
       " <__main__.TextBlock at 0xaef0ab10>,\n",
       " <__main__.TextBlock at 0xaef0a7b0>]"
      ]
     },
     "execution_count": 305,
     "metadata": {},
     "output_type": "execute_result"
    }
   ],
   "source": [
    "s.elements"
   ]
  },
  {
   "cell_type": "code",
   "execution_count": 315,
   "metadata": {},
   "outputs": [
    {
     "name": "stdout",
     "output_type": "stream",
     "text": [
      "(10, 114)\n",
      "(200, 204)\n",
      "(200, 301)\n",
      "(200, 395)\n"
     ]
    }
   ],
   "source": [
    "for e in s.elements:\n",
    "    print(e.coordinates)"
   ]
  },
  {
   "cell_type": "code",
   "execution_count": 278,
   "metadata": {},
   "outputs": [
    {
     "data": {
      "text/plain": [
       "(200, 420)"
      ]
     },
     "execution_count": 278,
     "metadata": {},
     "output_type": "execute_result"
    }
   ],
   "source": [
    "e.coordinates"
   ]
  },
  {
   "cell_type": "code",
   "execution_count": 447,
   "metadata": {},
   "outputs": [
    {
     "name": "stderr",
     "output_type": "stream",
     "text": [
      "DEBUG:root:e-Paper busy\n",
      "DEBUG:root:e-Paper busy release\n",
      "DEBUG:root:imwidth = 600  imheight =  448 \n",
      "DEBUG:root:e-Paper busy\n",
      "DEBUG:root:e-Paper busy release\n",
      "DEBUG:root:e-Paper busy\n",
      "DEBUG:root:e-Paper busy release\n",
      "DEBUG:root:spi end\n",
      "DEBUG:root:close 5V, Module enters 0 power consumption ...\n"
     ]
    }
   ],
   "source": [
    "s.epd = epd5in83.EPD()\n",
    "s.initEPD()\n",
    "# s.clearEPD()\n",
    "s.writeEPD()"
   ]
  },
  {
   "cell_type": "code",
   "execution_count": 213,
   "metadata": {},
   "outputs": [
    {
     "name": "stderr",
     "output_type": "stream",
     "text": [
      "DEBUG:root:calculating layout\n"
     ]
    }
   ],
   "source": [
    "L.calculate_layout()"
   ]
  },
  {
   "cell_type": "code",
   "execution_count": 416,
   "metadata": {},
   "outputs": [
    {
     "name": "stderr",
     "output_type": "stream",
     "text": [
      "DEBUG:__main__:****coverart****\n",
      "DEBUG:__main__:dimensions: (200, 448)\n",
      "DEBUG:root:has coverart\n",
      "DEBUG:root:centered\n",
      "DEBUG:root:explicit position: (10, 114)\n",
      "DEBUG:__main__:****title****\n",
      "DEBUG:__main__:dimensions: (400, 269)\n",
      "DEBUG:root:explicit position: [200, 1]\n",
      "DEBUG:root:calculated fontsize: 73\n",
      "DEBUG:__main__:****artist****\n",
      "DEBUG:__main__:dimensions: (400, 90)\n",
      "DEBUG:root:explicit position: [200, 270]\n",
      "DEBUG:root:calculated fontsize: 25\n",
      "DEBUG:__main__:****album****\n",
      "DEBUG:__main__:dimensions: (400, 90)\n",
      "DEBUG:root:explicit position: [200, 360]\n",
      "DEBUG:root:calculated fontsize: 25\n"
     ]
    }
   ],
   "source": [
    "l = None\n",
    "l = dict(twoColumn)\n",
    "\n",
    "resolution = (600, 448)\n",
    "font = constants.FONT\n",
    "\n",
    "for i in l:\n",
    "    image = l[i]['image']\n",
    "    textlines = l[i]['textlines']\n",
    "    padding =  l[i]['padding'] if l[i]['padding'] else 0\n",
    "    width = l[i]['width']\n",
    "    height = l[i]['height']\n",
    "    position = l[i]['position']\n",
    "    center = l[i]['center']\n",
    "    relative = l[i]['relative']\n",
    "    dimensions = (round(resolution[0]*l[i]['width']), \n",
    "                  round(resolution[1]*l[i]['height']))\n",
    "    fontsize = l[i]['fontsize']\n",
    "    \n",
    "    l[i]['dimensions'] = dimensions\n",
    "    \n",
    "        \n",
    "    logger.debug(f'****{i}****')\n",
    "\n",
    "    l[i]['dimensions'] = dimensions\n",
    "    logger.debug(f'dimensions: {dimensions}')\n",
    "\n",
    "    # check if there's coverart and resize it \n",
    "    if image and i=='coverart':\n",
    "        logging.debug(f'has coverart')\n",
    "        size = min(dimensions)-padding*2\n",
    "        l[i]['imagedim'] = (size, size)\n",
    "        if center:\n",
    "            logging.debug('centered')\n",
    "            position = (position[0]+padding, round(max(dimensions)/2-padding*2-size/2))\n",
    "        \n",
    "    if position:\n",
    "        logging.debug(f'explicit position: {position}')\n",
    "    else:\n",
    "        logging.debug(f'calculating positions')\n",
    "        pos = []\n",
    "        for idx, k in enumerate(relative):\n",
    "            if k == i:\n",
    "                pos.append(relative[k])\n",
    "            else:\n",
    "                val = l[k]['position'][idx]+l[k]['dimensions'][idx]\n",
    "                pos.append(val)        \n",
    "        logging.debug(f'calculated position: {pos}')\n",
    "        l[i]['position'] = pos\n",
    "    \n",
    "    if textlines:\n",
    "        fontsize = round((dimensions[1]-padding*2-padding*textlines)/textlines)\n",
    "        l[i]['fontsize'] = fontsize\n",
    "        logging.debug(f'calculated fontsize: {fontsize}')\n",
    "        \n",
    "\n",
    "    \n",
    "    \n",
    "\n",
    "\n"
   ]
  },
  {
   "cell_type": "code",
   "execution_count": 411,
   "metadata": {},
   "outputs": [
    {
     "data": {
      "text/plain": [
       "{'coverart': {'image': True,\n",
       "  'textlines': None,\n",
       "  'padding': 10,\n",
       "  'width': 0.3333333333333333,\n",
       "  'height': 1,\n",
       "  'position': (0, 0),\n",
       "  'center': True,\n",
       "  'relative': False,\n",
       "  'fontsize': None,\n",
       "  'dimensions': (200, 448),\n",
       "  'imagedim': (180, 180)},\n",
       " 'title': {'image': None,\n",
       "  'textlines': 3,\n",
       "  'padding': 10,\n",
       "  'width': 0.6666666666666666,\n",
       "  'height': 0.6,\n",
       "  'position': [200, 1],\n",
       "  'center': False,\n",
       "  'relative': {'coverart': 0, 'title': 1},\n",
       "  'fontsize': 73,\n",
       "  'dimensions': (400, 269)},\n",
       " 'artist': {'image': None,\n",
       "  'textlines': 2,\n",
       "  'padding': 10,\n",
       "  'width': 0.6666666666666666,\n",
       "  'height': 0.2,\n",
       "  'position': [200, 270],\n",
       "  'center': False,\n",
       "  'relative': {'coverart': 0, 'title': 1},\n",
       "  'fontsize': 25,\n",
       "  'dimensions': (400, 90)},\n",
       " 'album': {'image': None,\n",
       "  'textlines': 2,\n",
       "  'padding': 10,\n",
       "  'width': 0.6666666666666666,\n",
       "  'height': 0.2,\n",
       "  'position': [200, 360],\n",
       "  'center': False,\n",
       "  'relative': {'coverart': 0, 'artist': 1},\n",
       "  'fontsize': 25,\n",
       "  'dimensions': (400, 90)}}"
      ]
     },
     "execution_count": 411,
     "metadata": {},
     "output_type": "execute_result"
    }
   ],
   "source": [
    "l"
   ]
  },
  {
   "cell_type": "code",
   "execution_count": 398,
   "metadata": {},
   "outputs": [
    {
     "data": {
      "text/plain": [
       "{'image': True,\n",
       " 'textlines': None,\n",
       " 'padding': 10,\n",
       " 'width': 0.3333333333333333,\n",
       " 'height': 1,\n",
       " 'position': (0, 0),\n",
       " 'center': True,\n",
       " 'relative': False,\n",
       " 'fontsize': None,\n",
       " 'dimensions': (200, 448)}"
      ]
     },
     "execution_count": 398,
     "metadata": {},
     "output_type": "execute_result"
    }
   ],
   "source": [
    "l['coverart']"
   ]
  },
  {
   "cell_type": "code",
   "execution_count": 393,
   "metadata": {},
   "outputs": [
    {
     "name": "stderr",
     "output_type": "stream",
     "text": [
      "DEBUG:root:maximum characters/line: 13\n",
      "DEBUG:root:total lines: 3\n",
      "DEBUG:root:['Qabc Efghi', 'Jklmno pqrstu', '123 456 [...]']\n",
      "DEBUG:root:text dimension: (364, 212)\n"
     ]
    }
   ],
   "source": [
    "t = TextBlock(resolution=(400, 269), text=\"Qabc Efghi Jklmno pqrstu 123 456 789 ABC DEF GHI\", size=55, max_lines=3,\n",
    "              coordinates=(200, 1), center=False)"
   ]
  },
  {
   "cell_type": "code",
   "execution_count": 394,
   "metadata": {},
   "outputs": [
    {
     "name": "stderr",
     "output_type": "stream",
     "text": [
      "DEBUG:root:total lines: 3\n",
      "DEBUG:root:['Yoshimi', 'Battles the', 'Pink Robots']\n",
      "DEBUG:root:text dimension: (303, 180)\n"
     ]
    }
   ],
   "source": [
    "t.text = 'Yoshimi Battles the Pink Robots'"
   ]
  },
  {
   "cell_type": "code",
   "execution_count": 395,
   "metadata": {},
   "outputs": [
    {
     "data": {
      "text/plain": [
       "(303, 180)"
      ]
     },
     "execution_count": 395,
     "metadata": {},
     "output_type": "execute_result"
    }
   ],
   "source": [
    "t.dimensions"
   ]
  },
  {
   "cell_type": "code",
   "execution_count": 396,
   "metadata": {},
   "outputs": [
    {
     "data": {
      "image/png": "[encoded data removed]",
      "text/plain": [
       "<PIL.Image.Image image mode=1 size=303x180 at 0xADC440F0>"
      ]
     },
     "execution_count": 396,
     "metadata": {},
     "output_type": "execute_result"
    }
   ],
   "source": [
    "t.image"
   ]
  },
  {
   "cell_type": "code",
   "execution_count": 59,
   "metadata": {},
   "outputs": [
    {
     "data": {
      "text/plain": [
       "(336, 197)"
      ]
     },
     "execution_count": 59,
     "metadata": {},
     "output_type": "execute_result"
    }
   ],
   "source": [
    "t.dimensions"
   ]
  },
  {
   "cell_type": "code",
   "execution_count": 92,
   "metadata": {},
   "outputs": [
    {
     "data": {
      "text/plain": [
       "(269, 331)"
      ]
     },
     "execution_count": 92,
     "metadata": {},
     "output_type": "execute_result"
    }
   ],
   "source": [
    "artistY = e.height-t.dimensions[1]\n",
    "artistX = e.width-artistY\n",
    "artistX, artistY"
   ]
  },
  {
   "cell_type": "code",
   "execution_count": 63,
   "metadata": {},
   "outputs": [
    {
     "name": "stderr",
     "output_type": "stream",
     "text": [
      "DEBUG:root:maximum characters/line: 27\n",
      "DEBUG:root:total lines: 2\n",
      "DEBUG:root:['abc def ghi jkl mno pqr stu', 'vwx 123 456 789 ABC DEF GHI']\n",
      "DEBUG:root:text dimension: (364, 62)\n"
     ]
    }
   ],
   "source": [
    "a = TextBlock(text=\"abc def ghi jkl mno pqr stu vwx 123 456 789 ABC DEF GHI\", resolution=(400, 90), size=26, coordinates=(200, 270), max_lines=2, center=False)"
   ]
  },
  {
   "cell_type": "code",
   "execution_count": 70,
   "metadata": {},
   "outputs": [
    {
     "data": {
      "image/png": "[encoded data removed]",
      "text/plain": [
       "<PIL.Image.Image image mode=1 size=364x62 at 0xAE103F70>"
      ]
     },
     "execution_count": 70,
     "metadata": {},
     "output_type": "execute_result"
    }
   ],
   "source": [
    "a.image"
   ]
  },
  {
   "cell_type": "code",
   "execution_count": 71,
   "metadata": {},
   "outputs": [
    {
     "data": {
      "text/plain": [
       "(200, 270)"
      ]
     },
     "execution_count": 71,
     "metadata": {},
     "output_type": "execute_result"
    }
   ],
   "source": [
    "a.coordinates"
   ]
  },
  {
   "cell_type": "code",
   "execution_count": 244,
   "metadata": {},
   "outputs": [],
   "source": [
    "ca = CoverArt('./cover.jpg', resolution=(180, 180), coordinates=(10, 114))"
   ]
  },
  {
   "cell_type": "code",
   "execution_count": 251,
   "metadata": {},
   "outputs": [
    {
     "data": {
      "text/plain": [
       "248"
      ]
     },
     "execution_count": 251,
     "metadata": {},
     "output_type": "execute_result"
    }
   ],
   "source": [
    "cover = Image.open('./cover.jpg')\n",
    "dim = min(cover.size)"
   ]
  },
  {
   "cell_type": "code",
   "execution_count": 249,
   "metadata": {},
   "outputs": [
    {
     "ename": "TypeError",
     "evalue": "'int' object is not subscriptable",
     "output_type": "error",
     "traceback": [
      "\u001b[0;31m---------------------------------------------------------------------------\u001b[0m",
      "\u001b[0;31mTypeError\u001b[0m                                 Traceback (most recent call last)",
      "\u001b[0;32m<ipython-input-249-18d2f6a4d5ad>\u001b[0m in \u001b[0;36m<module>\u001b[0;34m\u001b[0m\n\u001b[0;32m----> 1\u001b[0;31m \u001b[0mcover\u001b[0m\u001b[0;34m.\u001b[0m\u001b[0mthumbnail\u001b[0m\u001b[0;34m(\u001b[0m\u001b[0;36m180\u001b[0m\u001b[0;34m)\u001b[0m\u001b[0;34m\u001b[0m\u001b[0;34m\u001b[0m\u001b[0m\n\u001b[0m",
      "\u001b[0;32m~/.local/share/virtualenvs/slimpi_epd-b1Rf9la8/lib/python3.7/site-packages/PIL/Image.py\u001b[0m in \u001b[0;36mthumbnail\u001b[0;34m(self, size, resample)\u001b[0m\n\u001b[1;32m   2203\u001b[0m         \u001b[0;31m# preserve aspect ratio\u001b[0m\u001b[0;34m\u001b[0m\u001b[0;34m\u001b[0m\u001b[0;34m\u001b[0m\u001b[0m\n\u001b[1;32m   2204\u001b[0m         \u001b[0mx\u001b[0m\u001b[0;34m,\u001b[0m \u001b[0my\u001b[0m \u001b[0;34m=\u001b[0m \u001b[0mself\u001b[0m\u001b[0;34m.\u001b[0m\u001b[0msize\u001b[0m\u001b[0;34m\u001b[0m\u001b[0;34m\u001b[0m\u001b[0m\n\u001b[0;32m-> 2205\u001b[0;31m         \u001b[0;32mif\u001b[0m \u001b[0mx\u001b[0m \u001b[0;34m>\u001b[0m \u001b[0msize\u001b[0m\u001b[0;34m[\u001b[0m\u001b[0;36m0\u001b[0m\u001b[0;34m]\u001b[0m\u001b[0;34m:\u001b[0m\u001b[0;34m\u001b[0m\u001b[0;34m\u001b[0m\u001b[0m\n\u001b[0m\u001b[1;32m   2206\u001b[0m             \u001b[0my\u001b[0m \u001b[0;34m=\u001b[0m \u001b[0mint\u001b[0m\u001b[0;34m(\u001b[0m\u001b[0mmax\u001b[0m\u001b[0;34m(\u001b[0m\u001b[0my\u001b[0m \u001b[0;34m*\u001b[0m \u001b[0msize\u001b[0m\u001b[0;34m[\u001b[0m\u001b[0;36m0\u001b[0m\u001b[0;34m]\u001b[0m \u001b[0;34m/\u001b[0m \u001b[0mx\u001b[0m\u001b[0;34m,\u001b[0m \u001b[0;36m1\u001b[0m\u001b[0;34m)\u001b[0m\u001b[0;34m)\u001b[0m\u001b[0;34m\u001b[0m\u001b[0;34m\u001b[0m\u001b[0m\n\u001b[1;32m   2207\u001b[0m             \u001b[0mx\u001b[0m \u001b[0;34m=\u001b[0m \u001b[0mint\u001b[0m\u001b[0;34m(\u001b[0m\u001b[0msize\u001b[0m\u001b[0;34m[\u001b[0m\u001b[0;36m0\u001b[0m\u001b[0;34m]\u001b[0m\u001b[0;34m)\u001b[0m\u001b[0;34m\u001b[0m\u001b[0;34m\u001b[0m\u001b[0m\n",
      "\u001b[0;31mTypeError\u001b[0m: 'int' object is not subscriptable"
     ]
    }
   ],
   "source": [
    "cover.thumbnail((180, 180))"
   ]
  },
  {
   "cell_type": "code",
   "execution_count": 413,
   "metadata": {},
   "outputs": [
    {
     "data": {
      "image/png": "[encoded data removed]",
      "text/plain": [
       "<PIL.Image.Image image mode=L size=180x180 at 0xAF3DE770>"
      ]
     },
     "execution_count": 413,
     "metadata": {},
     "output_type": "execute_result"
    }
   ],
   "source": [
    "ca.image"
   ]
  },
  {
   "cell_type": "code",
   "execution_count": 350,
   "metadata": {},
   "outputs": [],
   "source": [
    "e = epd5in83.EPD()"
   ]
  },
  {
   "cell_type": "code",
   "execution_count": 68,
   "metadata": {},
   "outputs": [
    {
     "data": {
      "text/plain": [
       "(600, 448)"
      ]
     },
     "execution_count": 68,
     "metadata": {},
     "output_type": "execute_result"
    }
   ],
   "source": [
    "e.width, e.height"
   ]
  },
  {
   "cell_type": "code",
   "execution_count": 69,
   "metadata": {},
   "outputs": [
    {
     "data": {
      "image/png": "[encoded data removed]",
      "text/plain": [
       "<PIL.Image.Image image mode=L size=600x448 at 0xAE102830>"
      ]
     },
     "execution_count": 69,
     "metadata": {},
     "output_type": "execute_result"
    }
   ],
   "source": [
    "s = Screen(elements=[t, ca, a])\n",
    "s.concat()"
   ]
  },
  {
   "cell_type": "code",
   "execution_count": 351,
   "metadata": {},
   "outputs": [
    {
     "name": "stderr",
     "output_type": "stream",
     "text": [
      "DEBUG:root:e-Paper busy\n",
      "DEBUG:root:e-Paper busy release\n",
      "DEBUG:root:imwidth = 600  imheight =  448 \n",
      "DEBUG:root:e-Paper busy\n",
      "DEBUG:root:e-Paper busy release\n",
      "DEBUG:root:e-Paper busy\n",
      "DEBUG:root:e-Paper busy release\n",
      "DEBUG:root:spi end\n",
      "DEBUG:root:close 5V, Module enters 0 power consumption ...\n"
     ]
    }
   ],
   "source": [
    "s.epd = epd5in83.EPD()\n",
    "s.initEPD()\n",
    "# s.clearEPD()\n",
    "s.writeEPD()"
   ]
  },
  {
   "cell_type": "code",
   "execution_count": 352,
   "metadata": {},
   "outputs": [
    {
     "name": "stderr",
     "output_type": "stream",
     "text": [
      "DEBUG:root:e-Paper busy\n",
      "DEBUG:root:e-Paper busy release\n",
      "DEBUG:root:e-Paper busy\n",
      "DEBUG:root:e-Paper busy release\n"
     ]
    }
   ],
   "source": [
    "s.initEPD()\n",
    "s.clearEPD()"
   ]
  }
 ],
 "metadata": {
  "kernelspec": {
   "display_name": "slimpi_epd-b1Rf9la8",
   "language": "python",
   "name": "slimpi_epd-b1rf9la8"
  },
  "language_info": {
   "codemirror_mode": {
    "name": "ipython",
    "version": 3
   },
   "file_extension": ".py",
   "mimetype": "text/x-python",
   "name": "python",
   "nbconvert_exporter": "python",
   "pygments_lexer": "ipython3",
   "version": "3.7.3"
  }
 },
 "nbformat": 4,
 "nbformat_minor": 2
}
