{
 "cells": [
  {
   "cell_type": "code",
   "execution_count": 1,
   "metadata": {},
   "outputs": [],
   "source": [
    "%load_ext autoreload"
   ]
  },
  {
   "cell_type": "code",
   "execution_count": 2,
   "metadata": {},
   "outputs": [],
   "source": [
    "%autoreload 2"
   ]
  },
  {
   "cell_type": "code",
   "execution_count": 36,
   "metadata": {},
   "outputs": [],
   "source": [
    "import logging\n",
    "from pathlib import Path\n",
    "import textwrap\n",
    "import copy\n",
    "from PIL import Image, ImageDraw, ImageFont\n",
    "from waveshare_epd import epd2in7b"
   ]
  },
  {
   "cell_type": "code",
   "execution_count": 16,
   "metadata": {},
   "outputs": [],
   "source": [
    "# CONSTANTS \n",
    "FONT = './fonts/Open_Sans/OpenSans-Regular.ttf'\n",
    "CHARDIST = dist = {\n",
    "'A': 0.0796394951934866,\n",
    "'B': 0.0480421724743304,\n",
    "'C': 0.0650193941562118,\n",
    "'D': 0.0367478368492653,\n",
    "'E': 0.0392455626459735,\n",
    "'F': 0.0285607049987683,\n",
    "'G': 0.0264235633824497,\n",
    "'H': 0.0350469680738427,\n",
    "'I': 0.063304067996198,\n",
    "'J': 0.0223114296397362,\n",
    "'K': 0.0132044112598647,\n",
    "'L': 0.0303276241783032,\n",
    "'M': 0.0735552041056704,\n",
    "'N': 0.058228959048466,\n",
    "'O': 0.0299636382603628,\n",
    "'P': 0.0408886018830318,\n",
    "'Q': 0.00330507150877549,\n",
    "'R': 0.0415148050705166,\n",
    "'S': 0.0864526085515713,\n",
    "'T': 0.092261358897769,\n",
    "'U': 0.0162965906935831,\n",
    "'V': 0.00880284634720004,\n",
    "'W': 0.0303874380635722,\n",
    "'X': 0.00214819726335884,\n",
    "'Y': 0.026731137152672,\n",
    "'Z': 0.0015903123050202,\n",
    "'a': 0.0853444241209682,\n",
    "'b': 0.014043443886782,\n",
    "'c': 0.0317851933335035,\n",
    "'d': 0.0384231410874873,\n",
    "'e': 0.125522566035832,\n",
    "'f': 0.0210277287958113,\n",
    "'g': 0.019565625337748,\n",
    "'h': 0.0479248841551587,\n",
    "'i': 0.0734040206369666,\n",
    "'j': 0.00106775804890564,\n",
    "'k': 0.00747099878278566,\n",
    "'l': 0.0413955994606343,\n",
    "'m': 0.0237913407247777,\n",
    "'n': 0.0735371823360625,\n",
    "'o': 0.0766780830435463,\n",
    "'p': 0.0203573642991815,\n",
    "'q': 0.000879113659646998,\n",
    "'r': 0.0670907487656561,\n",
    "'s': 0.0678732298030442,\n",
    "'t': 0.0892991141869109,\n",
    "'u': 0.0261576563826317,\n",
    "'v': 0.0105934322827605,\n",
    "'w': 0.0164673662068651,\n",
    "'x': 0.00200361905383887,\n",
    "'y': 0.0172194144536526,\n",
    "'z': 0.00107695111884201,\n",
    "}"
   ]
  },
  {
   "cell_type": "code",
   "execution_count": 17,
   "metadata": {},
   "outputs": [],
   "source": [
    "logging.basicConfig(level=logging.DEBUG)\n",
    "logger = logging.getLogger(__name__)"
   ]
  },
  {
   "cell_type": "code",
   "execution_count": 89,
   "metadata": {},
   "outputs": [],
   "source": [
    "class textblock:\n",
    "    def __init__(self, epd=None, font=FONT, size=24, maxRows=3, charPerRow=24):\n",
    "\n",
    "        self.height = epd2in7b.EPD().height\n",
    "        self.width = epd2in7b.EPD().width\n",
    "        self.font = self.setFont(fontPath=font, size=size)\n",
    "        self.charPerRow = charPerRow\n",
    "        self.maxRows = maxRows\n",
    "    \n",
    "    def setFont(self, fontPath, size):\n",
    "        font = ImageFont.truetype(str(Path(fontPath).absolute()), size)\n",
    "        return(font)\n",
    "    \n",
    "    \n",
    "    @property\n",
    "    def charPerRow(self):\n",
    "        return self.__charPerRow\n",
    "    \n",
    "    @charPerRow.setter\n",
    "    def charPerRow(self, charPerRow):\n",
    "        s = ''\n",
    "        n = 1000\n",
    "        testFont = self.font\n",
    "        # create a string of characters containing the letter distribution\n",
    "        for char in CHARDIST:\n",
    "            s = s+(char*int(dist[char]*n))\n",
    "        sLenPX = testFont.getsize(s)[0] # string length in Pixles\n",
    "        avgCharLen = sLenPX/len(s)\n",
    "        charPerRow = round(self.height/avgCharLen)        \n",
    "        self.__charPerRow = charPerRow\n",
    "\n",
    "    def wrapText(self, text='', charPerRow=None, maxRows=None):\n",
    "        if not charPerRow:\n",
    "            charPerRow = self.charPerRow\n",
    "        if not maxRows:\n",
    "            maxRows = self.maxRows\n",
    "        try:\n",
    "            wrapper = textwrap.wrap(text, width=charPerRow)\n",
    "        except AttributeError as e:\n",
    "            raise ValueError(f'Attribute Error: {text} is not a string; it appears to be {type(text)}')\n",
    "        myText = \"\\n\".join(wrapper[0:maxRows])\n",
    "        return(myText)\n",
    "    \n",
    "    def textImg(self, text):\n",
    "        black = Image.new('1', (epd.height, epd.width), 255)\n",
    "        other = Image.new('1', (epd.height, epd.width), 255)\n",
    "        drawBlack = ImageDraw.Draw(black)\n",
    "        drawOther = ImageDraw.Draw(other)\n",
    "        myText = self.wrapText(text)\n",
    "        drawBlack.text((0, 0), myText, font=self.font, fill=0)\n",
    "        \n",
    "        return(black, other)\n",
    "    \n",
    "    "
   ]
  },
  {
   "cell_type": "code",
   "execution_count": 100,
   "metadata": {},
   "outputs": [
    {
     "data": {
      "text/plain": [
       "'Old education\\nhim departure\\nany arranging'"
      ]
     },
     "execution_count": 100,
     "metadata": {},
     "output_type": "execute_result"
    }
   ],
   "source": [
    "track = textblock(maxRows=3, size=36)\n",
    "track.wrapText('Old education him departure any arranging one prevailed. Their end whole might began her. Behaved the comfort another fifteen eat. Partiality had his themselves ask pianoforte increasing discovered. So mr delay at since place whole above miles. He to observe conduct at detract because. Way ham unwilling not breakfast furniture explained perpetual. Or mr surrounded conviction so astonished literature. Songs to an blush woman be sorry young. We certain as removal attempt.')"
   ]
  },
  {
   "cell_type": "code",
   "execution_count": 102,
   "metadata": {},
   "outputs": [],
   "source": [
    "textImg = track.textImg('Old education him departure any arranging one prevailed. Their end whole might began her. Behaved the comfort another fifteen eat. Partiality had his themselves ask pianoforte increasing discovered. So mr delay at since place whole above miles. He to observe conduct at detract because. Way ham unwilling not breakfast furniture explained perpetual. Or mr surrounded conviction so astonished literature. Songs to an blush woman be sorry young. We certain as removal attempt.')"
   ]
  },
  {
   "cell_type": "code",
   "execution_count": 92,
   "metadata": {},
   "outputs": [],
   "source": [
    "epd = epd2in7b.EPD()"
   ]
  },
  {
   "cell_type": "code",
   "execution_count": 79,
   "metadata": {},
   "outputs": [
    {
     "name": "stderr",
     "output_type": "stream",
     "text": [
      "DEBUG:root:e-Paper busy\n",
      "DEBUG:root:e-Paper busy release\n"
     ]
    },
    {
     "data": {
      "text/plain": [
       "0"
      ]
     },
     "execution_count": 79,
     "metadata": {},
     "output_type": "execute_result"
    }
   ],
   "source": [
    "epd.init()"
   ]
  },
  {
   "cell_type": "code",
   "execution_count": 103,
   "metadata": {},
   "outputs": [],
   "source": [
    "textImg[0].save('blk2.png')\n",
    "f = textImg[0]\n",
    "b = textImg[1]"
   ]
  },
  {
   "cell_type": "code",
   "execution_count": 104,
   "metadata": {},
   "outputs": [
    {
     "name": "stderr",
     "output_type": "stream",
     "text": [
      "DEBUG:root:Horizontal\n",
      "DEBUG:root:Horizontal\n",
      "DEBUG:root:e-Paper busy\n",
      "DEBUG:root:e-Paper busy release\n"
     ]
    }
   ],
   "source": [
    "epd.display(epd.getbuffer(textImg[1]), epd.getbuffer(textImg[0]))"
   ]
  },
  {
   "cell_type": "code",
   "execution_count": null,
   "metadata": {},
   "outputs": [],
   "source": []
  },
  {
   "cell_type": "code",
   "execution_count": null,
   "metadata": {},
   "outputs": [],
   "source": []
  }
 ],
 "metadata": {
  "kernelspec": {
   "display_name": "slimpi_epd-b1Rf9la8",
   "language": "python",
   "name": "slimpi_epd-b1rf9la8"
  },
  "language_info": {
   "codemirror_mode": {
    "name": "ipython",
    "version": 3
   },
   "file_extension": ".py",
   "mimetype": "text/x-python",
   "name": "python",
   "nbconvert_exporter": "python",
   "pygments_lexer": "ipython3",
   "version": "3.7.3"
  }
 },
 "nbformat": 4,
 "nbformat_minor": 2
}
