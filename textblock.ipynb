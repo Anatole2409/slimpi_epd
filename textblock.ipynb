{
 "cells": [
  {
   "cell_type": "code",
   "execution_count": 1,
   "metadata": {},
   "outputs": [],
   "source": [
    "%load_ext autoreload"
   ]
  },
  {
   "cell_type": "code",
   "execution_count": 2,
   "metadata": {},
   "outputs": [],
   "source": [
    "%autoreload 2"
   ]
  },
  {
   "cell_type": "code",
   "execution_count": 3,
   "metadata": {},
   "outputs": [],
   "source": [
    "import logging\n",
    "from pathlib import Path\n",
    "import textwrap\n",
    "import copy\n",
    "from PIL import Image, ImageDraw, ImageFont\n",
    "from waveshare_epd import epd2in7b"
   ]
  },
  {
   "cell_type": "code",
   "execution_count": 4,
   "metadata": {},
   "outputs": [],
   "source": [
    "import constants\n"
   ]
  },
  {
   "cell_type": "code",
   "execution_count": 5,
   "metadata": {},
   "outputs": [],
   "source": [
    "logging.basicConfig(level=logging.DEBUG)\n",
    "logger = logging.getLogger(__name__)"
   ]
  },
  {
   "cell_type": "code",
   "execution_count": 117,
   "metadata": {},
   "outputs": [],
   "source": [
    "class TextBlock:\n",
    "    '''Class for creating a 1 bit image of word-wrapped text\n",
    "    \n",
    "    Args\n",
    "    ----\n",
    "        resolution (int, int): tuple of ints representing maximum resolution of image\n",
    "        text (str): text to format into image\n",
    "        font (str): path to ttf font\n",
    "        size (int): size of font in points (pixles)\n",
    "        maxrows (int): maximum number of wrapped rows of text; surplus is discarded\n",
    "        maxchar (int): maximum number of characters per row\n",
    "            this is automatically calculated if not specified based on font face, font size\n",
    "            and letter frequency (see chardist below)\n",
    "        chardist (dict): character frequency distribution for a particular language\n",
    "            provided distributions in constants.py: \n",
    "            USA_CHARDIST+, FRA_CHARDIST, DEU_CHARDIST, PRT_CHARDIST, ITA_CHARDIST, TUR_CHARDIST,\n",
    "            SWE_CHARDIST, NED_CHARDIST, DAN_CHARDIST\n",
    "                + only USA english includes upper and lower case characters\n",
    "        coordinates (int, int): location on screen image should be positioned (not used locally)\n",
    "    \n",
    "    Attributes\n",
    "    ----------\n",
    "        resolution (int, int): max resolution of image in px\n",
    "        font (ImageFont.trueType): font and size to use\n",
    "        maxchar (int): maximum number of characters per row\n",
    "        maxrows (int): maximum number of wrapped rows of text; surplus is discarded\n",
    "        coordinates (int, int): position of text in final image (not used in this class)\n",
    "        size (int, int): size of text image in px\n",
    "        text (str): raw text\n",
    "        formatted (str): wrapped text\n",
    "        textimage (ImageDraw.Draw): 1 bit image containing formatted text text\n",
    "\n",
    "\n",
    "    '''\n",
    "    def __init__(self, resolution=(246, 176), text=' ', font=constants.FONT, size=24, maxrows=3,\n",
    "                 maxchar=None, coordinates=(0, 0), chardist=constants.USA_CHARDIST):\n",
    "        self.resolution=resolution\n",
    "        self.font = ImageFont.truetype(str(Path(font).absolute()), size)\n",
    "        self._chardist = chardist\n",
    "        self.maxchar = maxchar\n",
    "        self.maxrows = maxrows\n",
    "        self.coordinates = coordinates\n",
    "        self.text = text\n",
    "    \n",
    "        \n",
    "    @property\n",
    "    def resolution(self):\n",
    "        '''maximum resolution in for image\n",
    "        \n",
    "        ::2-tuple of int'''\n",
    "        return self._resolution\n",
    "    \n",
    "    @resolution.setter\n",
    "    def resolution(self, resolution):\n",
    "#         for r in resolution:\n",
    "#             if not isinstance(r, int):\n",
    "#                 raise TypeError(f'resolution must be type int: {r}')\n",
    "#             if r < 0:\n",
    "#                 raise ValueError(f'resolution must be positive: {r}')\n",
    "        if self.coordcheck(resolution):\n",
    "            self._resolution = resolution\n",
    "        else:\n",
    "            raise ValueError(f'bad resolution value: {resolution}')\n",
    "    \n",
    "    @property\n",
    "    def coordinates(self):\n",
    "        '''coordinates to place the formatted text within the final image (not used in this method)\n",
    "        \n",
    "        ::2 tuple of int'''\n",
    "        return self._coordinates\n",
    "    \n",
    "    @coordinates.setter\n",
    "    def coordinates(self, coordinates):\n",
    "        if self.coordcheck(coordinates):\n",
    "            self._coordinates = coordinates\n",
    "        else:\n",
    "            raise ValueError(f'bad coordinate values: {coordinates}')\n",
    "    \n",
    "    @property\n",
    "    def maxchar(self):\n",
    "        '''maximum number of characters per row\n",
    "            if no value is set this is calculated based on font face, font size and letter frequency\n",
    "            \n",
    "        ::int'''\n",
    "        return self._maxchar\n",
    "    \n",
    "    @maxchar.setter\n",
    "    def maxchar(self, maxchar):\n",
    "        if maxchar:\n",
    "            self.__maxchar = maxchar\n",
    "            return(maxchar)\n",
    "        else:\n",
    "            s = ''\n",
    "            n = 1000 # sample string size for measuring\n",
    "            # create a string of characters containing the letter distribution\n",
    "            for char in self._chardist:\n",
    "                s = s+(char*int(self._chardist[char]*n))\n",
    "            sLenPX = self.font.getsize(s)[0] # string length in Pixles\n",
    "            avgCharLen = sLenPX/len(s)\n",
    "            maxchar = round(self.resolution[0]/avgCharLen)\n",
    "            self._maxchar = maxchar\n",
    "    \n",
    "    @property\n",
    "    def text(self):\n",
    "        '''raw text\n",
    "        \n",
    "        ::str'''\n",
    "        return self._text\n",
    "    \n",
    "    @text.setter\n",
    "    def text(self, text):\n",
    "        if not text:\n",
    "            self.text = None\n",
    "        else:\n",
    "            self._text = text\n",
    "            self.formatted = self.formattext()\n",
    "            self.image = self.textimage()\n",
    "    \n",
    "    @property\n",
    "    def maxrows(self):\n",
    "        '''maximum number of rows to use when wrapping text\n",
    "        \n",
    "        ::int'''\n",
    "        return self._maxrows\n",
    "    \n",
    "    @maxrows.setter\n",
    "    def maxrows(self, maxrows):\n",
    "        if maxrows < 1:\n",
    "            raise ValueError(f'maxrows must be greater than 0: {maxrows}')\n",
    "        if not isinstance(maxrows, int):\n",
    "            raise ValueError(f'maxrows must be type integer: {maxrows}')\n",
    "        self._maxrows = maxrows\n",
    "    \n",
    "    def formattext(self, text=None, maxchar=None, maxrows=None):\n",
    "        '''format text using word-wrap strategies\n",
    "        \n",
    "        Args\n",
    "        ----\n",
    "            text (str): raw text\n",
    "            maxchar (int): maximum number of characters in each row\n",
    "            maxrow (int): maximum number of rows\n",
    "            \n",
    "        Returns\n",
    "        -------\n",
    "            ::str'''\n",
    "        if not maxchar:\n",
    "            maxchar = self.maxchar\n",
    "        if not maxrows:\n",
    "            maxrows = self.maxrows\n",
    "        if not text:\n",
    "            text = self.text\n",
    "        \n",
    "        wrapper = textwrap.wrap(text, width=maxchar)\n",
    "        myText = \"\\n\".join(wrapper[0:maxrows])\n",
    "        if len(wrapper) < maxrows:\n",
    "            for i in range(0, maxrows-len(wrapper)):\n",
    "                myText = myText + \"\\n \"\n",
    "        if len(myText) < 1:\n",
    "            myText = ' '\n",
    "        return(myText)\n",
    "    \n",
    "    def textimage(self, text=None, coordinates=None):\n",
    "        '''produces 1 bit image of containing wrapped text\n",
    "        \n",
    "        Args\n",
    "        ----\n",
    "            text (str): raw text to use; if non is provided use self.text\n",
    "            coordinates (int): coordinates of text in final image (not used in this class)\n",
    "            \n",
    "        Returns\n",
    "        -------\n",
    "            ::Image.new()'''\n",
    "        if text:\n",
    "            text = self.formattext(text)\n",
    "        else:\n",
    "            text = self.formatted\n",
    "            \n",
    "        if not coordinates:\n",
    "            coordinates = self.coordinates\n",
    "\n",
    "        # get the size of the text\n",
    "        draw = ImageDraw.Draw(Image.new('1', (1, 1))) # create a dummy image and drawing instance\n",
    "        self.size = draw.textsize(text, self.font)\n",
    "        \n",
    "        logging.debug(f'text size: {self.size}')\n",
    "        # create an empty image\n",
    "        image = Image.new('1', self.size, 255) # create a blank image \n",
    "        # get a drawing context\n",
    "        draw = ImageDraw.Draw(image)\n",
    "#         draw.text        \n",
    "        draw.text((0,0), text, font=self.font) # draw the text at the origin\n",
    "        self.image = image\n",
    "        return image\n",
    "\n",
    "    def coordcheck(self, coordinates):\n",
    "        for c in coordinates:\n",
    "            if not isinstance(c, int):\n",
    "                raise TypeError(f'coordinate must be type int: {c}')\n",
    "                return False # redundant\n",
    "            if c < 0:\n",
    "                raise ValueError(f'coordinate must be positive: {c}')\n",
    "                return False # redundant\n",
    "        return True"
   ]
  },
  {
   "cell_type": "code",
   "execution_count": 114,
   "metadata": {},
   "outputs": [],
   "source": [
    "class Screen:\n",
    "    def __init__(self, resolution=(246, 176), elements=[]):\n",
    "        self.resolution = resolution\n",
    "        self.elements = elements\n",
    "        self.image = Image.new('1', self.resolution, 255)\n",
    "        \n",
    "    @property\n",
    "    def resolution(self):\n",
    "        return self._resolution\n",
    "    \n",
    "    @resolution.setter\n",
    "    def resolution(self, resolution):\n",
    "        if self.coordcheck(resolution):\n",
    "            self._resolution = resolution\n",
    "\n",
    "    def concat(self):\n",
    "        for e in self.elements:\n",
    "            self.image.paste(e.image, (e.coordinates))\n",
    "        return(self.image)\n",
    "        \n",
    "    def coordcheck(self, coordinates):\n",
    "        for c in coordinates:\n",
    "            if not isinstance(c, int):\n",
    "                raise TypeError(f'coordinate must be type int: {c}')\n",
    "                return False # redundant\n",
    "            if c < 0:\n",
    "                raise ValueError(f'coordinate must be positive: {c}')\n",
    "                return False # redundant\n",
    "        return True        "
   ]
  },
  {
   "cell_type": "code",
   "execution_count": null,
   "metadata": {},
   "outputs": [],
   "source": []
  },
  {
   "cell_type": "code",
   "execution_count": 137,
   "metadata": {},
   "outputs": [
    {
     "name": "stderr",
     "output_type": "stream",
     "text": [
      "DEBUG:root:text size: (197, 125)\n"
     ]
    }
   ],
   "source": [
    "t = TextBlock(text=\"The Kids Don't Stand a Chance\", size=36, coordinates=(5, 0))"
   ]
  },
  {
   "cell_type": "code",
   "execution_count": 132,
   "metadata": {},
   "outputs": [
    {
     "data": {
      "text/plain": [
       "(5, 0)"
      ]
     },
     "execution_count": 132,
     "metadata": {},
     "output_type": "execute_result"
    }
   ],
   "source": [
    "t.coordinates"
   ]
  },
  {
   "cell_type": "code",
   "execution_count": 133,
   "metadata": {},
   "outputs": [
    {
     "data": {
      "text/plain": [
       "(197, 125)"
      ]
     },
     "execution_count": 133,
     "metadata": {},
     "output_type": "execute_result"
    }
   ],
   "source": [
    "t.size"
   ]
  },
  {
   "cell_type": "code",
   "execution_count": 136,
   "metadata": {},
   "outputs": [
    {
     "data": {
      "image/png": "[encoded data removed]",
      "text/plain": [
       "<PIL.Image.Image image mode=1 size=197x125 at 0xAF48D750>"
      ]
     },
     "execution_count": 136,
     "metadata": {},
     "output_type": "execute_result"
    }
   ],
   "source": [
    "t.image"
   ]
  },
  {
   "cell_type": "code",
   "execution_count": 138,
   "metadata": {},
   "outputs": [
    {
     "name": "stderr",
     "output_type": "stream",
     "text": [
      "DEBUG:root:text size: (203, 86)\n"
     ]
    }
   ],
   "source": [
    "a = TextBlock(text='Vampire Weekend', size = 24, coordinates=(0, t.size[1]))"
   ]
  },
  {
   "cell_type": "code",
   "execution_count": 96,
   "metadata": {},
   "outputs": [
    {
     "data": {
      "text/plain": [
       "(0, 82)"
      ]
     },
     "execution_count": 96,
     "metadata": {},
     "output_type": "execute_result"
    }
   ],
   "source": [
    "a.coordinates"
   ]
  },
  {
   "cell_type": "code",
   "execution_count": 129,
   "metadata": {},
   "outputs": [],
   "source": [
    "s = Screen(elements=[a, t])"
   ]
  },
  {
   "cell_type": "code",
   "execution_count": 139,
   "metadata": {},
   "outputs": [
    {
     "data": {
      "image/png": "[encoded data removed]",
      "text/plain": [
       "<PIL.Image.Image image mode=1 size=246x176 at 0xAF438DB0>"
      ]
     },
     "execution_count": 139,
     "metadata": {},
     "output_type": "execute_result"
    }
   ],
   "source": [
    "s.concat()"
   ]
  },
  {
   "cell_type": "code",
   "execution_count": 35,
   "metadata": {},
   "outputs": [
    {
     "data": {
      "text/plain": [
       "(0, 0)"
      ]
     },
     "execution_count": 35,
     "metadata": {},
     "output_type": "execute_result"
    }
   ],
   "source": [
    "t.size\n",
    "t.coordinates"
   ]
  },
  {
   "cell_type": "code",
   "execution_count": 16,
   "metadata": {},
   "outputs": [
    {
     "data": {
      "text/plain": [
       "(0, 0)"
      ]
     },
     "execution_count": 16,
     "metadata": {},
     "output_type": "execute_result"
    }
   ],
   "source": [
    "t.coordinates"
   ]
  },
  {
   "cell_type": "code",
   "execution_count": 80,
   "metadata": {},
   "outputs": [],
   "source": [
    "# ((size), (position))\n",
    "# find the size if all images were concatinated together\n",
    "cords = [((10, 10), (50, 10)), ((120, 120), (0, 0)), ((120, 120), (120, 0)), ((240, 60), (0, 120)), ((50, 100), (170, 70))]"
   ]
  },
  {
   "cell_type": "code",
   "execution_count": 81,
   "metadata": {},
   "outputs": [
    {
     "name": "stdout",
     "output_type": "stream",
     "text": [
      "found a new X max 60\n",
      "found a new Y max 20\n",
      "found a new X max 120\n",
      "found a new Y max 120\n",
      "found a new X max 240\n",
      "found a new Y max 180\n",
      "240 180\n"
     ]
    }
   ],
   "source": [
    "x = 0\n",
    "y = 0\n",
    "lastX = 0\n",
    "lastY = 0\n",
    "for c in cords:\n",
    "    thisX = c[1][0] + c[0][0]\n",
    "    thisY = c[1][1] + c[0][1]\n",
    "    \n",
    "    if thisX > lastX:\n",
    "        lastX = thisX\n",
    "        print(f'found a new X max {lastX}')\n",
    "    \n",
    "    if thisY > lastY:\n",
    "        lastY = thisY\n",
    "        print(f'found a new Y max {lastY}')\n",
    "        \n",
    "print(lastX, lastY)"
   ]
  },
  {
   "cell_type": "code",
   "execution_count": 100,
   "metadata": {},
   "outputs": [],
   "source": [
    "st = 'foo\\n'"
   ]
  },
  {
   "cell_type": "code",
   "execution_count": null,
   "metadata": {},
   "outputs": [],
   "source": []
  }
 ],
 "metadata": {
  "kernelspec": {
   "display_name": "slimpi_epd-b1Rf9la8",
   "language": "python",
   "name": "slimpi_epd-b1rf9la8"
  },
  "language_info": {
   "codemirror_mode": {
    "name": "ipython",
    "version": 3
   },
   "file_extension": ".py",
   "mimetype": "text/x-python",
   "name": "python",
   "nbconvert_exporter": "python",
   "pygments_lexer": "ipython3",
   "version": "3.7.3"
  }
 },
 "nbformat": 4,
 "nbformat_minor": 2
}
