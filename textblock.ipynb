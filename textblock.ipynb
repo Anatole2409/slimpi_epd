{
 "cells": [
  {
   "cell_type": "code",
   "execution_count": 1,
   "metadata": {},
   "outputs": [],
   "source": [
    "%load_ext autoreload"
   ]
  },
  {
   "cell_type": "code",
   "execution_count": 2,
   "metadata": {},
   "outputs": [],
   "source": [
    "%autoreload 2"
   ]
  },
  {
   "cell_type": "code",
   "execution_count": 3,
   "metadata": {},
   "outputs": [],
   "source": [
    "import logging\n",
    "from pathlib import Path\n",
    "import textwrap\n",
    "import copy\n",
    "from PIL import Image, ImageDraw, ImageFont\n",
    "from waveshare_epd import epd2in7b"
   ]
  },
  {
   "cell_type": "code",
   "execution_count": 4,
   "metadata": {},
   "outputs": [],
   "source": [
    "import constants\n"
   ]
  },
  {
   "cell_type": "code",
   "execution_count": 5,
   "metadata": {},
   "outputs": [],
   "source": [
    "logging.basicConfig(level=logging.DEBUG)\n",
    "logger = logging.getLogger(__name__)"
   ]
  },
  {
   "cell_type": "code",
   "execution_count": 16,
   "metadata": {},
   "outputs": [],
   "source": [
    "class textblock:\n",
    "    '''Class for creating blocks of formatted and wrapped text as images using PIL(Pillow)\n",
    "    \n",
    "    Args\n",
    "    ----\n",
    "        resolution (2-tuple): width (x), height (y) in pixles of canvas\n",
    "        font (Path): path to ttf font\n",
    "        size (int): size in points to use for rendering text\n",
    "        maxRows (int): maximum number of rows to produce (overflow rows will be discarded)\n",
    "        text (str): unformatted text\n",
    "        charPerRow (int): maximum number of rows to use per row\n",
    "            this is automatically calculated using font, display size and english letter \n",
    "            distribution. Other letter distributions can be provided see CHARDIST\n",
    "        charDist (dict): letter use distribution for calculating maximum number of char/row \n",
    "            for character set. Default set is for [A..Z, a..z].\n",
    "            Format: CHARDIST = {'A': 0.0796394951934866, 'B': 0.0480421724743304,}\n",
    "            For more languages see: \n",
    "                * https://en.wikipedia.org/wiki/Letter_frequency \n",
    "                * https://www.sttmedia.com/characterfrequencies\n",
    "            \n",
    "    Attributres\n",
    "    -----------\n",
    "        height (int): height in pixles of the display\n",
    "        width (int): width in pixles of the display\n",
    "        font (str): path to ttf font\n",
    "        text (str): unformatted text\n",
    "        charPerRow (int): maximum number of characters to allow per row before wrapping\n",
    "        maxRows (int): maximum number of rows of text to produce (overflow rows will be discarded)\n",
    "        _charDist (dict): private var containing character distribution \n",
    "        formattedText (str): word-wrapped text\n",
    "    \n",
    "    \n",
    "    \n",
    "    '''\n",
    "    def __init__(self, resolution=(264, 176), font=constants.FONT, size=24, maxRows=3, text=' ',\n",
    "                  coordinates=(0, 0), charPerRow=None, charDist=constants.USA_CHARDIST):\n",
    "        self.height = resolution[0]\n",
    "        self.width = resolution[1]\n",
    "        self.font = self.setFont(fontPath=font, size=size)\n",
    "        self.__charDist = charDist\n",
    "        self.charPerRow = charPerRow\n",
    "        self.maxRows = maxRows\n",
    "        self.coordinates = coordinates\n",
    "        self.text = text\n",
    "        self.size = None\n",
    "        self.image = None\n",
    "        \n",
    "    def setFont(self, fontPath, size):\n",
    "        '''Get a ttf font\n",
    "        Args\n",
    "        ----\n",
    "            fontPath (str): path to font (can be relative)\n",
    "            size (int): size in points/pixles of font\n",
    "            \n",
    "        Returns\n",
    "        -------\n",
    "            PIL.ImageFont.truetype object'''\n",
    "\n",
    "        logging.debug(f'font: {Path(fontPath).absolute()}, exists: {Path(fontPath).exists()}')\n",
    "        font = ImageFont.truetype(str(Path(fontPath).absolute()), size)\n",
    "        return(font)\n",
    "    \n",
    "    \n",
    "    @property\n",
    "    def charPerRow(self):\n",
    "        '''int: Calculated maximum number of characters per row before wrapping\n",
    "            Calculations are based on font, font size and width of canvas (x)'''\n",
    "        return self.__charPerRow\n",
    "    \n",
    "    @charPerRow.setter\n",
    "    def charPerRow(self, charPerRow):\n",
    "        if charPerRow:\n",
    "            self.__charPerRow = charPerRow\n",
    "            return(charPerRow)\n",
    "        s = ''\n",
    "        n = 1000\n",
    "        testFont = self.font\n",
    "        # create a string of characters containing the letter distribution\n",
    "        for char in self.__charDist:\n",
    "            s = s+(char*int(self.__charDist[char]*n))\n",
    "        logging.debug(f'using font: {self.font.getname()}, size: {self.font.size}')\n",
    "        logging.debug(f'Created string of {len(s)} characters')\n",
    "        sLenPX = testFont.getsize(s)[0] # string length in Pixles\n",
    "        avgCharLen = sLenPX/len(s)\n",
    "        charPerRow = round(self.height/avgCharLen)\n",
    "        logging.debug(f'length in px: {sLenPX}, avg char length: {avgCharLen}, max chars per row: {charPerRow}')\n",
    "        self.__charPerRow = charPerRow\n",
    "        \n",
    "    @property\n",
    "    def text(self):\n",
    "        '''str: unformatted text\n",
    "        Sets\n",
    "        ----\n",
    "        text (str): unformatted text\n",
    "        formattedText(str): wrapped text\n",
    "        image (PIL Image): canvas containing formatted text\n",
    "        size (int, int): tuple of x, y size of formatted text'''\n",
    "        return self.__text\n",
    "\n",
    "    @text.setter\n",
    "    def text(self, text):\n",
    "        if not text:\n",
    "            text = ' '\n",
    "        self.__text = text\n",
    "        self.formattedText = self.wrapText(text)\n",
    "        self.image, self.size = self.textImg()\n",
    "        \n",
    "    def wrapText(self, text=' ', charPerRow=None, maxRows=None):\n",
    "        '''return a formatted text block of N rows using new line characters (\\n)\n",
    "        Args\n",
    "        ----\n",
    "        text (str): string to format\n",
    "        charPerRow (int): maximum number of characters per row before wrapping\n",
    "        maxRows (int): maximum number of rows to return -- overflow is discarded\n",
    "        \n",
    "        Returns\n",
    "        -------\n",
    "        string'''\n",
    "        logging.debug(f'text length: {len(text)}')\n",
    "        if not charPerRow:\n",
    "            charPerRow = self.charPerRow\n",
    "        if not maxRows:\n",
    "            maxRows = self.maxRows\n",
    "        try:\n",
    "            wrapper = textwrap.wrap(text, width=charPerRow)\n",
    "        except AttributeError as e:\n",
    "            raise ValueError(f'Attribute Error: {text} is not a string; it appears to be {type(text)}')\n",
    "        myText = \"\\n\".join(wrapper[0:maxRows])\n",
    "        if len(myText) < 1:\n",
    "            myText = ' '\n",
    "        return(myText)\n",
    "    \n",
    "    def textImg(self, text=None, coordinates=None):\n",
    "        '''retun an PIL image containing the formatted text\n",
    "        Args\n",
    "        ----\n",
    "        text (str): unformatted text to create into an image\n",
    "        coordinates (int, int): tuple of integers for starting position of text on canvas\n",
    "        \n",
    "        Returns\n",
    "        -------\n",
    "        PIL image with formatted text'''\n",
    "        logging.debug('creating text image')\n",
    "        image = Image.new('1', (self.height, self.width), 255) # create a blank image \n",
    "        # get a drawing context\n",
    "        draw = ImageDraw.Draw(image) # cr\n",
    "        if text:\n",
    "            myText = self.wrapText(text)\n",
    "        else:\n",
    "            myText = self.formattedText\n",
    "            \n",
    "        if not coordinates:\n",
    "            coordinates = self.coordinates\n",
    "        logging.debug(f'using text: {myText}')\n",
    "        \n",
    "        draw.text(coordinates, myText, font=self.font, fill=0)\n",
    "        textsize = draw.textsize(myText)\n",
    "        \n",
    "        # return the altered image\n",
    "        return(image, textsize)\n",
    "    \n",
    "    "
   ]
  },
  {
   "cell_type": "code",
   "execution_count": 17,
   "metadata": {},
   "outputs": [
    {
     "name": "stderr",
     "output_type": "stream",
     "text": [
      "DEBUG:root:font: /home/pi/src/slimpi_epd/fonts/Open_Sans/OpenSans-Regular.ttf, exists: True\n",
      "DEBUG:root:using font: ('Open Sans', 'Regular'), size: 24\n",
      "DEBUG:root:Created string of 1978 characters\n",
      "DEBUG:root:length in px: 26757, avg char length: 13.527300303336704, max chars per row: 20\n",
      "DEBUG:root:text length: 1\n",
      "DEBUG:root:creating text image\n",
      "DEBUG:root:using text:  \n",
      "DEBUG:PIL.PngImagePlugin:STREAM b'IHDR' 16 13\n",
      "DEBUG:PIL.PngImagePlugin:STREAM b'IDAT' 41 1216\n",
      "DEBUG:root:font: /home/pi/src/slimpi_epd/fonts/Open_Sans/OpenSans-Regular.ttf, exists: True\n",
      "DEBUG:root:using font: ('Open Sans', 'Regular'), size: 10\n",
      "DEBUG:root:Created string of 1978 characters\n",
      "DEBUG:root:length in px: 11298, avg char length: 5.711830131445905, max chars per row: 46\n",
      "DEBUG:root:text length: 1\n",
      "DEBUG:root:creating text image\n",
      "DEBUG:root:using text:  \n",
      "DEBUG:PIL.PngImagePlugin:STREAM b'IHDR' 16 13\n",
      "DEBUG:PIL.PngImagePlugin:STREAM b'IDAT' 41 1216\n"
     ]
    }
   ],
   "source": [
    "epd = epd2in7b.EPD()\n",
    "track = textblock(resolution=(epd.height, epd.width), maxRows=3, size=24, coordinates=(0, 0))\n",
    "empty = textblock(resolution=(epd.height, epd.width), maxRows=1, size=10)"
   ]
  },
  {
   "cell_type": "code",
   "execution_count": 18,
   "metadata": {},
   "outputs": [
    {
     "name": "stderr",
     "output_type": "stream",
     "text": [
      "DEBUG:root:text length: 474\n",
      "DEBUG:root:creating text image\n",
      "DEBUG:root:using text: Old education him\n",
      "departure any\n",
      "arranging one\n",
      "DEBUG:PIL.PngImagePlugin:STREAM b'IHDR' 16 13\n",
      "DEBUG:PIL.PngImagePlugin:STREAM b'IDAT' 41 1216\n"
     ]
    }
   ],
   "source": [
    "track.text = 'Old education him departure any arranging one prevailed. Their end whole might began her. Behaved the comfort another fifteen eat. Partiality had his themselves ask pianoforte increasing discovered. So mr delay at since place whole above miles. He to observe conduct at detract because. Way ham unwilling not breakfast furniture explained perpetual. Or mr surrounded conviction so astonished literature. Songs to an blush woman be sorry young. We certain as removal attempt.'"
   ]
  },
  {
   "cell_type": "code",
   "execution_count": 19,
   "metadata": {},
   "outputs": [
    {
     "data": {
      "image/png": "[encoded data removed]",
      "text/plain": [
       "<PIL.Image.Image image mode=1 size=264x176 at 0xB3E3F6B0>"
      ]
     },
     "execution_count": 19,
     "metadata": {},
     "output_type": "execute_result"
    }
   ],
   "source": [
    "track.image"
   ]
  },
  {
   "cell_type": "code",
   "execution_count": 20,
   "metadata": {},
   "outputs": [
    {
     "name": "stderr",
     "output_type": "stream",
     "text": [
      "DEBUG:root:text length: 1\n",
      "DEBUG:root:creating text image\n",
      "DEBUG:root:using text:  \n",
      "DEBUG:PIL.PngImagePlugin:STREAM b'IHDR' 16 13\n",
      "DEBUG:PIL.PngImagePlugin:STREAM b'IDAT' 41 1216\n"
     ]
    }
   ],
   "source": [
    "empty.text = ' '"
   ]
  },
  {
   "cell_type": "code",
   "execution_count": 11,
   "metadata": {},
   "outputs": [
    {
     "data": {
      "text/plain": [
       "' '"
      ]
     },
     "execution_count": 11,
     "metadata": {},
     "output_type": "execute_result"
    }
   ],
   "source": [
    "empty.text"
   ]
  },
  {
   "cell_type": "code",
   "execution_count": 12,
   "metadata": {},
   "outputs": [
    {
     "data": {
      "text/plain": [
       "' '"
      ]
     },
     "execution_count": 12,
     "metadata": {},
     "output_type": "execute_result"
    }
   ],
   "source": [
    "empty.formattedText"
   ]
  },
  {
   "cell_type": "code",
   "execution_count": 21,
   "metadata": {},
   "outputs": [
    {
     "data": {
      "image/png": "[encoded data removed]",
      "text/plain": [
       "<PIL.Image.Image image mode=1 size=264x176 at 0xB0E0EE70>"
      ]
     },
     "execution_count": 21,
     "metadata": {},
     "output_type": "execute_result"
    }
   ],
   "source": [
    "empty.image"
   ]
  },
  {
   "cell_type": "code",
   "execution_count": 22,
   "metadata": {},
   "outputs": [
    {
     "name": "stderr",
     "output_type": "stream",
     "text": [
      "DEBUG:root:e-Paper busy\n",
      "DEBUG:root:e-Paper busy release\n"
     ]
    },
    {
     "data": {
      "text/plain": [
       "0"
      ]
     },
     "execution_count": 22,
     "metadata": {},
     "output_type": "execute_result"
    }
   ],
   "source": [
    "epd.init()"
   ]
  },
  {
   "cell_type": "code",
   "execution_count": 23,
   "metadata": {},
   "outputs": [
    {
     "name": "stderr",
     "output_type": "stream",
     "text": [
      "DEBUG:root:Horizontal\n",
      "DEBUG:root:Horizontal\n",
      "DEBUG:root:e-Paper busy\n",
      "DEBUG:root:e-Paper busy release\n"
     ]
    }
   ],
   "source": [
    "epd.display(epd.getbuffer(track.image), epd.getbuffer(empty.image))"
   ]
  },
  {
   "cell_type": "code",
   "execution_count": null,
   "metadata": {},
   "outputs": [],
   "source": [
    "class formatter:\n",
    "    def __init__(self, text, charPerRow):\n",
    "        self.rows = rows\n",
    "        self.charPerRow = charPerRow\n",
    "        self.text = text\n",
    "        \n",
    "    @property\n",
    "    def text(self):\n",
    "        return self.__text\n",
    "    \n",
    "    @text.setter\n",
    "    def text(self, text):\n",
    "        self.__text = text\n",
    "        self.formatedText = self.fmt(text, rows=self.rows, charPerRow=self.charPerRow)\n",
    "        \n",
    "    def fmt(self, text, rows, charPerRow):\n",
    "        wrapper = textwrap.wrap(text, width=charPerRow)\n",
    "        myText = \"\\n\".join(wrapper[0:maxRows])\n",
    "        return(myText)"
   ]
  },
  {
   "cell_type": "code",
   "execution_count": null,
   "metadata": {},
   "outputs": [],
   "source": [
    "track.font.getname()"
   ]
  }
 ],
 "metadata": {
  "kernelspec": {
   "display_name": "slimpi_epd-b1Rf9la8",
   "language": "python",
   "name": "slimpi_epd-b1rf9la8"
  },
  "language_info": {
   "codemirror_mode": {
    "name": "ipython",
    "version": 3
   },
   "file_extension": ".py",
   "mimetype": "text/x-python",
   "name": "python",
   "nbconvert_exporter": "python",
   "pygments_lexer": "ipython3",
   "version": "3.7.3"
  }
 },
 "nbformat": 4,
 "nbformat_minor": 2
}
