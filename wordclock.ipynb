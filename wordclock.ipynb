{
 "cells": [
  {
   "cell_type": "code",
   "execution_count": 28,
   "metadata": {},
   "outputs": [
    {
     "name": "stdout",
     "output_type": "stream",
     "text": [
      "[NbConvertApp] Converting notebook ./wordclock.ipynb to python\r\n"
     ]
    }
   ],
   "source": [
    "%alias nbconvert nbconvert ./wordclock.ipynb\n",
    "\n",
    "%nbconvert"
   ]
  },
  {
   "cell_type": "code",
   "execution_count": 7,
   "metadata": {},
   "outputs": [],
   "source": [
    "from datetime import datetime\n",
    "from random import choice"
   ]
  },
  {
   "cell_type": "code",
   "execution_count": 18,
   "metadata": {},
   "outputs": [],
   "source": [
    "def time():\n",
    "    return  datetime.now().strftime(\"%H,%M\").split(',')"
   ]
  },
  {
   "cell_type": "code",
   "execution_count": 19,
   "metadata": {},
   "outputs": [],
   "source": [
    "def time_now():\n",
    "    return datetime.now().strftime(\"%H:%M\")"
   ]
  },
  {
   "cell_type": "code",
   "execution_count": 20,
   "metadata": {},
   "outputs": [],
   "source": [
    "def maprange(a, b, s):\n",
    "    '''map range `a` to `b` for value `s`\n",
    "\n",
    "    Args:\n",
    "        a(2 `tuple` of `int`): (start, end) of input values\n",
    "        b(2 `tuple` of `int`): (start, end) of output values\n",
    "        s(`float`, `int`): value to mape\n",
    "    Returns:\n",
    "        `int`'''\n",
    "    \n",
    "    (a1, a2), (b1, b2) = a, b\n",
    "    return  int(b1 + ((s - a1) * (b2 - b1) / (a2 - a1)))"
   ]
  },
  {
   "cell_type": "code",
   "execution_count": 25,
   "metadata": {},
   "outputs": [],
   "source": [
    "def get_time():    \n",
    "    hours = {'1':  ['one', 'late'],\n",
    "             '2':  ['two', 'really late'],\n",
    "             '3':  ['three', 'too late'],\n",
    "             '4':  ['four', 'early morning'],\n",
    "             '5':  ['five'],\n",
    "             '6':  ['six'],\n",
    "             '7':  ['seven'],\n",
    "             '8':  ['eight'],\n",
    "             '9':  ['nine'],\n",
    "             '10': ['ten'],\n",
    "             '11': ['eleven'],\n",
    "             '12': ['noon', 'twelve'],\n",
    "             '13': ['one'],\n",
    "             '14': ['two'],\n",
    "             '15': ['three'],\n",
    "             '16': ['four'],\n",
    "             '17': ['five'],\n",
    "             '18': ['six'],\n",
    "             '19': ['seven'],\n",
    "             '20': ['eight'],\n",
    "             '21': ['nine'],\n",
    "             '22': ['ten'],\n",
    "             '23': ['eleven'],\n",
    "             '0' : ['midnight', 'twelve', \"'o dark'\"]}\n",
    "\n",
    "    minutes = {'0': [\"'o clock\"],\n",
    "               '6': [\"'o clock\"],\n",
    "               '1': ['ten after'],\n",
    "               '2': ['twenty after'],\n",
    "               '3': ['half past', 'thirty after', 'thirty past'],\n",
    "               '4': [\"twenty 'til\"],\n",
    "               '5': [\"ten 'til\", 'twenty over half past']}\n",
    "\n",
    "    stems = ['The time is', \"It's about\", \"It's around\"]\n",
    "\n",
    "    # this range shifts the period of the list so times around the 'tens' round nicely up and down\n",
    "    minute = maprange((-5, 55), (0, 6), int(time()[1]))\n",
    "    hour_str = hours[str(int(time()[0]))]\n",
    "    min_str = minutes[str(minute)]\n",
    "    \n",
    "    myTime = {'wordtime': f'{choice(stems)} {choice(min_str).title()} {choice(hour_str).title()}',\n",
    "              'time': time_now(),\n",
    "              'mode': None}\n",
    "    \n",
    "    \n",
    "    return myTime"
   ]
  },
  {
   "cell_type": "code",
   "execution_count": 26,
   "metadata": {},
   "outputs": [
    {
     "data": {
      "text/plain": [
       "{'wordtime': \"It's around Ten 'Til Six\", 'time': '06:52', 'mode': None}"
      ]
     },
     "execution_count": 26,
     "metadata": {},
     "output_type": "execute_result"
    }
   ],
   "source": [
    "get_time()"
   ]
  },
  {
   "cell_type": "code",
   "execution_count": null,
   "metadata": {},
   "outputs": [],
   "source": []
  }
 ],
 "metadata": {
  "kernelspec": {
   "display_name": "slimpi_epd-b1Rf9la8",
   "language": "python",
   "name": "slimpi_epd-b1rf9la8"
  },
  "language_info": {
   "codemirror_mode": {
    "name": "ipython",
    "version": 3
   },
   "file_extension": ".py",
   "mimetype": "text/x-python",
   "name": "python",
   "nbconvert_exporter": "python",
   "pygments_lexer": "ipython3",
   "version": "3.7.3"
  }
 },
 "nbformat": 4,
 "nbformat_minor": 2
}
